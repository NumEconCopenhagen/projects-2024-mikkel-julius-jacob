{
 "cells": [
  {
   "cell_type": "markdown",
   "metadata": {},
   "source": [
    "**Table of contents**<a id='toc0_'></a>    \n",
    "- 1. [Problem 1: Production economy and CO2 taxation](#toc1_)    \n",
    "- 2. [Problem 2: Career choice model](#toc2_)    \n",
    "- 3. [Problem 3: Barycentric interpolation](#toc3_)    \n",
    "\n",
    "<!-- vscode-jupyter-toc-config\n",
    "\tnumbering=true\n",
    "\tanchor=true\n",
    "\tflat=false\n",
    "\tminLevel=2\n",
    "\tmaxLevel=6\n",
    "\t/vscode-jupyter-toc-config -->\n",
    "<!-- THIS CELL WILL BE REPLACED ON TOC UPDATE. DO NOT WRITE YOUR TEXT IN THIS CELL -->"
   ]
  },
  {
   "cell_type": "code",
   "execution_count": 7,
   "metadata": {},
   "outputs": [],
   "source": [
    "# Write your code here\n",
    "import numpy as np\n",
    "from types import SimpleNamespace\n",
    "import seaborn as sns\n",
    "import matplotlib.pyplot as plt\n",
    "import pandas as pd\n",
    "from scipy.optimize import minimize\n",
    "from scipy.optimize import fsolve\n",
    "from problem1 import *\n",
    "from problem1_3 import *"
   ]
  },
  {
   "cell_type": "markdown",
   "metadata": {},
   "source": [
    "## 1. <a id='toc1_'></a>[Problem 1: Production economy and CO2 taxation](#toc0_)"
   ]
  },
  {
   "cell_type": "markdown",
   "metadata": {},
   "source": [
    "Consider a production economy with two firms indexed by $j \\in \\{1,2\\}$. Each produce its own good. They solve\n",
    "\n",
    "$$\n",
    "\\begin{align*}\n",
    "\\max_{y_{j}}\\pi_{j}&=p_{j}y_{j}-w_{j}\\ell_{j}\\\\\\text{s.t.}\\;&y_{j}=A\\ell_{j}^{\\gamma}.\n",
    "\\end{align*}\n",
    "$$\n",
    "\n",
    "Optimal firm behavior is\n",
    "\n",
    "$$\n",
    "\\begin{align*}\n",
    "\\ell_{j}^{\\star}(w,p_{j})&=\\left(\\frac{p_{j}A\\gamma}{w}\\right)^{\\frac{1}{1-\\gamma}} \\\\\n",
    "y_{j}^{\\star}(w,p_{j})&=A\\left(\\ell_{j}^{\\star}(w,p_{j})\\right)^{\\gamma}\n",
    "\\end{align*}\n",
    "$$\n",
    "\n",
    "The implied profits are\n",
    "\n",
    "$$\n",
    "\\pi_{j}^*(w,p_{j})=\\frac{1-\\gamma}{\\gamma}w\\cdot\\left(\\frac{p_{j}A\\gamma}{w}\\right)^{\\frac{1}{1-\\gamma}}\n",
    "$$\n",
    "\n",
    "A single consumer supplies labor, and consumes the goods the firms produce. She also recieves the implied profits of the firm.<br>\n",
    "She solves:\n",
    "\n",
    "$$\n",
    "\\begin{align*}\n",
    "U(p_1,p_2,w,\\tau,T) = \\max_{c_{1},c_{2},\\ell} & \\log(c_{1}^{\\alpha}c_{2}^{1-\\alpha})-\\nu\\frac{\\ell^{1+\\epsilon}}{1+\\epsilon} \\\\\n",
    "\\text{s.t.}\\,\\,\\,&p_{1}c_{1}+(p_{2}+\\tau)c_{2}=w\\ell+T+\\pi_{1}^*(w,p_{1})+\\pi_{2}^*(w,p_{2})\n",
    "\\end{align*}\n",
    "$$\n",
    "\n",
    "where $\\tau$ is a tax and $T$ is lump-sum transfer. <br>\n",
    "For a given $\\ell$, it can be shown that optimal behavior is\n",
    "\n",
    "$$\n",
    "\\begin{align*}\n",
    "c_{1}(\\ell)&=\\alpha\\frac{w\\ell+T+\\pi_{1}^*(w,p_{1})+\\pi_{2}^*(w,p_{2})}{p_{1}} \\\\\n",
    "c_{2}(\\ell)&=(1-\\alpha)\\frac{w\\ell+T+\\pi_{1}^*(w,p_{1})+\\pi_{2}^*(w,p_{2})}{p_{2}+\\tau} \\\\\n",
    "\\end{align*}\n",
    "$$\n",
    "Such that optimal behavior is:\n",
    "$$\n",
    "\\ell^* = \\underset{\\ell}{\\arg\\max} \\log(\\left(c_{1}(\\ell)\\right)^{\\alpha}\\cdot \\left(c_{2}(\\ell)\\right)^{1-\\alpha})-\\nu\\frac{\\ell^{1+\\epsilon}}{1+\\epsilon} \n",
    "$$\n",
    "With optimal consumption:\n",
    "$$\n",
    "\\begin{align*}\n",
    "c_1^*=c_{1}(\\ell^*) \\\\\n",
    "c_2^*=c_{2}(\\ell^*)\\\\\n",
    "\\end{align*}\n",
    "$$\n",
    "\n",
    "\n",
    "The government chooses $\\tau$ and balances its budget so $T=\\tau c_2^*$. We initially set $\\tau,T=0$.\n",
    "\n",
    "Market clearing requires:\n",
    "\n",
    "1. Labor market: $\\ell^* = \\ell_1^* + \\ell_2^*$\n",
    "1. Good market 1: $c_1^* = y_1^*$\n",
    "1. Good market 2: $c_2^* = y_2^*$\n"
   ]
  },
  {
   "cell_type": "markdown",
   "metadata": {},
   "source": [
    "**Question 1:** Check market clearing conditions for $p_1$ in `linspace(0.1,2.0,10)` and $p_2$ in `linspace(0.1,2.0,10)`. We choose $w=1$ as numeraire."
   ]
  },
  {
   "cell_type": "code",
   "execution_count": 8,
   "metadata": {},
   "outputs": [
    {
     "data": {
      "text/html": [
       "<div>\n",
       "<style scoped>\n",
       "    .dataframe tbody tr th:only-of-type {\n",
       "        vertical-align: middle;\n",
       "    }\n",
       "\n",
       "    .dataframe tbody tr th {\n",
       "        vertical-align: top;\n",
       "    }\n",
       "\n",
       "    .dataframe thead th {\n",
       "        text-align: right;\n",
       "    }\n",
       "</style>\n",
       "<table border=\"1\" class=\"dataframe\">\n",
       "  <thead>\n",
       "    <tr style=\"text-align: right;\">\n",
       "      <th></th>\n",
       "      <th>p1</th>\n",
       "      <th>p2</th>\n",
       "      <th>labor_clearing</th>\n",
       "      <th>good1_clearing</th>\n",
       "      <th>good2_clearing</th>\n",
       "    </tr>\n",
       "  </thead>\n",
       "  <tbody>\n",
       "    <tr>\n",
       "      <th>0</th>\n",
       "      <td>0.1</td>\n",
       "      <td>0.100000</td>\n",
       "      <td>-5.554690</td>\n",
       "      <td>-13.062278</td>\n",
       "      <td>0.100000</td>\n",
       "    </tr>\n",
       "    <tr>\n",
       "      <th>1</th>\n",
       "      <td>0.1</td>\n",
       "      <td>0.311111</td>\n",
       "      <td>-5.803897</td>\n",
       "      <td>-14.270006</td>\n",
       "      <td>0.311111</td>\n",
       "    </tr>\n",
       "    <tr>\n",
       "      <th>2</th>\n",
       "      <td>0.1</td>\n",
       "      <td>0.522222</td>\n",
       "      <td>-5.851920</td>\n",
       "      <td>-15.094386</td>\n",
       "      <td>0.522222</td>\n",
       "    </tr>\n",
       "    <tr>\n",
       "      <th>3</th>\n",
       "      <td>0.1</td>\n",
       "      <td>0.733333</td>\n",
       "      <td>-5.765498</td>\n",
       "      <td>-15.762883</td>\n",
       "      <td>0.733333</td>\n",
       "    </tr>\n",
       "    <tr>\n",
       "      <th>4</th>\n",
       "      <td>0.1</td>\n",
       "      <td>0.944444</td>\n",
       "      <td>-5.563581</td>\n",
       "      <td>-16.340265</td>\n",
       "      <td>0.944444</td>\n",
       "    </tr>\n",
       "    <tr>\n",
       "      <th>...</th>\n",
       "      <td>...</td>\n",
       "      <td>...</td>\n",
       "      <td>...</td>\n",
       "      <td>...</td>\n",
       "      <td>...</td>\n",
       "    </tr>\n",
       "    <tr>\n",
       "      <th>95</th>\n",
       "      <td>2.0</td>\n",
       "      <td>1.155556</td>\n",
       "      <td>4.255356</td>\n",
       "      <td>0.877705</td>\n",
       "      <td>1.155556</td>\n",
       "    </tr>\n",
       "    <tr>\n",
       "      <th>96</th>\n",
       "      <td>2.0</td>\n",
       "      <td>1.366667</td>\n",
       "      <td>4.772789</td>\n",
       "      <td>0.854185</td>\n",
       "      <td>1.366667</td>\n",
       "    </tr>\n",
       "    <tr>\n",
       "      <th>97</th>\n",
       "      <td>2.0</td>\n",
       "      <td>1.577778</td>\n",
       "      <td>5.380573</td>\n",
       "      <td>0.832423</td>\n",
       "      <td>1.577778</td>\n",
       "    </tr>\n",
       "    <tr>\n",
       "      <th>98</th>\n",
       "      <td>2.0</td>\n",
       "      <td>1.788889</td>\n",
       "      <td>6.078467</td>\n",
       "      <td>0.812073</td>\n",
       "      <td>1.788889</td>\n",
       "    </tr>\n",
       "    <tr>\n",
       "      <th>99</th>\n",
       "      <td>2.0</td>\n",
       "      <td>2.000000</td>\n",
       "      <td>6.866303</td>\n",
       "      <td>0.792893</td>\n",
       "      <td>2.000000</td>\n",
       "    </tr>\n",
       "  </tbody>\n",
       "</table>\n",
       "<p>100 rows × 5 columns</p>\n",
       "</div>"
      ],
      "text/plain": [
       "     p1        p2  labor_clearing  good1_clearing  good2_clearing\n",
       "0   0.1  0.100000       -5.554690      -13.062278        0.100000\n",
       "1   0.1  0.311111       -5.803897      -14.270006        0.311111\n",
       "2   0.1  0.522222       -5.851920      -15.094386        0.522222\n",
       "3   0.1  0.733333       -5.765498      -15.762883        0.733333\n",
       "4   0.1  0.944444       -5.563581      -16.340265        0.944444\n",
       "..  ...       ...             ...             ...             ...\n",
       "95  2.0  1.155556        4.255356        0.877705        1.155556\n",
       "96  2.0  1.366667        4.772789        0.854185        1.366667\n",
       "97  2.0  1.577778        5.380573        0.832423        1.577778\n",
       "98  2.0  1.788889        6.078467        0.812073        1.788889\n",
       "99  2.0  2.000000        6.866303        0.792893        2.000000\n",
       "\n",
       "[100 rows x 5 columns]"
      ]
     },
     "metadata": {},
     "output_type": "display_data"
    }
   ],
   "source": [
    "display(df_results)"
   ]
  },
  {
   "cell_type": "markdown",
   "metadata": {},
   "source": [
    "The above results show how the combinations of prices from the given linspace of (0.1, 2.0, 10), which creates an array of 10 equally spaced values between 0.1 and 2.0 for p1 and p2, affects market clearing. This allows the iteration over all posible combinations of p1 and p2 within the range and determines which combinations approimately satisfy the market clearing conditions. \n",
    "\n",
    "For example, row 0 displays p1 and p2 = 0.1. This combination of prices shows that labot demand exceeds labor supply by around 1.90. In the same row, production of the first good exceeds consumption of the first good by around 3.85 unit and production of the second good exceeds consumption by approximately 9.11 units. This means that the price combination of p1, p2 = 0.1 does not clear the market. \n",
    "\n",
    "None of the combinations of prices from the given linspace are found to clear the market. This only means that no combinations of prices in the linspace provide an equilibrium p1 and p2, but does not exclude the possibility of an equilibrium outside of the linspace. "
   ]
  },
  {
   "cell_type": "markdown",
   "metadata": {},
   "source": [
    "**Question 2:** Find the equilibrium prices $p_1$ and $p_2$.<br>\n",
    "*Hint: you can use Walras' law to only check 2 of the market clearings*"
   ]
  },
  {
   "cell_type": "code",
   "execution_count": 12,
   "metadata": {},
   "outputs": [
    {
     "name": "stdout",
     "output_type": "stream",
     "text": [
      "Market clearing prices:\n",
      "p1 = 0.7475486222511643\n",
      "p2 = 0.7411786704525158\n"
     ]
    }
   ],
   "source": [
    "from problem1_2 import *\n",
    "\n",
    "# Initial guess for p1 and p2\n",
    "initial_guess = [1.0, 1.0]\n",
    "\n",
    "# Solve for market clearing prices\n",
    "solution = fsolve(market_clearing_conditions, initial_guess, args=(1, par))\n",
    "\n",
    "# Display the solution\n",
    "print(\"Market clearing prices:\")\n",
    "print(f\"p1 = {solution[0]}\")\n",
    "print(f\"p2 = {solution[1]}\")\n"
   ]
  },
  {
   "cell_type": "markdown",
   "metadata": {},
   "source": [
    "We solve the model and find the eqilibrium prices. These prices should accoring to Walras Law clear both the labor market and the market for both of the goods. We test whether the found equilibrum prices infact does clear the markets for labor and the two goods. "
   ]
  },
  {
   "cell_type": "code",
   "execution_count": null,
   "metadata": {},
   "outputs": [],
   "source": [
    "from problem1 import *\n",
    "# Print results to check market clearing\n",
    "print(f\"Optimal labor (ell1*, ell2*): ({ell1_star}, {ell2_star})\")\n",
    "print(f\"Optimal output (y1*, y2*): ({y1_star}, {y2_star})\")\n",
    "print(f\"Implied profits (pi1*, pi2*): ({pi1_star}, {pi2_star})\")\n",
    "print(f\"Total labor supplied (ell*): {ell_star_val}\")\n",
    "print(f\"Optimal consumption (c1*, c2*): ({c1_star}, {c2_star})\")\n",
    "\n",
    "\n",
    "# Tolerance for approximate equality\n",
    "tolerance = 1e-2\n",
    "\n",
    "# Check market clearing conditions\n",
    "labor_market_clears = np.abs(ell_star_val - (ell1_star + ell2_star)) < tolerance\n",
    "goods_market_1_clears = np.abs(c1_star - y1_star) < tolerance\n",
    "goods_market_2_clears = np.abs(c2_star - y2_star) < tolerance\n",
    "\n",
    "\n",
    "print(f\"Labor market clears: {labor_market_clears}\")\n",
    "print(f\"Goods market 1 clears: {goods_market_1_clears}\")\n",
    "print(f\"Goods market 2 clears: {goods_market_2_clears}\")"
   ]
  },
  {
   "cell_type": "markdown",
   "metadata": {},
   "source": [
    "The above output displays the optimal labor, output, profits, consumption, and total labour achieved with the equilibrium prices p1, p2, aswell as whether or not the labour market and the market for both goods clear given the equlibrium prices. Note that a tolerance level of 1e-2 (one hundreth) has been chosen.\n",
    "\n",
    "We find that the equlibrium prices of p1 = 0.7475486222511643 and p2 = 0.7411786704525158 clear the labor market and the market for both good 1 and 2. \n",
    "\n",
    "\n",
    "Note we use a tolerance. We do this because we could not find a specfic result thus inserting a margin of error on 1e-2 (0.01) which resulted in market clearing. A method recommended by Co-pilot"
   ]
  },
  {
   "cell_type": "markdown",
   "metadata": {},
   "source": [
    "***Pre text*** "
   ]
  },
  {
   "cell_type": "markdown",
   "metadata": {},
   "source": [
    "Assume the government care about the social welfare function:\n",
    "\n",
    "$$\n",
    "SWF = U - \\kappa y_2^*\n",
    "$$"
   ]
  },
  {
   "cell_type": "markdown",
   "metadata": {},
   "source": [
    "Here $\\kappa$ measures the social cost of carbon emitted by the production of $y_2$ in equilibrium."
   ]
  },
  {
   "cell_type": "markdown",
   "metadata": {},
   "source": [
    "**Question 3:** What values of $\\tau$ and (implied) $T$ should the government choose to maximize $SWF$?"
   ]
  },
  {
   "cell_type": "code",
   "execution_count": null,
   "metadata": {},
   "outputs": [],
   "source": [
    "# Print results\n",
    "print(f\"Optimal tau: {optimal_tau}\")\n",
    "print(f\"Implied optimal T: {optimal_T}\")\n",
    "print(f\"Optimal labor (ell*): {ell_star_val}\")\n",
    "print(f\"Optimal consumption c1*: {c1_star}\")\n",
    "print(f\"Optimal consumption c2*: {c2_star}\")\n",
    "print(f\"Social Welfare Function (SWF): {SWF}\")"
   ]
  },
  {
   "cell_type": "markdown",
   "metadata": {},
   "source": [
    "We incorporate the definitions of kappa and the SWF into the model and solve for the optimal level of tau and thereafter the implied optimal level of T. The optimal level of tau is found to be 0.01950000000007 and the optimal implied T is found to be 0.013388916135360474. The optimal labor, consumption for c1 and c2, as well as the SWF is also displayed. \n",
    "\n",
    "The negative value for the SWF indicates the significance  of the social cost of carbon. The negative value indicates that even though optimal tax has been implemented, the welfare loss of carbon emmisions still reduce SWF substantially. "
   ]
  },
  {
   "cell_type": "markdown",
   "metadata": {},
   "source": [
    "## 2. <a id='toc2_'></a>[Problem 2: Career choice model](#toc0_)"
   ]
  },
  {
   "cell_type": "markdown",
   "metadata": {},
   "source": [
    "Consider a graduate $i$ making a choice between entering $J$ different career tracks. <br>\n",
    "Entering career $j$ yields utility $u^k_{ij}$. This value is unknown to the graduate ex ante, but will ex post be: <br>\n",
    "$$\n",
    "    u_{i,j}^k = v_{j} + \\epsilon_{i,j}^k\n",
    "$$\n",
    "\n",
    "They know that $\\epsilon^k_{i,j}\\sim \\mathcal{N}(0,\\sigma^2)$, but they do not observe $\\epsilon^k_{i,j}$ before making their career choice. <br>"
   ]
  },
  {
   "cell_type": "markdown",
   "metadata": {},
   "source": [
    "Consider the concrete case of $J=3$ with:\n",
    "$$\n",
    "\\begin{align*}\n",
    "    v_{1} &= 1 \\\\\n",
    "    v_{2} &= 2 \\\\\n",
    "    v_{3} &= 3\n",
    "\\end{align*}\n",
    "$$"
   ]
  },
  {
   "cell_type": "markdown",
   "metadata": {},
   "source": [
    "If the graduates know the values of $v_j$ and the distribution of $\\epsilon_{i,j}^k$, they can calculate the expected utility of each career track using simulation: <br>\n",
    "$$\n",
    "    \\mathbb{E}\\left[ u^k_{i,j}\\vert v_j \\right] \\approx v_j + \\frac{1}{K}\\sum_{k=1}^K \\epsilon_{i,j}^k\n",
    "$$"
   ]
  },
  {
   "cell_type": "code",
   "execution_count": null,
   "metadata": {},
   "outputs": [],
   "source": [
    "par = SimpleNamespace()\n",
    "par.J = 3\n",
    "par.N = 10\n",
    "par.K = 10000\n",
    "\n",
    "par.F = np.arange(1,par.N+1)\n",
    "par.sigma = 2\n",
    "\n",
    "par.v = np.array([1,2,3])\n",
    "par.c = 1"
   ]
  },
  {
   "cell_type": "markdown",
   "metadata": {},
   "source": [
    "**Question 1:** Simulate and calculate expected utility and the average realised utility for $K=10000$ draws, for each career choice $j$.\n"
   ]
  },
  {
   "cell_type": "code",
   "execution_count": null,
   "metadata": {},
   "outputs": [],
   "source": [
    "from Eksamen2024 import question_2_1, question_2_2, question_2_3\n",
    "\n",
    "# Question 2.1\n",
    "expected_utilities, average_realized_utilities = question_2_1()\n",
    "print(\"Expected Utilities for each career track:\", expected_utilities)\n",
    "print(\"Average Realized Utilities for each career track:\", average_realized_utilities)"
   ]
  },
  {
   "cell_type": "markdown",
   "metadata": {},
   "source": [
    "#### Conclusion\n",
    "The overall trend shows that Career 3 is the most attractive option for graduates based on both expected and realized utilities. However, there are small discrepancies between expected and realized utilities for all career tracks, suggesting that while graduates' expectations are largely met, there are slight overestimations of the utility they would derive from each career track. This could be due to various factors such as initial enthusiasm, unforeseen challenges, or other external factors affecting their career experiences."
   ]
  },
  {
   "cell_type": "markdown",
   "metadata": {},
   "source": [
    "***Pre text***"
   ]
  },
  {
   "cell_type": "markdown",
   "metadata": {},
   "source": [
    "**Now** consider a new scenario: Imagine that the graduate does not know $v_j$. The *only* prior information they have on the value of each job, comes from their $F_{i}$ friends that work in each career $j$. After talking with them, they know the average utility of their friends (which includes their friends' noise term), giving them the prior expecation: <br>\n",
    "$$\n",
    "\\tilde{u}^k_{i,j}\\left( F_{i}\\right) = \\frac{1}{F_{i}}\\sum_{f=1}^{F_{i}} \\left(v_{j} + \\epsilon^k_{f,j}\\right), \\; \\epsilon^k_{f,j}\\sim \\mathcal{N}(0,\\sigma^2)\n",
    "$$\n",
    "For ease of notation consider that each graduate have $F_{i}=i$ friends in each career. <br>"
   ]
  },
  {
   "cell_type": "markdown",
   "metadata": {},
   "source": [
    "For $K$ times do the following: <br>\n",
    "1. For each person $i$ draw $J\\cdot F_i$ values of $\\epsilon_{f,j}^{k}$, and calculate the prior expected utility of each career track, $\\tilde{u}^k_{i,j}\\left( F_{i}\\right)$. <br>\n",
    "Also draw their own $J$ noise terms, $\\epsilon_{i,j}^k$\n",
    "1. Each person $i$ chooses the career track with the highest expected utility: $$j_i^{k*}= \\arg\\max_{j\\in{1,2\\dots,J}}\\left\\{ \\tilde{u}^k_{i,j}\\left( F_{i}\\right)\\right\\} $$\n",
    "1. Store the chosen careers: $j_i^{k*}$, the prior expectation of the value of their chosen career: $\\tilde{u}^k_{i,j=j_i^{k*}}\\left( F_{i}\\right)$, and the realized value of their chosen career track: $u^k_{i,j=j_i^{k*}}=v_{j=j_i^{k*}}+\\epsilon_{i,j=j_i^{k*}}^k$."
   ]
  },
  {
   "cell_type": "markdown",
   "metadata": {},
   "source": [
    "Chosen values will be: <br>\n",
    "$i\\in\\left\\{1,2\\dots,N\\right\\}, N=10$ <br>\n",
    "$F_i = i$<br>\n",
    "So there are 10 graduates. The first has 1 friend in each career, the second has 2 friends, ... the tenth has 10 friends."
   ]
  },
  {
   "cell_type": "markdown",
   "metadata": {},
   "source": [
    "**Question 2:** Simulate and visualize: For each type of graduate, $i$, the share of graduates choosing each career, the average subjective expected utility of the graduates, and the average ex post realized utility given their choice. <br>\n",
    "That is, calculate and visualize: <br>\n",
    "$$\n",
    "\\begin{align*}\n",
    "    \\frac{1}{K} \\sum_{k=1}^{K} \\mathbb{I}\\left\\{ j=j_i^{k*} \\right\\}  \\;\\forall j\\in\\left\\{1,2,\\dots,J\\right\\}\n",
    "\\end{align*}\n",
    "$$\n",
    "$$\n",
    "\\begin{align*}\n",
    "    \\frac{1}{K} \\sum_{k=1}^{K} \\tilde{u}^k_{ij=j_i^{k*}}\\left( F_{i}\\right)\n",
    "\\end{align*}\n",
    "$$\n",
    "And \n",
    "$$\n",
    "\\begin{align*}\n",
    "    \\frac{1}{K} \\sum_{k=1}^{K} u^k_{ij=j_i^{k*}} \n",
    "\\end{align*}\n",
    "$$\n",
    "For each graduate $i$."
   ]
  },
  {
   "cell_type": "code",
   "execution_count": null,
   "metadata": {},
   "outputs": [],
   "source": [
    "# Question 2.2\n",
    "choices, prior_expected_utilities, realized_utilities = question_2_2()\n",
    "career_counts = np.bincount(choices, minlength=3)\n",
    "average_prior_expected_utilities = np.mean(prior_expected_utilities)\n",
    "average_realized_utilities = np.mean(realized_utilities)\n",
    "\n",
    "print(\"Career Counts:\", career_counts)\n",
    "print(\"Average Prior Expected Utilities:\", average_prior_expected_utilities)\n",
    "print(\"Average Realized Utilities:\", average_realized_utilities)\n",
    "\n",
    "# Prepare data for visualization\n",
    "df_share = pd.DataFrame({\n",
    "    'Career': [f'Career {i+1}' for i in range(3)],\n",
    "    'Share': career_counts / 10\n",
    "})\n",
    "\n",
    "df_utility = pd.DataFrame({\n",
    "    'Type': ['Average Prior Expected Utility', 'Average Realized Utility'],\n",
    "    'Utility': [average_prior_expected_utilities, average_realized_utilities]\n",
    "})\n",
    "\n",
    "# Set Seaborn style\n",
    "sns.set(style=\"whitegrid\")\n",
    "\n",
    "# Create the plots\n",
    "fig, axes = plt.subplots(1, 2, figsize=(14, 6))\n",
    "\n",
    "# Plot the share of graduates choosing each career\n",
    "sns.barplot(x='Career', y='Share', data=df_share, palette=\"viridis\", ax=axes[0])\n",
    "axes[0].set_xlabel('Career Tracks')\n",
    "axes[0].set_ylabel('Share of Graduates Choosing Each Career')\n",
    "axes[0].set_title('Share of Graduates Choosing Each Career Track')\n",
    "\n",
    "# Plot the average subjective expected utility\n",
    "sns.barplot(x='Type', y='Utility', data=df_utility, palette=\"magma\", ax=axes[1])\n",
    "axes[1].set_ylabel('Utility')\n",
    "axes[1].set_title('Average Utilities')\n",
    "\n",
    "plt.tight_layout()\n",
    "plt.show()"
   ]
  },
  {
   "cell_type": "markdown",
   "metadata": {},
   "source": [
    "#### Conclusion\n",
    "\n",
    "Career 3 is the most preferred career track among graduates, followed by Career 1, with Career 2 being the least preferred. The Graduates tend to overestimate the utility they expect to derive from their chosen career tracks. The average prior expected utility is higher than the average realized utility, indicating that the actual experiences of graduates are not as favorable as they had anticipated. The significant discrepancy between expected and realized utilities suggests that graduates might need better information or guidance when choosing career tracks to align their expectations more closely with reality."
   ]
  },
  {
   "cell_type": "markdown",
   "metadata": {},
   "source": [
    "***Pre text***"
   ]
  },
  {
   "cell_type": "markdown",
   "metadata": {},
   "source": [
    "After a year of working in their career, the graduates learn $u^k_{ij}$ for their chosen job $j_i^{k*}$ perfectly. <br>\n",
    "The can switch to one of the two remaining careers, for which they have the same prior as before, but it will now include a switching cost of $c$ which is known.\n",
    "Their new priors can be written as: \n",
    "$$\n",
    "\\tilde{u}^{k,2}_{ij}\\left( F_{i}\\right) = \\begin{cases}\n",
    "            \\tilde{u}^k_{ij}\\left( F_{i}\\right)-c & \\text{if } j \\neq j_i^{k*} \\\\\n",
    "            u_{ij=j_i^{k*}} & \\text{if } j = j_i^{k*}\n",
    "        \\end{cases}\n",
    "$$"
   ]
  },
  {
   "cell_type": "markdown",
   "metadata": {},
   "source": [
    "We will set $c=1$."
   ]
  },
  {
   "cell_type": "markdown",
   "metadata": {},
   "source": [
    "Their realized utility will be: <br>\n",
    "$$\n",
    "u^{k,2}_{ij}= \\begin{cases}\n",
    "            u_{ij}^k -c & \\text{if } j \\neq j_i^{k*} \\\\\n",
    "            u_{ij=j_i^{k*}} & \\text{if } j = j_i^{k*}\n",
    "        \\end{cases}\n",
    "$$"
   ]
  },
  {
   "cell_type": "markdown",
   "metadata": {},
   "source": [
    "**Question 3:** Following the same approach as in question 2, find the new optimal career choice for each $i$, $k$. Then for each $i$, calculate the average subjective expected utility from their new optimal career choice, and the ex post realized utility of that career. Also, for each $i$, calculate the share of graduates that chooses to switch careers, conditional on which career they chose in the first year. <br>"
   ]
  },
  {
   "cell_type": "code",
   "execution_count": null,
   "metadata": {},
   "outputs": [],
   "source": [
    "# Question 2.3\n",
    "new_choices, new_expected_utilities, new_realized_utilities, switch_decisions = question_2_3()\n",
    "career_counts = np.bincount(new_choices, minlength=3)\n",
    "average_new_expected_utilities = np.mean(new_expected_utilities)\n",
    "average_new_realized_utilities = np.mean(new_realized_utilities)\n",
    "switch_share = np.mean(switch_decisions)\n",
    "\n",
    "print(\"New Career Counts:\", career_counts)\n",
    "print(\"Average New Expected Utilities:\", average_new_expected_utilities)\n",
    "print(\"Average New Realized Utilities:\", average_new_realized_utilities)\n",
    "print(\"Share of Graduates Switching Careers:\", switch_share)\n",
    "\n",
    "# Prepare data for visualization\n",
    "df_share = pd.DataFrame({\n",
    "    'Career': [f'Career {i+1}' for i in range(3)],\n",
    "    'Share': career_counts / 10\n",
    "})\n",
    "\n",
    "df_utility = pd.DataFrame({\n",
    "    'Type': ['Average New Expected Utility', 'Average New Realized Utility'],\n",
    "    'Utility': [average_new_expected_utilities, average_new_realized_utilities]\n",
    "})\n",
    "\n",
    "# Set Seaborn style\n",
    "sns.set(style=\"whitegrid\")\n",
    "\n",
    "# Create the plots\n",
    "fig, axes = plt.subplots(1, 2, figsize=(14, 6))\n",
    "\n",
    "# Plot the share of graduates choosing each career after switching\n",
    "sns.barplot(x='Career', y='Share', data=df_share, palette=\"viridis\", ax=axes[0])\n",
    "axes[0].set_xlabel('Career Tracks')\n",
    "axes[0].set_ylabel('Share of Graduates Choosing Each Career')\n",
    "axes[0].set_title('Share of Graduates Choosing Each Career Track After Switching')\n",
    "\n",
    "# Plot the average subjective expected utility after switching\n",
    "sns.barplot(x='Type', y='Utility', data=df_utility, palette=\"magma\", ax=axes[1])\n",
    "axes[1].set_ylabel('Utility')\n",
    "axes[1].set_title('Average Utilities After Switching')\n",
    "\n",
    "plt.tight_layout()\n",
    "plt.show()"
   ]
  },
  {
   "cell_type": "markdown",
   "metadata": {},
   "source": [
    "#### Conclusion\n",
    "Career 3 remains the most preferred career track even after considering switching costs, followed by Career 2, with Career 1 being the least preferred. Both the new expected and realized utilities are higher than the initial ones, suggesting that the switching led to better outcomes for the graduates. The close alignment between new expected and realized utilities indicates that graduates' new decisions were well-informed and realistic. The fact that 50% of the graduates switched careers highlights the importance of reassessment and the positive impact of having the flexibility to switch tracks."
   ]
  },
  {
   "cell_type": "markdown",
   "metadata": {},
   "source": [
    "## 3. <a id='toc3_'></a>[Problem 3: Barycentric interpolation](#toc0_)"
   ]
  },
  {
   "cell_type": "markdown",
   "metadata": {},
   "source": [
    "**Problem:** We have a set of random points in the unit square,\n",
    "\n",
    "$$\n",
    "\\mathcal{X} = \\{(x_1,x_2)\\,|\\,x_1\\sim\\mathcal{U}(0,1),x_2\\sim\\mathcal{U}(0,1)\\}.\n",
    "$$\n",
    "\n",
    "For these points, we know the value of some function $f(x_1,x_2)$,\n",
    "\n",
    "$$\n",
    "\\mathcal{F} = \\{f(x_1,x_2) \\,|\\, (x_1,x_2) \\in \\mathcal{X}\\}.\n",
    "$$\n",
    "\n",
    "Now we want to approximate the value $f(y_1,y_2)$ for some  $y=(y_1,y_2)$, where $y_1\\sim\\mathcal{U}(0,1)$ and $y_2\\sim\\mathcal{U}(0,1)$.\n",
    "\n",
    "**Building block I**\n",
    "\n",
    "For an arbitrary triangle $ABC$ and a point $y$, define the so-called barycentric coordinates as:\n",
    "\n",
    "$$\n",
    "\\begin{align*}\n",
    "  r^{ABC}_1 &= \\frac{(B_2-C_2)(y_1-C_1) + (C_1-B_1)(y_2-C_2)}{(B_2-C_2)(A_1-C_1) + (C_1-B_1)(A_2-C_2)} \\\\\n",
    "  r^{ABC}_2 &= \\frac{(C_2-A_2)(y_1-C_1) + (A_1-C_1)(y_2-C_2)}{(B_2-C_2)(A_1-C_1) + (C_1-B_1)(A_2-C_2)} \\\\\n",
    "  r^{ABC}_3 &= 1 - r_1 - r_2.\n",
    "\\end{align*}\n",
    "$$\n",
    "\n",
    "If $r^{ABC}_1 \\in [0,1]$, $r^{ABC}_2 \\in [0,1]$, and $r^{ABC}_3 \\in [0,1]$, then the point is inside the triangle.\n",
    "\n",
    "We always have $y = r^{ABC}_1 A + r^{ABC}_2 B + r^{ABC}_3 C$.\n",
    "\n",
    "**Building block II**\n",
    "\n",
    "Define the following points:\n",
    "\n",
    "$$\n",
    "\\begin{align*}\n",
    "A&=\\arg\\min_{(x_{1},x_{2})\\in\\mathcal{X}}\\sqrt{\\left(x_{1}-y_{1}\\right)^{2}+\\left(x_{2}-y_{2}\\right)^{2}}\\text{ s.t. }x_{1}>y_{1}\\text{ and }x_{2}>y_{2}\\\\\n",
    "B&=\\arg\\min_{(x_{1},x_{2})\\in\\mathcal{X}}\\sqrt{\\left(x_{1}-y_{1}\\right)^{2}+\\left(x_{2}-y_{2}\\right)^{2}}\\text{ s.t. }x_{1}>y_{1}\\text{ and }x_{2}<y_{2}\\\\\n",
    "C&=\\arg\\min_{(x_{1},x_{2})\\in\\mathcal{X}}\\sqrt{\\left(x_{1}-y_{1}\\right)^{2}+\\left(x_{2}-y_{2}\\right)^{2}}\\text{ s.t. }x_{1}<y_{1}\\text{ and }x_{2}<y_{2}\\\\\n",
    "D&=\\arg\\min_{(x_{1},x_{2})\\in\\mathcal{X}}\\sqrt{\\left(x_{1}-y_{1}\\right)^{2}+\\left(x_{2}-y_{2}\\right)^{2}}\\text{ s.t. }x_{1}<y_{1}\\text{ and }x_{2}>y_{2}.\n",
    "\\end{align*}\n",
    "$$\n",
    "\n",
    "**Algorithm:**\n",
    "\n",
    "1. Compute $A$, $B$, $C$, and $D$. If not possible return `NaN`.\n",
    "1. If $y$ is inside the triangle $ABC$ return $r^{ABC}_1 f(A) + r^{ABC}_2 f(B) + r^{ABC}_3 f(C)$.\n",
    "1. If $y$ is inside the triangle $CDA$ return $r^{CDA}_1 f(C) + r^{CDA}_2 f(D) + r^{CDA}_3 f(A)$.\n",
    "1. Return `NaN`.\n",
    "\n"
   ]
  },
  {
   "cell_type": "markdown",
   "metadata": {},
   "source": [
    "**Sample:**"
   ]
  },
  {
   "cell_type": "code",
   "execution_count": null,
   "metadata": {},
   "outputs": [],
   "source": [
    "rng = np.random.default_rng(2024)\n",
    "\n",
    "X = rng.uniform(size=(50,2))\n",
    "y = rng.uniform(size=(2,))"
   ]
  },
  {
   "cell_type": "markdown",
   "metadata": {},
   "source": [
    "**Questions 1:** Find $A$, $B$, $C$ and $D$. Illustrate these together with $X$, $y$ and the triangles $ABC$ and $CDA$."
   ]
  },
  {
   "cell_type": "code",
   "execution_count": null,
   "metadata": {},
   "outputs": [],
   "source": [
    "from problem3 import *\n",
    "\n",
    "# Find the closest points\n",
    "A, B, C, D = find_closest_points(X, y)\n",
    "\n",
    "# Set seaborn style\n",
    "sns.set(style=\"whitegrid\")\n",
    "\n",
    "# Plot the points\n",
    "plt.figure(figsize=(9, 7))\n",
    "\n",
    "# Plot points in X\n",
    "sns.scatterplot(x=X[:, 0], y=X[:, 1], color='blue', label='Points in X', s=100)\n",
    "\n",
    "# Plot the point y and points A, B, C, D\n",
    "sns.scatterplot(x=[y[0]], y=[y[1]], color='red', label='Point y', s=200, zorder=5)\n",
    "sns.scatterplot(x=[A[0]], y=[A[1]], color='green', label='Point A (Quadrant 1)', s=200, zorder=5)\n",
    "sns.scatterplot(x=[B[0]], y=[B[1]], color='purple', label='Point B (Quadrant 2)', s=200, zorder=5)\n",
    "sns.scatterplot(x=[C[0]], y=[C[1]], color='orange', label='Point C (Quadrant 3)', s=200, zorder=5)\n",
    "sns.scatterplot(x=[D[0]], y=[D[1]], color='brown', label='Point D (Quadrant 4)', s=200, zorder=5)\n",
    "\n",
    "# Draw the triangles\n",
    "triangle_ABC = plt.Polygon([A, B, C], color='green', alpha=0.2, label='Triangle ABC')\n",
    "triangle_CDA = plt.Polygon([C, D, A], color='brown', alpha=0.2, label='Triangle CDA')\n",
    "plt.gca().add_patch(triangle_ABC)\n",
    "plt.gca().add_patch(triangle_CDA)\n",
    "\n",
    "plt.xlabel('x1')\n",
    "plt.ylabel('x2')\n",
    "plt.title('Points and Triangles')\n",
    "plt.legend(bbox_to_anchor=(1.05, 1), loc='upper left')\n",
    "plt.grid(True)\n",
    "plt.show()"
   ]
  },
  {
   "cell_type": "markdown",
   "metadata": {},
   "source": [
    "**Question 2:** Compute the barycentric coordinates of the point $y$ with respect to the triangles $ABC$ and $CDA$. Which triangle is $y$ located inside?"
   ]
  },
  {
   "cell_type": "code",
   "execution_count": null,
   "metadata": {},
   "outputs": [],
   "source": [
    "from problem3 import *\n",
    "# Print results\n",
    "print(\"Barycentric coordinates of y with respect to ABC:\")\n",
    "print(f\"lambda1: {lambda1_ABC}, lambda2: {lambda2_ABC}, lambda3: {lambda3_ABC}\")\n",
    "print(f\"Is y inside ABC? {'Yes' if is_inside_ABC else 'No'}\")\n",
    "\n",
    "print(\"\\nBarycentric coordinates of y with respect to CDA:\")\n",
    "print(f\"lambda1: {lambda1_CDA}, lambda2: {lambda2_CDA}, lambda3: {lambda3_CDA}\")\n",
    "print(f\"Is y inside CDA? {'Yes' if is_inside_CDA else 'No'}\")"
   ]
  },
  {
   "cell_type": "markdown",
   "metadata": {},
   "source": [
    "Now consider the function:\n",
    "$$\n",
    "f(x_1,x_2) = x_1 \\cdot x_2\n",
    "$$"
   ]
  },
  {
   "cell_type": "code",
   "execution_count": null,
   "metadata": {},
   "outputs": [],
   "source": [
    "f = lambda x: x[0]*x[1]\n",
    "F = np.array([f(x) for x in X])"
   ]
  },
  {
   "cell_type": "markdown",
   "metadata": {},
   "source": [
    "**Question 3:** Compute the approximation of $f(y)$ using the full algorithm. Compare with the true value."
   ]
  },
  {
   "cell_type": "code",
   "execution_count": null,
   "metadata": {},
   "outputs": [],
   "source": [
    "from problem3 import *\n",
    "\n",
    "# Compute barycentric coordinates for y with respect to ABC and CDA\n",
    "lambda1_ABC, lambda2_ABC, lambda3_ABC = barycentric_coordinates(y, A, B, C)\n",
    "lambda1_CDA, lambda2_CDA, lambda3_CDA = barycentric_coordinates(y, C, D, A)\n",
    "\n",
    "# Compute f values at A, B, C, D\n",
    "f_A = f(A)\n",
    "f_B = f(B)\n",
    "f_C = f(C)\n",
    "f_D = f(D)\n",
    "\n",
    "# Interpolate f(y) using ABC\n",
    "f_y_ABC = lambda1_ABC * f_A + lambda2_ABC * f_B + lambda3_ABC * f_C\n",
    "\n",
    "# Interpolate f(y) using CDA\n",
    "f_y_CDA = lambda1_CDA * f_C + lambda2_CDA * f_D + lambda3_CDA * f_A\n",
    "\n",
    "# Determine which triangle y is inside based on barycentric coordinates\n",
    "if (0 <= lambda1_ABC <= 1) and (0 <= lambda2_ABC <= 1) and (0 <= lambda3_ABC <= 1):\n",
    "    f_y_approx = f_y_ABC\n",
    "elif (0 <= lambda1_CDA <= 1) and (0 <= lambda2_CDA <= 1) and (0 <= lambda3_CDA <= 1):\n",
    "    f_y_approx = f_y_CDA\n",
    "else:\n",
    "    f_y_approx = None\n",
    "\n",
    "# Compute the true value of f(y)\n",
    "f_y_true = f(y)\n",
    "\n",
    "# Print results\n",
    "print(\"Barycentric coordinates of y with respect to ABC:\")\n",
    "print(f\"lambda1: {lambda1_ABC}, lambda2: {lambda2_ABC}, lambda3: {lambda3_ABC}\")\n",
    "\n",
    "print(\"\\nBarycentric coordinates of y with respect to CDA:\")\n",
    "print(f\"lambda1: {lambda1_CDA}, lambda2: {lambda2_CDA}, lambda3: {lambda3_CDA}\")\n",
    "\n",
    "print(\"\\nInterpolated value of f(y):\")\n",
    "print(f\"f_y_approx: {f_y_approx}\")\n",
    "\n",
    "print(\"\\nTrue value of f(y):\")\n",
    "print(f\"f_y_true: {f_y_true}\")\n",
    "\n",
    "# Compare the interpolated value with the true value\n",
    "if f_y_approx is not None:\n",
    "    print(\"\\nComparison:\")\n",
    "    print(f\"Error: {abs(f_y_true - f_y_approx)}\")\n",
    "else:\n",
    "    print(\"Point y is not inside any of the triangles ABC or CDA.\")"
   ]
  },
  {
   "cell_type": "markdown",
   "metadata": {},
   "source": [
    "#### Conclusion\n",
    "The approximation of \\( f(y) \\) using barycentric coordinates is effective, providing a value close to the true value with a small error margin. The small difference between the true value and the approximated value indicates that the approximation method is fairly accurate, though there is a slight overestimation in this case. The barycentric coordinate method proves to be a useful tool for approximating function values at given points within triangles, with practical accuracy for many applications.\n"
   ]
  },
  {
   "cell_type": "markdown",
   "metadata": {},
   "source": [
    "**Question 4:** Repeat question 3 for all points in the set $Y$."
   ]
  },
  {
   "cell_type": "code",
   "execution_count": null,
   "metadata": {},
   "outputs": [],
   "source": [
    "Y = [(0.2,0.2),(0.8,0.2),(0.8,0.8),(0.8,0.2),(0.5,0.5)]"
   ]
  },
  {
   "cell_type": "code",
   "execution_count": null,
   "metadata": {},
   "outputs": [],
   "source": [
    "from problem3_2 import *\n",
    "\n",
    "# Display the results\n",
    "for result in results:\n",
    "    print(f\"Point y: {result['y']}\")\n",
    "    print(f\"Interpolated value of f(y): {result['f_y_approx']}\")\n",
    "    print(f\"True value of f(y): {result['f_y_true']}\")\n",
    "    print(f\"Error: {result['error']}\")\n",
    "    print(f\"Inside ABC: {result['inside_ABC']}\")\n",
    "    print(f\"Inside CDA: {result['inside_CDA']}\")\n",
    "    print(\"\\n\" + \"-\"*40 + \"\\n\")\n",
    "\n",
    "# Set seaborn style\n",
    "sns.set(style=\"whitegrid\")\n",
    "\n",
    "# Plot the points and triangles\n",
    "plt.figure(figsize=(9, 7))\n",
    "\n",
    "# Plot points in X\n",
    "sns.scatterplot(x=X[:, 0], y=X[:, 1], color='blue', label='Points in X', s=100)\n",
    "\n",
    "# Plot the point y and set Y\n",
    "for result in results:\n",
    "    if result['f_y_approx'] is not None:\n",
    "        label = f\"Point {result['y']}, Error: {result['error']:.2e}\"\n",
    "    else:\n",
    "        label = f\"Point {result['y']}, Outside triangles\"\n",
    "    sns.scatterplot(x=[result['y'][0]], y=[result['y'][1]], color='red', label=label, s=200)\n",
    "\n",
    "# Plot points A, B, C, D\n",
    "sns.scatterplot(x=[A[0]], y=[A[1]], color='green', label='Point A (Quadrant 1)', s=200)\n",
    "sns.scatterplot(x=[B[0]], y=[B[1]], color='purple', label='Point B (Quadrant 2)', s=200)\n",
    "sns.scatterplot(x=[C[0]], y=[C[1]], color='orange', label='Point C (Quadrant 3)', s=200)\n",
    "sns.scatterplot(x=[D[0]], y=[D[1]], color='brown', label='Point D (Quadrant 4)', s=200)\n",
    "\n",
    "# Draw the triangles\n",
    "triangle_ABC = plt.Polygon([A, B, C], color='green', alpha=0.2, label='Triangle ABC')\n",
    "triangle_CDA = plt.Polygon([C, D, A], color='brown', alpha=0.2, label='Triangle CDA')\n",
    "plt.gca().add_patch(triangle_ABC)\n",
    "plt.gca().add_patch(triangle_CDA)\n",
    "\n",
    "plt.xlabel('x1')\n",
    "plt.ylabel('x2')\n",
    "plt.title('Points and Triangles')\n",
    "plt.legend(bbox_to_anchor=(1.05, 1), loc='upper left')\n",
    "plt.grid(True)\n",
    "plt.show()"
   ]
  },
  {
   "cell_type": "markdown",
   "metadata": {},
   "source": [
    "#### Conclusion\n",
    "\n",
    "- **Point 1**: The approximation is highly accurate, with the approximated value being very close to the true value.\n",
    "- **Point 2**: There is a significant overestimation in the approximated value compared to the true value.\n",
    "- **Point 3**: There is a noticeable underestimation in the approximated value compared to the true value.\n",
    "- **Overall Accuracy**: The MSE indicates that while the approximation method is effective, it has a moderate error level, with some points being overestimated and others underestimated.\n"
   ]
  }
 ],
 "metadata": {
  "kernelspec": {
   "display_name": "base",
   "language": "python",
   "name": "python3"
  },
  "language_info": {
   "codemirror_mode": {
    "name": "ipython",
    "version": 3
   },
   "file_extension": ".py",
   "mimetype": "text/x-python",
   "name": "python",
   "nbconvert_exporter": "python",
   "pygments_lexer": "ipython3",
   "version": "3.11.7"
  }
 },
 "nbformat": 4,
 "nbformat_minor": 2
}

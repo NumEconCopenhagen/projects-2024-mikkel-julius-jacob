{
 "cells": [
  {
   "cell_type": "markdown",
   "metadata": {},
   "source": [
    "**Table of contents**<a id='toc0_'></a>    \n",
    "- 1. [Problem 1: Production economy and CO2 taxation](#toc1_)    \n",
    "- 2. [Problem 2: Career choice model](#toc2_)    \n",
    "- 3. [Problem 3: Barycentric interpolation](#toc3_)    \n",
    "\n",
    "<!-- vscode-jupyter-toc-config\n",
    "\tnumbering=true\n",
    "\tanchor=true\n",
    "\tflat=false\n",
    "\tminLevel=2\n",
    "\tmaxLevel=6\n",
    "\t/vscode-jupyter-toc-config -->\n",
    "<!-- THIS CELL WILL BE REPLACED ON TOC UPDATE. DO NOT WRITE YOUR TEXT IN THIS CELL -->"
   ]
  },
  {
   "cell_type": "code",
   "execution_count": 86,
   "metadata": {},
   "outputs": [],
   "source": [
    "# Write your code here\n",
    "import numpy as np\n",
    "from types import SimpleNamespace"
   ]
  },
  {
   "cell_type": "markdown",
   "metadata": {},
   "source": [
    "## 1. <a id='toc1_'></a>[Problem 1: Production economy and CO2 taxation](#toc0_)"
   ]
  },
  {
   "cell_type": "markdown",
   "metadata": {},
   "source": [
    "Consider a production economy with two firms indexed by $j \\in \\{1,2\\}$. Each produce its own good. They solve\n",
    "\n",
    "$$\n",
    "\\begin{align*}\n",
    "\\max_{y_{j}}\\pi_{j}&=p_{j}y_{j}-w_{j}\\ell_{j}\\\\\\text{s.t.}\\;&y_{j}=A\\ell_{j}^{\\gamma}.\n",
    "\\end{align*}\n",
    "$$\n",
    "\n",
    "Optimal firm behavior is\n",
    "\n",
    "$$\n",
    "\\begin{align*}\n",
    "\\ell_{j}^{\\star}(w,p_{j})&=\\left(\\frac{p_{j}A\\gamma}{w}\\right)^{\\frac{1}{1-\\gamma}} \\\\\n",
    "y_{j}^{\\star}(w,p_{j})&=A\\left(\\ell_{j}^{\\star}(w,p_{j})\\right)^{\\gamma}\n",
    "\\end{align*}\n",
    "$$\n",
    "\n",
    "The implied profits are\n",
    "\n",
    "$$\n",
    "\\pi_{j}^*(w,p_{j})=\\frac{1-\\gamma}{\\gamma}w\\cdot\\left(\\frac{p_{j}A\\gamma}{w}\\right)^{\\frac{1}{1-\\gamma}}\n",
    "$$\n",
    "\n",
    "A single consumer supplies labor, and consumes the goods the firms produce. She also recieves the implied profits of the firm.<br>\n",
    "She solves:\n",
    "\n",
    "$$\n",
    "\\begin{align*}\n",
    "U(p_1,p_2,w,\\tau,T) = \\max_{c_{1},c_{2},\\ell} & \\log(c_{1}^{\\alpha}c_{2}^{1-\\alpha})-\\nu\\frac{\\ell^{1+\\epsilon}}{1+\\epsilon} \\\\\n",
    "\\text{s.t.}\\,\\,\\,&p_{1}c_{1}+(p_{2}+\\tau)c_{2}=w\\ell+T+\\pi_{1}^*(w,p_{1})+\\pi_{2}^*(w,p_{2})\n",
    "\\end{align*}\n",
    "$$\n",
    "\n",
    "where $\\tau$ is a tax and $T$ is lump-sum transfer. <br>\n",
    "For a given $\\ell$, it can be shown that optimal behavior is\n",
    "\n",
    "$$\n",
    "\\begin{align*}\n",
    "c_{1}(\\ell)&=\\alpha\\frac{w\\ell+T+\\pi_{1}^*(w,p_{1})+\\pi_{2}^*(w,p_{2})}{p_{1}} \\\\\n",
    "c_{2}(\\ell)&=(1-\\alpha)\\frac{w\\ell+T+\\pi_{1}^*(w,p_{1})+\\pi_{2}^*(w,p_{2})}{p_{2}+\\tau} \\\\\n",
    "\\end{align*}\n",
    "$$\n",
    "Such that optimal behavior is:\n",
    "$$\n",
    "\\ell^* = \\underset{\\ell}{\\arg\\max} \\log(\\left(c_{1}(\\ell)\\right)^{\\alpha}\\cdot \\left(c_{2}(\\ell)\\right)^{1-\\alpha})-\\nu\\frac{\\ell^{1+\\epsilon}}{1+\\epsilon} \n",
    "$$\n",
    "With optimal consumption:\n",
    "$$\n",
    "\\begin{align*}\n",
    "c_1^*=c_{1}(\\ell^*) \\\\\n",
    "c_2^*=c_{2}(\\ell^*)\\\\\n",
    "\\end{align*}\n",
    "$$\n",
    "\n",
    "\n",
    "The government chooses $\\tau$ and balances its budget so $T=\\tau c_2^*$. We initially set $\\tau,T=0$.\n",
    "\n",
    "Market clearing requires:\n",
    "\n",
    "1. Labor market: $\\ell^* = \\ell_1^* + \\ell_2^*$\n",
    "1. Good market 1: $c_1^* = y_1^*$\n",
    "1. Good market 2: $c_2^* = y_2^*$\n"
   ]
  },
  {
   "cell_type": "markdown",
   "metadata": {},
   "source": [
    "**Question 1:** Check market clearing conditions for $p_1$ in `linspace(0.1,2.0,10)` and $p_2$ in `linspace(0.1,2.0,10)`. We choose $w=1$ as numeraire."
   ]
  },
  {
   "cell_type": "code",
   "execution_count": 101,
   "metadata": {},
   "outputs": [
    {
     "name": "stdout",
     "output_type": "stream",
     "text": [
      "Market clearing conditions not satisfied for p1 = 0.100, p2 = 0.100\n",
      "Market clearing conditions not satisfied for p1 = 0.100, p2 = 0.311\n",
      "Market clearing conditions not satisfied for p1 = 0.100, p2 = 0.522\n",
      "Market clearing conditions not satisfied for p1 = 0.100, p2 = 0.733\n",
      "Market clearing conditions not satisfied for p1 = 0.100, p2 = 0.944\n",
      "Market clearing conditions not satisfied for p1 = 0.100, p2 = 1.156\n",
      "Market clearing conditions not satisfied for p1 = 0.100, p2 = 1.367\n",
      "Market clearing conditions not satisfied for p1 = 0.100, p2 = 1.578\n",
      "Market clearing conditions not satisfied for p1 = 0.100, p2 = 1.789\n",
      "Market clearing conditions not satisfied for p1 = 0.100, p2 = 2.000\n",
      "Market clearing conditions not satisfied for p1 = 0.311, p2 = 0.100\n",
      "Market clearing conditions not satisfied for p1 = 0.311, p2 = 0.311\n",
      "Market clearing conditions not satisfied for p1 = 0.311, p2 = 0.522\n",
      "Market clearing conditions not satisfied for p1 = 0.311, p2 = 0.733\n",
      "Market clearing conditions not satisfied for p1 = 0.311, p2 = 0.944\n",
      "Market clearing conditions not satisfied for p1 = 0.311, p2 = 1.156\n",
      "Market clearing conditions not satisfied for p1 = 0.311, p2 = 1.367\n",
      "Market clearing conditions not satisfied for p1 = 0.311, p2 = 1.578\n",
      "Market clearing conditions not satisfied for p1 = 0.311, p2 = 1.789\n",
      "Market clearing conditions not satisfied for p1 = 0.311, p2 = 2.000\n",
      "Market clearing conditions not satisfied for p1 = 0.522, p2 = 0.100\n",
      "Market clearing conditions not satisfied for p1 = 0.522, p2 = 0.311\n",
      "Market clearing conditions not satisfied for p1 = 0.522, p2 = 0.522\n",
      "Market clearing conditions not satisfied for p1 = 0.522, p2 = 0.733\n",
      "Market clearing conditions not satisfied for p1 = 0.522, p2 = 0.944\n",
      "Market clearing conditions not satisfied for p1 = 0.522, p2 = 1.156\n",
      "Market clearing conditions not satisfied for p1 = 0.522, p2 = 1.367\n",
      "Market clearing conditions not satisfied for p1 = 0.522, p2 = 1.578\n",
      "Market clearing conditions not satisfied for p1 = 0.522, p2 = 1.789\n",
      "Market clearing conditions not satisfied for p1 = 0.522, p2 = 2.000\n",
      "Market clearing conditions not satisfied for p1 = 0.733, p2 = 0.100\n",
      "Market clearing conditions not satisfied for p1 = 0.733, p2 = 0.311\n",
      "Market clearing conditions not satisfied for p1 = 0.733, p2 = 0.522\n",
      "Market clearing conditions not satisfied for p1 = 0.733, p2 = 0.733\n",
      "Market clearing conditions not satisfied for p1 = 0.733, p2 = 0.944\n",
      "Market clearing conditions not satisfied for p1 = 0.733, p2 = 1.156\n",
      "Market clearing conditions not satisfied for p1 = 0.733, p2 = 1.367\n",
      "Market clearing conditions not satisfied for p1 = 0.733, p2 = 1.578\n",
      "Market clearing conditions not satisfied for p1 = 0.733, p2 = 1.789\n",
      "Market clearing conditions not satisfied for p1 = 0.733, p2 = 2.000\n",
      "Market clearing conditions not satisfied for p1 = 0.944, p2 = 0.100\n",
      "Market clearing conditions not satisfied for p1 = 0.944, p2 = 0.311\n",
      "Market clearing conditions not satisfied for p1 = 0.944, p2 = 0.522\n",
      "Market clearing conditions not satisfied for p1 = 0.944, p2 = 0.733\n",
      "Market clearing conditions not satisfied for p1 = 0.944, p2 = 0.944\n",
      "Market clearing conditions not satisfied for p1 = 0.944, p2 = 1.156\n",
      "Market clearing conditions not satisfied for p1 = 0.944, p2 = 1.367\n",
      "Market clearing conditions not satisfied for p1 = 0.944, p2 = 1.578\n",
      "Market clearing conditions not satisfied for p1 = 0.944, p2 = 1.789\n",
      "Market clearing conditions not satisfied for p1 = 0.944, p2 = 2.000\n",
      "Market clearing conditions not satisfied for p1 = 1.156, p2 = 0.100\n",
      "Market clearing conditions not satisfied for p1 = 1.156, p2 = 0.311\n",
      "Market clearing conditions not satisfied for p1 = 1.156, p2 = 0.522\n",
      "Market clearing conditions not satisfied for p1 = 1.156, p2 = 0.733\n",
      "Market clearing conditions not satisfied for p1 = 1.156, p2 = 0.944\n",
      "Market clearing conditions not satisfied for p1 = 1.156, p2 = 1.156\n",
      "Market clearing conditions not satisfied for p1 = 1.156, p2 = 1.367\n",
      "Market clearing conditions not satisfied for p1 = 1.156, p2 = 1.578\n",
      "Market clearing conditions not satisfied for p1 = 1.156, p2 = 1.789\n",
      "Market clearing conditions not satisfied for p1 = 1.156, p2 = 2.000\n",
      "Market clearing conditions not satisfied for p1 = 1.367, p2 = 0.100\n",
      "Market clearing conditions not satisfied for p1 = 1.367, p2 = 0.311\n",
      "Market clearing conditions not satisfied for p1 = 1.367, p2 = 0.522\n",
      "Market clearing conditions not satisfied for p1 = 1.367, p2 = 0.733\n",
      "Market clearing conditions not satisfied for p1 = 1.367, p2 = 0.944\n",
      "Market clearing conditions not satisfied for p1 = 1.367, p2 = 1.156\n",
      "Market clearing conditions not satisfied for p1 = 1.367, p2 = 1.367\n",
      "Market clearing conditions not satisfied for p1 = 1.367, p2 = 1.578\n",
      "Market clearing conditions not satisfied for p1 = 1.367, p2 = 1.789\n",
      "Market clearing conditions not satisfied for p1 = 1.367, p2 = 2.000\n",
      "Market clearing conditions not satisfied for p1 = 1.578, p2 = 0.100\n",
      "Market clearing conditions not satisfied for p1 = 1.578, p2 = 0.311\n",
      "Market clearing conditions not satisfied for p1 = 1.578, p2 = 0.522\n",
      "Market clearing conditions not satisfied for p1 = 1.578, p2 = 0.733\n",
      "Market clearing conditions not satisfied for p1 = 1.578, p2 = 0.944\n",
      "Market clearing conditions not satisfied for p1 = 1.578, p2 = 1.156\n",
      "Market clearing conditions not satisfied for p1 = 1.578, p2 = 1.367\n",
      "Market clearing conditions not satisfied for p1 = 1.578, p2 = 1.578\n",
      "Market clearing conditions not satisfied for p1 = 1.578, p2 = 1.789\n",
      "Market clearing conditions not satisfied for p1 = 1.578, p2 = 2.000\n",
      "Market clearing conditions not satisfied for p1 = 1.789, p2 = 0.100\n",
      "Market clearing conditions not satisfied for p1 = 1.789, p2 = 0.311\n",
      "Market clearing conditions not satisfied for p1 = 1.789, p2 = 0.522\n",
      "Market clearing conditions not satisfied for p1 = 1.789, p2 = 0.733\n",
      "Market clearing conditions not satisfied for p1 = 1.789, p2 = 0.944\n",
      "Market clearing conditions not satisfied for p1 = 1.789, p2 = 1.156\n",
      "Market clearing conditions not satisfied for p1 = 1.789, p2 = 1.367\n",
      "Market clearing conditions not satisfied for p1 = 1.789, p2 = 1.578\n",
      "Market clearing conditions not satisfied for p1 = 1.789, p2 = 1.789\n",
      "Market clearing conditions not satisfied for p1 = 1.789, p2 = 2.000\n",
      "Market clearing conditions not satisfied for p1 = 2.000, p2 = 0.100\n",
      "Market clearing conditions not satisfied for p1 = 2.000, p2 = 0.311\n",
      "Market clearing conditions not satisfied for p1 = 2.000, p2 = 0.522\n",
      "Market clearing conditions not satisfied for p1 = 2.000, p2 = 0.733\n",
      "Market clearing conditions not satisfied for p1 = 2.000, p2 = 0.944\n",
      "Market clearing conditions not satisfied for p1 = 2.000, p2 = 1.156\n",
      "Market clearing conditions not satisfied for p1 = 2.000, p2 = 1.367\n",
      "Market clearing conditions not satisfied for p1 = 2.000, p2 = 1.578\n",
      "Market clearing conditions not satisfied for p1 = 2.000, p2 = 1.789\n",
      "Market clearing conditions not satisfied for p1 = 2.000, p2 = 2.000\n"
     ]
    }
   ],
   "source": [
    "import numpy as np\n",
    "from scipy.optimize import fsolve\n",
    "\n",
    "# Parameters and constants\n",
    "A = 1.0\n",
    "gamma = 0.5\n",
    "alpha = 0.3\n",
    "nu = 0.1\n",
    "epsilon = 0.5\n",
    "w = 1.0  # Numeraire\n",
    "T = 0.0  # Lump-sum transfer initially set to 0\n",
    "tau = 0.0  # Tax initially set to 0\n",
    "\n",
    "# Function definitions\n",
    "\n",
    "def ell_j_star(w_j, p_j):\n",
    "    return (p_j * A * gamma / w_j) ** (1 / (1 - gamma))\n",
    "\n",
    "def pi_j_star(w_j, p_j):\n",
    "    ell_star = ell_j_star(w_j, p_j)\n",
    "    return (1 - gamma) / gamma * w_j * ell_star\n",
    "\n",
    "def consumer_problem(l, p1, p2):\n",
    "    c1 = alpha * (w * l + T + pi_j_star(w, p1) + pi_j_star(w, p2)) / p1\n",
    "    c2 = (1 - alpha) * (w * l + T + pi_j_star(w, p1) + pi_j_star(w, p2)) / (p2 + tau)\n",
    "    return np.log(c1 ** alpha * c2 ** (1 - alpha)) - nu * l ** (1 + epsilon) / (1 + epsilon)\n",
    "\n",
    "def equilibrium_conditions(prices):\n",
    "    p1, p2 = prices\n",
    "    # Solve for labor\n",
    "    def labor_equation(l):\n",
    "        return l - (ell_j_star(w, p1) + ell_j_star(w, p2))\n",
    "\n",
    "    # Solve for consumer's optimal labor choice\n",
    "    l_star = fsolve(labor_equation, 0.5)[0]\n",
    "\n",
    "    # Check goods market clearing\n",
    "    def goods_market_clearing(prices):\n",
    "        p1, p2 = prices\n",
    "        c1 = alpha * (w * l_star + T + pi_j_star(w, p1) + pi_j_star(w, p2)) / p1\n",
    "        c2 = (1 - alpha) * (w * l_star + T + pi_j_star(w, p1) + pi_j_star(w, p2)) / (p2 + tau)\n",
    "        y1 = A * (ell_j_star(w, p1)) ** gamma\n",
    "        y2 = A * (ell_j_star(w, p2)) ** gamma\n",
    "        return [\n",
    "            c1 - y1,\n",
    "            c2 - y2\n",
    "        ]\n",
    "\n",
    "    # Solve for equilibrium prices\n",
    "    equilibrium_prices = fsolve(goods_market_clearing, [p1, p2])\n",
    "\n",
    "    return equilibrium_prices\n",
    "\n",
    "# Check market clearing conditions for p1 in linspace(0.1, 2.0, 10) and p2 in linspace(0.1, 2.0, 10)\n",
    "p1_values = np.linspace(0.1, 2.0, 10)\n",
    "p2_values = np.linspace(0.1, 2.0, 10)\n",
    "\n",
    "for p1 in p1_values:\n",
    "    for p2 in p2_values:\n",
    "        # Find equilibrium prices for current (p1, p2)\n",
    "        equilibrium_prices = equilibrium_conditions([p1, p2])\n",
    "        \n",
    "        # Check if the solution is within tolerance\n",
    "        tol = 1e-6\n",
    "        if np.abs(equilibrium_prices[0] - p1) < tol and np.abs(equilibrium_prices[1] - p2) < tol:\n",
    "            print(f\"Market clearing conditions satisfied for p1 = {p1:.3f}, p2 = {p2:.3f}\")\n",
    "        else:\n",
    "            print(f\"Market clearing conditions not satisfied for p1 = {p1:.3f}, p2 = {p2:.3f}\")\n"
   ]
  },
  {
   "cell_type": "markdown",
   "metadata": {},
   "source": [
    "**Question 2:** Find the equilibrium prices $p_1$ and $p_2$.<br>\n",
    "*Hint: you can use Walras' law to only check 2 of the market clearings*"
   ]
  },
  {
   "cell_type": "code",
   "execution_count": 88,
   "metadata": {},
   "outputs": [
    {
     "name": "stdout",
     "output_type": "stream",
     "text": [
      "Equilibrium prices (p1, p2): [0.77 1.18]\n"
     ]
    }
   ],
   "source": [
    "import numpy as np\n",
    "from scipy.optimize import fsolve\n",
    "\n",
    "# Parameters and constants\n",
    "A = 1.0\n",
    "gamma = 0.5\n",
    "alpha = 0.3\n",
    "nu = 0.1\n",
    "epsilon = 0.5\n",
    "w = 1.0  # Assuming some initial value for w\n",
    "T = 0.0  # Lump-sum transfer initially set to 0\n",
    "tau = 0.0  # Tax initially set to 0\n",
    "\n",
    "# Define functions for the system of equations\n",
    "\n",
    "def ell_j_star(w_j, p_j):\n",
    "    return (p_j * A * gamma / w_j) ** (1 / (1 - gamma))\n",
    "\n",
    "def pi_j_star(w_j, p_j):\n",
    "    ell_star = ell_j_star(w_j, p_j)\n",
    "    return (1 - gamma) / gamma * w_j * ell_star\n",
    "\n",
    "def consumer_problem(l, p1, p2):\n",
    "    c1 = alpha * (w * l + T + pi_j_star(w, p1) + pi_j_star(w, p2)) / p1\n",
    "    c2 = (1 - alpha) * (w * l + T + pi_j_star(w, p1) + pi_j_star(w, p2)) / (p2 + tau)\n",
    "    return np.log(c1 ** alpha * c2 ** (1 - alpha)) - nu * l ** (1 + epsilon) / (1 + epsilon)\n",
    "\n",
    "def equilibrium_conditions(prices):\n",
    "    p1, p2 = prices\n",
    "    # Solve for labor\n",
    "    def labor_equation(l):\n",
    "        return l - (ell_j_star(w, p1) + ell_j_star(w, p2))\n",
    "\n",
    "    # Solve for consumer's optimal labor choice\n",
    "    l_star = fsolve(labor_equation, 0.5)[0]\n",
    "\n",
    "    # Check goods market clearing\n",
    "    def goods_market_clearing(prices):\n",
    "        p1, p2 = prices\n",
    "        c1 = alpha * (w * l_star + T + pi_j_star(w, p1) + pi_j_star(w, p2)) / p1\n",
    "        c2 = (1 - alpha) * (w * l_star + T + pi_j_star(w, p1) + pi_j_star(w, p2)) / (p2 + tau)\n",
    "        y1 = A * (ell_j_star(w, p1)) ** gamma\n",
    "        y2 = A * (ell_j_star(w, p2)) ** gamma\n",
    "        return [\n",
    "            c1 - y1,\n",
    "            c2 - y2\n",
    "        ]\n",
    "\n",
    "    # Solve for equilibrium prices\n",
    "    equilibrium_prices = fsolve(goods_market_clearing, [1.0, 1.0])\n",
    "\n",
    "    return equilibrium_prices\n",
    "\n",
    "# Find equilibrium prices\n",
    "equilibrium_prices = equilibrium_conditions([1.0, 1.0])\n",
    "\n",
    "print(\"Equilibrium prices (p1, p2):\", equilibrium_prices)"
   ]
  },
  {
   "cell_type": "code",
   "execution_count": 124,
   "metadata": {},
   "outputs": [
    {
     "name": "stdout",
     "output_type": "stream",
     "text": [
      "Optimal labor (ell1*, ell2*): (0.13970723565740348, 0.13733645538343978)\n",
      "Optimal output (y1*, y2*): (0.3737743111255821, 0.3705893352262579)\n",
      "Implied profits (pi1*, pi2*): (0.13970723565740348, 0.13733645538343978)\n",
      "Total labor supplied (ell*): 0.27704369104084325\n",
      "Optimal consumption (c1*, c2*): (0.3706029050077776, 0.3737879975306066)\n",
      "Labor market clears: True\n",
      "Goods market 1 clears: True\n",
      "Goods market 2 clears: True\n"
     ]
    }
   ],
   "source": [
    "import numpy as np\n",
    "\n",
    "# Given equilibrium prices\n",
    "p1 = 0.7475486222511643\n",
    "p2 = 0.7411786704525158\n",
    "\n",
    "# Parameters\n",
    "alpha = 0.5\n",
    "gamma = 0.5\n",
    "A = 1\n",
    "w = 1  # numeraire\n",
    "\n",
    "# Function to calculate optimal labor allocation\n",
    "def calculate_l_star(p1, p2, A, gamma, w):\n",
    "    ell1_star = (p1 * A * gamma / w) ** (1 / (1 - gamma))\n",
    "    ell2_star = (p2 * A * gamma / w) ** (1 / (1 - gamma))\n",
    "    return ell1_star, ell2_star\n",
    "\n",
    "# Function to calculate optimal outputs\n",
    "def calculate_y_star(ell1_star, ell2_star, A, gamma):\n",
    "    y1_star = A * (ell1_star ** gamma)\n",
    "    y2_star = A * (ell2_star ** gamma)\n",
    "    return y1_star, y2_star\n",
    "\n",
    "# Function to calculate profits\n",
    "def calculate_profits(p1, p2, A, gamma, w):\n",
    "    pi1_star = (1 - gamma) / gamma * w * (p1 * A * gamma / w) ** (1 / (1 - gamma))\n",
    "    pi2_star = (1 - gamma) / gamma * w * (p2 * A * gamma / w) ** (1 / (1 - gamma))\n",
    "    return pi1_star, pi2_star\n",
    "\n",
    "# Calculate optimal labor allocation\n",
    "ell1_star, ell2_star = calculate_l_star(p1, p2, A, gamma, w)\n",
    "\n",
    "# Calculate optimal outputs\n",
    "y1_star, y2_star = calculate_y_star(ell1_star, ell2_star, A, gamma)\n",
    "\n",
    "# Calculate implied profits\n",
    "pi1_star, pi2_star = calculate_profits(p1, p2, A, gamma, w)\n",
    "\n",
    "# Total labor supplied\n",
    "ell_star_val = ell1_star + ell2_star\n",
    "\n",
    "# Calculate optimal consumption given T = 0\n",
    "T = 0\n",
    "c1_star = alpha * (w * ell_star_val + T + pi1_star + pi2_star) / p1\n",
    "c2_star = (1 - alpha) * (w * ell_star_val + T + pi1_star + pi2_star) / p2\n",
    "\n",
    "# Print results to check market clearing\n",
    "print(f\"Optimal labor (ell1*, ell2*): ({ell1_star}, {ell2_star})\")\n",
    "print(f\"Optimal output (y1*, y2*): ({y1_star}, {y2_star})\")\n",
    "print(f\"Implied profits (pi1*, pi2*): ({pi1_star}, {pi2_star})\")\n",
    "print(f\"Total labor supplied (ell*): {ell_star_val}\")\n",
    "print(f\"Optimal consumption (c1*, c2*): ({c1_star}, {c2_star})\")\n",
    "\n",
    "# Tolerance for approximate equality\n",
    "tolerance = 1e-2\n",
    "\n",
    "# Check market clearing conditions\n",
    "labor_market_clears = np.abs(ell_star_val - (ell1_star + ell2_star)) < tolerance\n",
    "goods_market_1_clears = np.abs(c1_star - y1_star) < tolerance\n",
    "goods_market_2_clears = np.abs(c2_star - y2_star) < tolerance\n",
    "\n",
    "print(f\"Labor market clears: {labor_market_clears}\")\n",
    "print(f\"Goods market 1 clears: {goods_market_1_clears}\")\n",
    "print(f\"Goods market 2 clears: {goods_market_2_clears}\")\n"
   ]
  },
  {
   "cell_type": "markdown",
   "metadata": {},
   "source": [
    "Assume the government care about the social welfare function:\n",
    "\n",
    "$$\n",
    "SWF = U - \\kappa y_2^*\n",
    "$$"
   ]
  },
  {
   "cell_type": "markdown",
   "metadata": {},
   "source": [
    "Here $\\kappa$ measures the social cost of carbon emitted by the production of $y_2$ in equilibrium."
   ]
  },
  {
   "cell_type": "markdown",
   "metadata": {},
   "source": [
    "**Question 3:** What values of $\\tau$ and (implied) $T$ should the government choose to maximize $SWF$?"
   ]
  },
  {
   "cell_type": "code",
   "execution_count": 115,
   "metadata": {},
   "outputs": [
    {
     "name": "stdout",
     "output_type": "stream",
     "text": [
      "Optimal tau: 0.03631250000000001\n",
      "Implied optimal T: 0.017520053072794167\n"
     ]
    }
   ],
   "source": [
    "import numpy as np\n",
    "from scipy.optimize import minimize\n",
    "\n",
    "# Parameters\n",
    "alpha = 0.5  # assuming an example value\n",
    "nu = 1.0  # assuming an example value\n",
    "epsilon = 1.0  # assuming an example value\n",
    "kappa = 0.1  # assuming an example value\n",
    "gamma = 0.5  # assuming an example value\n",
    "A = 1.0  # assuming an example value\n",
    "p1 = 1.0  # assuming an example value\n",
    "p2 = 1.0  # assuming an example value\n",
    "w = 1.0  # assuming w is the numeraire\n",
    "tau_initial_guess = 0.0\n",
    "\n",
    "# Function to calculate optimal labor\n",
    "def ell_star(p1, p2, tau):\n",
    "    ell1 = (p1 * A * gamma / w) ** (1 / (1 - gamma))\n",
    "    ell2 = (p2 * A * gamma / w) ** (1 / (1 - gamma))\n",
    "    return ell1 + ell2\n",
    "\n",
    "# Function to calculate T given optimal tau\n",
    "def calculate_T(optimal_tau):\n",
    "    ell_star_val = ell_star(p1, p2, optimal_tau)\n",
    "    pi1_star = (1 - gamma) / gamma * w * (p1 * A * gamma / w) ** (1 / (1 - gamma))\n",
    "    pi2_star = (1 - gamma) / gamma * w * (p2 * A * gamma / w) ** (1 / (1 - gamma))\n",
    "\n",
    "    T = optimal_tau * (1 - alpha) * (w * ell_star_val + pi1_star + pi2_star) / (p2 + optimal_tau)\n",
    "    return T\n",
    "\n",
    "# Define the objective function (negative SWF to maximize)\n",
    "def objective(tau):\n",
    "    ell_star_val = ell_star(p1, p2, tau)\n",
    "    pi1_star = (1 - gamma) / gamma * w * (p1 * A * gamma / w) ** (1 / (1 - gamma))\n",
    "    pi2_star = (1 - gamma) / gamma * w * (p2 * A * gamma / w) ** (1 / (1 - gamma))\n",
    "\n",
    "    T_val = tau * (1 - alpha) * (w * ell_star_val + pi1_star + pi2_star) / (p2 + tau)\n",
    "    c1_star = alpha * (w * ell_star_val + T_val + pi1_star + pi2_star) / p1\n",
    "    c2_star = (1 - alpha) * (w * ell_star_val + T_val + pi1_star + pi2_star) / (p2 + tau)\n",
    "\n",
    "    SWF = np.log(c1_star ** alpha * c2_star ** (1 - alpha)) - nu * (ell_star_val ** (1 + epsilon)) / (1 + epsilon) - kappa * c2_star\n",
    "    return -SWF  # negative because we are maximizing\n",
    "\n",
    "# Optimize tau\n",
    "result = minimize(objective, tau_initial_guess, method='Nelder-Mead')\n",
    "optimal_tau = result.x[0]\n",
    "\n",
    "# Calculate T using the optimal tau\n",
    "optimal_T = calculate_T(optimal_tau)\n",
    "\n",
    "print(f\"Optimal tau: {optimal_tau}\")\n",
    "print(f\"Implied optimal T: {optimal_T}\")\n"
   ]
  },
  {
   "cell_type": "code",
   "execution_count": 116,
   "metadata": {},
   "outputs": [
    {
     "name": "stdout",
     "output_type": "stream",
     "text": [
      "Optimal tau: 0.03631250000000001\n",
      "Implied optimal T: 0.017520053072794167\n",
      "Optimal labor (ell*): 0.5\n",
      "Optimal consumption c1*: 0.5087600265363971\n",
      "Optimal consumption c2*: 0.4909330212039294\n",
      "Social Welfare Function (SWF): -0.8677065060000058\n"
     ]
    }
   ],
   "source": [
    "# Parameters\n",
    "alpha = 0.5\n",
    "nu = 1.0\n",
    "epsilon = 1.0\n",
    "kappa = 0.1\n",
    "gamma = 0.5\n",
    "A = 1.0\n",
    "p1 = 1.0\n",
    "p2 = 1.0\n",
    "w = 1.0\n",
    "tau_initial_guess = 0.0\n",
    "\n",
    "# Function to calculate optimal labor\n",
    "def ell_star(p1, p2, tau):\n",
    "    ell1 = (p1 * A * gamma / w) ** (1 / (1 - gamma))\n",
    "    ell2 = (p2 * A * gamma / w) ** (1 / (1 - gamma))\n",
    "    return ell1 + ell2\n",
    "\n",
    "# Function to calculate T given optimal tau\n",
    "def calculate_T(optimal_tau):\n",
    "    ell_star_val = ell_star(p1, p2, optimal_tau)\n",
    "    pi1_star = (1 - gamma) / gamma * w * (p1 * A * gamma / w) ** (1 / (1 - gamma))\n",
    "    pi2_star = (1 - gamma) / gamma * w * (p2 * A * gamma / w) ** (1 / (1 - gamma))\n",
    "\n",
    "    T = optimal_tau * (1 - alpha) * (w * ell_star_val + pi1_star + pi2_star) / (p2 + optimal_tau)\n",
    "    return T\n",
    "\n",
    "# Define the objective function (negative SWF to maximize)\n",
    "def objective(tau):\n",
    "    ell_star_val = ell_star(p1, p2, tau)\n",
    "    pi1_star = (1 - gamma) / gamma * w * (p1 * A * gamma / w) ** (1 / (1 - gamma))\n",
    "    pi2_star = (1 - gamma) / gamma * w * (p2 * A * gamma / w) ** (1 / (1 - gamma))\n",
    "\n",
    "    T_val = tau * (1 - alpha) * (w * ell_star_val + pi1_star + pi2_star) / (p2 + tau)\n",
    "    c1_star = alpha * (w * ell_star_val + T_val + pi1_star + pi2_star) / p1\n",
    "    c2_star = (1 - alpha) * (w * ell_star_val + T_val + pi1_star + pi2_star) / (p2 + tau)\n",
    "\n",
    "    SWF = np.log(c1_star ** alpha * c2_star ** (1 - alpha)) - nu * (ell_star_val ** (1 + epsilon)) / (1 + epsilon) - kappa * c2_star\n",
    "    return -SWF  # negative because we are maximizing\n",
    "\n",
    "# Optimize tau\n",
    "result = minimize(objective, tau_initial_guess, method='Nelder-Mead')\n",
    "optimal_tau = result.x[0]\n",
    "\n",
    "# Calculate T using the optimal tau\n",
    "optimal_T = calculate_T(optimal_tau)\n",
    "\n",
    "# Verify the results make sense\n",
    "ell_star_val = ell_star(p1, p2, optimal_tau)\n",
    "pi1_star = (1 - gamma) / gamma * w * (p1 * A * gamma / w) ** (1 / (1 - gamma))\n",
    "pi2_star = (1 - gamma) / gamma * w * (p2 * A * gamma / w) ** (1 / (1 - gamma))\n",
    "\n",
    "# Compute optimal consumption\n",
    "T_val = optimal_tau * (1 - alpha) * (w * ell_star_val + pi1_star + pi2_star) / (p2 + optimal_tau)\n",
    "c1_star = alpha * (w * ell_star_val + T_val + pi1_star + pi2_star) / p1\n",
    "c2_star = (1 - alpha) * (w * ell_star_val + T_val + pi1_star + pi2_star) / (p2 + optimal_tau)\n",
    "\n",
    "# Compute SWF\n",
    "SWF = np.log(c1_star ** alpha * c2_star ** (1 - alpha)) - nu * (ell_star_val ** (1 + epsilon)) / (1 + epsilon) - kappa * c2_star\n",
    "\n",
    "# Print results\n",
    "print(f\"Optimal tau: {optimal_tau}\")\n",
    "print(f\"Implied optimal T: {optimal_T}\")\n",
    "print(f\"Optimal labor (ell*): {ell_star_val}\")\n",
    "print(f\"Optimal consumption c1*: {c1_star}\")\n",
    "print(f\"Optimal consumption c2*: {c2_star}\")\n",
    "print(f\"Social Welfare Function (SWF): {SWF}\")\n"
   ]
  },
  {
   "cell_type": "code",
   "execution_count": 117,
   "metadata": {},
   "outputs": [
    {
     "name": "stdout",
     "output_type": "stream",
     "text": [
      "Optimal tau: 0.03631250000000001\n",
      "Implied optimal T: 0.017520053072794167\n",
      "Optimal labor (ell*): 0.5\n",
      "Optimal consumption c1*: 0.5087600265363971\n",
      "Optimal consumption c2*: 0.4909330212039294\n",
      "Social Welfare Function (SWF): -0.8677065060000058\n",
      "Utility from consumption (U_c): -0.6936132038796128\n",
      "Disutility from labor (D_ell): -0.125\n",
      "Social cost of carbon (C_y): -0.049093302120392944\n",
      "Calculated SWF: -0.8677065060000058\n"
     ]
    }
   ],
   "source": [
    "import numpy as np\n",
    "from scipy.optimize import minimize\n",
    "\n",
    "# Parameters\n",
    "alpha = 0.5\n",
    "nu = 1.0\n",
    "epsilon = 1.0\n",
    "kappa = 0.1\n",
    "gamma = 0.5\n",
    "A = 1.0\n",
    "p1 = 1.0\n",
    "p2 = 1.0\n",
    "w = 1.0\n",
    "tau_initial_guess = 0.0\n",
    "\n",
    "# Function to calculate optimal labor\n",
    "def ell_star(p1, p2, tau):\n",
    "    ell1 = (p1 * A * gamma / w) ** (1 / (1 - gamma))\n",
    "    ell2 = (p2 * A * gamma / w) ** (1 / (1 - gamma))\n",
    "    return ell1 + ell2\n",
    "\n",
    "# Function to calculate T given optimal tau\n",
    "def calculate_T(optimal_tau):\n",
    "    ell_star_val = ell_star(p1, p2, optimal_tau)\n",
    "    pi1_star = (1 - gamma) / gamma * w * (p1 * A * gamma / w) ** (1 / (1 - gamma))\n",
    "    pi2_star = (1 - gamma) / gamma * w * (p2 * A * gamma / w) ** (1 / (1 - gamma))\n",
    "\n",
    "    T = optimal_tau * (1 - alpha) * (w * ell_star_val + pi1_star + pi2_star) / (p2 + optimal_tau)\n",
    "    return T\n",
    "\n",
    "# Define the objective function (negative SWF to maximize)\n",
    "def objective(tau):\n",
    "    ell_star_val = ell_star(p1, p2, tau)\n",
    "    pi1_star = (1 - gamma) / gamma * w * (p1 * A * gamma / w) ** (1 / (1 - gamma))\n",
    "    pi2_star = (1 - gamma) / gamma * w * (p2 * A * gamma / w) ** (1 / (1 - gamma))\n",
    "\n",
    "    T_val = tau * (1 - alpha) * (w * ell_star_val + pi1_star + pi2_star) / (p2 + tau)\n",
    "    c1_star = alpha * (w * ell_star_val + T_val + pi1_star + pi2_star) / p1\n",
    "    c2_star = (1 - alpha) * (w * ell_star_val + T_val + pi1_star + pi2_star) / (p2 + tau)\n",
    "\n",
    "    SWF = np.log(c1_star ** alpha * c2_star ** (1 - alpha)) - nu * (ell_star_val ** (1 + epsilon)) / (1 + epsilon) - kappa * c2_star\n",
    "    return -SWF  # negative because we are maximizing\n",
    "\n",
    "# Optimize tau\n",
    "result = minimize(objective, tau_initial_guess, method='Nelder-Mead')\n",
    "optimal_tau = result.x[0]\n",
    "\n",
    "# Calculate T using the optimal tau\n",
    "optimal_T = calculate_T(optimal_tau)\n",
    "\n",
    "# Verify the results make sense\n",
    "ell_star_val = ell_star(p1, p2, optimal_tau)\n",
    "pi1_star = (1 - gamma) / gamma * w * (p1 * A * gamma / w) ** (1 / (1 - gamma))\n",
    "pi2_star = (1 - gamma) / gamma * w * (p2 * A * gamma / w) ** (1 / (1 - gamma))\n",
    "\n",
    "# Compute optimal consumption\n",
    "T_val = optimal_tau * (1 - alpha) * (w * ell_star_val + pi1_star + pi2_star) / (p2 + optimal_tau)\n",
    "c1_star = alpha * (w * ell_star_val + T_val + pi1_star + pi2_star) / p1\n",
    "c2_star = (1 - alpha) * (w * ell_star_val + T_val + pi1_star + pi2_star) / (p2 + optimal_tau)\n",
    "\n",
    "# Compute SWF\n",
    "SWF = np.log(c1_star ** alpha * c2_star ** (1 - alpha)) - nu * (ell_star_val ** (1 + epsilon)) / (1 + epsilon) - kappa * c2_star\n",
    "\n",
    "# Print results\n",
    "print(f\"Optimal tau: {optimal_tau}\")\n",
    "print(f\"Implied optimal T: {optimal_T}\")\n",
    "print(f\"Optimal labor (ell*): {ell_star_val}\")\n",
    "print(f\"Optimal consumption c1*: {c1_star}\")\n",
    "print(f\"Optimal consumption c2*: {c2_star}\")\n",
    "print(f\"Social Welfare Function (SWF): {SWF}\")\n",
    "\n",
    "# Components of SWF\n",
    "U_c = np.log(c1_star ** alpha * c2_star ** (1 - alpha))\n",
    "D_ell = -nu * (ell_star_val ** (1 + epsilon)) / (1 + epsilon)\n",
    "C_y = -kappa * c2_star\n",
    "\n",
    "# Calculate each part\n",
    "print(f\"Utility from consumption (U_c): {U_c}\")\n",
    "print(f\"Disutility from labor (D_ell): {D_ell}\")\n",
    "print(f\"Social cost of carbon (C_y): {C_y}\")\n",
    "\n",
    "# Verify the SWF calculation\n",
    "calculated_SWF = U_c + D_ell + C_y\n",
    "print(f\"Calculated SWF: {calculated_SWF}\")\n"
   ]
  },
  {
   "cell_type": "markdown",
   "metadata": {},
   "source": [
    "## 2. <a id='toc2_'></a>[Problem 2: Career choice model](#toc0_)"
   ]
  },
  {
   "cell_type": "markdown",
   "metadata": {},
   "source": [
    "Consider a graduate $i$ making a choice between entering $J$ different career tracks. <br>\n",
    "Entering career $j$ yields utility $u^k_{ij}$. This value is unknown to the graduate ex ante, but will ex post be: <br>\n",
    "$$\n",
    "    u_{i,j}^k = v_{j} + \\epsilon_{i,j}^k\n",
    "$$\n",
    "\n",
    "They know that $\\epsilon^k_{i,j}\\sim \\mathcal{N}(0,\\sigma^2)$, but they do not observe $\\epsilon^k_{i,j}$ before making their career choice. <br>"
   ]
  },
  {
   "cell_type": "markdown",
   "metadata": {},
   "source": [
    "Consider the concrete case of $J=3$ with:\n",
    "$$\n",
    "\\begin{align*}\n",
    "    v_{1} &= 1 \\\\\n",
    "    v_{2} &= 2 \\\\\n",
    "    v_{3} &= 3\n",
    "\\end{align*}\n",
    "$$"
   ]
  },
  {
   "cell_type": "markdown",
   "metadata": {},
   "source": [
    "If the graduates know the values of $v_j$ and the distribution of $\\epsilon_{i,j}^k$, they can calculate the expected utility of each career track using simulation: <br>\n",
    "$$\n",
    "    \\mathbb{E}\\left[ u^k_{i,j}\\vert v_j \\right] \\approx v_j + \\frac{1}{K}\\sum_{k=1}^K \\epsilon_{i,j}^k\n",
    "$$"
   ]
  },
  {
   "cell_type": "code",
   "execution_count": 90,
   "metadata": {},
   "outputs": [],
   "source": [
    "par = SimpleNamespace()\n",
    "par.J = 3\n",
    "par.N = 10\n",
    "par.K = 10000\n",
    "\n",
    "par.F = np.arange(1,par.N+1)\n",
    "par.sigma = 2\n",
    "\n",
    "par.v = np.array([1,2,3])\n",
    "par.c = 1"
   ]
  },
  {
   "cell_type": "markdown",
   "metadata": {},
   "source": [
    "**Question 1:** Simulate and calculate expected utility and the average realised utility for $K=10000$ draws, for each career choice $j$.\n"
   ]
  },
  {
   "cell_type": "code",
   "execution_count": 91,
   "metadata": {},
   "outputs": [],
   "source": [
    "# write your answer here"
   ]
  },
  {
   "cell_type": "markdown",
   "metadata": {},
   "source": [
    "Now consider a new scenario: Imagine that the graduate does not know $v_j$. The *only* prior information they have on the value of each job, comes from their $F_{i}$ friends that work in each career $j$. After talking with them, they know the average utility of their friends (which includes their friends' noise term), giving them the prior expecation: <br>\n",
    "$$\n",
    "\\tilde{u}^k_{i,j}\\left( F_{i}\\right) = \\frac{1}{F_{i}}\\sum_{f=1}^{F_{i}} \\left(v_{j} + \\epsilon^k_{f,j}\\right), \\; \\epsilon^k_{f,j}\\sim \\mathcal{N}(0,\\sigma^2)\n",
    "$$\n",
    "For ease of notation consider that each graduate have $F_{i}=i$ friends in each career. <br>"
   ]
  },
  {
   "cell_type": "markdown",
   "metadata": {},
   "source": [
    "For $K$ times do the following: <br>\n",
    "1. For each person $i$ draw $J\\cdot F_i$ values of $\\epsilon_{f,j}^{k}$, and calculate the prior expected utility of each career track, $\\tilde{u}^k_{i,j}\\left( F_{i}\\right)$. <br>\n",
    "Also draw their own $J$ noise terms, $\\epsilon_{i,j}^k$\n",
    "1. Each person $i$ chooses the career track with the highest expected utility: $$j_i^{k*}= \\arg\\max_{j\\in{1,2\\dots,J}}\\left\\{ \\tilde{u}^k_{i,j}\\left( F_{i}\\right)\\right\\} $$\n",
    "1. Store the chosen careers: $j_i^{k*}$, the prior expectation of the value of their chosen career: $\\tilde{u}^k_{i,j=j_i^{k*}}\\left( F_{i}\\right)$, and the realized value of their chosen career track: $u^k_{i,j=j_i^{k*}}=v_{j=j_i^{k*}}+\\epsilon_{i,j=j_i^{k*}}^k$."
   ]
  },
  {
   "cell_type": "markdown",
   "metadata": {},
   "source": [
    "Chosen values will be: <br>\n",
    "$i\\in\\left\\{1,2\\dots,N\\right\\}, N=10$ <br>\n",
    "$F_i = i$<br>\n",
    "So there are 10 graduates. The first has 1 friend in each career, the second has 2 friends, ... the tenth has 10 friends."
   ]
  },
  {
   "cell_type": "markdown",
   "metadata": {},
   "source": [
    "**Question 2:** Simulate and visualize: For each type of graduate, $i$, the share of graduates choosing each career, the average subjective expected utility of the graduates, and the average ex post realized utility given their choice. <br>\n",
    "That is, calculate and visualize: <br>\n",
    "$$\n",
    "\\begin{align*}\n",
    "    \\frac{1}{K} \\sum_{k=1}^{K} \\mathbb{I}\\left\\{ j=j_i^{k*} \\right\\}  \\;\\forall j\\in\\left\\{1,2,\\dots,J\\right\\}\n",
    "\\end{align*}\n",
    "$$\n",
    "$$\n",
    "\\begin{align*}\n",
    "    \\frac{1}{K} \\sum_{k=1}^{K} \\tilde{u}^k_{ij=j_i^{k*}}\\left( F_{i}\\right)\n",
    "\\end{align*}\n",
    "$$\n",
    "And \n",
    "$$\n",
    "\\begin{align*}\n",
    "    \\frac{1}{K} \\sum_{k=1}^{K} u^k_{ij=j_i^{k*}} \n",
    "\\end{align*}\n",
    "$$\n",
    "For each graduate $i$."
   ]
  },
  {
   "cell_type": "code",
   "execution_count": 92,
   "metadata": {},
   "outputs": [],
   "source": [
    "# Write your answer here "
   ]
  },
  {
   "cell_type": "markdown",
   "metadata": {},
   "source": [
    "After a year of working in their career, the graduates learn $u^k_{ij}$ for their chosen job $j_i^{k*}$ perfectly. <br>\n",
    "The can switch to one of the two remaining careers, for which they have the same prior as before, but it will now include a switching cost of $c$ which is known.\n",
    "Their new priors can be written as: \n",
    "$$\n",
    "\\tilde{u}^{k,2}_{ij}\\left( F_{i}\\right) = \\begin{cases}\n",
    "            \\tilde{u}^k_{ij}\\left( F_{i}\\right)-c & \\text{if } j \\neq j_i^{k*} \\\\\n",
    "            u_{ij=j_i^{k*}} & \\text{if } j = j_i^{k*}\n",
    "        \\end{cases}\n",
    "$$"
   ]
  },
  {
   "cell_type": "markdown",
   "metadata": {},
   "source": [
    "We will set $c=1$."
   ]
  },
  {
   "cell_type": "markdown",
   "metadata": {},
   "source": [
    "Their realized utility will be: <br>\n",
    "$$\n",
    "u^{k,2}_{ij}= \\begin{cases}\n",
    "            u_{ij}^k -c & \\text{if } j \\neq j_i^{k*} \\\\\n",
    "            u_{ij=j_i^{k*}} & \\text{if } j = j_i^{k*}\n",
    "        \\end{cases}\n",
    "$$"
   ]
  },
  {
   "cell_type": "markdown",
   "metadata": {},
   "source": [
    "**Question 3:** Following the same approach as in question 2, find the new optimal career choice for each $i$, $k$. Then for each $i$, calculate the average subjective expected utility from their new optimal career choice, and the ex post realized utility of that career. Also, for each $i$, calculate the share of graduates that chooses to switch careers, conditional on which career they chose in the first year. <br>"
   ]
  },
  {
   "cell_type": "code",
   "execution_count": 93,
   "metadata": {},
   "outputs": [],
   "source": [
    "# write your answer here"
   ]
  },
  {
   "cell_type": "markdown",
   "metadata": {},
   "source": [
    "## 3. <a id='toc3_'></a>[Problem 3: Barycentric interpolation](#toc0_)"
   ]
  },
  {
   "cell_type": "markdown",
   "metadata": {},
   "source": [
    "**Problem:** We have a set of random points in the unit square,\n",
    "\n",
    "$$\n",
    "\\mathcal{X} = \\{(x_1,x_2)\\,|\\,x_1\\sim\\mathcal{U}(0,1),x_2\\sim\\mathcal{U}(0,1)\\}.\n",
    "$$\n",
    "\n",
    "For these points, we know the value of some function $f(x_1,x_2)$,\n",
    "\n",
    "$$\n",
    "\\mathcal{F} = \\{f(x_1,x_2) \\,|\\, (x_1,x_2) \\in \\mathcal{X}\\}.\n",
    "$$\n",
    "\n",
    "Now we want to approximate the value $f(y_1,y_2)$ for some  $y=(y_1,y_2)$, where $y_1\\sim\\mathcal{U}(0,1)$ and $y_2\\sim\\mathcal{U}(0,1)$.\n",
    "\n",
    "**Building block I**\n",
    "\n",
    "For an arbitrary triangle $ABC$ and a point $y$, define the so-called barycentric coordinates as:\n",
    "\n",
    "$$\n",
    "\\begin{align*}\n",
    "  r^{ABC}_1 &= \\frac{(B_2-C_2)(y_1-C_1) + (C_1-B_1)(y_2-C_2)}{(B_2-C_2)(A_1-C_1) + (C_1-B_1)(A_2-C_2)} \\\\\n",
    "  r^{ABC}_2 &= \\frac{(C_2-A_2)(y_1-C_1) + (A_1-C_1)(y_2-C_2)}{(B_2-C_2)(A_1-C_1) + (C_1-B_1)(A_2-C_2)} \\\\\n",
    "  r^{ABC}_3 &= 1 - r_1 - r_2.\n",
    "\\end{align*}\n",
    "$$\n",
    "\n",
    "If $r^{ABC}_1 \\in [0,1]$, $r^{ABC}_2 \\in [0,1]$, and $r^{ABC}_3 \\in [0,1]$, then the point is inside the triangle.\n",
    "\n",
    "We always have $y = r^{ABC}_1 A + r^{ABC}_2 B + r^{ABC}_3 C$.\n",
    "\n",
    "**Building block II**\n",
    "\n",
    "Define the following points:\n",
    "\n",
    "$$\n",
    "\\begin{align*}\n",
    "A&=\\arg\\min_{(x_{1},x_{2})\\in\\mathcal{X}}\\sqrt{\\left(x_{1}-y_{1}\\right)^{2}+\\left(x_{2}-y_{2}\\right)^{2}}\\text{ s.t. }x_{1}>y_{1}\\text{ and }x_{2}>y_{2}\\\\\n",
    "B&=\\arg\\min_{(x_{1},x_{2})\\in\\mathcal{X}}\\sqrt{\\left(x_{1}-y_{1}\\right)^{2}+\\left(x_{2}-y_{2}\\right)^{2}}\\text{ s.t. }x_{1}>y_{1}\\text{ and }x_{2}<y_{2}\\\\\n",
    "C&=\\arg\\min_{(x_{1},x_{2})\\in\\mathcal{X}}\\sqrt{\\left(x_{1}-y_{1}\\right)^{2}+\\left(x_{2}-y_{2}\\right)^{2}}\\text{ s.t. }x_{1}<y_{1}\\text{ and }x_{2}<y_{2}\\\\\n",
    "D&=\\arg\\min_{(x_{1},x_{2})\\in\\mathcal{X}}\\sqrt{\\left(x_{1}-y_{1}\\right)^{2}+\\left(x_{2}-y_{2}\\right)^{2}}\\text{ s.t. }x_{1}<y_{1}\\text{ and }x_{2}>y_{2}.\n",
    "\\end{align*}\n",
    "$$\n",
    "\n",
    "**Algorithm:**\n",
    "\n",
    "1. Compute $A$, $B$, $C$, and $D$. If not possible return `NaN`.\n",
    "1. If $y$ is inside the triangle $ABC$ return $r^{ABC}_1 f(A) + r^{ABC}_2 f(B) + r^{ABC}_3 f(C)$.\n",
    "1. If $y$ is inside the triangle $CDA$ return $r^{CDA}_1 f(C) + r^{CDA}_2 f(D) + r^{CDA}_3 f(A)$.\n",
    "1. Return `NaN`.\n",
    "\n"
   ]
  },
  {
   "cell_type": "markdown",
   "metadata": {},
   "source": [
    "**Sample:**"
   ]
  },
  {
   "cell_type": "code",
   "execution_count": 94,
   "metadata": {},
   "outputs": [],
   "source": [
    "rng = np.random.default_rng(2024)\n",
    "\n",
    "X = rng.uniform(size=(50,2))\n",
    "y = rng.uniform(size=(2,))\n"
   ]
  },
  {
   "cell_type": "markdown",
   "metadata": {},
   "source": [
    "**Questions 1:** Find $A$, $B$, $C$ and $D$. Illustrate these together with $X$, $y$ and the triangles $ABC$ and $CDA$."
   ]
  },
  {
   "cell_type": "code",
   "execution_count": 95,
   "metadata": {},
   "outputs": [],
   "source": [
    "# write your answer here"
   ]
  },
  {
   "cell_type": "markdown",
   "metadata": {},
   "source": [
    "**Question 2:** Compute the barycentric coordinates of the point $y$ with respect to the triangles $ABC$ and $CDA$. Which triangle is $y$ located inside?"
   ]
  },
  {
   "cell_type": "code",
   "execution_count": 96,
   "metadata": {},
   "outputs": [],
   "source": [
    "# write your answer here"
   ]
  },
  {
   "cell_type": "markdown",
   "metadata": {},
   "source": [
    "Now consider the function:\n",
    "$$\n",
    "f(x_1,x_2) = x_1 \\cdot x_2\n",
    "$$"
   ]
  },
  {
   "cell_type": "code",
   "execution_count": 97,
   "metadata": {},
   "outputs": [],
   "source": [
    "f = lambda x: x[0]*x[1]\n",
    "F = np.array([f(x) for x in X])"
   ]
  },
  {
   "cell_type": "markdown",
   "metadata": {},
   "source": [
    "**Question 3:** Compute the approximation of $f(y)$ using the full algorithm. Compare with the true value."
   ]
  },
  {
   "cell_type": "code",
   "execution_count": 98,
   "metadata": {},
   "outputs": [],
   "source": [
    "# write your answer here"
   ]
  },
  {
   "cell_type": "markdown",
   "metadata": {},
   "source": [
    "**Question 4:** Repeat question 3 for all points in the set $Y$."
   ]
  },
  {
   "cell_type": "code",
   "execution_count": 99,
   "metadata": {},
   "outputs": [],
   "source": [
    "Y = [(0.2,0.2),(0.8,0.2),(0.8,0.8),(0.8,0.2),(0.5,0.5)]"
   ]
  },
  {
   "cell_type": "code",
   "execution_count": 100,
   "metadata": {},
   "outputs": [],
   "source": [
    "# write your answer here"
   ]
  }
 ],
 "metadata": {
  "kernelspec": {
   "display_name": "base",
   "language": "python",
   "name": "python3"
  },
  "language_info": {
   "codemirror_mode": {
    "name": "ipython",
    "version": 3
   },
   "file_extension": ".py",
   "mimetype": "text/x-python",
   "name": "python",
   "nbconvert_exporter": "python",
   "pygments_lexer": "ipython3",
   "version": "3.9.6"
  }
 },
 "nbformat": 4,
 "nbformat_minor": 2
}

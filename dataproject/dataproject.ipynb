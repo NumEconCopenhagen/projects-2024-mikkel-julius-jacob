{
 "cells": [
  {
   "cell_type": "markdown",
   "metadata": {},
   "source": [
    "# INFLATION AND FERTILITY (MANGLER TEKST TIL FERTILITET)\n",
    "### Motivation\n",
    "This dataproject show how fertility and inflation have changed over time, understanding this dynamic can be crucial to understand the underlying trends and policies that have affected the economy over time.\n",
    "\n",
    "Inflation rates, can be interpreted as the health of the economy wheras a high inflation can indicate economic instability, affecting everything from consumer purchasing power to investments in the economy. Conversely, low inflation present the economic predictability and the potential growth rate. By tracking inflation trends, policymakers can assess the effectiveness of the monetary policy and adjust it like wise.\n",
    "\n",
    "Fertility rates, which measure the  number of children born per woman, offer essential insights into demographic shifts and social impact. Changes in fertility rates can potential influence population growth, age distribution, and workforce dynamics. Where low fertility rates,  can lead to an aging population, affecting pension systems and the social system. We assume that policymakers rely on fertility data to plan the needs in the economy.\n",
    "\n",
    "In conclusion, by examining inflation and fertility trends over time, we gain a  understanding of economic resilience, demographic shifts, and the interconnectedness of economic and social policies. Whoch can be used by a policy maker to enhance policy which raises the growth rates and ensures a sustainaible welfare of the economy.\n",
    "\n",
    "\n",
    "We have used a rather long period (1995-2023) so we can perform OLS estimation on our dataset but we have still shown our ability sort in the years selected\n",
    "\n",
    "\n",
    "### The setup\n",
    "For this project we use Statistiskbanken to get a comprehensive overview of the avaliable data of the danish economy. where we look at: CPI, GDP and Fertility Rate\n",
    "- The Consumer Price Indes is used as a proxy for the inflation and represents the average change over time in prices paid by consumers for a variety of goods and services, reflecting inflationary pressures in the economy. \n",
    "\n",
    "- The GDP represents the total monetary value of all goods and services produced within Denmarks borders over a specific period, serving as a measure of economic output and growth. \n",
    "\n",
    "- The fertility rate represents the average number of children born per woman, providing insights into population growth and demographic trends.\n",
    "\n",
    "Not this study does not look at the causality, due to the fact we do apply regression analysis and hypothesis testing and is a descriptive study.\n",
    "\n",
    "--------------------------------------------------------------------------------------------------------------------------------------------------------------------------------------------------------\n",
    "Notes: \n",
    "\n",
    "We do not use the dataproject.py as we feel the datasorting and merging is essential to understand this dataproject and displays our thought process in this assignment.\n",
    "\n",
    "For the \"FOD33\" we have retrieved the data through excel and inserted into our dataproject we do this, hence the Api only registers \"TID\" and \"ALDER\" as variables but not the fertility, this variable is essential thus it is retrieved \"manually\".\n",
    "\n",
    "furthermore for the Regressions we have used precompiled lazy dataset otherwise it could not read it. \n"
   ]
  },
  {
   "cell_type": "markdown",
   "metadata": {},
   "source": [
    "Imports and set magics:"
   ]
  },
  {
   "cell_type": "code",
   "execution_count": null,
   "metadata": {},
   "outputs": [],
   "source": [
    "import pandas as pd\n",
    "import numpy as np\n",
    "import matplotlib.pyplot as plt\n",
    "import ipywidgets as widgets\n",
    "import statsmodels.api as sm\n",
    "from matplotlib_venn import venn2\n",
    "import pandas_datareader # install with `pip install pandas-datareader`\n",
    "from dstapi import DstApi # install with `pip install git+https://github.com/alemartinello/dstapi`\n",
    "\n",
    "import plotly.express as px\n",
    "import matplotlib.pyplot as plt\n",
    "plt.rcParams.update({\"axes.grid\":True,\"grid.color\":\"black\",\"grid.alpha\":\"0.25\",\"grid.linestyle\":\"--\"})\n",
    "plt.rcParams.update({'font.size': 14})\n",
    "# autoreload modules when code is run\n",
    "%load_ext autoreload\n",
    "%autoreload 2\n",
    "\n",
    "# user written modules\n",
    "import dataproject\n",
    "\n",
    "# for the excel data\n",
    "import os \n",
    "\n",
    "# Using assert to check that paths exist on computer.\n",
    "assert os.path.isdir('data/')\n",
    "assert os.path.isfile('data/bog1.xlsx')\n",
    "\n",
    "\n",
    "# Print everything in data\n",
    "os.listdir('data/')"
   ]
  },
  {
   "cell_type": "markdown",
   "metadata": {},
   "source": [
    "# Read and clean data"
   ]
  },
  {
   "cell_type": "markdown",
   "metadata": {},
   "source": [
    "Import your data, either through an API or manually, and load it. "
   ]
  },
  {
   "cell_type": "code",
   "execution_count": null,
   "metadata": {},
   "outputs": [],
   "source": [
    "fert = DstApi('FERT1')\n",
    "gdp = DstApi('NAN1')\n",
    "fpi = DstApi ('PRIS112')"
   ]
  },
  {
   "cell_type": "markdown",
   "metadata": {},
   "source": [
    "We have found our desired variables now it is time to clean the data"
   ]
  },
  {
   "cell_type": "code",
   "execution_count": null,
   "metadata": {},
   "outputs": [],
   "source": [
    "tabsum_fert= fert.tablesummary(language='en')\n",
    "display(tabsum_fert)\n"
   ]
  },
  {
   "cell_type": "code",
   "execution_count": null,
   "metadata": {},
   "outputs": [],
   "source": [
    "# The available values for a each variable: \n",
    "for variable in tabsum_fert['variable name']:\n",
    "    print(variable+':')\n",
    "    display(fert.variable_levels(variable, language='en'))"
   ]
  },
  {
   "cell_type": "code",
   "execution_count": null,
   "metadata": {},
   "outputs": [],
   "source": [
    "tabsum_gdp= gdp.tablesummary(language='en')\n",
    "display(tabsum_gdp)\n",
    "for var in tabsum_gdp['variable name']:\n",
    "    print(var+':')\n",
    "    display(gdp.variable_levels(var, language='en'))\n"
   ]
  },
  {
   "cell_type": "code",
   "execution_count": null,
   "metadata": {},
   "outputs": [],
   "source": [
    "tabsum_fpi= fpi.tablesummary(language='en')\n",
    "display(tabsum_fpi)\n",
    "for var in tabsum_fpi['variable name']:\n",
    "    print(var+':')\n",
    "    display(fpi.variable_levels(var, language='en'))\n"
   ]
  },
  {
   "cell_type": "markdown",
   "metadata": {},
   "source": [
    "Now we have a quick overview of the avaible datapoints"
   ]
  },
  {
   "cell_type": "code",
   "execution_count": null,
   "metadata": {},
   "outputs": [],
   "source": [
    "params = fert.define_base_params(language='en')\n",
    "params"
   ]
  },
  {
   "cell_type": "code",
   "execution_count": null,
   "metadata": {},
   "outputs": [],
   "source": [
    "params ={'table': 'fert1',\n",
    " 'format': 'BULK',\n",
    " 'lang': 'en',\n",
    " 'variables': [{'code': 'HERKOMST', 'values': ['AK']},\n",
    "  {'code': 'Tid', 'values': ['>1990<=2023']}]}"
   ]
  },
  {
   "cell_type": "code",
   "execution_count": null,
   "metadata": {},
   "outputs": [],
   "source": [
    "fert_api = fert.get_data(params=params)\n",
    "fert_api.head(15)"
   ]
  },
  {
   "cell_type": "code",
   "execution_count": null,
   "metadata": {},
   "outputs": [],
   "source": [
    "params = gdp.define_base_params(language='en')\n",
    "params"
   ]
  },
  {
   "cell_type": "code",
   "execution_count": null,
   "metadata": {},
   "outputs": [],
   "source": [
    "params ={'table': 'nan1',\n",
    " 'format': 'BULK',\n",
    " 'lang': 'en',\n",
    " 'variables': [{'code': 'TRANSAKT', 'values': ['B1GQK']},\n",
    "  {'code': 'PRISENHED', 'values': ['V_M']},\n",
    "  {'code': 'Tid', 'values': ['>1990<=2023']}]}"
   ]
  },
  {
   "cell_type": "code",
   "execution_count": null,
   "metadata": {},
   "outputs": [],
   "source": [
    "gdp_api = gdp.get_data(params=params)\n",
    "gdp_api.head(15)"
   ]
  },
  {
   "cell_type": "code",
   "execution_count": null,
   "metadata": {},
   "outputs": [],
   "source": [
    "params = fpi.define_base_params(language='en')\n",
    "params"
   ]
  },
  {
   "cell_type": "code",
   "execution_count": null,
   "metadata": {},
   "outputs": [],
   "source": [
    "params = {'table': 'pris112',\n",
    " 'format': 'BULK',\n",
    " 'lang': 'en',\n",
    " 'variables': [{'code': 'HOVED', 'values': ['1005']},\n",
    "  {'code': 'Tid', 'values': ['>1990<=2023']}]}"
   ]
  },
  {
   "cell_type": "code",
   "execution_count": null,
   "metadata": {},
   "outputs": [],
   "source": [
    "fpi_api = fpi.get_data(params=params)\n",
    "fpi_api.head(15)"
   ]
  },
  {
   "cell_type": "markdown",
   "metadata": {},
   "source": [
    "We have now found the desired data where we want to merge it into one dataset."
   ]
  },
  {
   "cell_type": "markdown",
   "metadata": {},
   "source": [
    "The excel datasheet is extracted:"
   ]
  },
  {
   "cell_type": "code",
   "execution_count": null,
   "metadata": {},
   "outputs": [],
   "source": [
    "filename = 'data/ferrrr.xlsx' # open the file and have a look at it\n",
    "pd.read_excel(filename).head(10)\n",
    "fertreg = pd.read_excel(filename, skiprows=0)\n",
    "fertreg.rename(columns = {'Unnamed: 0':'Year'}, inplace=True)"
   ]
  },
  {
   "cell_type": "code",
   "execution_count": null,
   "metadata": {},
   "outputs": [],
   "source": [
    "filename = 'data/BOG1.xlsx' # open the file and have a look at it\n",
    "pd.read_excel(filename).head(10)"
   ]
  },
  {
   "cell_type": "code",
   "execution_count": null,
   "metadata": {},
   "outputs": [],
   "source": [
    "fertAlt = pd.read_excel(filename, skiprows=2)\n",
    "fertAlt.drop(columns=[str(i) for i in range(1973, 1994)], inplace=True)\n",
    "fertAlt.rename(columns = {'Unnamed: 0':'Age group'}, inplace=True)"
   ]
  },
  {
   "cell_type": "code",
   "execution_count": null,
   "metadata": {},
   "outputs": [],
   "source": [
    "col_dict = {}\n",
    "for i in range(1994, 2023+1): # range goes from 2010 to 2023\n",
    "    col_dict[str(i)] = f'fertAlt{i}'\n",
    "\n",
    "col_dict = {str(i) : f'fertAlt{i}' for i in range(1991,2023+1)}\n",
    "col_dict"
   ]
  },
  {
   "cell_type": "code",
   "execution_count": null,
   "metadata": {},
   "outputs": [],
   "source": [
    "fertAlt.rename(columns = col_dict, inplace=True)\n",
    "fertAlt.head(7)"
   ]
  },
  {
   "cell_type": "markdown",
   "metadata": {},
   "source": [
    "Here we apply data cleaning so it can read the data."
   ]
  },
  {
   "cell_type": "markdown",
   "metadata": {},
   "source": [
    "## Merging\n",
    "\n",
    "We want to merge our three data sets into one to draw a graph."
   ]
  },
  {
   "cell_type": "code",
   "execution_count": null,
   "metadata": {},
   "outputs": [],
   "source": [
    "# Merge fpi_api and fert_api on 'TID'\n",
    "merged_first = pd.merge(fpi_api, fert_api, on='TID', how='inner')\n"
   ]
  },
  {
   "cell_type": "code",
   "execution_count": null,
   "metadata": {},
   "outputs": [],
   "source": [
    "# Now merge the result with gdp_api on 'TID'\n",
    "final_merged = pd.merge(merged_first, gdp_api, on='TID', how='inner')\n"
   ]
  },
  {
   "cell_type": "code",
   "execution_count": null,
   "metadata": {},
   "outputs": [],
   "source": [
    "merged_first.rename(columns={\n",
    "    'INDHOLD_x': 'FertilityRate',\n",
    "    'INDHOLD_y': 'ConsumerPriceIndex'\n",
    "}, inplace=True)\n",
    "\n",
    "# Assuming gdp_api has been loaded and contains a column that should be renamed to 'GrossDomesticProduct'\n",
    "gdp_api.rename(columns={\n",
    "    'INDHOLD': 'GrossDomesticProduct'\n",
    "}, inplace=True)\n",
    "\n",
    "# Merge the result with gdp_api on 'TID'\n",
    "final_merged = pd.merge(merged_first, gdp_api, on='TID', how='inner')\n",
    "\n",
    "# Select only the desired columns\n",
    "final_selected = final_merged[['TID', 'FertilityRate', 'ConsumerPriceIndex', 'GrossDomesticProduct']]\n",
    "\n",
    "print(final_selected)\n",
    "\n"
   ]
  },
  {
   "cell_type": "code",
   "execution_count": null,
   "metadata": {},
   "outputs": [],
   "source": [
    "# Convert columns to numeric, handling non-convertible values\n",
    "final_selected.loc[:, 'FertilityRate'] = pd.to_numeric(final_selected['FertilityRate'], errors='coerce')\n",
    "final_selected.loc[:, 'ConsumerPriceIndex'] = pd.to_numeric(final_selected['ConsumerPriceIndex'], errors='coerce')\n",
    "final_selected.loc[:, 'GrossDomesticProduct'] = pd.to_numeric(final_selected['GrossDomesticProduct'], errors='coerce')\n",
    "\n",
    "# Calculate year-over-year percentage changes\n",
    "final_selected.loc[:, 'FertilityRate_Pct_Change'] = final_selected['FertilityRate'].pct_change() * 100\n",
    "final_selected.loc[:, 'ConsumerPriceIndex_Pct_Change'] = final_selected['ConsumerPriceIndex'].pct_change() * 100\n",
    "final_selected.loc[:, 'GrossDomesticProduct_Pct_Change'] = final_selected['GrossDomesticProduct'].pct_change() * 100\n"
   ]
  },
  {
   "cell_type": "markdown",
   "metadata": {},
   "source": [
    "## Drawing the Graphs"
   ]
  },
  {
   "cell_type": "markdown",
   "metadata": {},
   "source": [
    "We draw histograms "
   ]
  },
  {
   "cell_type": "code",
   "execution_count": null,
   "metadata": {},
   "outputs": [],
   "source": [
    "fig, axes = plt.subplots(2, 2, figsize=(12, 8))\n",
    "\n",
    "fertAlt[['Age group', 'fertAlt1995']].plot(x='Age group', y='fertAlt1995', kind='bar', ax=axes[0, 0])\n",
    "axes[0, 0].set_xlabel('Age group')\n",
    "axes[0, 0].set_ylabel('Fertility rate')\n",
    "axes[0, 0].set_title('Fertility Rate by Age Group (1995)')\n",
    "\n",
    "fertAlt[['Age group', 'fertAlt2005']].plot(x='Age group', y='fertAlt2005', kind='bar', ax=axes[0, 1])\n",
    "axes[0, 1].set_xlabel('Age group')\n",
    "axes[0, 1].set_ylabel('Fertility rate')\n",
    "axes[0, 1].set_title('Fertility Rate by Age Group (2005)')\n",
    "\n",
    "fertAlt[['Age group', 'fertAlt2015']].plot(x='Age group', y='fertAlt2015', kind='bar', ax=axes[1, 0])\n",
    "axes[1, 0].set_xlabel('Age group')\n",
    "axes[1, 0].set_ylabel('Fertility rate')\n",
    "axes[1, 0].set_title('Fertility Rate by Age Group (2015)')\n",
    "\n",
    "fertAlt[['Age group', 'fertAlt2020']].plot(x='Age group', y='fertAlt2020', kind='bar', ax=axes[1, 1])\n",
    "axes[1, 1].set_xlabel('Age group')\n",
    "axes[1, 1].set_ylabel('Fertility rate')\n",
    "axes[1, 1].set_title('Fertility Rate by Age Group (2015)')\n",
    "\n",
    "plt.tight_layout()\n",
    "plt.show()"
   ]
  },
  {
   "cell_type": "markdown",
   "metadata": {},
   "source": [
    "We print the actual values in a table and more importantly draw the graph"
   ]
  },
  {
   "cell_type": "code",
   "execution_count": null,
   "metadata": {},
   "outputs": [],
   "source": [
    "pct_change_df = final_selected[['TID', 'FertilityRate_Pct_Change', 'ConsumerPriceIndex_Pct_Change', 'GrossDomesticProduct_Pct_Change']]\n",
    "pct_change_df = pct_change_df.iloc[1:].reset_index(drop=True)\n",
    "\n",
    "\n",
    "print(\"Year-Over-Year Percentage Changes (Preview):\")\n",
    "print(pct_change_df.head(40).to_string(index=False))"
   ]
  },
  {
   "cell_type": "code",
   "execution_count": null,
   "metadata": {},
   "outputs": [],
   "source": [
    "# Create an interactive line plot with Plotly\n",
    "fig = px.line(final_selected, x='TID', y=[\n",
    "    'FertilityRate_Pct_Change', 'ConsumerPriceIndex_Pct_Change', 'GrossDomesticProduct_Pct_Change'],\n",
    "    labels={\n",
    "        'value': 'Percentage Change (%)',\n",
    "        'variable': 'Metrics',\n",
    "        'TID': 'Year'\n",
    "    },\n",
    "    title='Year-over-Year Percentage Change'\n",
    ")\n",
    "\n",
    "# Update layout for clearer display\n",
    "fig.update_layout(\n",
    "    xaxis_title='Year',\n",
    "    yaxis_title='Percentage Change',\n",
    "    legend_title='Metric'\n",
    ")\n",
    "\n",
    "# Show the plot\n",
    "fig.show()\n",
    "\n",
    "\n"
   ]
  },
  {
   "cell_type": "markdown",
   "metadata": {},
   "source": [
    "If our interactive graph cant load, we have also created a simple sketch using matplot package, by removing the \"#\" but we advise to use the interactive figure, as you can isolate each metric "
   ]
  },
  {
   "cell_type": "code",
   "execution_count": null,
   "metadata": {},
   "outputs": [],
   "source": [
    "#plt.figure(figsize=(10, 6))\n",
    "#plt.plot(final_selected['TID'], final_selected['FertilityRate_Pct_Change'], label='Fertility Rate % Change', marker='o')\n",
    "#plt.plot(final_selected['TID'], final_selected['ConsumerPriceIndex_Pct_Change'], label='Consumer Price Index % Change', marker='x')\n",
    "#plt.plot(final_selected['TID'], final_selected['GrossDomesticProduct_Pct_Change'], label='Gross Domestic Product % Change', marker='^')\n",
    "#plt.xlabel('Year')\n",
    "#plt.ylabel('Percentage Change (%)')\n",
    "#plt.title('Year-over-Year Percentage Change')\n",
    "#plt.legend()\n",
    "#plt.grid(True)\n",
    "\n",
    "#plt.show()"
   ]
  },
  {
   "cell_type": "markdown",
   "metadata": {},
   "source": [
    "# Ordinary Least Squares\n",
    "\n",
    "Finally we run a number of OLS on the fertility rate and the CPI and the GDP to see how they affect eachother"
   ]
  },
  {
   "cell_type": "code",
   "execution_count": null,
   "metadata": {},
   "outputs": [],
   "source": [
    "### 1\n",
    "# Define the dependent variable 'y' and independent variables 'X'\n",
    "y = fertreg['FERTILITY']\n",
    "X = fertreg[['GDP', 'CPI']]\n",
    "\n",
    "# Add a constant (intercept) to the independent variables\n",
    "X = sm.add_constant(X)\n",
    "\n",
    "\n",
    "# Fit the model\n",
    "model1 = sm.OLS(y, X).fit()\n",
    "\n",
    "\n",
    "# Print out the statistics\n",
    "print(model1.summary())\n"
   ]
  },
  {
   "cell_type": "code",
   "execution_count": null,
   "metadata": {},
   "outputs": [],
   "source": [
    "### 2\n",
    "\n",
    "# Define the dependent variable 'y' and independent variables 'X'\n",
    "y = fertreg['15-19']\n",
    "X = fertreg[['GDP', 'CPI']]\n",
    "\n",
    "# Add a constant (intercept) to the independent variables\n",
    "X = sm.add_constant(X)\n",
    "\n",
    "# Fit the model\n",
    "model2 = sm.OLS(y, X).fit()\n",
    "\n",
    "# Print out the statistics\n",
    "print(model2.summary())"
   ]
  },
  {
   "cell_type": "code",
   "execution_count": null,
   "metadata": {},
   "outputs": [],
   "source": [
    "### 3\n",
    "# Define the dependent variable 'y' and independent variables 'X'\n",
    "y = fertreg['30-34']\n",
    "X = fertreg[['GDP', 'CPI']]\n",
    "\n",
    "# Add a constant (intercept) to the independent variables\n",
    "X = sm.add_constant(X)\n",
    "\n",
    "# Fit the model\n",
    "model3 = sm.OLS(y, X).fit()\n",
    "\n",
    "# Print out the statistics\n",
    "print(model3.summary())"
   ]
  },
  {
   "cell_type": "markdown",
   "metadata": {},
   "source": [
    "## Analysis:\n",
    "\n",
    "For this Data-project we have conducted a simple analysis of three variables from Statiskbanken, we have utilised a common tool from the descriptive economcis course where we look at the yearly percentage change in a variable, thus being able to compare the data to see how the varaibles changes within the analytic period.\n",
    "\n",
    "\n",
    "#### What does the box diagram show?\n",
    "\n",
    "We observe that is a shift in who has the highest fertility in the four samples, we observe, that in 1995, it is the age group 25-29 who has the highest fertility and in the rest of the sample we find that the age group 30-34 has the highest fertility, where the age group 25-29 consistently is declining. Almost in all periods we observe that the age group 15-19 and 45-49 has the lowest fertility on almost around 0.0, thus we find it intersting to see if we can run a number of simple regression and observe if our two variables can affect these changes.\n",
    "\n",
    "#### What does the graph show?\n",
    "\n",
    "The Gross Domestic Product reflects the economic output and growth over time.\n",
    "- The Gross Domestic Product starts with an yearly increase on 5 pct. points. after adjusting to a 2.0 pct. points. in the period 2001-2003. from 2004 to 2008 we see a yearly increase on around 5.0 to 3.0 pct. points. where as in 2009 we see decrease on -4.4 pct. points. this is caused by the financial crisis. followed the next year 2010 with an increase on 4.8 pct points. Onwards we see an increase on around 2.0 pct. points. increase each year with the exception of 2016-2017 followed by a sharp decling in 2020 where it only increases with 0,5 pct. following by a boom in 2021-2022 where it increases with 9-11 pct.points. - Overall this draws a picture of a stable economy recovering from the financial crisis with a boom in 2021-2022.\n",
    "\n",
    "The Consumer Price Index tracks changes in the cost of living and inflationary pressures.\n",
    "- The Consumer Price Index change is more volatile. This is evident in the period 1995-1996 where it starts off with -3.1 pct. points. and bounces back on an increase on 0.15 pct. points. this volatiltiy describes the whole period up to 2010 where it bounces between a negative and positve value. It experiences a significant drop around 2011, a rise peaking in 2012, and then falls again sharply by 2023. The most notable point is the extreme dip in 2022, indicating a period of deflation or significant price decreases, followed by a recovery in 2023.\n",
    "- Overall we can see that the covid crisis had a massive effect on the consumer prices during the crisis, while the financial crisis had effects after the crisis.\n",
    "\n",
    "The Fertility Rate provides insights into demographic trends and societal responses.\n",
    "- Fertility seems stable compared to the others, with fluctuations remaining within a narrower range. but with a steady decline wheras the first period from 1995-2003 we see an yearly increaseover 2.0 pct. points. whereas in 2004-2009 we only see an increase by 1 pct. point. with the exception of 2008 we see a fertility increase by 3.0 pct. points. in 2010-2013 we can see an increase by 2.0-3.0 pct. points. We observe around the years 2014-2015, after which it stabilizes and shows an upward trend starting around 2020, peaking in 2022. butexcluding the covid years it fluctuates between 3-1 yearly pct. change. \n",
    "\n",
    "\n",
    "- The stabilazation can be seen as a indicator stable policy changes and economic confidence, which can be interpreted as a society which trusts the government during crises while due to “post-crisis fiscal stimuli packages” or other growth-driving factors.\n",
    "\n",
    "#### What does the OLS show?\n",
    "\n",
    "We run a number of regressions to see how the age groups respond to \n",
    "\n",
    "We have set up a model which sees how fertility is affected by the GDP, and the Consumer Price Index. We find that the fertility is affected negativly by the Consumer Price index, the coefficient is -0.2389, indicating that for each 1% increase in the CPI percentage change, the fertility rate percentage change is expected to decrease by approximately 0.24%, holding GDP constant.\n",
    "\n",
    "For the GDP the The coefficient is 0.2453, meaning that for each 1% increase in GDP percentage change, the fertility rate percentage change is expected to increase by approximately 0.25%, holding CPI constant\n",
    "\n",
    "The p-values for both independent variables are 0.000, which indicates that these variables are statistically significant predictors of the fertility rate percentage.\n",
    "\n",
    "\n",
    "## Conclusion on the graph: \n",
    "The data project of the  GDP, CPI, and Fertility Rate in Denmark reveals  relationships and dynamic interactions within the economy where the key take aways are\n",
    "\n",
    "- __Economic adaptation__ The danish GDP show effective ecnomic adaptation in recovery phases following economic downturns, which can be interpretated as robust economic management by the policy makers.\n",
    "\n",
    "- __Price stability__ The fluctutations of the Consumer Price Index shows how policy changes and externals shocks in the economy affects the sensitvity of the consumer prices\n",
    "\n",
    "The result we wanted to find was that the relationship between CPI and Fertility would affect the cost of living. Where an increase in  Consumer Price Index, would indicate inflation, which raises the cost of living.  We know that If wages do not keep up with inflation, families may feel financially pressured and may decide to have fewer children. This didn’t happen due to the overall stable nature of the Danish Economy.\n",
    "\n",
    "\n",
    "## Conclusion on the OLS\n",
    "\n",
    "This OLS regression model suggests that there is a statistically significant relationship between the percentage changes in the Consumer Price Index and GDP with the percentage change in the fertility rate. With CPI having a negative impact and GDP having a positive impact on fertility rates. The model appears to be statistically valid with normally distributed residuals and significant predictors.\n",
    "\n",
    "Which means that higher inflation or cost of living is associated with a decline in fertility rates. This suggests that when the cost of goods and services rises, people may feel financial pressure, leading them to have fewer children. Reversly Economic growth is associated with an increase in fertility rates seen through the GDP. This implies that when the economy is doing well, people may feel more financially secure and confident in their ability to support a larger family, leading to more children being born.\n",
    "\n"
   ]
  }
 ],
 "metadata": {
  "kernelspec": {
   "display_name": "base",
   "language": "python",
   "name": "python3"
  },
  "language_info": {
   "codemirror_mode": {
    "name": "ipython",
    "version": 3
   },
   "file_extension": ".py",
   "mimetype": "text/x-python",
   "name": "python",
   "nbconvert_exporter": "python",
   "pygments_lexer": "ipython3",
   "version": "3.11.7"
  },
  "toc-autonumbering": true,
  "vscode": {
   "interpreter": {
    "hash": "47ef90cdf3004d3f859f1fb202523c65c07ba7c22eefd261b181f4744e2d0403"
   }
  }
 },
 "nbformat": 4,
 "nbformat_minor": 4
}

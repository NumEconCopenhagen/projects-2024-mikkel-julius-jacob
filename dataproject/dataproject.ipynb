{
 "cells": [
  {
   "cell_type": "markdown",
   "metadata": {},
   "source": [
    "# INFLATION AND FERTILITY (MANGLER TEKST TIL FERTILITET)\n",
    "### Motivation\n",
    "This dataproject aims to describe the change in fertility and inflation have over time. Understanding this dynamic is crucial in understand the underlying trends and how policies have affected the economy over time.\n",
    "\n",
    "Inflation rates, which describes price levels in the econony, can be interpreted as the a measuerement of health for the economy. High inflation can indicate economic instability, which affects everything from consumer purchasing power to investments in the economy. Conversely, low inflation present the economic predictability and the potential growth rate. By tracking inflation trends, policymakers can assess the effectiveness of the monetary policy and adjust it accordingly.\n",
    "\n",
    "Fertility rates, which is defined as the  number of children born per woman, offers essential insights into demographic shifts and social impact. Changes in fertility rates can potentially influence population growth, age distribution, and workforce dynamics. Low fertility rates can lead to an aging population, thereby affecting pension systems and the social system. We assume that policymakers rely on fertility data to plan the needs in the economy.\n",
    "\n",
    "We extended our original project by dividing the the fertility in different age groups, which are 15-19, 20-24, 25-29, 30-34, 35-39, 40-44, 45-49. We also run a regression on fertility for the specific age group, GDP and FPI, in order to find a correlation between the variables.\n",
    "\n",
    "\n",
    "In conclusion, by examining inflation and fertility trends over time, we gain a  understanding of economic resilience, demographic shifts, and the interconnectedness of economic and social policies. Which can be used by policymakers to improve the chosen policy, in turn increasing the growth rates and ensuring sustainable welfare in the economy.\n",
    "\n",
    "\n",
    "We have used a rather long period (1995-2023) so we can perform OLS estimation on our dataset. For this we have sorted the years selected.\n",
    "\n",
    "\n",
    "### The setup\n",
    "For this project we use Statistisk-banken to get a comprehensive overview of the avaliable data of the danish economy. The variables are: CPI, GDP and the Fertility Rate\n",
    "- The Consumer Price Index is used as a proxy for the inflation and represents the average change over time in prices paid by consumers for a variety of goods and services, thereby reflecting inflationary pressures in the economy. \n",
    "\n",
    "- The GDP represents the total monetary value of all goods and services produced within Denmark's borders over a specific period, serving as a measure of economic output and can therefore be a measurement of economic growth. \n",
    "\n",
    "- The fertility rate represents the average number of children born per woman, which provides insight into population growth pattern and the demographic trends.\n",
    "\n",
    "Note that this study does not look at the causality between the variables. The study has more of a descriptibe nature.\n",
    "\n",
    "--------------------------------------------------------------------------------------------------------------------------------------------------------------------------------------------------------\n",
    "Notes: \n",
    "\n",
    "We do not use the dataproject.py as we feel the datasorting and merging is essential in understanding this dataproject , all the while displaying our thought process in this assignment.\n",
    "\n",
    "For the \"FOD33\" we have retrieved the data through excel and inserted it into our dataproject, hence the Api only registers \"TID\" and \"ALDER\" as variables but not the fertility, this variable is essential is thus retrieved \"manually\", despite the datacleaning being done in this project.\n",
    "\n",
    "Furthermore in regard to the Regressions we have precompiled manually, otherwise python would not read it. We argue that the method is the same as the merging done in the merger part of the project, and that there therefore is not missing any dimension of understanding, in this project.."
   ]
  },
  {
   "cell_type": "markdown",
   "metadata": {},
   "source": [
    "The below code imports and sets the magics for the projects."
   ]
  },
  {
   "cell_type": "code",
   "execution_count": 66,
   "metadata": {},
   "outputs": [
    {
     "name": "stdout",
     "output_type": "stream",
     "text": [
      "The autoreload extension is already loaded. To reload it, use:\n",
      "  %reload_ext autoreload\n"
     ]
    },
    {
     "data": {
      "text/plain": [
       "['.DS_Store', 'BOG1.xlsx', 'ferrrr.xlsx']"
      ]
     },
     "execution_count": 66,
     "metadata": {},
     "output_type": "execute_result"
    }
   ],
   "source": [
    "import pandas as pd\n",
    "import numpy as np\n",
    "import matplotlib.pyplot as plt\n",
    "import ipywidgets as widgets\n",
    "import statsmodels.api as sm\n",
    "import pandas_datareader # install with `pip install pandas-datareader`\n",
    "from dstapi import DstApi # install with `pip install git+https://github.com/alemartinello/dstapi`\n",
    "\n",
    "import plotly.express as px\n",
    "import matplotlib.pyplot as plt\n",
    "plt.rcParams.update({\"axes.grid\":True,\"grid.color\":\"black\",\"grid.alpha\":\"0.25\",\"grid.linestyle\":\"--\"})\n",
    "plt.rcParams.update({'font.size': 14})\n",
    "# autoreload modules when code is run\n",
    "%load_ext autoreload\n",
    "%autoreload 2\n",
    "\n",
    "\n",
    "# for the excel data\n",
    "import os \n",
    "\n",
    "# Using assert to check that paths exist on computer.\n",
    "assert os.path.isdir('data/')\n",
    "assert os.path.isfile('data/bog1.xlsx')\n",
    "\n",
    "\n",
    "# Print everything in data\n",
    "os.listdir('data/')"
   ]
  },
  {
   "cell_type": "markdown",
   "metadata": {},
   "source": [
    "# Read and clean data"
   ]
  },
  {
   "cell_type": "markdown",
   "metadata": {},
   "source": [
    "We import the data, both through an API and manually and then we load it. "
   ]
  },
  {
   "cell_type": "code",
   "execution_count": 67,
   "metadata": {},
   "outputs": [],
   "source": [
    "fert = DstApi('FERT1')\n",
    "gdp = DstApi('NAN1')\n",
    "fpi = DstApi ('PRIS112')"
   ]
  },
  {
   "cell_type": "markdown",
   "metadata": {},
   "source": [
    "We have now imported our desired variables and it is time to clean the data. The below code displays the total fertillity rate for women in the age of 15-47, by ancestry and time."
   ]
  },
  {
   "cell_type": "code",
   "execution_count": 68,
   "metadata": {},
   "outputs": [
    {
     "name": "stdout",
     "output_type": "stream",
     "text": [
      "Table FERT1: Total fertility rate (ages 15-49) by ancestry and time\n",
      "Last update: 2024-02-12T08:00:00\n"
     ]
    },
    {
     "data": {
      "text/html": [
       "<div>\n",
       "<style scoped>\n",
       "    .dataframe tbody tr th:only-of-type {\n",
       "        vertical-align: middle;\n",
       "    }\n",
       "\n",
       "    .dataframe tbody tr th {\n",
       "        vertical-align: top;\n",
       "    }\n",
       "\n",
       "    .dataframe thead th {\n",
       "        text-align: right;\n",
       "    }\n",
       "</style>\n",
       "<table border=\"1\" class=\"dataframe\">\n",
       "  <thead>\n",
       "    <tr style=\"text-align: right;\">\n",
       "      <th></th>\n",
       "      <th>variable name</th>\n",
       "      <th># values</th>\n",
       "      <th>First value</th>\n",
       "      <th>First value label</th>\n",
       "      <th>Last value</th>\n",
       "      <th>Last value label</th>\n",
       "      <th>Time variable</th>\n",
       "    </tr>\n",
       "  </thead>\n",
       "  <tbody>\n",
       "    <tr>\n",
       "      <th>0</th>\n",
       "      <td>HERKOMST</td>\n",
       "      <td>6</td>\n",
       "      <td>AK</td>\n",
       "      <td>All women</td>\n",
       "      <td>DKK</td>\n",
       "      <td>Women of Danish origin</td>\n",
       "      <td>False</td>\n",
       "    </tr>\n",
       "    <tr>\n",
       "      <th>1</th>\n",
       "      <td>Tid</td>\n",
       "      <td>38</td>\n",
       "      <td>1986</td>\n",
       "      <td>1986</td>\n",
       "      <td>2023</td>\n",
       "      <td>2023</td>\n",
       "      <td>True</td>\n",
       "    </tr>\n",
       "  </tbody>\n",
       "</table>\n",
       "</div>"
      ],
      "text/plain": [
       "  variable name  # values First value First value label Last value  \\\n",
       "0      HERKOMST         6          AK         All women        DKK   \n",
       "1           Tid        38        1986              1986       2023   \n",
       "\n",
       "         Last value label  Time variable  \n",
       "0  Women of Danish origin          False  \n",
       "1                    2023           True  "
      ]
     },
     "metadata": {},
     "output_type": "display_data"
    }
   ],
   "source": [
    "tabsum_fert= fert.tablesummary(language='en')\n",
    "display(tabsum_fert)\n"
   ]
  },
  {
   "cell_type": "code",
   "execution_count": 69,
   "metadata": {},
   "outputs": [
    {
     "name": "stdout",
     "output_type": "stream",
     "text": [
      "HERKOMST:\n"
     ]
    },
    {
     "data": {
      "text/html": [
       "<div>\n",
       "<style scoped>\n",
       "    .dataframe tbody tr th:only-of-type {\n",
       "        vertical-align: middle;\n",
       "    }\n",
       "\n",
       "    .dataframe tbody tr th {\n",
       "        vertical-align: top;\n",
       "    }\n",
       "\n",
       "    .dataframe thead th {\n",
       "        text-align: right;\n",
       "    }\n",
       "</style>\n",
       "<table border=\"1\" class=\"dataframe\">\n",
       "  <thead>\n",
       "    <tr style=\"text-align: right;\">\n",
       "      <th></th>\n",
       "      <th>id</th>\n",
       "      <th>text</th>\n",
       "    </tr>\n",
       "  </thead>\n",
       "  <tbody>\n",
       "    <tr>\n",
       "      <th>0</th>\n",
       "      <td>AK</td>\n",
       "      <td>All women</td>\n",
       "    </tr>\n",
       "    <tr>\n",
       "      <th>1</th>\n",
       "      <td>IKV</td>\n",
       "      <td>Immigrant women from western countries</td>\n",
       "    </tr>\n",
       "    <tr>\n",
       "      <th>2</th>\n",
       "      <td>IKIV</td>\n",
       "      <td>Immigrant women from non-western countries</td>\n",
       "    </tr>\n",
       "    <tr>\n",
       "      <th>3</th>\n",
       "      <td>EKV</td>\n",
       "      <td>Descendant women from western countries</td>\n",
       "    </tr>\n",
       "    <tr>\n",
       "      <th>4</th>\n",
       "      <td>EKIV</td>\n",
       "      <td>Descendant women from non-western countries</td>\n",
       "    </tr>\n",
       "    <tr>\n",
       "      <th>5</th>\n",
       "      <td>DKK</td>\n",
       "      <td>Women of Danish origin</td>\n",
       "    </tr>\n",
       "  </tbody>\n",
       "</table>\n",
       "</div>"
      ],
      "text/plain": [
       "     id                                         text\n",
       "0    AK                                    All women\n",
       "1   IKV       Immigrant women from western countries\n",
       "2  IKIV   Immigrant women from non-western countries\n",
       "3   EKV      Descendant women from western countries\n",
       "4  EKIV  Descendant women from non-western countries\n",
       "5   DKK                       Women of Danish origin"
      ]
     },
     "metadata": {},
     "output_type": "display_data"
    },
    {
     "name": "stdout",
     "output_type": "stream",
     "text": [
      "Tid:\n"
     ]
    },
    {
     "data": {
      "text/html": [
       "<div>\n",
       "<style scoped>\n",
       "    .dataframe tbody tr th:only-of-type {\n",
       "        vertical-align: middle;\n",
       "    }\n",
       "\n",
       "    .dataframe tbody tr th {\n",
       "        vertical-align: top;\n",
       "    }\n",
       "\n",
       "    .dataframe thead th {\n",
       "        text-align: right;\n",
       "    }\n",
       "</style>\n",
       "<table border=\"1\" class=\"dataframe\">\n",
       "  <thead>\n",
       "    <tr style=\"text-align: right;\">\n",
       "      <th></th>\n",
       "      <th>id</th>\n",
       "      <th>text</th>\n",
       "    </tr>\n",
       "  </thead>\n",
       "  <tbody>\n",
       "    <tr>\n",
       "      <th>0</th>\n",
       "      <td>1986</td>\n",
       "      <td>1986</td>\n",
       "    </tr>\n",
       "    <tr>\n",
       "      <th>1</th>\n",
       "      <td>1987</td>\n",
       "      <td>1987</td>\n",
       "    </tr>\n",
       "    <tr>\n",
       "      <th>2</th>\n",
       "      <td>1988</td>\n",
       "      <td>1988</td>\n",
       "    </tr>\n",
       "    <tr>\n",
       "      <th>3</th>\n",
       "      <td>1989</td>\n",
       "      <td>1989</td>\n",
       "    </tr>\n",
       "    <tr>\n",
       "      <th>4</th>\n",
       "      <td>1990</td>\n",
       "      <td>1990</td>\n",
       "    </tr>\n",
       "    <tr>\n",
       "      <th>5</th>\n",
       "      <td>1991</td>\n",
       "      <td>1991</td>\n",
       "    </tr>\n",
       "    <tr>\n",
       "      <th>6</th>\n",
       "      <td>1992</td>\n",
       "      <td>1992</td>\n",
       "    </tr>\n",
       "    <tr>\n",
       "      <th>7</th>\n",
       "      <td>1993</td>\n",
       "      <td>1993</td>\n",
       "    </tr>\n",
       "    <tr>\n",
       "      <th>8</th>\n",
       "      <td>1994</td>\n",
       "      <td>1994</td>\n",
       "    </tr>\n",
       "    <tr>\n",
       "      <th>9</th>\n",
       "      <td>1995</td>\n",
       "      <td>1995</td>\n",
       "    </tr>\n",
       "    <tr>\n",
       "      <th>10</th>\n",
       "      <td>1996</td>\n",
       "      <td>1996</td>\n",
       "    </tr>\n",
       "    <tr>\n",
       "      <th>11</th>\n",
       "      <td>1997</td>\n",
       "      <td>1997</td>\n",
       "    </tr>\n",
       "    <tr>\n",
       "      <th>12</th>\n",
       "      <td>1998</td>\n",
       "      <td>1998</td>\n",
       "    </tr>\n",
       "    <tr>\n",
       "      <th>13</th>\n",
       "      <td>1999</td>\n",
       "      <td>1999</td>\n",
       "    </tr>\n",
       "    <tr>\n",
       "      <th>14</th>\n",
       "      <td>2000</td>\n",
       "      <td>2000</td>\n",
       "    </tr>\n",
       "    <tr>\n",
       "      <th>15</th>\n",
       "      <td>2001</td>\n",
       "      <td>2001</td>\n",
       "    </tr>\n",
       "    <tr>\n",
       "      <th>16</th>\n",
       "      <td>2002</td>\n",
       "      <td>2002</td>\n",
       "    </tr>\n",
       "    <tr>\n",
       "      <th>17</th>\n",
       "      <td>2003</td>\n",
       "      <td>2003</td>\n",
       "    </tr>\n",
       "    <tr>\n",
       "      <th>18</th>\n",
       "      <td>2004</td>\n",
       "      <td>2004</td>\n",
       "    </tr>\n",
       "    <tr>\n",
       "      <th>19</th>\n",
       "      <td>2005</td>\n",
       "      <td>2005</td>\n",
       "    </tr>\n",
       "    <tr>\n",
       "      <th>20</th>\n",
       "      <td>2006</td>\n",
       "      <td>2006</td>\n",
       "    </tr>\n",
       "    <tr>\n",
       "      <th>21</th>\n",
       "      <td>2007</td>\n",
       "      <td>2007</td>\n",
       "    </tr>\n",
       "    <tr>\n",
       "      <th>22</th>\n",
       "      <td>2008</td>\n",
       "      <td>2008</td>\n",
       "    </tr>\n",
       "    <tr>\n",
       "      <th>23</th>\n",
       "      <td>2009</td>\n",
       "      <td>2009</td>\n",
       "    </tr>\n",
       "    <tr>\n",
       "      <th>24</th>\n",
       "      <td>2010</td>\n",
       "      <td>2010</td>\n",
       "    </tr>\n",
       "    <tr>\n",
       "      <th>25</th>\n",
       "      <td>2011</td>\n",
       "      <td>2011</td>\n",
       "    </tr>\n",
       "    <tr>\n",
       "      <th>26</th>\n",
       "      <td>2012</td>\n",
       "      <td>2012</td>\n",
       "    </tr>\n",
       "    <tr>\n",
       "      <th>27</th>\n",
       "      <td>2013</td>\n",
       "      <td>2013</td>\n",
       "    </tr>\n",
       "    <tr>\n",
       "      <th>28</th>\n",
       "      <td>2014</td>\n",
       "      <td>2014</td>\n",
       "    </tr>\n",
       "    <tr>\n",
       "      <th>29</th>\n",
       "      <td>2015</td>\n",
       "      <td>2015</td>\n",
       "    </tr>\n",
       "    <tr>\n",
       "      <th>30</th>\n",
       "      <td>2016</td>\n",
       "      <td>2016</td>\n",
       "    </tr>\n",
       "    <tr>\n",
       "      <th>31</th>\n",
       "      <td>2017</td>\n",
       "      <td>2017</td>\n",
       "    </tr>\n",
       "    <tr>\n",
       "      <th>32</th>\n",
       "      <td>2018</td>\n",
       "      <td>2018</td>\n",
       "    </tr>\n",
       "    <tr>\n",
       "      <th>33</th>\n",
       "      <td>2019</td>\n",
       "      <td>2019</td>\n",
       "    </tr>\n",
       "    <tr>\n",
       "      <th>34</th>\n",
       "      <td>2020</td>\n",
       "      <td>2020</td>\n",
       "    </tr>\n",
       "    <tr>\n",
       "      <th>35</th>\n",
       "      <td>2021</td>\n",
       "      <td>2021</td>\n",
       "    </tr>\n",
       "    <tr>\n",
       "      <th>36</th>\n",
       "      <td>2022</td>\n",
       "      <td>2022</td>\n",
       "    </tr>\n",
       "    <tr>\n",
       "      <th>37</th>\n",
       "      <td>2023</td>\n",
       "      <td>2023</td>\n",
       "    </tr>\n",
       "  </tbody>\n",
       "</table>\n",
       "</div>"
      ],
      "text/plain": [
       "      id  text\n",
       "0   1986  1986\n",
       "1   1987  1987\n",
       "2   1988  1988\n",
       "3   1989  1989\n",
       "4   1990  1990\n",
       "5   1991  1991\n",
       "6   1992  1992\n",
       "7   1993  1993\n",
       "8   1994  1994\n",
       "9   1995  1995\n",
       "10  1996  1996\n",
       "11  1997  1997\n",
       "12  1998  1998\n",
       "13  1999  1999\n",
       "14  2000  2000\n",
       "15  2001  2001\n",
       "16  2002  2002\n",
       "17  2003  2003\n",
       "18  2004  2004\n",
       "19  2005  2005\n",
       "20  2006  2006\n",
       "21  2007  2007\n",
       "22  2008  2008\n",
       "23  2009  2009\n",
       "24  2010  2010\n",
       "25  2011  2011\n",
       "26  2012  2012\n",
       "27  2013  2013\n",
       "28  2014  2014\n",
       "29  2015  2015\n",
       "30  2016  2016\n",
       "31  2017  2017\n",
       "32  2018  2018\n",
       "33  2019  2019\n",
       "34  2020  2020\n",
       "35  2021  2021\n",
       "36  2022  2022\n",
       "37  2023  2023"
      ]
     },
     "metadata": {},
     "output_type": "display_data"
    }
   ],
   "source": [
    "# The available values for a each variable: \n",
    "for variable in tabsum_fert['variable name']:\n",
    "    print(variable+':')\n",
    "    display(fert.variable_levels(variable, language='en'))"
   ]
  },
  {
   "cell_type": "markdown",
   "metadata": {},
   "source": [
    "The below code provides a range of tabels, which displays demand and supply by transaction, price unit, time, all variable ID's and their descriptionis is displayed."
   ]
  },
  {
   "cell_type": "code",
   "execution_count": 70,
   "metadata": {},
   "outputs": [
    {
     "name": "stdout",
     "output_type": "stream",
     "text": [
      "Table NAN1: Demand and supply by transaction, price unit and time\n",
      "Last update: 2024-06-28T08:00:00\n"
     ]
    },
    {
     "data": {
      "text/html": [
       "<div>\n",
       "<style scoped>\n",
       "    .dataframe tbody tr th:only-of-type {\n",
       "        vertical-align: middle;\n",
       "    }\n",
       "\n",
       "    .dataframe tbody tr th {\n",
       "        vertical-align: top;\n",
       "    }\n",
       "\n",
       "    .dataframe thead th {\n",
       "        text-align: right;\n",
       "    }\n",
       "</style>\n",
       "<table border=\"1\" class=\"dataframe\">\n",
       "  <thead>\n",
       "    <tr style=\"text-align: right;\">\n",
       "      <th></th>\n",
       "      <th>variable name</th>\n",
       "      <th># values</th>\n",
       "      <th>First value</th>\n",
       "      <th>First value label</th>\n",
       "      <th>Last value</th>\n",
       "      <th>Last value label</th>\n",
       "      <th>Time variable</th>\n",
       "    </tr>\n",
       "  </thead>\n",
       "  <tbody>\n",
       "    <tr>\n",
       "      <th>0</th>\n",
       "      <td>TRANSAKT</td>\n",
       "      <td>31</td>\n",
       "      <td>B1GQK</td>\n",
       "      <td>B.1*g Gross domestic product</td>\n",
       "      <td>EMPM_DC</td>\n",
       "      <td>Total employment (1,000 persons)</td>\n",
       "      <td>False</td>\n",
       "    </tr>\n",
       "    <tr>\n",
       "      <th>1</th>\n",
       "      <td>PRISENHED</td>\n",
       "      <td>6</td>\n",
       "      <td>V_M</td>\n",
       "      <td>Current prices, (bill. DKK.)</td>\n",
       "      <td>LAN_C</td>\n",
       "      <td>Pr. capita, 2020-prices, chained values, (1000...</td>\n",
       "      <td>False</td>\n",
       "    </tr>\n",
       "    <tr>\n",
       "      <th>2</th>\n",
       "      <td>Tid</td>\n",
       "      <td>58</td>\n",
       "      <td>1966</td>\n",
       "      <td>1966</td>\n",
       "      <td>2023</td>\n",
       "      <td>2023</td>\n",
       "      <td>True</td>\n",
       "    </tr>\n",
       "  </tbody>\n",
       "</table>\n",
       "</div>"
      ],
      "text/plain": [
       "  variable name  # values First value             First value label  \\\n",
       "0      TRANSAKT        31       B1GQK  B.1*g Gross domestic product   \n",
       "1     PRISENHED         6         V_M  Current prices, (bill. DKK.)   \n",
       "2           Tid        58        1966                          1966   \n",
       "\n",
       "  Last value                                   Last value label  Time variable  \n",
       "0    EMPM_DC                   Total employment (1,000 persons)          False  \n",
       "1      LAN_C  Pr. capita, 2020-prices, chained values, (1000...          False  \n",
       "2       2023                                               2023           True  "
      ]
     },
     "metadata": {},
     "output_type": "display_data"
    },
    {
     "name": "stdout",
     "output_type": "stream",
     "text": [
      "TRANSAKT:\n"
     ]
    },
    {
     "data": {
      "text/html": [
       "<div>\n",
       "<style scoped>\n",
       "    .dataframe tbody tr th:only-of-type {\n",
       "        vertical-align: middle;\n",
       "    }\n",
       "\n",
       "    .dataframe tbody tr th {\n",
       "        vertical-align: top;\n",
       "    }\n",
       "\n",
       "    .dataframe thead th {\n",
       "        text-align: right;\n",
       "    }\n",
       "</style>\n",
       "<table border=\"1\" class=\"dataframe\">\n",
       "  <thead>\n",
       "    <tr style=\"text-align: right;\">\n",
       "      <th></th>\n",
       "      <th>id</th>\n",
       "      <th>text</th>\n",
       "    </tr>\n",
       "  </thead>\n",
       "  <tbody>\n",
       "    <tr>\n",
       "      <th>0</th>\n",
       "      <td>B1GQK</td>\n",
       "      <td>B.1*g Gross domestic product</td>\n",
       "    </tr>\n",
       "    <tr>\n",
       "      <th>1</th>\n",
       "      <td>P7K</td>\n",
       "      <td>P.7 Imports of goods and services</td>\n",
       "    </tr>\n",
       "    <tr>\n",
       "      <th>2</th>\n",
       "      <td>P71K</td>\n",
       "      <td>P.71 Import of goods</td>\n",
       "    </tr>\n",
       "    <tr>\n",
       "      <th>3</th>\n",
       "      <td>P72K</td>\n",
       "      <td>P.72 Import of services</td>\n",
       "    </tr>\n",
       "    <tr>\n",
       "      <th>4</th>\n",
       "      <td>TFSPR</td>\n",
       "      <td>Supply</td>\n",
       "    </tr>\n",
       "    <tr>\n",
       "      <th>5</th>\n",
       "      <td>P6D</td>\n",
       "      <td>P.6 Exports of goods and services</td>\n",
       "    </tr>\n",
       "    <tr>\n",
       "      <th>6</th>\n",
       "      <td>P61D</td>\n",
       "      <td>P.61 Export of goods</td>\n",
       "    </tr>\n",
       "    <tr>\n",
       "      <th>7</th>\n",
       "      <td>P62D</td>\n",
       "      <td>P.62 Export of services</td>\n",
       "    </tr>\n",
       "    <tr>\n",
       "      <th>8</th>\n",
       "      <td>P31S1MD</td>\n",
       "      <td>P.31 Private consumption</td>\n",
       "    </tr>\n",
       "    <tr>\n",
       "      <th>9</th>\n",
       "      <td>P31S14D</td>\n",
       "      <td>P.31 Household consumption expenditure</td>\n",
       "    </tr>\n",
       "    <tr>\n",
       "      <th>10</th>\n",
       "      <td>P311AD</td>\n",
       "      <td>Purchase of vehicles</td>\n",
       "    </tr>\n",
       "    <tr>\n",
       "      <th>11</th>\n",
       "      <td>P311B_3D</td>\n",
       "      <td>Other goods</td>\n",
       "    </tr>\n",
       "    <tr>\n",
       "      <th>12</th>\n",
       "      <td>P314A33S34D</td>\n",
       "      <td>Services incl. tourism</td>\n",
       "    </tr>\n",
       "    <tr>\n",
       "      <th>13</th>\n",
       "      <td>P314D</td>\n",
       "      <td>Services</td>\n",
       "    </tr>\n",
       "    <tr>\n",
       "      <th>14</th>\n",
       "      <td>P33D</td>\n",
       "      <td>Final consumption expenditure of resident hous...</td>\n",
       "    </tr>\n",
       "    <tr>\n",
       "      <th>15</th>\n",
       "      <td>P34D</td>\n",
       "      <td>Final consumption expenditure of non-resident ...</td>\n",
       "    </tr>\n",
       "    <tr>\n",
       "      <th>16</th>\n",
       "      <td>P31S15D</td>\n",
       "      <td>P.31 Non-profit institutions serving household...</td>\n",
       "    </tr>\n",
       "    <tr>\n",
       "      <th>17</th>\n",
       "      <td>P3S13D</td>\n",
       "      <td>P.3 Government consumption expenditure</td>\n",
       "    </tr>\n",
       "    <tr>\n",
       "      <th>18</th>\n",
       "      <td>P5GD</td>\n",
       "      <td>P.5g Gross capital formation</td>\n",
       "    </tr>\n",
       "    <tr>\n",
       "      <th>19</th>\n",
       "      <td>P51GD</td>\n",
       "      <td>P.51g Gross fixed capital formation</td>\n",
       "    </tr>\n",
       "    <tr>\n",
       "      <th>20</th>\n",
       "      <td>P51GD_N111</td>\n",
       "      <td>N.111 Dwellings</td>\n",
       "    </tr>\n",
       "    <tr>\n",
       "      <th>21</th>\n",
       "      <td>P51GD_N112</td>\n",
       "      <td>N.112 Other buildings and structures</td>\n",
       "    </tr>\n",
       "    <tr>\n",
       "      <th>22</th>\n",
       "      <td>P51GD_N11N</td>\n",
       "      <td>N.113-N.115 Machinery, transport equipment etc.</td>\n",
       "    </tr>\n",
       "    <tr>\n",
       "      <th>23</th>\n",
       "      <td>P51GD_N117</td>\n",
       "      <td>N.117 Intellectual property products</td>\n",
       "    </tr>\n",
       "    <tr>\n",
       "      <th>24</th>\n",
       "      <td>P52_53D</td>\n",
       "      <td>P.52+P.53 Changes in inventories etc.</td>\n",
       "    </tr>\n",
       "    <tr>\n",
       "      <th>25</th>\n",
       "      <td>P52D</td>\n",
       "      <td>P.52 Changes in inventories</td>\n",
       "    </tr>\n",
       "    <tr>\n",
       "      <th>26</th>\n",
       "      <td>P53D</td>\n",
       "      <td>P.53 Acquisitions less disposals of valuables</td>\n",
       "    </tr>\n",
       "    <tr>\n",
       "      <th>27</th>\n",
       "      <td>TFUPRXP6</td>\n",
       "      <td>Final domestic demand</td>\n",
       "    </tr>\n",
       "    <tr>\n",
       "      <th>28</th>\n",
       "      <td>TFUPR</td>\n",
       "      <td>Final demand</td>\n",
       "    </tr>\n",
       "    <tr>\n",
       "      <th>29</th>\n",
       "      <td>EMPH_DC</td>\n",
       "      <td>Total actual hours worked (million hours)</td>\n",
       "    </tr>\n",
       "    <tr>\n",
       "      <th>30</th>\n",
       "      <td>EMPM_DC</td>\n",
       "      <td>Total employment (1,000 persons)</td>\n",
       "    </tr>\n",
       "  </tbody>\n",
       "</table>\n",
       "</div>"
      ],
      "text/plain": [
       "             id                                               text\n",
       "0         B1GQK                       B.1*g Gross domestic product\n",
       "1           P7K                  P.7 Imports of goods and services\n",
       "2          P71K                               P.71 Import of goods\n",
       "3          P72K                            P.72 Import of services\n",
       "4         TFSPR                                             Supply\n",
       "5           P6D                  P.6 Exports of goods and services\n",
       "6          P61D                               P.61 Export of goods\n",
       "7          P62D                            P.62 Export of services\n",
       "8       P31S1MD                           P.31 Private consumption\n",
       "9       P31S14D             P.31 Household consumption expenditure\n",
       "10       P311AD                               Purchase of vehicles\n",
       "11     P311B_3D                                        Other goods\n",
       "12  P314A33S34D                             Services incl. tourism\n",
       "13        P314D                                           Services\n",
       "14         P33D  Final consumption expenditure of resident hous...\n",
       "15         P34D  Final consumption expenditure of non-resident ...\n",
       "16      P31S15D  P.31 Non-profit institutions serving household...\n",
       "17       P3S13D             P.3 Government consumption expenditure\n",
       "18         P5GD                       P.5g Gross capital formation\n",
       "19        P51GD                P.51g Gross fixed capital formation\n",
       "20   P51GD_N111                                    N.111 Dwellings\n",
       "21   P51GD_N112               N.112 Other buildings and structures\n",
       "22   P51GD_N11N    N.113-N.115 Machinery, transport equipment etc.\n",
       "23   P51GD_N117               N.117 Intellectual property products\n",
       "24      P52_53D              P.52+P.53 Changes in inventories etc.\n",
       "25         P52D                        P.52 Changes in inventories\n",
       "26         P53D      P.53 Acquisitions less disposals of valuables\n",
       "27     TFUPRXP6                              Final domestic demand\n",
       "28        TFUPR                                       Final demand\n",
       "29      EMPH_DC          Total actual hours worked (million hours)\n",
       "30      EMPM_DC                   Total employment (1,000 persons)"
      ]
     },
     "metadata": {},
     "output_type": "display_data"
    },
    {
     "name": "stdout",
     "output_type": "stream",
     "text": [
      "PRISENHED:\n"
     ]
    },
    {
     "data": {
      "text/html": [
       "<div>\n",
       "<style scoped>\n",
       "    .dataframe tbody tr th:only-of-type {\n",
       "        vertical-align: middle;\n",
       "    }\n",
       "\n",
       "    .dataframe tbody tr th {\n",
       "        vertical-align: top;\n",
       "    }\n",
       "\n",
       "    .dataframe thead th {\n",
       "        text-align: right;\n",
       "    }\n",
       "</style>\n",
       "<table border=\"1\" class=\"dataframe\">\n",
       "  <thead>\n",
       "    <tr style=\"text-align: right;\">\n",
       "      <th></th>\n",
       "      <th>id</th>\n",
       "      <th>text</th>\n",
       "    </tr>\n",
       "  </thead>\n",
       "  <tbody>\n",
       "    <tr>\n",
       "      <th>0</th>\n",
       "      <td>V_M</td>\n",
       "      <td>Current prices, (bill. DKK.)</td>\n",
       "    </tr>\n",
       "    <tr>\n",
       "      <th>1</th>\n",
       "      <td>LAN_M</td>\n",
       "      <td>2020-prices, chained values, (bill. DKK.)</td>\n",
       "    </tr>\n",
       "    <tr>\n",
       "      <th>2</th>\n",
       "      <td>L_V</td>\n",
       "      <td>Period-to-period real growth (per cent)</td>\n",
       "    </tr>\n",
       "    <tr>\n",
       "      <th>3</th>\n",
       "      <td>V_C</td>\n",
       "      <td>Pr. capita. Current prices, (1000 DKK.)</td>\n",
       "    </tr>\n",
       "    <tr>\n",
       "      <th>4</th>\n",
       "      <td>L_VB</td>\n",
       "      <td>Contribution to GDP growth, (percentage point)</td>\n",
       "    </tr>\n",
       "    <tr>\n",
       "      <th>5</th>\n",
       "      <td>LAN_C</td>\n",
       "      <td>Pr. capita, 2020-prices, chained values, (1000...</td>\n",
       "    </tr>\n",
       "  </tbody>\n",
       "</table>\n",
       "</div>"
      ],
      "text/plain": [
       "      id                                               text\n",
       "0    V_M                       Current prices, (bill. DKK.)\n",
       "1  LAN_M          2020-prices, chained values, (bill. DKK.)\n",
       "2    L_V           Period-to-period real growth (per cent) \n",
       "3    V_C            Pr. capita. Current prices, (1000 DKK.)\n",
       "4   L_VB     Contribution to GDP growth, (percentage point)\n",
       "5  LAN_C  Pr. capita, 2020-prices, chained values, (1000..."
      ]
     },
     "metadata": {},
     "output_type": "display_data"
    },
    {
     "name": "stdout",
     "output_type": "stream",
     "text": [
      "Tid:\n"
     ]
    },
    {
     "data": {
      "text/html": [
       "<div>\n",
       "<style scoped>\n",
       "    .dataframe tbody tr th:only-of-type {\n",
       "        vertical-align: middle;\n",
       "    }\n",
       "\n",
       "    .dataframe tbody tr th {\n",
       "        vertical-align: top;\n",
       "    }\n",
       "\n",
       "    .dataframe thead th {\n",
       "        text-align: right;\n",
       "    }\n",
       "</style>\n",
       "<table border=\"1\" class=\"dataframe\">\n",
       "  <thead>\n",
       "    <tr style=\"text-align: right;\">\n",
       "      <th></th>\n",
       "      <th>id</th>\n",
       "      <th>text</th>\n",
       "    </tr>\n",
       "  </thead>\n",
       "  <tbody>\n",
       "    <tr>\n",
       "      <th>0</th>\n",
       "      <td>1966</td>\n",
       "      <td>1966</td>\n",
       "    </tr>\n",
       "    <tr>\n",
       "      <th>1</th>\n",
       "      <td>1967</td>\n",
       "      <td>1967</td>\n",
       "    </tr>\n",
       "    <tr>\n",
       "      <th>2</th>\n",
       "      <td>1968</td>\n",
       "      <td>1968</td>\n",
       "    </tr>\n",
       "    <tr>\n",
       "      <th>3</th>\n",
       "      <td>1969</td>\n",
       "      <td>1969</td>\n",
       "    </tr>\n",
       "    <tr>\n",
       "      <th>4</th>\n",
       "      <td>1970</td>\n",
       "      <td>1970</td>\n",
       "    </tr>\n",
       "    <tr>\n",
       "      <th>5</th>\n",
       "      <td>1971</td>\n",
       "      <td>1971</td>\n",
       "    </tr>\n",
       "    <tr>\n",
       "      <th>6</th>\n",
       "      <td>1972</td>\n",
       "      <td>1972</td>\n",
       "    </tr>\n",
       "    <tr>\n",
       "      <th>7</th>\n",
       "      <td>1973</td>\n",
       "      <td>1973</td>\n",
       "    </tr>\n",
       "    <tr>\n",
       "      <th>8</th>\n",
       "      <td>1974</td>\n",
       "      <td>1974</td>\n",
       "    </tr>\n",
       "    <tr>\n",
       "      <th>9</th>\n",
       "      <td>1975</td>\n",
       "      <td>1975</td>\n",
       "    </tr>\n",
       "    <tr>\n",
       "      <th>10</th>\n",
       "      <td>1976</td>\n",
       "      <td>1976</td>\n",
       "    </tr>\n",
       "    <tr>\n",
       "      <th>11</th>\n",
       "      <td>1977</td>\n",
       "      <td>1977</td>\n",
       "    </tr>\n",
       "    <tr>\n",
       "      <th>12</th>\n",
       "      <td>1978</td>\n",
       "      <td>1978</td>\n",
       "    </tr>\n",
       "    <tr>\n",
       "      <th>13</th>\n",
       "      <td>1979</td>\n",
       "      <td>1979</td>\n",
       "    </tr>\n",
       "    <tr>\n",
       "      <th>14</th>\n",
       "      <td>1980</td>\n",
       "      <td>1980</td>\n",
       "    </tr>\n",
       "    <tr>\n",
       "      <th>15</th>\n",
       "      <td>1981</td>\n",
       "      <td>1981</td>\n",
       "    </tr>\n",
       "    <tr>\n",
       "      <th>16</th>\n",
       "      <td>1982</td>\n",
       "      <td>1982</td>\n",
       "    </tr>\n",
       "    <tr>\n",
       "      <th>17</th>\n",
       "      <td>1983</td>\n",
       "      <td>1983</td>\n",
       "    </tr>\n",
       "    <tr>\n",
       "      <th>18</th>\n",
       "      <td>1984</td>\n",
       "      <td>1984</td>\n",
       "    </tr>\n",
       "    <tr>\n",
       "      <th>19</th>\n",
       "      <td>1985</td>\n",
       "      <td>1985</td>\n",
       "    </tr>\n",
       "    <tr>\n",
       "      <th>20</th>\n",
       "      <td>1986</td>\n",
       "      <td>1986</td>\n",
       "    </tr>\n",
       "    <tr>\n",
       "      <th>21</th>\n",
       "      <td>1987</td>\n",
       "      <td>1987</td>\n",
       "    </tr>\n",
       "    <tr>\n",
       "      <th>22</th>\n",
       "      <td>1988</td>\n",
       "      <td>1988</td>\n",
       "    </tr>\n",
       "    <tr>\n",
       "      <th>23</th>\n",
       "      <td>1989</td>\n",
       "      <td>1989</td>\n",
       "    </tr>\n",
       "    <tr>\n",
       "      <th>24</th>\n",
       "      <td>1990</td>\n",
       "      <td>1990</td>\n",
       "    </tr>\n",
       "    <tr>\n",
       "      <th>25</th>\n",
       "      <td>1991</td>\n",
       "      <td>1991</td>\n",
       "    </tr>\n",
       "    <tr>\n",
       "      <th>26</th>\n",
       "      <td>1992</td>\n",
       "      <td>1992</td>\n",
       "    </tr>\n",
       "    <tr>\n",
       "      <th>27</th>\n",
       "      <td>1993</td>\n",
       "      <td>1993</td>\n",
       "    </tr>\n",
       "    <tr>\n",
       "      <th>28</th>\n",
       "      <td>1994</td>\n",
       "      <td>1994</td>\n",
       "    </tr>\n",
       "    <tr>\n",
       "      <th>29</th>\n",
       "      <td>1995</td>\n",
       "      <td>1995</td>\n",
       "    </tr>\n",
       "    <tr>\n",
       "      <th>30</th>\n",
       "      <td>1996</td>\n",
       "      <td>1996</td>\n",
       "    </tr>\n",
       "    <tr>\n",
       "      <th>31</th>\n",
       "      <td>1997</td>\n",
       "      <td>1997</td>\n",
       "    </tr>\n",
       "    <tr>\n",
       "      <th>32</th>\n",
       "      <td>1998</td>\n",
       "      <td>1998</td>\n",
       "    </tr>\n",
       "    <tr>\n",
       "      <th>33</th>\n",
       "      <td>1999</td>\n",
       "      <td>1999</td>\n",
       "    </tr>\n",
       "    <tr>\n",
       "      <th>34</th>\n",
       "      <td>2000</td>\n",
       "      <td>2000</td>\n",
       "    </tr>\n",
       "    <tr>\n",
       "      <th>35</th>\n",
       "      <td>2001</td>\n",
       "      <td>2001</td>\n",
       "    </tr>\n",
       "    <tr>\n",
       "      <th>36</th>\n",
       "      <td>2002</td>\n",
       "      <td>2002</td>\n",
       "    </tr>\n",
       "    <tr>\n",
       "      <th>37</th>\n",
       "      <td>2003</td>\n",
       "      <td>2003</td>\n",
       "    </tr>\n",
       "    <tr>\n",
       "      <th>38</th>\n",
       "      <td>2004</td>\n",
       "      <td>2004</td>\n",
       "    </tr>\n",
       "    <tr>\n",
       "      <th>39</th>\n",
       "      <td>2005</td>\n",
       "      <td>2005</td>\n",
       "    </tr>\n",
       "    <tr>\n",
       "      <th>40</th>\n",
       "      <td>2006</td>\n",
       "      <td>2006</td>\n",
       "    </tr>\n",
       "    <tr>\n",
       "      <th>41</th>\n",
       "      <td>2007</td>\n",
       "      <td>2007</td>\n",
       "    </tr>\n",
       "    <tr>\n",
       "      <th>42</th>\n",
       "      <td>2008</td>\n",
       "      <td>2008</td>\n",
       "    </tr>\n",
       "    <tr>\n",
       "      <th>43</th>\n",
       "      <td>2009</td>\n",
       "      <td>2009</td>\n",
       "    </tr>\n",
       "    <tr>\n",
       "      <th>44</th>\n",
       "      <td>2010</td>\n",
       "      <td>2010</td>\n",
       "    </tr>\n",
       "    <tr>\n",
       "      <th>45</th>\n",
       "      <td>2011</td>\n",
       "      <td>2011</td>\n",
       "    </tr>\n",
       "    <tr>\n",
       "      <th>46</th>\n",
       "      <td>2012</td>\n",
       "      <td>2012</td>\n",
       "    </tr>\n",
       "    <tr>\n",
       "      <th>47</th>\n",
       "      <td>2013</td>\n",
       "      <td>2013</td>\n",
       "    </tr>\n",
       "    <tr>\n",
       "      <th>48</th>\n",
       "      <td>2014</td>\n",
       "      <td>2014</td>\n",
       "    </tr>\n",
       "    <tr>\n",
       "      <th>49</th>\n",
       "      <td>2015</td>\n",
       "      <td>2015</td>\n",
       "    </tr>\n",
       "    <tr>\n",
       "      <th>50</th>\n",
       "      <td>2016</td>\n",
       "      <td>2016</td>\n",
       "    </tr>\n",
       "    <tr>\n",
       "      <th>51</th>\n",
       "      <td>2017</td>\n",
       "      <td>2017</td>\n",
       "    </tr>\n",
       "    <tr>\n",
       "      <th>52</th>\n",
       "      <td>2018</td>\n",
       "      <td>2018</td>\n",
       "    </tr>\n",
       "    <tr>\n",
       "      <th>53</th>\n",
       "      <td>2019</td>\n",
       "      <td>2019</td>\n",
       "    </tr>\n",
       "    <tr>\n",
       "      <th>54</th>\n",
       "      <td>2020</td>\n",
       "      <td>2020</td>\n",
       "    </tr>\n",
       "    <tr>\n",
       "      <th>55</th>\n",
       "      <td>2021</td>\n",
       "      <td>2021</td>\n",
       "    </tr>\n",
       "    <tr>\n",
       "      <th>56</th>\n",
       "      <td>2022</td>\n",
       "      <td>2022</td>\n",
       "    </tr>\n",
       "    <tr>\n",
       "      <th>57</th>\n",
       "      <td>2023</td>\n",
       "      <td>2023</td>\n",
       "    </tr>\n",
       "  </tbody>\n",
       "</table>\n",
       "</div>"
      ],
      "text/plain": [
       "      id  text\n",
       "0   1966  1966\n",
       "1   1967  1967\n",
       "2   1968  1968\n",
       "3   1969  1969\n",
       "4   1970  1970\n",
       "5   1971  1971\n",
       "6   1972  1972\n",
       "7   1973  1973\n",
       "8   1974  1974\n",
       "9   1975  1975\n",
       "10  1976  1976\n",
       "11  1977  1977\n",
       "12  1978  1978\n",
       "13  1979  1979\n",
       "14  1980  1980\n",
       "15  1981  1981\n",
       "16  1982  1982\n",
       "17  1983  1983\n",
       "18  1984  1984\n",
       "19  1985  1985\n",
       "20  1986  1986\n",
       "21  1987  1987\n",
       "22  1988  1988\n",
       "23  1989  1989\n",
       "24  1990  1990\n",
       "25  1991  1991\n",
       "26  1992  1992\n",
       "27  1993  1993\n",
       "28  1994  1994\n",
       "29  1995  1995\n",
       "30  1996  1996\n",
       "31  1997  1997\n",
       "32  1998  1998\n",
       "33  1999  1999\n",
       "34  2000  2000\n",
       "35  2001  2001\n",
       "36  2002  2002\n",
       "37  2003  2003\n",
       "38  2004  2004\n",
       "39  2005  2005\n",
       "40  2006  2006\n",
       "41  2007  2007\n",
       "42  2008  2008\n",
       "43  2009  2009\n",
       "44  2010  2010\n",
       "45  2011  2011\n",
       "46  2012  2012\n",
       "47  2013  2013\n",
       "48  2014  2014\n",
       "49  2015  2015\n",
       "50  2016  2016\n",
       "51  2017  2017\n",
       "52  2018  2018\n",
       "53  2019  2019\n",
       "54  2020  2020\n",
       "55  2021  2021\n",
       "56  2022  2022\n",
       "57  2023  2023"
      ]
     },
     "metadata": {},
     "output_type": "display_data"
    }
   ],
   "source": [
    "tabsum_gdp= gdp.tablesummary(language='en')\n",
    "display(tabsum_gdp)\n",
    "for var in tabsum_gdp['variable name']:\n",
    "    print(var+':')\n",
    "    display(gdp.variable_levels(var, language='en'))\n"
   ]
  },
  {
   "cell_type": "code",
   "execution_count": 71,
   "metadata": {},
   "outputs": [
    {
     "name": "stdout",
     "output_type": "stream",
     "text": [
      "Table PRIS112: Consumer price index by main figures and time\n",
      "Last update: 2024-01-10T08:00:00\n"
     ]
    },
    {
     "data": {
      "text/html": [
       "<div>\n",
       "<style scoped>\n",
       "    .dataframe tbody tr th:only-of-type {\n",
       "        vertical-align: middle;\n",
       "    }\n",
       "\n",
       "    .dataframe tbody tr th {\n",
       "        vertical-align: top;\n",
       "    }\n",
       "\n",
       "    .dataframe thead th {\n",
       "        text-align: right;\n",
       "    }\n",
       "</style>\n",
       "<table border=\"1\" class=\"dataframe\">\n",
       "  <thead>\n",
       "    <tr style=\"text-align: right;\">\n",
       "      <th></th>\n",
       "      <th>variable name</th>\n",
       "      <th># values</th>\n",
       "      <th>First value</th>\n",
       "      <th>First value label</th>\n",
       "      <th>Last value</th>\n",
       "      <th>Last value label</th>\n",
       "      <th>Time variable</th>\n",
       "    </tr>\n",
       "  </thead>\n",
       "  <tbody>\n",
       "    <tr>\n",
       "      <th>0</th>\n",
       "      <td>HOVED</td>\n",
       "      <td>2</td>\n",
       "      <td>1005</td>\n",
       "      <td>Average, yearly</td>\n",
       "      <td>1010</td>\n",
       "      <td>Annual increase</td>\n",
       "      <td>False</td>\n",
       "    </tr>\n",
       "    <tr>\n",
       "      <th>1</th>\n",
       "      <td>Tid</td>\n",
       "      <td>44</td>\n",
       "      <td>1980</td>\n",
       "      <td>1980</td>\n",
       "      <td>2023</td>\n",
       "      <td>2023</td>\n",
       "      <td>True</td>\n",
       "    </tr>\n",
       "  </tbody>\n",
       "</table>\n",
       "</div>"
      ],
      "text/plain": [
       "  variable name  # values First value First value label Last value  \\\n",
       "0         HOVED         2        1005   Average, yearly       1010   \n",
       "1           Tid        44        1980              1980       2023   \n",
       "\n",
       "  Last value label  Time variable  \n",
       "0  Annual increase          False  \n",
       "1             2023           True  "
      ]
     },
     "metadata": {},
     "output_type": "display_data"
    },
    {
     "name": "stdout",
     "output_type": "stream",
     "text": [
      "HOVED:\n"
     ]
    },
    {
     "data": {
      "text/html": [
       "<div>\n",
       "<style scoped>\n",
       "    .dataframe tbody tr th:only-of-type {\n",
       "        vertical-align: middle;\n",
       "    }\n",
       "\n",
       "    .dataframe tbody tr th {\n",
       "        vertical-align: top;\n",
       "    }\n",
       "\n",
       "    .dataframe thead th {\n",
       "        text-align: right;\n",
       "    }\n",
       "</style>\n",
       "<table border=\"1\" class=\"dataframe\">\n",
       "  <thead>\n",
       "    <tr style=\"text-align: right;\">\n",
       "      <th></th>\n",
       "      <th>id</th>\n",
       "      <th>text</th>\n",
       "    </tr>\n",
       "  </thead>\n",
       "  <tbody>\n",
       "    <tr>\n",
       "      <th>0</th>\n",
       "      <td>1005</td>\n",
       "      <td>Average, yearly</td>\n",
       "    </tr>\n",
       "    <tr>\n",
       "      <th>1</th>\n",
       "      <td>1010</td>\n",
       "      <td>Annual increase</td>\n",
       "    </tr>\n",
       "  </tbody>\n",
       "</table>\n",
       "</div>"
      ],
      "text/plain": [
       "     id             text\n",
       "0  1005  Average, yearly\n",
       "1  1010  Annual increase"
      ]
     },
     "metadata": {},
     "output_type": "display_data"
    },
    {
     "name": "stdout",
     "output_type": "stream",
     "text": [
      "Tid:\n"
     ]
    },
    {
     "data": {
      "text/html": [
       "<div>\n",
       "<style scoped>\n",
       "    .dataframe tbody tr th:only-of-type {\n",
       "        vertical-align: middle;\n",
       "    }\n",
       "\n",
       "    .dataframe tbody tr th {\n",
       "        vertical-align: top;\n",
       "    }\n",
       "\n",
       "    .dataframe thead th {\n",
       "        text-align: right;\n",
       "    }\n",
       "</style>\n",
       "<table border=\"1\" class=\"dataframe\">\n",
       "  <thead>\n",
       "    <tr style=\"text-align: right;\">\n",
       "      <th></th>\n",
       "      <th>id</th>\n",
       "      <th>text</th>\n",
       "    </tr>\n",
       "  </thead>\n",
       "  <tbody>\n",
       "    <tr>\n",
       "      <th>0</th>\n",
       "      <td>1980</td>\n",
       "      <td>1980</td>\n",
       "    </tr>\n",
       "    <tr>\n",
       "      <th>1</th>\n",
       "      <td>1981</td>\n",
       "      <td>1981</td>\n",
       "    </tr>\n",
       "    <tr>\n",
       "      <th>2</th>\n",
       "      <td>1982</td>\n",
       "      <td>1982</td>\n",
       "    </tr>\n",
       "    <tr>\n",
       "      <th>3</th>\n",
       "      <td>1983</td>\n",
       "      <td>1983</td>\n",
       "    </tr>\n",
       "    <tr>\n",
       "      <th>4</th>\n",
       "      <td>1984</td>\n",
       "      <td>1984</td>\n",
       "    </tr>\n",
       "    <tr>\n",
       "      <th>5</th>\n",
       "      <td>1985</td>\n",
       "      <td>1985</td>\n",
       "    </tr>\n",
       "    <tr>\n",
       "      <th>6</th>\n",
       "      <td>1986</td>\n",
       "      <td>1986</td>\n",
       "    </tr>\n",
       "    <tr>\n",
       "      <th>7</th>\n",
       "      <td>1987</td>\n",
       "      <td>1987</td>\n",
       "    </tr>\n",
       "    <tr>\n",
       "      <th>8</th>\n",
       "      <td>1988</td>\n",
       "      <td>1988</td>\n",
       "    </tr>\n",
       "    <tr>\n",
       "      <th>9</th>\n",
       "      <td>1989</td>\n",
       "      <td>1989</td>\n",
       "    </tr>\n",
       "    <tr>\n",
       "      <th>10</th>\n",
       "      <td>1990</td>\n",
       "      <td>1990</td>\n",
       "    </tr>\n",
       "    <tr>\n",
       "      <th>11</th>\n",
       "      <td>1991</td>\n",
       "      <td>1991</td>\n",
       "    </tr>\n",
       "    <tr>\n",
       "      <th>12</th>\n",
       "      <td>1992</td>\n",
       "      <td>1992</td>\n",
       "    </tr>\n",
       "    <tr>\n",
       "      <th>13</th>\n",
       "      <td>1993</td>\n",
       "      <td>1993</td>\n",
       "    </tr>\n",
       "    <tr>\n",
       "      <th>14</th>\n",
       "      <td>1994</td>\n",
       "      <td>1994</td>\n",
       "    </tr>\n",
       "    <tr>\n",
       "      <th>15</th>\n",
       "      <td>1995</td>\n",
       "      <td>1995</td>\n",
       "    </tr>\n",
       "    <tr>\n",
       "      <th>16</th>\n",
       "      <td>1996</td>\n",
       "      <td>1996</td>\n",
       "    </tr>\n",
       "    <tr>\n",
       "      <th>17</th>\n",
       "      <td>1997</td>\n",
       "      <td>1997</td>\n",
       "    </tr>\n",
       "    <tr>\n",
       "      <th>18</th>\n",
       "      <td>1998</td>\n",
       "      <td>1998</td>\n",
       "    </tr>\n",
       "    <tr>\n",
       "      <th>19</th>\n",
       "      <td>1999</td>\n",
       "      <td>1999</td>\n",
       "    </tr>\n",
       "    <tr>\n",
       "      <th>20</th>\n",
       "      <td>2000</td>\n",
       "      <td>2000</td>\n",
       "    </tr>\n",
       "    <tr>\n",
       "      <th>21</th>\n",
       "      <td>2001</td>\n",
       "      <td>2001</td>\n",
       "    </tr>\n",
       "    <tr>\n",
       "      <th>22</th>\n",
       "      <td>2002</td>\n",
       "      <td>2002</td>\n",
       "    </tr>\n",
       "    <tr>\n",
       "      <th>23</th>\n",
       "      <td>2003</td>\n",
       "      <td>2003</td>\n",
       "    </tr>\n",
       "    <tr>\n",
       "      <th>24</th>\n",
       "      <td>2004</td>\n",
       "      <td>2004</td>\n",
       "    </tr>\n",
       "    <tr>\n",
       "      <th>25</th>\n",
       "      <td>2005</td>\n",
       "      <td>2005</td>\n",
       "    </tr>\n",
       "    <tr>\n",
       "      <th>26</th>\n",
       "      <td>2006</td>\n",
       "      <td>2006</td>\n",
       "    </tr>\n",
       "    <tr>\n",
       "      <th>27</th>\n",
       "      <td>2007</td>\n",
       "      <td>2007</td>\n",
       "    </tr>\n",
       "    <tr>\n",
       "      <th>28</th>\n",
       "      <td>2008</td>\n",
       "      <td>2008</td>\n",
       "    </tr>\n",
       "    <tr>\n",
       "      <th>29</th>\n",
       "      <td>2009</td>\n",
       "      <td>2009</td>\n",
       "    </tr>\n",
       "    <tr>\n",
       "      <th>30</th>\n",
       "      <td>2010</td>\n",
       "      <td>2010</td>\n",
       "    </tr>\n",
       "    <tr>\n",
       "      <th>31</th>\n",
       "      <td>2011</td>\n",
       "      <td>2011</td>\n",
       "    </tr>\n",
       "    <tr>\n",
       "      <th>32</th>\n",
       "      <td>2012</td>\n",
       "      <td>2012</td>\n",
       "    </tr>\n",
       "    <tr>\n",
       "      <th>33</th>\n",
       "      <td>2013</td>\n",
       "      <td>2013</td>\n",
       "    </tr>\n",
       "    <tr>\n",
       "      <th>34</th>\n",
       "      <td>2014</td>\n",
       "      <td>2014</td>\n",
       "    </tr>\n",
       "    <tr>\n",
       "      <th>35</th>\n",
       "      <td>2015</td>\n",
       "      <td>2015</td>\n",
       "    </tr>\n",
       "    <tr>\n",
       "      <th>36</th>\n",
       "      <td>2016</td>\n",
       "      <td>2016</td>\n",
       "    </tr>\n",
       "    <tr>\n",
       "      <th>37</th>\n",
       "      <td>2017</td>\n",
       "      <td>2017</td>\n",
       "    </tr>\n",
       "    <tr>\n",
       "      <th>38</th>\n",
       "      <td>2018</td>\n",
       "      <td>2018</td>\n",
       "    </tr>\n",
       "    <tr>\n",
       "      <th>39</th>\n",
       "      <td>2019</td>\n",
       "      <td>2019</td>\n",
       "    </tr>\n",
       "    <tr>\n",
       "      <th>40</th>\n",
       "      <td>2020</td>\n",
       "      <td>2020</td>\n",
       "    </tr>\n",
       "    <tr>\n",
       "      <th>41</th>\n",
       "      <td>2021</td>\n",
       "      <td>2021</td>\n",
       "    </tr>\n",
       "    <tr>\n",
       "      <th>42</th>\n",
       "      <td>2022</td>\n",
       "      <td>2022</td>\n",
       "    </tr>\n",
       "    <tr>\n",
       "      <th>43</th>\n",
       "      <td>2023</td>\n",
       "      <td>2023</td>\n",
       "    </tr>\n",
       "  </tbody>\n",
       "</table>\n",
       "</div>"
      ],
      "text/plain": [
       "      id  text\n",
       "0   1980  1980\n",
       "1   1981  1981\n",
       "2   1982  1982\n",
       "3   1983  1983\n",
       "4   1984  1984\n",
       "5   1985  1985\n",
       "6   1986  1986\n",
       "7   1987  1987\n",
       "8   1988  1988\n",
       "9   1989  1989\n",
       "10  1990  1990\n",
       "11  1991  1991\n",
       "12  1992  1992\n",
       "13  1993  1993\n",
       "14  1994  1994\n",
       "15  1995  1995\n",
       "16  1996  1996\n",
       "17  1997  1997\n",
       "18  1998  1998\n",
       "19  1999  1999\n",
       "20  2000  2000\n",
       "21  2001  2001\n",
       "22  2002  2002\n",
       "23  2003  2003\n",
       "24  2004  2004\n",
       "25  2005  2005\n",
       "26  2006  2006\n",
       "27  2007  2007\n",
       "28  2008  2008\n",
       "29  2009  2009\n",
       "30  2010  2010\n",
       "31  2011  2011\n",
       "32  2012  2012\n",
       "33  2013  2013\n",
       "34  2014  2014\n",
       "35  2015  2015\n",
       "36  2016  2016\n",
       "37  2017  2017\n",
       "38  2018  2018\n",
       "39  2019  2019\n",
       "40  2020  2020\n",
       "41  2021  2021\n",
       "42  2022  2022\n",
       "43  2023  2023"
      ]
     },
     "metadata": {},
     "output_type": "display_data"
    }
   ],
   "source": [
    "tabsum_fpi= fpi.tablesummary(language='en')\n",
    "display(tabsum_fpi)\n",
    "for var in tabsum_fpi['variable name']:\n",
    "    print(var+':')\n",
    "    display(fpi.variable_levels(var, language='en'))\n"
   ]
  },
  {
   "cell_type": "markdown",
   "metadata": {},
   "source": [
    "To provide an overview of the avaliable datapoints, the below code is used. "
   ]
  },
  {
   "cell_type": "code",
   "execution_count": 72,
   "metadata": {},
   "outputs": [
    {
     "data": {
      "text/plain": [
       "{'table': 'fert1',\n",
       " 'format': 'BULK',\n",
       " 'lang': 'en',\n",
       " 'variables': [{'code': 'HERKOMST', 'values': ['*']},\n",
       "  {'code': 'Tid', 'values': ['*']}]}"
      ]
     },
     "execution_count": 72,
     "metadata": {},
     "output_type": "execute_result"
    }
   ],
   "source": [
    "params = fert.define_base_params(language='en')\n",
    "params"
   ]
  },
  {
   "cell_type": "code",
   "execution_count": 73,
   "metadata": {},
   "outputs": [],
   "source": [
    "params ={'table': 'fert1',\n",
    " 'format': 'BULK',\n",
    " 'lang': 'en',\n",
    " 'variables': [{'code': 'HERKOMST', 'values': ['AK']},\n",
    "  {'code': 'Tid', 'values': ['>1990<=2023']}]}"
   ]
  },
  {
   "cell_type": "code",
   "execution_count": 74,
   "metadata": {},
   "outputs": [
    {
     "data": {
      "text/html": [
       "<div>\n",
       "<style scoped>\n",
       "    .dataframe tbody tr th:only-of-type {\n",
       "        vertical-align: middle;\n",
       "    }\n",
       "\n",
       "    .dataframe tbody tr th {\n",
       "        vertical-align: top;\n",
       "    }\n",
       "\n",
       "    .dataframe thead th {\n",
       "        text-align: right;\n",
       "    }\n",
       "</style>\n",
       "<table border=\"1\" class=\"dataframe\">\n",
       "  <thead>\n",
       "    <tr style=\"text-align: right;\">\n",
       "      <th></th>\n",
       "      <th>HERKOMST</th>\n",
       "      <th>TID</th>\n",
       "      <th>INDHOLD</th>\n",
       "    </tr>\n",
       "  </thead>\n",
       "  <tbody>\n",
       "    <tr>\n",
       "      <th>0</th>\n",
       "      <td>All women</td>\n",
       "      <td>1991</td>\n",
       "      <td>1684.4</td>\n",
       "    </tr>\n",
       "    <tr>\n",
       "      <th>1</th>\n",
       "      <td>All women</td>\n",
       "      <td>1992</td>\n",
       "      <td>1764.8</td>\n",
       "    </tr>\n",
       "    <tr>\n",
       "      <th>2</th>\n",
       "      <td>All women</td>\n",
       "      <td>1993</td>\n",
       "      <td>1751.2</td>\n",
       "    </tr>\n",
       "    <tr>\n",
       "      <th>3</th>\n",
       "      <td>All women</td>\n",
       "      <td>1994</td>\n",
       "      <td>1809.1</td>\n",
       "    </tr>\n",
       "    <tr>\n",
       "      <th>4</th>\n",
       "      <td>All women</td>\n",
       "      <td>1995</td>\n",
       "      <td>1809.7</td>\n",
       "    </tr>\n",
       "    <tr>\n",
       "      <th>5</th>\n",
       "      <td>All women</td>\n",
       "      <td>1996</td>\n",
       "      <td>1753.5</td>\n",
       "    </tr>\n",
       "    <tr>\n",
       "      <th>6</th>\n",
       "      <td>All women</td>\n",
       "      <td>1997</td>\n",
       "      <td>1756.2</td>\n",
       "    </tr>\n",
       "    <tr>\n",
       "      <th>7</th>\n",
       "      <td>All women</td>\n",
       "      <td>1998</td>\n",
       "      <td>1725.2</td>\n",
       "    </tr>\n",
       "    <tr>\n",
       "      <th>8</th>\n",
       "      <td>All women</td>\n",
       "      <td>1999</td>\n",
       "      <td>1738.3</td>\n",
       "    </tr>\n",
       "    <tr>\n",
       "      <th>9</th>\n",
       "      <td>All women</td>\n",
       "      <td>2000</td>\n",
       "      <td>1774.2</td>\n",
       "    </tr>\n",
       "    <tr>\n",
       "      <th>10</th>\n",
       "      <td>All women</td>\n",
       "      <td>2001</td>\n",
       "      <td>1745.0</td>\n",
       "    </tr>\n",
       "    <tr>\n",
       "      <th>11</th>\n",
       "      <td>All women</td>\n",
       "      <td>2002</td>\n",
       "      <td>1724.9</td>\n",
       "    </tr>\n",
       "    <tr>\n",
       "      <th>12</th>\n",
       "      <td>All women</td>\n",
       "      <td>2003</td>\n",
       "      <td>1759.9</td>\n",
       "    </tr>\n",
       "    <tr>\n",
       "      <th>13</th>\n",
       "      <td>All women</td>\n",
       "      <td>2004</td>\n",
       "      <td>1785.2</td>\n",
       "    </tr>\n",
       "    <tr>\n",
       "      <th>14</th>\n",
       "      <td>All women</td>\n",
       "      <td>2005</td>\n",
       "      <td>1802.1</td>\n",
       "    </tr>\n",
       "  </tbody>\n",
       "</table>\n",
       "</div>"
      ],
      "text/plain": [
       "     HERKOMST   TID INDHOLD\n",
       "0   All women  1991  1684.4\n",
       "1   All women  1992  1764.8\n",
       "2   All women  1993  1751.2\n",
       "3   All women  1994  1809.1\n",
       "4   All women  1995  1809.7\n",
       "5   All women  1996  1753.5\n",
       "6   All women  1997  1756.2\n",
       "7   All women  1998  1725.2\n",
       "8   All women  1999  1738.3\n",
       "9   All women  2000  1774.2\n",
       "10  All women  2001  1745.0\n",
       "11  All women  2002  1724.9\n",
       "12  All women  2003  1759.9\n",
       "13  All women  2004  1785.2\n",
       "14  All women  2005  1802.1"
      ]
     },
     "execution_count": 74,
     "metadata": {},
     "output_type": "execute_result"
    }
   ],
   "source": [
    "fert_api = fert.get_data(params=params)\n",
    "fert_api.head(15)"
   ]
  },
  {
   "cell_type": "code",
   "execution_count": 75,
   "metadata": {},
   "outputs": [
    {
     "data": {
      "text/plain": [
       "{'table': 'nan1',\n",
       " 'format': 'BULK',\n",
       " 'lang': 'en',\n",
       " 'variables': [{'code': 'TRANSAKT', 'values': ['*']},\n",
       "  {'code': 'PRISENHED', 'values': ['*']},\n",
       "  {'code': 'Tid', 'values': ['*']}]}"
      ]
     },
     "execution_count": 75,
     "metadata": {},
     "output_type": "execute_result"
    }
   ],
   "source": [
    "params = gdp.define_base_params(language='en')\n",
    "params"
   ]
  },
  {
   "cell_type": "code",
   "execution_count": 76,
   "metadata": {},
   "outputs": [],
   "source": [
    "params ={'table': 'nan1',\n",
    " 'format': 'BULK',\n",
    " 'lang': 'en',\n",
    " 'variables': [{'code': 'TRANSAKT', 'values': ['B1GQK']},\n",
    "  {'code': 'PRISENHED', 'values': ['V_M']},\n",
    "  {'code': 'Tid', 'values': ['>1990<=2023']}]}"
   ]
  },
  {
   "cell_type": "code",
   "execution_count": 77,
   "metadata": {},
   "outputs": [
    {
     "data": {
      "text/html": [
       "<div>\n",
       "<style scoped>\n",
       "    .dataframe tbody tr th:only-of-type {\n",
       "        vertical-align: middle;\n",
       "    }\n",
       "\n",
       "    .dataframe tbody tr th {\n",
       "        vertical-align: top;\n",
       "    }\n",
       "\n",
       "    .dataframe thead th {\n",
       "        text-align: right;\n",
       "    }\n",
       "</style>\n",
       "<table border=\"1\" class=\"dataframe\">\n",
       "  <thead>\n",
       "    <tr style=\"text-align: right;\">\n",
       "      <th></th>\n",
       "      <th>TRANSAKT</th>\n",
       "      <th>PRISENHED</th>\n",
       "      <th>TID</th>\n",
       "      <th>INDHOLD</th>\n",
       "    </tr>\n",
       "  </thead>\n",
       "  <tbody>\n",
       "    <tr>\n",
       "      <th>0</th>\n",
       "      <td>B.1*g Gross domestic product</td>\n",
       "      <td>Current prices, (bill. DKK.)</td>\n",
       "      <td>2014</td>\n",
       "      <td>1980.3</td>\n",
       "    </tr>\n",
       "    <tr>\n",
       "      <th>1</th>\n",
       "      <td>B.1*g Gross domestic product</td>\n",
       "      <td>Current prices, (bill. DKK.)</td>\n",
       "      <td>1996</td>\n",
       "      <td>1087.1</td>\n",
       "    </tr>\n",
       "    <tr>\n",
       "      <th>2</th>\n",
       "      <td>B.1*g Gross domestic product</td>\n",
       "      <td>Current prices, (bill. DKK.)</td>\n",
       "      <td>2013</td>\n",
       "      <td>1935.6</td>\n",
       "    </tr>\n",
       "    <tr>\n",
       "      <th>3</th>\n",
       "      <td>B.1*g Gross domestic product</td>\n",
       "      <td>Current prices, (bill. DKK.)</td>\n",
       "      <td>2015</td>\n",
       "      <td>2030.2</td>\n",
       "    </tr>\n",
       "    <tr>\n",
       "      <th>4</th>\n",
       "      <td>B.1*g Gross domestic product</td>\n",
       "      <td>Current prices, (bill. DKK.)</td>\n",
       "      <td>2006</td>\n",
       "      <td>1685.2</td>\n",
       "    </tr>\n",
       "    <tr>\n",
       "      <th>5</th>\n",
       "      <td>B.1*g Gross domestic product</td>\n",
       "      <td>Current prices, (bill. DKK.)</td>\n",
       "      <td>1999</td>\n",
       "      <td>1241.0</td>\n",
       "    </tr>\n",
       "    <tr>\n",
       "      <th>6</th>\n",
       "      <td>B.1*g Gross domestic product</td>\n",
       "      <td>Current prices, (bill. DKK.)</td>\n",
       "      <td>2002</td>\n",
       "      <td>1411.5</td>\n",
       "    </tr>\n",
       "    <tr>\n",
       "      <th>7</th>\n",
       "      <td>B.1*g Gross domestic product</td>\n",
       "      <td>Current prices, (bill. DKK.)</td>\n",
       "      <td>2012</td>\n",
       "      <td>1892.9</td>\n",
       "    </tr>\n",
       "    <tr>\n",
       "      <th>8</th>\n",
       "      <td>B.1*g Gross domestic product</td>\n",
       "      <td>Current prices, (bill. DKK.)</td>\n",
       "      <td>2007</td>\n",
       "      <td>1743.1</td>\n",
       "    </tr>\n",
       "    <tr>\n",
       "      <th>9</th>\n",
       "      <td>B.1*g Gross domestic product</td>\n",
       "      <td>Current prices, (bill. DKK.)</td>\n",
       "      <td>2008</td>\n",
       "      <td>1809.7</td>\n",
       "    </tr>\n",
       "    <tr>\n",
       "      <th>10</th>\n",
       "      <td>B.1*g Gross domestic product</td>\n",
       "      <td>Current prices, (bill. DKK.)</td>\n",
       "      <td>2010</td>\n",
       "      <td>1812.9</td>\n",
       "    </tr>\n",
       "    <tr>\n",
       "      <th>11</th>\n",
       "      <td>B.1*g Gross domestic product</td>\n",
       "      <td>Current prices, (bill. DKK.)</td>\n",
       "      <td>1994</td>\n",
       "      <td>992.4</td>\n",
       "    </tr>\n",
       "    <tr>\n",
       "      <th>12</th>\n",
       "      <td>B.1*g Gross domestic product</td>\n",
       "      <td>Current prices, (bill. DKK.)</td>\n",
       "      <td>2020</td>\n",
       "      <td>2326.6</td>\n",
       "    </tr>\n",
       "    <tr>\n",
       "      <th>13</th>\n",
       "      <td>B.1*g Gross domestic product</td>\n",
       "      <td>Current prices, (bill. DKK.)</td>\n",
       "      <td>1992</td>\n",
       "      <td>923.3</td>\n",
       "    </tr>\n",
       "    <tr>\n",
       "      <th>14</th>\n",
       "      <td>B.1*g Gross domestic product</td>\n",
       "      <td>Current prices, (bill. DKK.)</td>\n",
       "      <td>1991</td>\n",
       "      <td>890.3</td>\n",
       "    </tr>\n",
       "  </tbody>\n",
       "</table>\n",
       "</div>"
      ],
      "text/plain": [
       "                        TRANSAKT                     PRISENHED   TID INDHOLD\n",
       "0   B.1*g Gross domestic product  Current prices, (bill. DKK.)  2014  1980.3\n",
       "1   B.1*g Gross domestic product  Current prices, (bill. DKK.)  1996  1087.1\n",
       "2   B.1*g Gross domestic product  Current prices, (bill. DKK.)  2013  1935.6\n",
       "3   B.1*g Gross domestic product  Current prices, (bill. DKK.)  2015  2030.2\n",
       "4   B.1*g Gross domestic product  Current prices, (bill. DKK.)  2006  1685.2\n",
       "5   B.1*g Gross domestic product  Current prices, (bill. DKK.)  1999  1241.0\n",
       "6   B.1*g Gross domestic product  Current prices, (bill. DKK.)  2002  1411.5\n",
       "7   B.1*g Gross domestic product  Current prices, (bill. DKK.)  2012  1892.9\n",
       "8   B.1*g Gross domestic product  Current prices, (bill. DKK.)  2007  1743.1\n",
       "9   B.1*g Gross domestic product  Current prices, (bill. DKK.)  2008  1809.7\n",
       "10  B.1*g Gross domestic product  Current prices, (bill. DKK.)  2010  1812.9\n",
       "11  B.1*g Gross domestic product  Current prices, (bill. DKK.)  1994   992.4\n",
       "12  B.1*g Gross domestic product  Current prices, (bill. DKK.)  2020  2326.6\n",
       "13  B.1*g Gross domestic product  Current prices, (bill. DKK.)  1992   923.3\n",
       "14  B.1*g Gross domestic product  Current prices, (bill. DKK.)  1991   890.3"
      ]
     },
     "execution_count": 77,
     "metadata": {},
     "output_type": "execute_result"
    }
   ],
   "source": [
    "gdp_api = gdp.get_data(params=params)\n",
    "gdp_api.head(15)"
   ]
  },
  {
   "cell_type": "code",
   "execution_count": 78,
   "metadata": {},
   "outputs": [
    {
     "data": {
      "text/plain": [
       "{'table': 'pris112',\n",
       " 'format': 'BULK',\n",
       " 'lang': 'en',\n",
       " 'variables': [{'code': 'HOVED', 'values': ['*']},\n",
       "  {'code': 'Tid', 'values': ['*']}]}"
      ]
     },
     "execution_count": 78,
     "metadata": {},
     "output_type": "execute_result"
    }
   ],
   "source": [
    "params = fpi.define_base_params(language='en')\n",
    "params"
   ]
  },
  {
   "cell_type": "code",
   "execution_count": 79,
   "metadata": {},
   "outputs": [],
   "source": [
    "params = {'table': 'pris112',\n",
    " 'format': 'BULK',\n",
    " 'lang': 'en',\n",
    " 'variables': [{'code': 'HOVED', 'values': ['1005']},\n",
    "  {'code': 'Tid', 'values': ['>1990<=2023']}]}"
   ]
  },
  {
   "cell_type": "code",
   "execution_count": 80,
   "metadata": {},
   "outputs": [
    {
     "data": {
      "text/html": [
       "<div>\n",
       "<style scoped>\n",
       "    .dataframe tbody tr th:only-of-type {\n",
       "        vertical-align: middle;\n",
       "    }\n",
       "\n",
       "    .dataframe tbody tr th {\n",
       "        vertical-align: top;\n",
       "    }\n",
       "\n",
       "    .dataframe thead th {\n",
       "        text-align: right;\n",
       "    }\n",
       "</style>\n",
       "<table border=\"1\" class=\"dataframe\">\n",
       "  <thead>\n",
       "    <tr style=\"text-align: right;\">\n",
       "      <th></th>\n",
       "      <th>HOVED</th>\n",
       "      <th>TID</th>\n",
       "      <th>INDHOLD</th>\n",
       "    </tr>\n",
       "  </thead>\n",
       "  <tbody>\n",
       "    <tr>\n",
       "      <th>0</th>\n",
       "      <td>Average, yearly</td>\n",
       "      <td>1991</td>\n",
       "      <td>63.2</td>\n",
       "    </tr>\n",
       "    <tr>\n",
       "      <th>1</th>\n",
       "      <td>Average, yearly</td>\n",
       "      <td>1992</td>\n",
       "      <td>64.5</td>\n",
       "    </tr>\n",
       "    <tr>\n",
       "      <th>2</th>\n",
       "      <td>Average, yearly</td>\n",
       "      <td>1993</td>\n",
       "      <td>65.3</td>\n",
       "    </tr>\n",
       "    <tr>\n",
       "      <th>3</th>\n",
       "      <td>Average, yearly</td>\n",
       "      <td>1994</td>\n",
       "      <td>66.6</td>\n",
       "    </tr>\n",
       "    <tr>\n",
       "      <th>4</th>\n",
       "      <td>Average, yearly</td>\n",
       "      <td>1995</td>\n",
       "      <td>68.0</td>\n",
       "    </tr>\n",
       "    <tr>\n",
       "      <th>5</th>\n",
       "      <td>Average, yearly</td>\n",
       "      <td>1996</td>\n",
       "      <td>69.5</td>\n",
       "    </tr>\n",
       "    <tr>\n",
       "      <th>6</th>\n",
       "      <td>Average, yearly</td>\n",
       "      <td>1997</td>\n",
       "      <td>71.0</td>\n",
       "    </tr>\n",
       "    <tr>\n",
       "      <th>7</th>\n",
       "      <td>Average, yearly</td>\n",
       "      <td>1998</td>\n",
       "      <td>72.3</td>\n",
       "    </tr>\n",
       "    <tr>\n",
       "      <th>8</th>\n",
       "      <td>Average, yearly</td>\n",
       "      <td>1999</td>\n",
       "      <td>74.1</td>\n",
       "    </tr>\n",
       "    <tr>\n",
       "      <th>9</th>\n",
       "      <td>Average, yearly</td>\n",
       "      <td>2000</td>\n",
       "      <td>76.2</td>\n",
       "    </tr>\n",
       "    <tr>\n",
       "      <th>10</th>\n",
       "      <td>Average, yearly</td>\n",
       "      <td>2001</td>\n",
       "      <td>78.0</td>\n",
       "    </tr>\n",
       "    <tr>\n",
       "      <th>11</th>\n",
       "      <td>Average, yearly</td>\n",
       "      <td>2002</td>\n",
       "      <td>79.9</td>\n",
       "    </tr>\n",
       "    <tr>\n",
       "      <th>12</th>\n",
       "      <td>Average, yearly</td>\n",
       "      <td>2003</td>\n",
       "      <td>81.6</td>\n",
       "    </tr>\n",
       "    <tr>\n",
       "      <th>13</th>\n",
       "      <td>Average, yearly</td>\n",
       "      <td>2004</td>\n",
       "      <td>82.5</td>\n",
       "    </tr>\n",
       "    <tr>\n",
       "      <th>14</th>\n",
       "      <td>Average, yearly</td>\n",
       "      <td>2005</td>\n",
       "      <td>84.0</td>\n",
       "    </tr>\n",
       "  </tbody>\n",
       "</table>\n",
       "</div>"
      ],
      "text/plain": [
       "              HOVED   TID INDHOLD\n",
       "0   Average, yearly  1991    63.2\n",
       "1   Average, yearly  1992    64.5\n",
       "2   Average, yearly  1993    65.3\n",
       "3   Average, yearly  1994    66.6\n",
       "4   Average, yearly  1995    68.0\n",
       "5   Average, yearly  1996    69.5\n",
       "6   Average, yearly  1997    71.0\n",
       "7   Average, yearly  1998    72.3\n",
       "8   Average, yearly  1999    74.1\n",
       "9   Average, yearly  2000    76.2\n",
       "10  Average, yearly  2001    78.0\n",
       "11  Average, yearly  2002    79.9\n",
       "12  Average, yearly  2003    81.6\n",
       "13  Average, yearly  2004    82.5\n",
       "14  Average, yearly  2005    84.0"
      ]
     },
     "execution_count": 80,
     "metadata": {},
     "output_type": "execute_result"
    }
   ],
   "source": [
    "fpi_api = fpi.get_data(params=params)\n",
    "fpi_api.head(15)"
   ]
  },
  {
   "cell_type": "markdown",
   "metadata": {},
   "source": [
    "We have now found the desired data for the average yearly fertility for the age groups 15-19, 20-24, 25-29, 30-34, 35-39, 40-44, 45-49, which we now merge it into one dataset."
   ]
  },
  {
   "cell_type": "markdown",
   "metadata": {},
   "source": [
    "The excel datasheet, containing the average fertility for the age groups is extracted:"
   ]
  },
  {
   "cell_type": "code",
   "execution_count": 81,
   "metadata": {},
   "outputs": [],
   "source": [
    "filename = 'data/ferrrr.xlsx' # open the file and have a look at it\n",
    "pd.read_excel(filename).head(10)\n",
    "fertreg = pd.read_excel(filename, skiprows=0)\n",
    "fertreg.rename(columns = {'Unnamed: 0':'Year'}, inplace=True)"
   ]
  },
  {
   "cell_type": "code",
   "execution_count": 82,
   "metadata": {},
   "outputs": [],
   "source": [
    "filename = 'data/BOG1.xlsx' # open the file and have a look at it\n"
   ]
  },
  {
   "cell_type": "code",
   "execution_count": 83,
   "metadata": {},
   "outputs": [],
   "source": [
    "fertAlt = pd.read_excel(filename, skiprows=2)\n",
    "fertAlt.drop(columns=[str(i) for i in range(1973, 1994)], inplace=True)\n",
    "fertAlt.rename(columns = {'Unnamed: 0':'Age group'}, inplace=True)"
   ]
  },
  {
   "cell_type": "code",
   "execution_count": 84,
   "metadata": {},
   "outputs": [
    {
     "data": {
      "text/plain": [
       "{'1991': 'fertAlt1991',\n",
       " '1992': 'fertAlt1992',\n",
       " '1993': 'fertAlt1993',\n",
       " '1994': 'fertAlt1994',\n",
       " '1995': 'fertAlt1995',\n",
       " '1996': 'fertAlt1996',\n",
       " '1997': 'fertAlt1997',\n",
       " '1998': 'fertAlt1998',\n",
       " '1999': 'fertAlt1999',\n",
       " '2000': 'fertAlt2000',\n",
       " '2001': 'fertAlt2001',\n",
       " '2002': 'fertAlt2002',\n",
       " '2003': 'fertAlt2003',\n",
       " '2004': 'fertAlt2004',\n",
       " '2005': 'fertAlt2005',\n",
       " '2006': 'fertAlt2006',\n",
       " '2007': 'fertAlt2007',\n",
       " '2008': 'fertAlt2008',\n",
       " '2009': 'fertAlt2009',\n",
       " '2010': 'fertAlt2010',\n",
       " '2011': 'fertAlt2011',\n",
       " '2012': 'fertAlt2012',\n",
       " '2013': 'fertAlt2013',\n",
       " '2014': 'fertAlt2014',\n",
       " '2015': 'fertAlt2015',\n",
       " '2016': 'fertAlt2016',\n",
       " '2017': 'fertAlt2017',\n",
       " '2018': 'fertAlt2018',\n",
       " '2019': 'fertAlt2019',\n",
       " '2020': 'fertAlt2020',\n",
       " '2021': 'fertAlt2021',\n",
       " '2022': 'fertAlt2022',\n",
       " '2023': 'fertAlt2023'}"
      ]
     },
     "execution_count": 84,
     "metadata": {},
     "output_type": "execute_result"
    }
   ],
   "source": [
    "col_dict = {}\n",
    "for i in range(1994, 2023+1): # range goes from 2010 to 2023\n",
    "    col_dict[str(i)] = f'fertAlt{i}'\n",
    "\n",
    "col_dict = {str(i) : f'fertAlt{i}' for i in range(1991,2023+1)}\n",
    "col_dict"
   ]
  },
  {
   "cell_type": "code",
   "execution_count": 85,
   "metadata": {},
   "outputs": [
    {
     "data": {
      "text/html": [
       "<div>\n",
       "<style scoped>\n",
       "    .dataframe tbody tr th:only-of-type {\n",
       "        vertical-align: middle;\n",
       "    }\n",
       "\n",
       "    .dataframe tbody tr th {\n",
       "        vertical-align: top;\n",
       "    }\n",
       "\n",
       "    .dataframe thead th {\n",
       "        text-align: right;\n",
       "    }\n",
       "</style>\n",
       "<table border=\"1\" class=\"dataframe\">\n",
       "  <thead>\n",
       "    <tr style=\"text-align: right;\">\n",
       "      <th></th>\n",
       "      <th>Age group</th>\n",
       "      <th>fertAlt1994</th>\n",
       "      <th>fertAlt1995</th>\n",
       "      <th>fertAlt1996</th>\n",
       "      <th>fertAlt1997</th>\n",
       "      <th>fertAlt1998</th>\n",
       "      <th>fertAlt1999</th>\n",
       "      <th>fertAlt2000</th>\n",
       "      <th>fertAlt2001</th>\n",
       "      <th>fertAlt2002</th>\n",
       "      <th>...</th>\n",
       "      <th>fertAlt2014</th>\n",
       "      <th>fertAlt2015</th>\n",
       "      <th>fertAlt2016</th>\n",
       "      <th>fertAlt2017</th>\n",
       "      <th>fertAlt2018</th>\n",
       "      <th>fertAlt2019</th>\n",
       "      <th>fertAlt2020</th>\n",
       "      <th>fertAlt2021</th>\n",
       "      <th>fertAlt2022</th>\n",
       "      <th>fertAlt2023</th>\n",
       "    </tr>\n",
       "  </thead>\n",
       "  <tbody>\n",
       "    <tr>\n",
       "      <th>0</th>\n",
       "      <td>15-19</td>\n",
       "      <td>6.32</td>\n",
       "      <td>5.86</td>\n",
       "      <td>5.52</td>\n",
       "      <td>5.86</td>\n",
       "      <td>5.46</td>\n",
       "      <td>5.42</td>\n",
       "      <td>5.58</td>\n",
       "      <td>5.30</td>\n",
       "      <td>4.42</td>\n",
       "      <td>...</td>\n",
       "      <td>2.40</td>\n",
       "      <td>2.28</td>\n",
       "      <td>2.52</td>\n",
       "      <td>1.84</td>\n",
       "      <td>1.60</td>\n",
       "      <td>1.30</td>\n",
       "      <td>1.12</td>\n",
       "      <td>0.90</td>\n",
       "      <td>0.72</td>\n",
       "      <td>0.78</td>\n",
       "    </tr>\n",
       "    <tr>\n",
       "      <th>1</th>\n",
       "      <td>20-24</td>\n",
       "      <td>55.42</td>\n",
       "      <td>54.34</td>\n",
       "      <td>52.78</td>\n",
       "      <td>49.48</td>\n",
       "      <td>47.96</td>\n",
       "      <td>46.92</td>\n",
       "      <td>45.94</td>\n",
       "      <td>45.44</td>\n",
       "      <td>42.20</td>\n",
       "      <td>...</td>\n",
       "      <td>29.08</td>\n",
       "      <td>29.02</td>\n",
       "      <td>29.80</td>\n",
       "      <td>28.90</td>\n",
       "      <td>26.08</td>\n",
       "      <td>23.56</td>\n",
       "      <td>20.48</td>\n",
       "      <td>18.98</td>\n",
       "      <td>17.08</td>\n",
       "      <td>15.40</td>\n",
       "    </tr>\n",
       "    <tr>\n",
       "      <th>2</th>\n",
       "      <td>25-29</td>\n",
       "      <td>137.22</td>\n",
       "      <td>135.14</td>\n",
       "      <td>128.54</td>\n",
       "      <td>127.08</td>\n",
       "      <td>121.78</td>\n",
       "      <td>120.52</td>\n",
       "      <td>122.02</td>\n",
       "      <td>119.34</td>\n",
       "      <td>116.06</td>\n",
       "      <td>...</td>\n",
       "      <td>102.14</td>\n",
       "      <td>102.66</td>\n",
       "      <td>107.44</td>\n",
       "      <td>104.20</td>\n",
       "      <td>101.36</td>\n",
       "      <td>99.56</td>\n",
       "      <td>97.12</td>\n",
       "      <td>97.68</td>\n",
       "      <td>86.82</td>\n",
       "      <td>81.52</td>\n",
       "    </tr>\n",
       "    <tr>\n",
       "      <th>3</th>\n",
       "      <td>30-34</td>\n",
       "      <td>113.86</td>\n",
       "      <td>115.50</td>\n",
       "      <td>112.84</td>\n",
       "      <td>115.52</td>\n",
       "      <td>116.10</td>\n",
       "      <td>118.50</td>\n",
       "      <td>123.52</td>\n",
       "      <td>121.08</td>\n",
       "      <td>122.08</td>\n",
       "      <td>...</td>\n",
       "      <td>126.40</td>\n",
       "      <td>130.00</td>\n",
       "      <td>133.20</td>\n",
       "      <td>131.94</td>\n",
       "      <td>131.90</td>\n",
       "      <td>130.76</td>\n",
       "      <td>130.62</td>\n",
       "      <td>135.60</td>\n",
       "      <td>123.10</td>\n",
       "      <td>120.40</td>\n",
       "    </tr>\n",
       "    <tr>\n",
       "      <th>4</th>\n",
       "      <td>35-39</td>\n",
       "      <td>42.18</td>\n",
       "      <td>44.10</td>\n",
       "      <td>43.60</td>\n",
       "      <td>45.64</td>\n",
       "      <td>45.96</td>\n",
       "      <td>48.26</td>\n",
       "      <td>49.02</td>\n",
       "      <td>48.94</td>\n",
       "      <td>50.76</td>\n",
       "      <td>...</td>\n",
       "      <td>63.70</td>\n",
       "      <td>64.06</td>\n",
       "      <td>68.78</td>\n",
       "      <td>67.16</td>\n",
       "      <td>67.96</td>\n",
       "      <td>67.94</td>\n",
       "      <td>68.54</td>\n",
       "      <td>73.30</td>\n",
       "      <td>65.44</td>\n",
       "      <td>63.66</td>\n",
       "    </tr>\n",
       "    <tr>\n",
       "      <th>5</th>\n",
       "      <td>40-44</td>\n",
       "      <td>6.54</td>\n",
       "      <td>6.80</td>\n",
       "      <td>7.20</td>\n",
       "      <td>7.42</td>\n",
       "      <td>7.52</td>\n",
       "      <td>7.78</td>\n",
       "      <td>8.44</td>\n",
       "      <td>8.60</td>\n",
       "      <td>9.08</td>\n",
       "      <td>...</td>\n",
       "      <td>13.86</td>\n",
       "      <td>13.90</td>\n",
       "      <td>14.54</td>\n",
       "      <td>15.44</td>\n",
       "      <td>16.04</td>\n",
       "      <td>15.68</td>\n",
       "      <td>15.96</td>\n",
       "      <td>17.08</td>\n",
       "      <td>16.00</td>\n",
       "      <td>15.98</td>\n",
       "    </tr>\n",
       "    <tr>\n",
       "      <th>6</th>\n",
       "      <td>45-49</td>\n",
       "      <td>0.26</td>\n",
       "      <td>0.20</td>\n",
       "      <td>0.28</td>\n",
       "      <td>0.30</td>\n",
       "      <td>0.34</td>\n",
       "      <td>0.26</td>\n",
       "      <td>0.28</td>\n",
       "      <td>0.32</td>\n",
       "      <td>0.36</td>\n",
       "      <td>...</td>\n",
       "      <td>0.72</td>\n",
       "      <td>0.74</td>\n",
       "      <td>0.86</td>\n",
       "      <td>0.94</td>\n",
       "      <td>0.96</td>\n",
       "      <td>1.14</td>\n",
       "      <td>1.12</td>\n",
       "      <td>1.28</td>\n",
       "      <td>1.38</td>\n",
       "      <td>1.42</td>\n",
       "    </tr>\n",
       "  </tbody>\n",
       "</table>\n",
       "<p>7 rows × 31 columns</p>\n",
       "</div>"
      ],
      "text/plain": [
       "  Age group  fertAlt1994  fertAlt1995  fertAlt1996  fertAlt1997  fertAlt1998  \\\n",
       "0     15-19         6.32         5.86         5.52         5.86         5.46   \n",
       "1     20-24        55.42        54.34        52.78        49.48        47.96   \n",
       "2     25-29       137.22       135.14       128.54       127.08       121.78   \n",
       "3     30-34       113.86       115.50       112.84       115.52       116.10   \n",
       "4     35-39        42.18        44.10        43.60        45.64        45.96   \n",
       "5     40-44         6.54         6.80         7.20         7.42         7.52   \n",
       "6     45-49         0.26         0.20         0.28         0.30         0.34   \n",
       "\n",
       "   fertAlt1999  fertAlt2000  fertAlt2001  fertAlt2002  ...  fertAlt2014  \\\n",
       "0         5.42         5.58         5.30         4.42  ...         2.40   \n",
       "1        46.92        45.94        45.44        42.20  ...        29.08   \n",
       "2       120.52       122.02       119.34       116.06  ...       102.14   \n",
       "3       118.50       123.52       121.08       122.08  ...       126.40   \n",
       "4        48.26        49.02        48.94        50.76  ...        63.70   \n",
       "5         7.78         8.44         8.60         9.08  ...        13.86   \n",
       "6         0.26         0.28         0.32         0.36  ...         0.72   \n",
       "\n",
       "   fertAlt2015  fertAlt2016  fertAlt2017  fertAlt2018  fertAlt2019  \\\n",
       "0         2.28         2.52         1.84         1.60         1.30   \n",
       "1        29.02        29.80        28.90        26.08        23.56   \n",
       "2       102.66       107.44       104.20       101.36        99.56   \n",
       "3       130.00       133.20       131.94       131.90       130.76   \n",
       "4        64.06        68.78        67.16        67.96        67.94   \n",
       "5        13.90        14.54        15.44        16.04        15.68   \n",
       "6         0.74         0.86         0.94         0.96         1.14   \n",
       "\n",
       "   fertAlt2020  fertAlt2021  fertAlt2022  fertAlt2023  \n",
       "0         1.12         0.90         0.72         0.78  \n",
       "1        20.48        18.98        17.08        15.40  \n",
       "2        97.12        97.68        86.82        81.52  \n",
       "3       130.62       135.60       123.10       120.40  \n",
       "4        68.54        73.30        65.44        63.66  \n",
       "5        15.96        17.08        16.00        15.98  \n",
       "6         1.12         1.28         1.38         1.42  \n",
       "\n",
       "[7 rows x 31 columns]"
      ]
     },
     "execution_count": 85,
     "metadata": {},
     "output_type": "execute_result"
    }
   ],
   "source": [
    "fertAlt.rename(columns = col_dict, inplace=True)\n",
    "fertAlt.head(7)"
   ]
  },
  {
   "cell_type": "markdown",
   "metadata": {},
   "source": [
    "Here we apply data cleaning so the data can be read."
   ]
  },
  {
   "cell_type": "markdown",
   "metadata": {},
   "source": [
    "## Merging\n",
    "\n",
    "We nowmerge our three data sets into one. This way, the variables from the dataset can later be graphed."
   ]
  },
  {
   "cell_type": "code",
   "execution_count": 86,
   "metadata": {},
   "outputs": [],
   "source": [
    "# Merge fpi_api and fert_api on 'TID'\n",
    "merged_first = pd.merge(fpi_api, fert_api, on='TID', how='inner')\n"
   ]
  },
  {
   "cell_type": "code",
   "execution_count": 87,
   "metadata": {},
   "outputs": [],
   "source": [
    "# Now merge the result with gdp_api on 'TID'\n",
    "final_merged = pd.merge(merged_first, gdp_api, on='TID', how='inner')\n"
   ]
  },
  {
   "cell_type": "code",
   "execution_count": 88,
   "metadata": {},
   "outputs": [],
   "source": [
    "merged_first.rename(columns={\n",
    "    'INDHOLD_x': 'FertilityRate',\n",
    "    'INDHOLD_y': 'ConsumerPriceIndex'\n",
    "}, inplace=True)\n",
    "\n",
    "# Assuming gdp_api has been loaded and contains a column that should be renamed to 'GrossDomesticProduct'\n",
    "gdp_api.rename(columns={\n",
    "    'INDHOLD': 'GrossDomesticProduct'\n",
    "}, inplace=True)\n",
    "\n",
    "# Merge the result with gdp_api on 'TID'\n",
    "final_merged = pd.merge(merged_first, gdp_api, on='TID', how='inner')\n",
    "\n",
    "# Select only the desired columns\n",
    "final_selected = final_merged[['TID', 'FertilityRate', 'ConsumerPriceIndex', 'GrossDomesticProduct']]\n"
   ]
  },
  {
   "cell_type": "code",
   "execution_count": 89,
   "metadata": {},
   "outputs": [
    {
     "name": "stderr",
     "output_type": "stream",
     "text": [
      "/var/folders/7b/kjzr2kfx2dd1zs1nsw38qrbc0000gn/T/ipykernel_2360/2465816959.py:7: FutureWarning:\n",
      "\n",
      "Downcasting object dtype arrays on .fillna, .ffill, .bfill is deprecated and will change in a future version. Call result.infer_objects(copy=False) instead. To opt-in to the future behavior, set `pd.set_option('future.no_silent_downcasting', True)`\n",
      "\n",
      "/var/folders/7b/kjzr2kfx2dd1zs1nsw38qrbc0000gn/T/ipykernel_2360/2465816959.py:7: SettingWithCopyWarning:\n",
      "\n",
      "\n",
      "A value is trying to be set on a copy of a slice from a DataFrame.\n",
      "Try using .loc[row_indexer,col_indexer] = value instead\n",
      "\n",
      "See the caveats in the documentation: https://pandas.pydata.org/pandas-docs/stable/user_guide/indexing.html#returning-a-view-versus-a-copy\n",
      "\n",
      "/var/folders/7b/kjzr2kfx2dd1zs1nsw38qrbc0000gn/T/ipykernel_2360/2465816959.py:8: FutureWarning:\n",
      "\n",
      "Downcasting object dtype arrays on .fillna, .ffill, .bfill is deprecated and will change in a future version. Call result.infer_objects(copy=False) instead. To opt-in to the future behavior, set `pd.set_option('future.no_silent_downcasting', True)`\n",
      "\n",
      "/var/folders/7b/kjzr2kfx2dd1zs1nsw38qrbc0000gn/T/ipykernel_2360/2465816959.py:8: SettingWithCopyWarning:\n",
      "\n",
      "\n",
      "A value is trying to be set on a copy of a slice from a DataFrame.\n",
      "Try using .loc[row_indexer,col_indexer] = value instead\n",
      "\n",
      "See the caveats in the documentation: https://pandas.pydata.org/pandas-docs/stable/user_guide/indexing.html#returning-a-view-versus-a-copy\n",
      "\n",
      "/var/folders/7b/kjzr2kfx2dd1zs1nsw38qrbc0000gn/T/ipykernel_2360/2465816959.py:9: FutureWarning:\n",
      "\n",
      "Downcasting object dtype arrays on .fillna, .ffill, .bfill is deprecated and will change in a future version. Call result.infer_objects(copy=False) instead. To opt-in to the future behavior, set `pd.set_option('future.no_silent_downcasting', True)`\n",
      "\n",
      "/var/folders/7b/kjzr2kfx2dd1zs1nsw38qrbc0000gn/T/ipykernel_2360/2465816959.py:9: SettingWithCopyWarning:\n",
      "\n",
      "\n",
      "A value is trying to be set on a copy of a slice from a DataFrame.\n",
      "Try using .loc[row_indexer,col_indexer] = value instead\n",
      "\n",
      "See the caveats in the documentation: https://pandas.pydata.org/pandas-docs/stable/user_guide/indexing.html#returning-a-view-versus-a-copy\n",
      "\n"
     ]
    }
   ],
   "source": [
    "# Convert columns to numeric, handling non-convertible values\n",
    "final_selected.loc[:, 'FertilityRate'] = pd.to_numeric(final_selected['FertilityRate'], errors='coerce')\n",
    "final_selected.loc[:, 'ConsumerPriceIndex'] = pd.to_numeric(final_selected['ConsumerPriceIndex'], errors='coerce')\n",
    "final_selected.loc[:, 'GrossDomesticProduct'] = pd.to_numeric(final_selected['GrossDomesticProduct'], errors='coerce')\n",
    "\n",
    "# Calculate year-over-year percentage changes\n",
    "final_selected.loc[:, 'FertilityRate_Pct_Change'] = final_selected['FertilityRate'].pct_change() * 100\n",
    "final_selected.loc[:, 'ConsumerPriceIndex_Pct_Change'] = final_selected['ConsumerPriceIndex'].pct_change() * 100\n",
    "final_selected.loc[:, 'GrossDomesticProduct_Pct_Change'] = final_selected['GrossDomesticProduct'].pct_change() * 100\n"
   ]
  },
  {
   "cell_type": "markdown",
   "metadata": {},
   "source": [
    "## Drawing the Graphs"
   ]
  },
  {
   "cell_type": "markdown",
   "metadata": {},
   "source": [
    "Now that the dataset is merged, we draw histograms, which display the fertility rate in the years, 1995, 2005, 2015 and 2020, for all the previously defined age groups."
   ]
  },
  {
   "cell_type": "code",
   "execution_count": 90,
   "metadata": {},
   "outputs": [
    {
     "data": {
      "image/png": "[encoded data removed]",
      "text/plain": [
       "<Figure size 1200x800 with 4 Axes>"
      ]
     },
     "metadata": {},
     "output_type": "display_data"
    }
   ],
   "source": [
    "fig, axes = plt.subplots(2, 2, figsize=(12, 8))\n",
    "\n",
    "fertAlt[['Age group', 'fertAlt1995']].plot(x='Age group', y='fertAlt1995', kind='bar', ax=axes[0, 0])\n",
    "axes[0, 0].set_xlabel('Age group')\n",
    "axes[0, 0].set_ylabel('Fertility rate')\n",
    "axes[0, 0].set_title('Fertility Rate by Age Group (1995)')\n",
    "\n",
    "fertAlt[['Age group', 'fertAlt2005']].plot(x='Age group', y='fertAlt2005', kind='bar', ax=axes[0, 1])\n",
    "axes[0, 1].set_xlabel('Age group')\n",
    "axes[0, 1].set_ylabel('Fertility rate')\n",
    "axes[0, 1].set_title('Fertility Rate by Age Group (2005)')\n",
    "\n",
    "fertAlt[['Age group', 'fertAlt2015']].plot(x='Age group', y='fertAlt2015', kind='bar', ax=axes[1, 0])\n",
    "axes[1, 0].set_xlabel('Age group')\n",
    "axes[1, 0].set_ylabel('Fertility rate')\n",
    "axes[1, 0].set_title('Fertility Rate by Age Group (2015)')\n",
    "\n",
    "fertAlt[['Age group', 'fertAlt2020']].plot(x='Age group', y='fertAlt2020', kind='bar', ax=axes[1, 1])\n",
    "axes[1, 1].set_xlabel('Age group')\n",
    "axes[1, 1].set_ylabel('Fertility rate')\n",
    "axes[1, 1].set_title('Fertility Rate by Age Group (2020)')\n",
    "\n",
    "plt.tight_layout()\n",
    "plt.show()"
   ]
  },
  {
   "cell_type": "markdown",
   "metadata": {},
   "source": [
    "We print the actual values, since it is a great way to compare different years. Furthermore, the values are used to draw a graph, displaying the year-over-year percantage change in the fertility rate, GDP and CPI. The graph is interactive and can display all the mentioned variables or selected ones. "
   ]
  },
  {
   "cell_type": "code",
   "execution_count": 91,
   "metadata": {},
   "outputs": [
    {
     "name": "stdout",
     "output_type": "stream",
     "text": [
      "Year-Over-Year Percentage Changes (Preview):\n",
      " TID  FertilityRate_Pct_Change  ConsumerPriceIndex_Pct_Change  GrossDomesticProduct_Pct_Change\n",
      "1993                  1.240310                      -0.770626                         0.498213\n",
      "1994                  1.990812                       3.306304                         6.951180\n",
      "1995                  2.102102                       0.033166                         4.353083\n",
      "1996                  2.205882                      -3.105487                         4.972963\n",
      "1997                  2.158273                       0.153978                         5.252507\n",
      "1998                  1.830986                      -1.765175                         3.583290\n",
      "1999                  2.489627                       0.759332                         4.708066\n",
      "2000                  2.834008                       2.065236                         6.849315\n",
      "2001                  2.362205                      -1.645812                         3.491704\n",
      "2002                  2.435897                      -1.151862                         2.856518\n",
      "2003                  2.127660                       2.029103                         1.941197\n",
      "2004                  1.102941                       1.437582                         4.920425\n",
      "2005                  1.818182                       0.946673                         5.325561\n",
      "2006                  1.904762                       2.524832                         5.980756\n",
      "2007                  1.752336                      -0.221910                         3.435794\n",
      "2008                  3.444317                       2.457282                         3.820779\n",
      "2009                  1.220866                      -2.604828                        -4.431674\n",
      "2010                  2.302632                       1.717765                         4.822203\n",
      "2011                  2.786710                      -6.348867                         1.963705\n",
      "2012                  2.398332                      -1.323899                         2.401948\n",
      "2013                  0.814664                      -3.498728                         2.255798\n",
      "2014                  0.606061                       1.348355                         2.309361\n",
      "2015                  0.401606                       1.324503                         2.519820\n",
      "2016                  0.300000                       4.190009                         3.511969\n",
      "2017                  1.096710                      -1.876330                         4.192244\n",
      "2018                  0.788955                      -1.267196                         2.461637\n",
      "2019                  0.782779                      -1.751749                         2.678850\n",
      "2020                  0.388350                      -1.453454                         0.998437\n",
      "2021                  1.934236                       2.949782                        10.354165\n",
      "2022                  7.685009                      -9.929818                        10.777020\n",
      "2023                  3.259912                      -3.670552                        -1.388791\n"
     ]
    }
   ],
   "source": [
    "ct_change_df = final_selected[['TID', 'FertilityRate_Pct_Change', 'ConsumerPriceIndex_Pct_Change', 'GrossDomesticProduct_Pct_Change']]\n",
    "pct_change_df = pct_change_df.iloc[1:].reset_index(drop=True)\n",
    "\n",
    "\n",
    "print(\"Year-Over-Year Percentage Changes (Preview):\")\n",
    "print(pct_change_df.head(40).to_string(index=False))"
   ]
  },
  {
   "cell_type": "code",
   "execution_count": 92,
   "metadata": {},
   "outputs": [
    {
     "data": {
      "application/vnd.plotly.v1+json": {
       "config": {
        "plotlyServerURL": "https://plot.ly"
       },
       "data": [
        {
         "hovertemplate": "Metrics=FertilityRate_Pct_Change<br>Year=%{x}<br>Percentage Change (%)=%{y}<extra></extra>",
         "legendgroup": "FertilityRate_Pct_Change",
         "line": {
          "color": "#636efa",
          "dash": "solid"
         },
         "marker": {
          "symbol": "circle"
         },
         "mode": "lines",
         "name": "FertilityRate_Pct_Change",
         "orientation": "v",
         "showlegend": true,
         "type": "scatter",
         "x": [
          1991,
          1992,
          1993,
          1994,
          1995,
          1996,
          1997,
          1998,
          1999,
          2000,
          2001,
          2002,
          2003,
          2004,
          2005,
          2006,
          2007,
          2008,
          2009,
          2010,
          2011,
          2012,
          2013,
          2014,
          2015,
          2016,
          2017,
          2018,
          2019,
          2020,
          2021,
          2022,
          2023
         ],
         "xaxis": "x",
         "y": [
          null,
          2.0569620253164445,
          1.2403100775193687,
          1.9908116385911168,
          2.1021021021021102,
          2.2058823529411686,
          2.158273381294973,
          1.8309859154929553,
          2.4896265560165887,
          2.8340080971660075,
          2.3622047244094446,
          2.4358974358974494,
          2.127659574468077,
          1.1029411764705843,
          1.8181818181818077,
          1.904761904761898,
          1.7523364485981352,
          3.4443168771526977,
          1.2208657047724891,
          2.3026315789473673,
          2.786709539121124,
          2.3983315954118734,
          0.8146639511201537,
          0.60606060606061,
          0.40160642570281624,
          0.29999999999998916,
          1.0967098703888345,
          0.7889546351084853,
          0.7827788649706457,
          0.3883495145631022,
          1.934235976789167,
          7.685009487666039,
          3.2599118942731264
         ],
         "yaxis": "y"
        },
        {
         "hovertemplate": "Metrics=ConsumerPriceIndex_Pct_Change<br>Year=%{x}<br>Percentage Change (%)=%{y}<extra></extra>",
         "legendgroup": "ConsumerPriceIndex_Pct_Change",
         "line": {
          "color": "#EF553B",
          "dash": "solid"
         },
         "marker": {
          "symbol": "circle"
         },
         "mode": "lines",
         "name": "ConsumerPriceIndex_Pct_Change",
         "orientation": "v",
         "showlegend": true,
         "type": "scatter",
         "x": [
          1991,
          1992,
          1993,
          1994,
          1995,
          1996,
          1997,
          1998,
          1999,
          2000,
          2001,
          2002,
          2003,
          2004,
          2005,
          2006,
          2007,
          2008,
          2009,
          2010,
          2011,
          2012,
          2013,
          2014,
          2015,
          2016,
          2017,
          2018,
          2019,
          2020,
          2021,
          2022,
          2023
         ],
         "xaxis": "x",
         "y": [
          null,
          4.773213013535971,
          -0.7706255666364403,
          3.3063042485153016,
          0.03316566248412478,
          -3.1054870973089455,
          0.15397775876817565,
          -1.7651748092472386,
          0.7593322513331779,
          2.065236150261751,
          -1.645812197046559,
          -1.151862464183373,
          2.0291031364137124,
          1.4375816807773223,
          0.9466726417208138,
          2.524832140280786,
          -0.22190950422168454,
          2.457282343368594,
          -2.6048284625158846,
          1.717764731463367,
          -6.348867037195383,
          -1.3238986532755126,
          -3.498727735368956,
          1.3483550068915884,
          1.3245033112582627,
          4.190009337068168,
          -1.876330234121204,
          -1.2671956161881437,
          -1.7517488581834995,
          -1.4534541602918671,
          2.949782050516503,
          -9.929818456006023,
          -3.670551870693539
         ],
         "yaxis": "y"
        },
        {
         "hovertemplate": "Metrics=GrossDomesticProduct_Pct_Change<br>Year=%{x}<br>Percentage Change (%)=%{y}<extra></extra>",
         "legendgroup": "GrossDomesticProduct_Pct_Change",
         "line": {
          "color": "#00cc96",
          "dash": "solid"
         },
         "marker": {
          "symbol": "circle"
         },
         "mode": "lines",
         "name": "GrossDomesticProduct_Pct_Change",
         "orientation": "v",
         "showlegend": true,
         "type": "scatter",
         "x": [
          1991,
          1992,
          1993,
          1994,
          1995,
          1996,
          1997,
          1998,
          1999,
          2000,
          2001,
          2002,
          2003,
          2004,
          2005,
          2006,
          2007,
          2008,
          2009,
          2010,
          2011,
          2012,
          2013,
          2014,
          2015,
          2016,
          2017,
          2018,
          2019,
          2020,
          2021,
          2022,
          2023
         ],
         "xaxis": "x",
         "y": [
          null,
          3.706615747500841,
          0.4982129318747974,
          6.951180084060793,
          4.3530834340991476,
          4.972962533796843,
          5.252506669119694,
          3.583289634679243,
          4.70806614917314,
          6.849315068493156,
          3.491704374057303,
          2.856518254026086,
          1.9411973078285572,
          4.920425324900957,
          5.325561369808551,
          5.980755927300185,
          3.4357939710420116,
          3.8207790717686985,
          -4.431673758081455,
          4.822202948829157,
          1.9637045617518778,
          2.401947525020298,
          2.2557979819324725,
          2.309361438313706,
          2.5198202292582073,
          3.5119692641119027,
          4.192243635498438,
          2.461636828644509,
          2.6788500111432967,
          0.9984372286855336,
          10.354164875784422,
          10.777020447906516,
          -1.3887912242458333
         ],
         "yaxis": "y"
        }
       ],
       "layout": {
        "legend": {
         "title": {
          "text": "Metric"
         },
         "tracegroupgap": 0
        },
        "template": {
         "data": {
          "bar": [
           {
            "error_x": {
             "color": "#2a3f5f"
            },
            "error_y": {
             "color": "#2a3f5f"
            },
            "marker": {
             "line": {
              "color": "#E5ECF6",
              "width": 0.5
             },
             "pattern": {
              "fillmode": "overlay",
              "size": 10,
              "solidity": 0.2
             }
            },
            "type": "bar"
           }
          ],
          "barpolar": [
           {
            "marker": {
             "line": {
              "color": "#E5ECF6",
              "width": 0.5
             },
             "pattern": {
              "fillmode": "overlay",
              "size": 10,
              "solidity": 0.2
             }
            },
            "type": "barpolar"
           }
          ],
          "carpet": [
           {
            "aaxis": {
             "endlinecolor": "#2a3f5f",
             "gridcolor": "white",
             "linecolor": "white",
             "minorgridcolor": "white",
             "startlinecolor": "#2a3f5f"
            },
            "baxis": {
             "endlinecolor": "#2a3f5f",
             "gridcolor": "white",
             "linecolor": "white",
             "minorgridcolor": "white",
             "startlinecolor": "#2a3f5f"
            },
            "type": "carpet"
           }
          ],
          "choropleth": [
           {
            "colorbar": {
             "outlinewidth": 0,
             "ticks": ""
            },
            "type": "choropleth"
           }
          ],
          "contour": [
           {
            "colorbar": {
             "outlinewidth": 0,
             "ticks": ""
            },
            "colorscale": [
             [
              0,
              "#0d0887"
             ],
             [
              0.1111111111111111,
              "#46039f"
             ],
             [
              0.2222222222222222,
              "#7201a8"
             ],
             [
              0.3333333333333333,
              "#9c179e"
             ],
             [
              0.4444444444444444,
              "#bd3786"
             ],
             [
              0.5555555555555556,
              "#d8576b"
             ],
             [
              0.6666666666666666,
              "#ed7953"
             ],
             [
              0.7777777777777778,
              "#fb9f3a"
             ],
             [
              0.8888888888888888,
              "#fdca26"
             ],
             [
              1,
              "#f0f921"
             ]
            ],
            "type": "contour"
           }
          ],
          "contourcarpet": [
           {
            "colorbar": {
             "outlinewidth": 0,
             "ticks": ""
            },
            "type": "contourcarpet"
           }
          ],
          "heatmap": [
           {
            "colorbar": {
             "outlinewidth": 0,
             "ticks": ""
            },
            "colorscale": [
             [
              0,
              "#0d0887"
             ],
             [
              0.1111111111111111,
              "#46039f"
             ],
             [
              0.2222222222222222,
              "#7201a8"
             ],
             [
              0.3333333333333333,
              "#9c179e"
             ],
             [
              0.4444444444444444,
              "#bd3786"
             ],
             [
              0.5555555555555556,
              "#d8576b"
             ],
             [
              0.6666666666666666,
              "#ed7953"
             ],
             [
              0.7777777777777778,
              "#fb9f3a"
             ],
             [
              0.8888888888888888,
              "#fdca26"
             ],
             [
              1,
              "#f0f921"
             ]
            ],
            "type": "heatmap"
           }
          ],
          "heatmapgl": [
           {
            "colorbar": {
             "outlinewidth": 0,
             "ticks": ""
            },
            "colorscale": [
             [
              0,
              "#0d0887"
             ],
             [
              0.1111111111111111,
              "#46039f"
             ],
             [
              0.2222222222222222,
              "#7201a8"
             ],
             [
              0.3333333333333333,
              "#9c179e"
             ],
             [
              0.4444444444444444,
              "#bd3786"
             ],
             [
              0.5555555555555556,
              "#d8576b"
             ],
             [
              0.6666666666666666,
              "#ed7953"
             ],
             [
              0.7777777777777778,
              "#fb9f3a"
             ],
             [
              0.8888888888888888,
              "#fdca26"
             ],
             [
              1,
              "#f0f921"
             ]
            ],
            "type": "heatmapgl"
           }
          ],
          "histogram": [
           {
            "marker": {
             "pattern": {
              "fillmode": "overlay",
              "size": 10,
              "solidity": 0.2
             }
            },
            "type": "histogram"
           }
          ],
          "histogram2d": [
           {
            "colorbar": {
             "outlinewidth": 0,
             "ticks": ""
            },
            "colorscale": [
             [
              0,
              "#0d0887"
             ],
             [
              0.1111111111111111,
              "#46039f"
             ],
             [
              0.2222222222222222,
              "#7201a8"
             ],
             [
              0.3333333333333333,
              "#9c179e"
             ],
             [
              0.4444444444444444,
              "#bd3786"
             ],
             [
              0.5555555555555556,
              "#d8576b"
             ],
             [
              0.6666666666666666,
              "#ed7953"
             ],
             [
              0.7777777777777778,
              "#fb9f3a"
             ],
             [
              0.8888888888888888,
              "#fdca26"
             ],
             [
              1,
              "#f0f921"
             ]
            ],
            "type": "histogram2d"
           }
          ],
          "histogram2dcontour": [
           {
            "colorbar": {
             "outlinewidth": 0,
             "ticks": ""
            },
            "colorscale": [
             [
              0,
              "#0d0887"
             ],
             [
              0.1111111111111111,
              "#46039f"
             ],
             [
              0.2222222222222222,
              "#7201a8"
             ],
             [
              0.3333333333333333,
              "#9c179e"
             ],
             [
              0.4444444444444444,
              "#bd3786"
             ],
             [
              0.5555555555555556,
              "#d8576b"
             ],
             [
              0.6666666666666666,
              "#ed7953"
             ],
             [
              0.7777777777777778,
              "#fb9f3a"
             ],
             [
              0.8888888888888888,
              "#fdca26"
             ],
             [
              1,
              "#f0f921"
             ]
            ],
            "type": "histogram2dcontour"
           }
          ],
          "mesh3d": [
           {
            "colorbar": {
             "outlinewidth": 0,
             "ticks": ""
            },
            "type": "mesh3d"
           }
          ],
          "parcoords": [
           {
            "line": {
             "colorbar": {
              "outlinewidth": 0,
              "ticks": ""
             }
            },
            "type": "parcoords"
           }
          ],
          "pie": [
           {
            "automargin": true,
            "type": "pie"
           }
          ],
          "scatter": [
           {
            "fillpattern": {
             "fillmode": "overlay",
             "size": 10,
             "solidity": 0.2
            },
            "type": "scatter"
           }
          ],
          "scatter3d": [
           {
            "line": {
             "colorbar": {
              "outlinewidth": 0,
              "ticks": ""
             }
            },
            "marker": {
             "colorbar": {
              "outlinewidth": 0,
              "ticks": ""
             }
            },
            "type": "scatter3d"
           }
          ],
          "scattercarpet": [
           {
            "marker": {
             "colorbar": {
              "outlinewidth": 0,
              "ticks": ""
             }
            },
            "type": "scattercarpet"
           }
          ],
          "scattergeo": [
           {
            "marker": {
             "colorbar": {
              "outlinewidth": 0,
              "ticks": ""
             }
            },
            "type": "scattergeo"
           }
          ],
          "scattergl": [
           {
            "marker": {
             "colorbar": {
              "outlinewidth": 0,
              "ticks": ""
             }
            },
            "type": "scattergl"
           }
          ],
          "scattermapbox": [
           {
            "marker": {
             "colorbar": {
              "outlinewidth": 0,
              "ticks": ""
             }
            },
            "type": "scattermapbox"
           }
          ],
          "scatterpolar": [
           {
            "marker": {
             "colorbar": {
              "outlinewidth": 0,
              "ticks": ""
             }
            },
            "type": "scatterpolar"
           }
          ],
          "scatterpolargl": [
           {
            "marker": {
             "colorbar": {
              "outlinewidth": 0,
              "ticks": ""
             }
            },
            "type": "scatterpolargl"
           }
          ],
          "scatterternary": [
           {
            "marker": {
             "colorbar": {
              "outlinewidth": 0,
              "ticks": ""
             }
            },
            "type": "scatterternary"
           }
          ],
          "surface": [
           {
            "colorbar": {
             "outlinewidth": 0,
             "ticks": ""
            },
            "colorscale": [
             [
              0,
              "#0d0887"
             ],
             [
              0.1111111111111111,
              "#46039f"
             ],
             [
              0.2222222222222222,
              "#7201a8"
             ],
             [
              0.3333333333333333,
              "#9c179e"
             ],
             [
              0.4444444444444444,
              "#bd3786"
             ],
             [
              0.5555555555555556,
              "#d8576b"
             ],
             [
              0.6666666666666666,
              "#ed7953"
             ],
             [
              0.7777777777777778,
              "#fb9f3a"
             ],
             [
              0.8888888888888888,
              "#fdca26"
             ],
             [
              1,
              "#f0f921"
             ]
            ],
            "type": "surface"
           }
          ],
          "table": [
           {
            "cells": {
             "fill": {
              "color": "#EBF0F8"
             },
             "line": {
              "color": "white"
             }
            },
            "header": {
             "fill": {
              "color": "#C8D4E3"
             },
             "line": {
              "color": "white"
             }
            },
            "type": "table"
           }
          ]
         },
         "layout": {
          "annotationdefaults": {
           "arrowcolor": "#2a3f5f",
           "arrowhead": 0,
           "arrowwidth": 1
          },
          "autotypenumbers": "strict",
          "coloraxis": {
           "colorbar": {
            "outlinewidth": 0,
            "ticks": ""
           }
          },
          "colorscale": {
           "diverging": [
            [
             0,
             "#8e0152"
            ],
            [
             0.1,
             "#c51b7d"
            ],
            [
             0.2,
             "#de77ae"
            ],
            [
             0.3,
             "#f1b6da"
            ],
            [
             0.4,
             "#fde0ef"
            ],
            [
             0.5,
             "#f7f7f7"
            ],
            [
             0.6,
             "#e6f5d0"
            ],
            [
             0.7,
             "#b8e186"
            ],
            [
             0.8,
             "#7fbc41"
            ],
            [
             0.9,
             "#4d9221"
            ],
            [
             1,
             "#276419"
            ]
           ],
           "sequential": [
            [
             0,
             "#0d0887"
            ],
            [
             0.1111111111111111,
             "#46039f"
            ],
            [
             0.2222222222222222,
             "#7201a8"
            ],
            [
             0.3333333333333333,
             "#9c179e"
            ],
            [
             0.4444444444444444,
             "#bd3786"
            ],
            [
             0.5555555555555556,
             "#d8576b"
            ],
            [
             0.6666666666666666,
             "#ed7953"
            ],
            [
             0.7777777777777778,
             "#fb9f3a"
            ],
            [
             0.8888888888888888,
             "#fdca26"
            ],
            [
             1,
             "#f0f921"
            ]
           ],
           "sequentialminus": [
            [
             0,
             "#0d0887"
            ],
            [
             0.1111111111111111,
             "#46039f"
            ],
            [
             0.2222222222222222,
             "#7201a8"
            ],
            [
             0.3333333333333333,
             "#9c179e"
            ],
            [
             0.4444444444444444,
             "#bd3786"
            ],
            [
             0.5555555555555556,
             "#d8576b"
            ],
            [
             0.6666666666666666,
             "#ed7953"
            ],
            [
             0.7777777777777778,
             "#fb9f3a"
            ],
            [
             0.8888888888888888,
             "#fdca26"
            ],
            [
             1,
             "#f0f921"
            ]
           ]
          },
          "colorway": [
           "#636efa",
           "#EF553B",
           "#00cc96",
           "#ab63fa",
           "#FFA15A",
           "#19d3f3",
           "#FF6692",
           "#B6E880",
           "#FF97FF",
           "#FECB52"
          ],
          "font": {
           "color": "#2a3f5f"
          },
          "geo": {
           "bgcolor": "white",
           "lakecolor": "white",
           "landcolor": "#E5ECF6",
           "showlakes": true,
           "showland": true,
           "subunitcolor": "white"
          },
          "hoverlabel": {
           "align": "left"
          },
          "hovermode": "closest",
          "mapbox": {
           "style": "light"
          },
          "paper_bgcolor": "white",
          "plot_bgcolor": "#E5ECF6",
          "polar": {
           "angularaxis": {
            "gridcolor": "white",
            "linecolor": "white",
            "ticks": ""
           },
           "bgcolor": "#E5ECF6",
           "radialaxis": {
            "gridcolor": "white",
            "linecolor": "white",
            "ticks": ""
           }
          },
          "scene": {
           "xaxis": {
            "backgroundcolor": "#E5ECF6",
            "gridcolor": "white",
            "gridwidth": 2,
            "linecolor": "white",
            "showbackground": true,
            "ticks": "",
            "zerolinecolor": "white"
           },
           "yaxis": {
            "backgroundcolor": "#E5ECF6",
            "gridcolor": "white",
            "gridwidth": 2,
            "linecolor": "white",
            "showbackground": true,
            "ticks": "",
            "zerolinecolor": "white"
           },
           "zaxis": {
            "backgroundcolor": "#E5ECF6",
            "gridcolor": "white",
            "gridwidth": 2,
            "linecolor": "white",
            "showbackground": true,
            "ticks": "",
            "zerolinecolor": "white"
           }
          },
          "shapedefaults": {
           "line": {
            "color": "#2a3f5f"
           }
          },
          "ternary": {
           "aaxis": {
            "gridcolor": "white",
            "linecolor": "white",
            "ticks": ""
           },
           "baxis": {
            "gridcolor": "white",
            "linecolor": "white",
            "ticks": ""
           },
           "bgcolor": "#E5ECF6",
           "caxis": {
            "gridcolor": "white",
            "linecolor": "white",
            "ticks": ""
           }
          },
          "title": {
           "x": 0.05
          },
          "xaxis": {
           "automargin": true,
           "gridcolor": "white",
           "linecolor": "white",
           "ticks": "",
           "title": {
            "standoff": 15
           },
           "zerolinecolor": "white",
           "zerolinewidth": 2
          },
          "yaxis": {
           "automargin": true,
           "gridcolor": "white",
           "linecolor": "white",
           "ticks": "",
           "title": {
            "standoff": 15
           },
           "zerolinecolor": "white",
           "zerolinewidth": 2
          }
         }
        },
        "title": {
         "text": "Year-over-Year Percentage Change"
        },
        "xaxis": {
         "anchor": "y",
         "domain": [
          0,
          1
         ],
         "title": {
          "text": "Year"
         }
        },
        "yaxis": {
         "anchor": "x",
         "domain": [
          0,
          1
         ],
         "title": {
          "text": "Percentage Change"
         }
        }
       }
      }
     },
     "metadata": {},
     "output_type": "display_data"
    }
   ],
   "source": [
    "# Create an interactive line plot with Plotly\n",
    "fig = px.line(final_selected, x='TID', y=[\n",
    "    'FertilityRate_Pct_Change', 'ConsumerPriceIndex_Pct_Change', 'GrossDomesticProduct_Pct_Change'],\n",
    "    labels={\n",
    "        'value': 'Percentage Change (%)',\n",
    "        'variable': 'Metrics',\n",
    "        'TID': 'Year'\n",
    "    },\n",
    "    title='Year-over-Year Percentage Change'\n",
    ")\n",
    "\n",
    "# Update layout for clearer display\n",
    "fig.update_layout(\n",
    "    xaxis_title='Year',\n",
    "    yaxis_title='Percentage Change',\n",
    "    legend_title='Metric'\n",
    ")\n",
    "\n",
    "# Show the plot\n",
    "fig.show()\n",
    "\n",
    "\n"
   ]
  },
  {
   "cell_type": "markdown",
   "metadata": {},
   "source": [
    "If our interactive graph cant load, we have also created a simple sketch using matplot package, by removing the \"#\" but we advise to use the interactive figure, as you can isolate each metric."
   ]
  },
  {
   "cell_type": "code",
   "execution_count": 93,
   "metadata": {},
   "outputs": [],
   "source": [
    "#plt.figure(figsize=(10, 6))\n",
    "#plt.plot(final_selected['TID'], final_selected['FertilityRate_Pct_Change'], label='Fertility Rate % Change', marker='o')\n",
    "#plt.plot(final_selected['TID'], final_selected['ConsumerPriceIndex_Pct_Change'], label='Consumer Price Index % Change', marker='x')\n",
    "#plt.plot(final_selected['TID'], final_selected['GrossDomesticProduct_Pct_Change'], label='Gross Domestic Product % Change', marker='^')\n",
    "#plt.xlabel('Year')\n",
    "#plt.ylabel('Percentage Change (%)')\n",
    "#plt.title('Year-over-Year Percentage Change')\n",
    "#plt.legend()\n",
    "#plt.grid(True)\n",
    "\n",
    "#plt.show()"
   ]
  },
  {
   "cell_type": "markdown",
   "metadata": {},
   "source": [
    "# Ordinary Least Squares\n",
    "\n",
    "Finally we run a number of OLS on the fertility rate the CPI and the GDP in order to see how they affect each other and to see if a potential correlation can be found.\n",
    "The first regression is for the total fertility, wheras the second regression is for the youngest age group. The third and final regression is for the group with the highest fertility."
   ]
  },
  {
   "cell_type": "code",
   "execution_count": 94,
   "metadata": {},
   "outputs": [
    {
     "name": "stdout",
     "output_type": "stream",
     "text": [
      "                            OLS Regression Results                            \n",
      "==============================================================================\n",
      "Dep. Variable:              FERTILITY   R-squared:                       0.248\n",
      "Model:                            OLS   Adj. R-squared:                  0.205\n",
      "Method:                 Least Squares   F-statistic:                     5.778\n",
      "Date:                Mon, 26 Aug 2024   Prob (F-statistic):            0.00678\n",
      "Time:                        10:34:23   Log-Likelihood:                -223.00\n",
      "No. Observations:                  38   AIC:                             452.0\n",
      "Df Residuals:                      35   BIC:                             456.9\n",
      "Df Model:                           2                                         \n",
      "Covariance Type:            nonrobust                                         \n",
      "==============================================================================\n",
      "                 coef    std err          t      P>|t|      [0.025      0.975]\n",
      "------------------------------------------------------------------------------\n",
      "const       1062.2597    196.715      5.400      0.000     662.907    1461.612\n",
      "GDP           -0.4980      0.150     -3.312      0.002      -0.803      -0.193\n",
      "CPI           17.3217      5.105      3.393      0.002       6.957      27.686\n",
      "==============================================================================\n",
      "Omnibus:                        0.593   Durbin-Watson:                   0.549\n",
      "Prob(Omnibus):                  0.743   Jarque-Bera (JB):                0.682\n",
      "Skew:                          -0.257   Prob(JB):                        0.711\n",
      "Kurtosis:                       2.593   Cond. No.                     2.29e+04\n",
      "==============================================================================\n",
      "\n",
      "Notes:\n",
      "[1] Standard Errors assume that the covariance matrix of the errors is correctly specified.\n",
      "[2] The condition number is large, 2.29e+04. This might indicate that there are\n",
      "strong multicollinearity or other numerical problems.\n"
     ]
    }
   ],
   "source": [
    "### 1\n",
    "# Define the dependent variable 'y' and independent variables 'X'\n",
    "y = fertreg['FERTILITY']\n",
    "X = fertreg[['GDP', 'CPI']]\n",
    "\n",
    "# Add a constant (intercept) to the independent variables\n",
    "X = sm.add_constant(X)\n",
    "\n",
    "\n",
    "# Fit the model\n",
    "model1 = sm.OLS(y, X).fit()\n",
    "\n",
    "\n",
    "# Print out the statistics\n",
    "print(model1.summary())\n"
   ]
  },
  {
   "cell_type": "code",
   "execution_count": 95,
   "metadata": {},
   "outputs": [
    {
     "name": "stdout",
     "output_type": "stream",
     "text": [
      "                            OLS Regression Results                            \n",
      "==============================================================================\n",
      "Dep. Variable:                  15-19   R-squared:                       0.963\n",
      "Model:                            OLS   Adj. R-squared:                  0.960\n",
      "Method:                 Least Squares   F-statistic:                     450.0\n",
      "Date:                Mon, 26 Aug 2024   Prob (F-statistic):           1.08e-25\n",
      "Time:                        10:34:23   Log-Likelihood:                -16.263\n",
      "No. Observations:                  38   AIC:                             38.53\n",
      "Df Residuals:                      35   BIC:                             43.44\n",
      "Df Model:                           2                                         \n",
      "Covariance Type:            nonrobust                                         \n",
      "==============================================================================\n",
      "                 coef    std err          t      P>|t|      [0.025      0.975]\n",
      "------------------------------------------------------------------------------\n",
      "const          9.8298      0.853     11.519      0.000       8.097      11.562\n",
      "GDP           -0.0028      0.001     -4.221      0.000      -0.004      -0.001\n",
      "CPI           -0.0155      0.022     -0.702      0.487      -0.061       0.029\n",
      "==============================================================================\n",
      "Omnibus:                        1.090   Durbin-Watson:                   0.781\n",
      "Prob(Omnibus):                  0.580   Jarque-Bera (JB):                1.107\n",
      "Skew:                           0.321   Prob(JB):                        0.575\n",
      "Kurtosis:                       2.463   Cond. No.                     2.29e+04\n",
      "==============================================================================\n",
      "\n",
      "Notes:\n",
      "[1] Standard Errors assume that the covariance matrix of the errors is correctly specified.\n",
      "[2] The condition number is large, 2.29e+04. This might indicate that there are\n",
      "strong multicollinearity or other numerical problems.\n"
     ]
    }
   ],
   "source": [
    "### 2\n",
    "\n",
    "# Define the dependent variable 'y' and independent variables 'X'\n",
    "y = fertreg['15-19']\n",
    "X = fertreg[['GDP', 'CPI']]\n",
    "\n",
    "# Add a constant (intercept) to the independent variables\n",
    "X = sm.add_constant(X)\n",
    "\n",
    "# Fit the model\n",
    "model2 = sm.OLS(y, X).fit()\n",
    "\n",
    "# Print out the statistics\n",
    "print(model2.summary())"
   ]
  },
  {
   "cell_type": "code",
   "execution_count": 96,
   "metadata": {},
   "outputs": [
    {
     "name": "stdout",
     "output_type": "stream",
     "text": [
      "                            OLS Regression Results                            \n",
      "==============================================================================\n",
      "Dep. Variable:                  30-34   R-squared:                       0.698\n",
      "Model:                            OLS   Adj. R-squared:                  0.680\n",
      "Method:                 Least Squares   F-statistic:                     40.38\n",
      "Date:                Mon, 26 Aug 2024   Prob (F-statistic):           8.11e-10\n",
      "Time:                        10:34:23   Log-Likelihood:                -138.80\n",
      "No. Observations:                  38   AIC:                             283.6\n",
      "Df Residuals:                      35   BIC:                             288.5\n",
      "Df Model:                           2                                         \n",
      "Covariance Type:            nonrobust                                         \n",
      "==============================================================================\n",
      "                 coef    std err          t      P>|t|      [0.025      0.975]\n",
      "------------------------------------------------------------------------------\n",
      "const         -4.9365     21.459     -0.230      0.819     -48.500      38.627\n",
      "GDP           -0.0495      0.016     -3.017      0.005      -0.083      -0.016\n",
      "CPI            2.4302      0.557      4.364      0.000       1.300       3.561\n",
      "==============================================================================\n",
      "Omnibus:                        1.129   Durbin-Watson:                   0.388\n",
      "Prob(Omnibus):                  0.569   Jarque-Bera (JB):                0.928\n",
      "Skew:                          -0.101   Prob(JB):                        0.629\n",
      "Kurtosis:                       2.262   Cond. No.                     2.29e+04\n",
      "==============================================================================\n",
      "\n",
      "Notes:\n",
      "[1] Standard Errors assume that the covariance matrix of the errors is correctly specified.\n",
      "[2] The condition number is large, 2.29e+04. This might indicate that there are\n",
      "strong multicollinearity or other numerical problems.\n"
     ]
    }
   ],
   "source": [
    "### 3\n",
    "# Define the dependent variable 'y' and independent variables 'X'\n",
    "y = fertreg['30-34']\n",
    "X = fertreg[['GDP', 'CPI']]\n",
    "\n",
    "# Add a constant (intercept) to the independent variables\n",
    "X = sm.add_constant(X)\n",
    "\n",
    "# Fit the model\n",
    "model3 = sm.OLS(y, X).fit()\n",
    "\n",
    "# Print out the statistics\n",
    "print(model3.summary())"
   ]
  },
  {
   "cell_type": "markdown",
   "metadata": {},
   "source": [
    "## Analysis:\n",
    "\n",
    "For this Data-project we have conducted a simple analysis of three variables from Statisk-banken. We have utilised a common tool from the descriptive economics course where we look at the yearly percentage change in a variable, and are thus able to compare the data to see how the variables changes within the analytic period.\n",
    "\n",
    "Furthermore we have looked at how the age groups have evolved over time. In order to conclude on the data project we have ran three regression to see if we can detect a correlation between the variables.\n",
    "\n",
    "\n",
    "#### What does the box diagram show?\n",
    "\n",
    "We observe that there is a shift in who has the highest fertility in the four samples, we observe, that in 1995, it is the age group 25-29 who has the highest fertility and in the rest of the sample we find that the age group 30-34 has the highest fertility, where the age group 25-29 consistently is declining. Almost in all periods we observe that the age group 15-19 and 45-49 has the lowest fertility on almost around 0.0, thus we find it intersting to see if we can run a number of simple regression and observe if our two variables can affect these changes.\n",
    "\n",
    "#### What does the graph show?\n",
    "\n",
    "The Gross Domestic Product reflects the economic output and growth over time.\n",
    "- The Gross Domestic Product starts with an yearly increase of 5 pct. points. after adjusting to a 2.0 pct. points. in the period 2001-2003. from 2004 to 2008 we see a yearly increase on around 5.0 to 3.0 pct. points. where as in 2009 we see decrease on -4.4 pct. points. this is caused by the financial crisis. followed the next year 2010 with an increase on 4.8 pct points. Onwards we see an increase of around 2.0 pct. points, which increases each year with the exception of 2016-2017 followed by a sharp decling in 2020 where it only increases with 0,5 pct, followed by a boom in 2021-2022 where it increases by 9.0-11.0 pct.points. - Overall this draws a picture of a stable economy recovering from the financial crisis with a boom in 2021-2022.\n",
    "\n",
    "The Consumer Price Index tracks changes in the cost of living and inflationary pressures.\n",
    "- The Consumer Price Index change is more volatile. This is evident in the period 1995-1996 where it starts off with -3.1 pct. points. and bounces back on an increase on 0.15 pct. points. this volatiltiy describes the whole period up to 2010 where it bounces between a negative and positve value. It experiences a significant drop around 2011, a rise peaking in 2012, and then falls again sharply by 2023. The most notable point is the extreme dip in 2022, indicating a period of deflation or significant price decreases, followed by a recovery in 2023.\n",
    "- Overall we can see that the covid crisis had a massive effect on the consumer prices during the crisis, while the financial crisis had effects after the crisis.\n",
    "\n",
    "The Fertility Rate provides insights into demographic trends and societal responses.\n",
    "- Fertility seems stable compared to the others, with fluctuations remaining within a narrower range. but with a steady decline wheras the first period from 1995-2003 we see an yearly increaseover 2.0 pct. points. whereas in 2004-2009 we only see an increase by 1 pct. point. with the exception of 2008 we see a fertility increase by 3.0 pct. points. in 2010-2013 we can see an increase by 2.0-3.0 pct. points. We observe around the years 2014-2015, after which it stabilizes and shows an upward trend starting around 2020, peaking in 2022. but excluding the covid years it fluctuates between 3-1 yearly pct. change. \n",
    "\n",
    "\n",
    "- The stabilazation can be seen as a indicator stable policy changes and economic confidence, which can be interpreted as a society which trusts the government during crises while due to “post-crisis fiscal stimuli packages” or other growth-driving factors.\n",
    "\n",
    "#### What does the OLS show?\n",
    "We run a number of regressions to see how different age groups fertility is affected by the Gross Domestic Product and the Consumer Price Index \n",
    "\n",
    "#### The general case:\n",
    "The coefficient for the Gross Domestic Product is -0.4980, which indicates a negative relationship with fertility. Specifically, for each unit increase in Gross Domestic Product, the fertility rate is expected to decrease by approximately 0.498, holding Consumer Price Index constant. This is consistent with the theory that fertility decreases as countries become richer. \n",
    "\n",
    "The coefficient for the Consumer Price Index is positive, suggesting a positive relationship with fertility. For each unit increase in CPI, the fertility rate is expected to increase by about 17.32, holding Gross Domestic Product constant.\n",
    "\n",
    "The p-values for both independent variables are around 0.000, which indicates that these variables are statistically significant predictors of the fertility rate percentage.\n",
    "\n",
    "#### The younger case:\n",
    "When doing OLS regression isolating the younger demographic we find that the Consumer Price Index is insignificant this could indicate that this age group is not affected by the cost of living in regards to fertility, we also note that the new Gross Domestic Product has a coefficient for Gross Domestic Product on -0.00280, which again indicates a negative relationship with fertility, which is a lower coefficent than the general case. Furthermore is the R-squared variable rather low, which could indiciate that there are other factors which explains fertility for this age group\n",
    "\n",
    "#### The driving case:\n",
    "We observed that the Age group with the overall highest fertility was the age group 30-34, when doing a regression analysis on this age group we find that both coefficents are statically significant wheras the Gross Domestic Product also has a samller coefficient of -0.0495, which means that the negative relationship with fertility. compared to the general case where the coefficent of the GDP is -0.4980, wheras the coefficient of the CPI also is 2.43 comapred to the coefficent of 17.3217 for the general case.\n",
    "\n",
    "\n",
    "## Conclusion on the graph: \n",
    "The data project of the  GDP, CPI, and Fertility Rate in Denmark reveals relationships and dynamic interactions within the economy where the key take aways are\n",
    "\n",
    "- __Economic adaptation__ The danish GDP show effective ecnomic adaptation in recovery phases following economic downturns, which can be interpretated as robust economic management by the policy makers.\n",
    "\n",
    "- __Price stability__ The fluctutations of the Consumer Price Index shows how policy changes and externals shocks in the economy affects the sensitvity of the consumer prices\n",
    "\n",
    "The result we wanted to find was that the relationship between CPI and Fertility would affect the cost of living. Where an increase in the Consumer Price Index, would indicate inflation, which raises the cost of living.  We know that if wages do not keep up with inflation, families may feel financially pressured and may decide to have fewer children. This didn’t happen due to the overall stable nature of the Danish Economy.\n",
    "\n",
    "\n",
    "## Conclusion on the OLS\n",
    "#### The general case:\n",
    "This OLS regression model suggests that there is a statistically significant relationship between the percentage changes in the Consumer Price Index and GDP with the percentage change in the fertility rate. There is a positive relationship between CPI and fertility rates. As the cost of living increases (as reflected by the CPI), fertility rates also tend to increase. This could suggest that, under certain economic conditions, people may have more children despite—or perhaps due to—rising costs, possibly reflecting economic behaviors specific to certain periods or contexts.\n",
    "\n",
    "The negative relationship between GDP and fertility suggests that as the economy grows, fertility rates tend to decline. This might be because economic growth often coincides with increased urbanization, higher education levels, and shifts in societal norms, all of which can lead to lower fertility rates.\n",
    "\n",
    "#### The younger case:\n",
    "\n",
    "the age group 15-19, an increases in GDP have a far less pronounced effect on reducing fertility rates.  In other words, economic growth or decline has a far less pronounced impact on the fertility decisions of teenagers compared to the overall population. Wheras this age group seems to disregard the cost of living when having children. seen through the insiginficnat FPI.\n",
    "\n",
    "#### The driving case:\n",
    "the age group 30-34 also has a lower coefficient for the GDP and the FPI, while both coefficients are statistically significant this could indicante that the age group is more financially set. Furthermore we observe that the Consumer Price Index is positive but much lower when compared to the general CPI. the lower CPI coefficient may be less affected by changes in the cost of living when making decisions about having children. This could be due to more stable economic conditions, higher income levels, or greater access to resources that mitigate the impact of rising costs.\n",
    "\n",
    "\n"
   ]
  }
 ],
 "metadata": {
  "kernelspec": {
   "display_name": "base",
   "language": "python",
   "name": "python3"
  },
  "language_info": {
   "codemirror_mode": {
    "name": "ipython",
    "version": 3
   },
   "file_extension": ".py",
   "mimetype": "text/x-python",
   "name": "python",
   "nbconvert_exporter": "python",
   "pygments_lexer": "ipython3",
   "version": "3.9.6"
  },
  "toc-autonumbering": true,
  "vscode": {
   "interpreter": {
    "hash": "47ef90cdf3004d3f859f1fb202523c65c07ba7c22eefd261b181f4744e2d0403"
   }
  }
 },
 "nbformat": 4,
 "nbformat_minor": 4
}

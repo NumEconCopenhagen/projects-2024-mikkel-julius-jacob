{
 "cells": [
  {
   "cell_type": "markdown",
   "metadata": {},
   "source": [
    "# INFLATION AND FERTILITY\n",
    "### Motivation\n",
    "This dataproject show how fertility and inflation have changed over time, understanding this dynamic can be crucial to understand the underlying trends and policies that have affected the economy over time.\n",
    "\n",
    "Inflation rates, can be interpreted as the health of the economy wheras a high inflation can indicate economic instability, affecting everything from consumer purchasing power to investments in the economy. Conversely, low inflation present the economic predictability and the potential growth rate. By tracking inflation trends, policymakers can assess the effectiveness of the monetary policy and adjust it like wise.\n",
    "\n",
    "Fertility rates, which measure the  number of children born per woman, offer essential insights into demographic shifts and social impact. Changes in fertility rates can potential influence population growth, age distribution, and workforce dynamics. Where low fertility rates,  can lead to an aging population, affecting pension systems and the social system. We assume that policymakers rely on fertility data to plan the needs in the economy.\n",
    "\n",
    "In conclusion, by examining inflation and fertility trends over time, we gain a  understanding of economic resilience, demographic shifts, and the interconnectedness of economic and social policies. Whoch can be used by a policy maker to enhance policy which raises the growth rates and ensures a sustainaible welfare of the economy.\n",
    "\n",
    "### The setup\n",
    "For this project we use Statistiskbanken to get a comprehensive overview of the avaliable data of the danish economy. where we look at: CPI, GDP and Fertility Rate\n",
    "- The Consumer Price Indes is used as a proxy for the inflation and represents the average change over time in prices paid by consumers for a variety of goods and services, reflecting inflationary pressures in the economy. \n",
    "\n",
    "- The GDP represents the total monetary value of all goods and services produced within Denmarks borders over a specific period, serving as a measure of economic output and growth. \n",
    "\n",
    "- The fertility rate represents the average number of children born per woman, providing insights into population growth and demographic trends.\n",
    "\n",
    "Not this study does not look at the causality, due to the fact we do apply regression analysis and hypothesis testing and is a descriptive study.\n",
    "\n",
    "--------------------------------------------------------------------------------------------------------------------------------------------------------------------------------------------------------\n",
    "Note we do not use the dataproject.py as we feel the datasorting and merging is essential to understand this dataproject and displays our thought process in this assignment.\n"
   ]
  },
  {
   "cell_type": "markdown",
   "metadata": {},
   "source": [
    "Imports and set magics:"
   ]
  },
  {
   "cell_type": "code",
   "execution_count": 1,
   "metadata": {},
   "outputs": [
    {
     "data": {
      "text/plain": [
       "['BOG1.xlsx', 'igen.ipynb']"
      ]
     },
     "execution_count": 1,
     "metadata": {},
     "output_type": "execute_result"
    }
   ],
   "source": [
    "import pandas as pd\n",
    "import numpy as np\n",
    "import matplotlib.pyplot as plt\n",
    "import ipywidgets as widgets\n",
    "from matplotlib_venn import venn2\n",
    "import pandas_datareader # install with `pip install pandas-datareader`\n",
    "from dstapi import DstApi # install with `pip install git+https://github.com/alemartinello/dstapi`\n",
    "\n",
    "import plotly.express as px\n",
    "import matplotlib.pyplot as plt\n",
    "plt.rcParams.update({\"axes.grid\":True,\"grid.color\":\"black\",\"grid.alpha\":\"0.25\",\"grid.linestyle\":\"--\"})\n",
    "plt.rcParams.update({'font.size': 14})\n",
    "# autoreload modules when code is run\n",
    "%load_ext autoreload\n",
    "%autoreload 2\n",
    "\n",
    "# user written modules\n",
    "import dataproject\n",
    "\n",
    "# for the excel data\n",
    "import os \n",
    "\n",
    "# Using assert to check that paths exist on computer.\n",
    "assert os.path.isdir('data/')\n",
    "assert os.path.isfile('data/bog1.xlsx')\n",
    "\n",
    "\n",
    "# Print everything in data\n",
    "os.listdir('data/')"
   ]
  },
  {
   "cell_type": "markdown",
   "metadata": {},
   "source": [
    "# Read and clean data"
   ]
  },
  {
   "cell_type": "markdown",
   "metadata": {},
   "source": [
    "Import your data, either through an API or manually, and load it. "
   ]
  },
  {
   "cell_type": "code",
   "execution_count": 2,
   "metadata": {},
   "outputs": [],
   "source": [
    "fert = DstApi('FERT1')\n",
    "gdp = DstApi('NAN1')\n",
    "fpi = DstApi ('PRIS112')"
   ]
  },
  {
   "cell_type": "markdown",
   "metadata": {},
   "source": [
    "We have found our desired variables now it is time to clean the data"
   ]
  },
  {
   "cell_type": "code",
   "execution_count": 3,
   "metadata": {},
   "outputs": [
    {
     "name": "stdout",
     "output_type": "stream",
     "text": [
      "Table FERT1: Total fertility rate (ages 15-49) by ancestry and time\n",
      "Last update: 2024-02-12T08:00:00\n"
     ]
    },
    {
     "data": {
      "text/html": [
       "<div>\n",
       "<style scoped>\n",
       "    .dataframe tbody tr th:only-of-type {\n",
       "        vertical-align: middle;\n",
       "    }\n",
       "\n",
       "    .dataframe tbody tr th {\n",
       "        vertical-align: top;\n",
       "    }\n",
       "\n",
       "    .dataframe thead th {\n",
       "        text-align: right;\n",
       "    }\n",
       "</style>\n",
       "<table border=\"1\" class=\"dataframe\">\n",
       "  <thead>\n",
       "    <tr style=\"text-align: right;\">\n",
       "      <th></th>\n",
       "      <th>variable name</th>\n",
       "      <th># values</th>\n",
       "      <th>First value</th>\n",
       "      <th>First value label</th>\n",
       "      <th>Last value</th>\n",
       "      <th>Last value label</th>\n",
       "      <th>Time variable</th>\n",
       "    </tr>\n",
       "  </thead>\n",
       "  <tbody>\n",
       "    <tr>\n",
       "      <th>0</th>\n",
       "      <td>HERKOMST</td>\n",
       "      <td>6</td>\n",
       "      <td>AK</td>\n",
       "      <td>All women</td>\n",
       "      <td>DKK</td>\n",
       "      <td>Women of Danish origin</td>\n",
       "      <td>False</td>\n",
       "    </tr>\n",
       "    <tr>\n",
       "      <th>1</th>\n",
       "      <td>Tid</td>\n",
       "      <td>38</td>\n",
       "      <td>1986</td>\n",
       "      <td>1986</td>\n",
       "      <td>2023</td>\n",
       "      <td>2023</td>\n",
       "      <td>True</td>\n",
       "    </tr>\n",
       "  </tbody>\n",
       "</table>\n",
       "</div>"
      ],
      "text/plain": [
       "  variable name  # values First value First value label Last value  \\\n",
       "0      HERKOMST         6          AK         All women        DKK   \n",
       "1           Tid        38        1986              1986       2023   \n",
       "\n",
       "         Last value label  Time variable  \n",
       "0  Women of Danish origin          False  \n",
       "1                    2023           True  "
      ]
     },
     "metadata": {},
     "output_type": "display_data"
    }
   ],
   "source": [
    "tabsum_fert= fert.tablesummary(language='en')\n",
    "display(tabsum_fert)\n"
   ]
  },
  {
   "cell_type": "code",
   "execution_count": 4,
   "metadata": {},
   "outputs": [
    {
     "name": "stdout",
     "output_type": "stream",
     "text": [
      "HERKOMST:\n"
     ]
    },
    {
     "data": {
      "text/html": [
       "<div>\n",
       "<style scoped>\n",
       "    .dataframe tbody tr th:only-of-type {\n",
       "        vertical-align: middle;\n",
       "    }\n",
       "\n",
       "    .dataframe tbody tr th {\n",
       "        vertical-align: top;\n",
       "    }\n",
       "\n",
       "    .dataframe thead th {\n",
       "        text-align: right;\n",
       "    }\n",
       "</style>\n",
       "<table border=\"1\" class=\"dataframe\">\n",
       "  <thead>\n",
       "    <tr style=\"text-align: right;\">\n",
       "      <th></th>\n",
       "      <th>id</th>\n",
       "      <th>text</th>\n",
       "    </tr>\n",
       "  </thead>\n",
       "  <tbody>\n",
       "    <tr>\n",
       "      <th>0</th>\n",
       "      <td>AK</td>\n",
       "      <td>All women</td>\n",
       "    </tr>\n",
       "    <tr>\n",
       "      <th>1</th>\n",
       "      <td>IKV</td>\n",
       "      <td>Immigrant women from western countries</td>\n",
       "    </tr>\n",
       "    <tr>\n",
       "      <th>2</th>\n",
       "      <td>IKIV</td>\n",
       "      <td>Immigrant women from non-western countries</td>\n",
       "    </tr>\n",
       "    <tr>\n",
       "      <th>3</th>\n",
       "      <td>EKV</td>\n",
       "      <td>Descendant women from western countries</td>\n",
       "    </tr>\n",
       "    <tr>\n",
       "      <th>4</th>\n",
       "      <td>EKIV</td>\n",
       "      <td>Descendant women from non-western countries</td>\n",
       "    </tr>\n",
       "    <tr>\n",
       "      <th>5</th>\n",
       "      <td>DKK</td>\n",
       "      <td>Women of Danish origin</td>\n",
       "    </tr>\n",
       "  </tbody>\n",
       "</table>\n",
       "</div>"
      ],
      "text/plain": [
       "     id                                         text\n",
       "0    AK                                    All women\n",
       "1   IKV       Immigrant women from western countries\n",
       "2  IKIV   Immigrant women from non-western countries\n",
       "3   EKV      Descendant women from western countries\n",
       "4  EKIV  Descendant women from non-western countries\n",
       "5   DKK                       Women of Danish origin"
      ]
     },
     "metadata": {},
     "output_type": "display_data"
    },
    {
     "name": "stdout",
     "output_type": "stream",
     "text": [
      "Tid:\n"
     ]
    },
    {
     "data": {
      "text/html": [
       "<div>\n",
       "<style scoped>\n",
       "    .dataframe tbody tr th:only-of-type {\n",
       "        vertical-align: middle;\n",
       "    }\n",
       "\n",
       "    .dataframe tbody tr th {\n",
       "        vertical-align: top;\n",
       "    }\n",
       "\n",
       "    .dataframe thead th {\n",
       "        text-align: right;\n",
       "    }\n",
       "</style>\n",
       "<table border=\"1\" class=\"dataframe\">\n",
       "  <thead>\n",
       "    <tr style=\"text-align: right;\">\n",
       "      <th></th>\n",
       "      <th>id</th>\n",
       "      <th>text</th>\n",
       "    </tr>\n",
       "  </thead>\n",
       "  <tbody>\n",
       "    <tr>\n",
       "      <th>0</th>\n",
       "      <td>1986</td>\n",
       "      <td>1986</td>\n",
       "    </tr>\n",
       "    <tr>\n",
       "      <th>1</th>\n",
       "      <td>1987</td>\n",
       "      <td>1987</td>\n",
       "    </tr>\n",
       "    <tr>\n",
       "      <th>2</th>\n",
       "      <td>1988</td>\n",
       "      <td>1988</td>\n",
       "    </tr>\n",
       "    <tr>\n",
       "      <th>3</th>\n",
       "      <td>1989</td>\n",
       "      <td>1989</td>\n",
       "    </tr>\n",
       "    <tr>\n",
       "      <th>4</th>\n",
       "      <td>1990</td>\n",
       "      <td>1990</td>\n",
       "    </tr>\n",
       "    <tr>\n",
       "      <th>5</th>\n",
       "      <td>1991</td>\n",
       "      <td>1991</td>\n",
       "    </tr>\n",
       "    <tr>\n",
       "      <th>6</th>\n",
       "      <td>1992</td>\n",
       "      <td>1992</td>\n",
       "    </tr>\n",
       "    <tr>\n",
       "      <th>7</th>\n",
       "      <td>1993</td>\n",
       "      <td>1993</td>\n",
       "    </tr>\n",
       "    <tr>\n",
       "      <th>8</th>\n",
       "      <td>1994</td>\n",
       "      <td>1994</td>\n",
       "    </tr>\n",
       "    <tr>\n",
       "      <th>9</th>\n",
       "      <td>1995</td>\n",
       "      <td>1995</td>\n",
       "    </tr>\n",
       "    <tr>\n",
       "      <th>10</th>\n",
       "      <td>1996</td>\n",
       "      <td>1996</td>\n",
       "    </tr>\n",
       "    <tr>\n",
       "      <th>11</th>\n",
       "      <td>1997</td>\n",
       "      <td>1997</td>\n",
       "    </tr>\n",
       "    <tr>\n",
       "      <th>12</th>\n",
       "      <td>1998</td>\n",
       "      <td>1998</td>\n",
       "    </tr>\n",
       "    <tr>\n",
       "      <th>13</th>\n",
       "      <td>1999</td>\n",
       "      <td>1999</td>\n",
       "    </tr>\n",
       "    <tr>\n",
       "      <th>14</th>\n",
       "      <td>2000</td>\n",
       "      <td>2000</td>\n",
       "    </tr>\n",
       "    <tr>\n",
       "      <th>15</th>\n",
       "      <td>2001</td>\n",
       "      <td>2001</td>\n",
       "    </tr>\n",
       "    <tr>\n",
       "      <th>16</th>\n",
       "      <td>2002</td>\n",
       "      <td>2002</td>\n",
       "    </tr>\n",
       "    <tr>\n",
       "      <th>17</th>\n",
       "      <td>2003</td>\n",
       "      <td>2003</td>\n",
       "    </tr>\n",
       "    <tr>\n",
       "      <th>18</th>\n",
       "      <td>2004</td>\n",
       "      <td>2004</td>\n",
       "    </tr>\n",
       "    <tr>\n",
       "      <th>19</th>\n",
       "      <td>2005</td>\n",
       "      <td>2005</td>\n",
       "    </tr>\n",
       "    <tr>\n",
       "      <th>20</th>\n",
       "      <td>2006</td>\n",
       "      <td>2006</td>\n",
       "    </tr>\n",
       "    <tr>\n",
       "      <th>21</th>\n",
       "      <td>2007</td>\n",
       "      <td>2007</td>\n",
       "    </tr>\n",
       "    <tr>\n",
       "      <th>22</th>\n",
       "      <td>2008</td>\n",
       "      <td>2008</td>\n",
       "    </tr>\n",
       "    <tr>\n",
       "      <th>23</th>\n",
       "      <td>2009</td>\n",
       "      <td>2009</td>\n",
       "    </tr>\n",
       "    <tr>\n",
       "      <th>24</th>\n",
       "      <td>2010</td>\n",
       "      <td>2010</td>\n",
       "    </tr>\n",
       "    <tr>\n",
       "      <th>25</th>\n",
       "      <td>2011</td>\n",
       "      <td>2011</td>\n",
       "    </tr>\n",
       "    <tr>\n",
       "      <th>26</th>\n",
       "      <td>2012</td>\n",
       "      <td>2012</td>\n",
       "    </tr>\n",
       "    <tr>\n",
       "      <th>27</th>\n",
       "      <td>2013</td>\n",
       "      <td>2013</td>\n",
       "    </tr>\n",
       "    <tr>\n",
       "      <th>28</th>\n",
       "      <td>2014</td>\n",
       "      <td>2014</td>\n",
       "    </tr>\n",
       "    <tr>\n",
       "      <th>29</th>\n",
       "      <td>2015</td>\n",
       "      <td>2015</td>\n",
       "    </tr>\n",
       "    <tr>\n",
       "      <th>30</th>\n",
       "      <td>2016</td>\n",
       "      <td>2016</td>\n",
       "    </tr>\n",
       "    <tr>\n",
       "      <th>31</th>\n",
       "      <td>2017</td>\n",
       "      <td>2017</td>\n",
       "    </tr>\n",
       "    <tr>\n",
       "      <th>32</th>\n",
       "      <td>2018</td>\n",
       "      <td>2018</td>\n",
       "    </tr>\n",
       "    <tr>\n",
       "      <th>33</th>\n",
       "      <td>2019</td>\n",
       "      <td>2019</td>\n",
       "    </tr>\n",
       "    <tr>\n",
       "      <th>34</th>\n",
       "      <td>2020</td>\n",
       "      <td>2020</td>\n",
       "    </tr>\n",
       "    <tr>\n",
       "      <th>35</th>\n",
       "      <td>2021</td>\n",
       "      <td>2021</td>\n",
       "    </tr>\n",
       "    <tr>\n",
       "      <th>36</th>\n",
       "      <td>2022</td>\n",
       "      <td>2022</td>\n",
       "    </tr>\n",
       "    <tr>\n",
       "      <th>37</th>\n",
       "      <td>2023</td>\n",
       "      <td>2023</td>\n",
       "    </tr>\n",
       "  </tbody>\n",
       "</table>\n",
       "</div>"
      ],
      "text/plain": [
       "      id  text\n",
       "0   1986  1986\n",
       "1   1987  1987\n",
       "2   1988  1988\n",
       "3   1989  1989\n",
       "4   1990  1990\n",
       "5   1991  1991\n",
       "6   1992  1992\n",
       "7   1993  1993\n",
       "8   1994  1994\n",
       "9   1995  1995\n",
       "10  1996  1996\n",
       "11  1997  1997\n",
       "12  1998  1998\n",
       "13  1999  1999\n",
       "14  2000  2000\n",
       "15  2001  2001\n",
       "16  2002  2002\n",
       "17  2003  2003\n",
       "18  2004  2004\n",
       "19  2005  2005\n",
       "20  2006  2006\n",
       "21  2007  2007\n",
       "22  2008  2008\n",
       "23  2009  2009\n",
       "24  2010  2010\n",
       "25  2011  2011\n",
       "26  2012  2012\n",
       "27  2013  2013\n",
       "28  2014  2014\n",
       "29  2015  2015\n",
       "30  2016  2016\n",
       "31  2017  2017\n",
       "32  2018  2018\n",
       "33  2019  2019\n",
       "34  2020  2020\n",
       "35  2021  2021\n",
       "36  2022  2022\n",
       "37  2023  2023"
      ]
     },
     "metadata": {},
     "output_type": "display_data"
    }
   ],
   "source": [
    "# The available values for a each variable: \n",
    "for variable in tabsum_fert['variable name']:\n",
    "    print(variable+':')\n",
    "    display(fert.variable_levels(variable, language='en'))"
   ]
  },
  {
   "cell_type": "code",
   "execution_count": 5,
   "metadata": {},
   "outputs": [
    {
     "name": "stdout",
     "output_type": "stream",
     "text": [
      "Table NAN1: Demand and supply by transaction, price unit and time\n",
      "Last update: 2024-06-28T08:00:00\n"
     ]
    },
    {
     "data": {
      "text/html": [
       "<div>\n",
       "<style scoped>\n",
       "    .dataframe tbody tr th:only-of-type {\n",
       "        vertical-align: middle;\n",
       "    }\n",
       "\n",
       "    .dataframe tbody tr th {\n",
       "        vertical-align: top;\n",
       "    }\n",
       "\n",
       "    .dataframe thead th {\n",
       "        text-align: right;\n",
       "    }\n",
       "</style>\n",
       "<table border=\"1\" class=\"dataframe\">\n",
       "  <thead>\n",
       "    <tr style=\"text-align: right;\">\n",
       "      <th></th>\n",
       "      <th>variable name</th>\n",
       "      <th># values</th>\n",
       "      <th>First value</th>\n",
       "      <th>First value label</th>\n",
       "      <th>Last value</th>\n",
       "      <th>Last value label</th>\n",
       "      <th>Time variable</th>\n",
       "    </tr>\n",
       "  </thead>\n",
       "  <tbody>\n",
       "    <tr>\n",
       "      <th>0</th>\n",
       "      <td>TRANSAKT</td>\n",
       "      <td>31</td>\n",
       "      <td>B1GQK</td>\n",
       "      <td>B.1*g Gross domestic product</td>\n",
       "      <td>EMPM_DC</td>\n",
       "      <td>Total employment (1,000 persons)</td>\n",
       "      <td>False</td>\n",
       "    </tr>\n",
       "    <tr>\n",
       "      <th>1</th>\n",
       "      <td>PRISENHED</td>\n",
       "      <td>6</td>\n",
       "      <td>V_M</td>\n",
       "      <td>Current prices, (bill. DKK.)</td>\n",
       "      <td>LAN_C</td>\n",
       "      <td>Pr. capita, 2020-prices, chained values, (1000...</td>\n",
       "      <td>False</td>\n",
       "    </tr>\n",
       "    <tr>\n",
       "      <th>2</th>\n",
       "      <td>Tid</td>\n",
       "      <td>58</td>\n",
       "      <td>1966</td>\n",
       "      <td>1966</td>\n",
       "      <td>2023</td>\n",
       "      <td>2023</td>\n",
       "      <td>True</td>\n",
       "    </tr>\n",
       "  </tbody>\n",
       "</table>\n",
       "</div>"
      ],
      "text/plain": [
       "  variable name  # values First value             First value label  \\\n",
       "0      TRANSAKT        31       B1GQK  B.1*g Gross domestic product   \n",
       "1     PRISENHED         6         V_M  Current prices, (bill. DKK.)   \n",
       "2           Tid        58        1966                          1966   \n",
       "\n",
       "  Last value                                   Last value label  Time variable  \n",
       "0    EMPM_DC                   Total employment (1,000 persons)          False  \n",
       "1      LAN_C  Pr. capita, 2020-prices, chained values, (1000...          False  \n",
       "2       2023                                               2023           True  "
      ]
     },
     "metadata": {},
     "output_type": "display_data"
    },
    {
     "name": "stdout",
     "output_type": "stream",
     "text": [
      "TRANSAKT:\n"
     ]
    },
    {
     "data": {
      "text/html": [
       "<div>\n",
       "<style scoped>\n",
       "    .dataframe tbody tr th:only-of-type {\n",
       "        vertical-align: middle;\n",
       "    }\n",
       "\n",
       "    .dataframe tbody tr th {\n",
       "        vertical-align: top;\n",
       "    }\n",
       "\n",
       "    .dataframe thead th {\n",
       "        text-align: right;\n",
       "    }\n",
       "</style>\n",
       "<table border=\"1\" class=\"dataframe\">\n",
       "  <thead>\n",
       "    <tr style=\"text-align: right;\">\n",
       "      <th></th>\n",
       "      <th>id</th>\n",
       "      <th>text</th>\n",
       "    </tr>\n",
       "  </thead>\n",
       "  <tbody>\n",
       "    <tr>\n",
       "      <th>0</th>\n",
       "      <td>B1GQK</td>\n",
       "      <td>B.1*g Gross domestic product</td>\n",
       "    </tr>\n",
       "    <tr>\n",
       "      <th>1</th>\n",
       "      <td>P7K</td>\n",
       "      <td>P.7 Imports of goods and services</td>\n",
       "    </tr>\n",
       "    <tr>\n",
       "      <th>2</th>\n",
       "      <td>P71K</td>\n",
       "      <td>P.71 Import of goods</td>\n",
       "    </tr>\n",
       "    <tr>\n",
       "      <th>3</th>\n",
       "      <td>P72K</td>\n",
       "      <td>P.72 Import of services</td>\n",
       "    </tr>\n",
       "    <tr>\n",
       "      <th>4</th>\n",
       "      <td>TFSPR</td>\n",
       "      <td>Supply</td>\n",
       "    </tr>\n",
       "    <tr>\n",
       "      <th>5</th>\n",
       "      <td>P6D</td>\n",
       "      <td>P.6 Exports of goods and services</td>\n",
       "    </tr>\n",
       "    <tr>\n",
       "      <th>6</th>\n",
       "      <td>P61D</td>\n",
       "      <td>P.61 Export of goods</td>\n",
       "    </tr>\n",
       "    <tr>\n",
       "      <th>7</th>\n",
       "      <td>P62D</td>\n",
       "      <td>P.62 Export of services</td>\n",
       "    </tr>\n",
       "    <tr>\n",
       "      <th>8</th>\n",
       "      <td>P31S1MD</td>\n",
       "      <td>P.31 Private consumption</td>\n",
       "    </tr>\n",
       "    <tr>\n",
       "      <th>9</th>\n",
       "      <td>P31S14D</td>\n",
       "      <td>P.31 Household consumption expenditure</td>\n",
       "    </tr>\n",
       "    <tr>\n",
       "      <th>10</th>\n",
       "      <td>P311AD</td>\n",
       "      <td>Purchase of vehicles</td>\n",
       "    </tr>\n",
       "    <tr>\n",
       "      <th>11</th>\n",
       "      <td>P311B_3D</td>\n",
       "      <td>Other goods</td>\n",
       "    </tr>\n",
       "    <tr>\n",
       "      <th>12</th>\n",
       "      <td>P314A33S34D</td>\n",
       "      <td>Services incl. tourism</td>\n",
       "    </tr>\n",
       "    <tr>\n",
       "      <th>13</th>\n",
       "      <td>P314D</td>\n",
       "      <td>Services</td>\n",
       "    </tr>\n",
       "    <tr>\n",
       "      <th>14</th>\n",
       "      <td>P33D</td>\n",
       "      <td>Final consumption expenditure of resident hous...</td>\n",
       "    </tr>\n",
       "    <tr>\n",
       "      <th>15</th>\n",
       "      <td>P34D</td>\n",
       "      <td>Final consumption expenditure of non-resident ...</td>\n",
       "    </tr>\n",
       "    <tr>\n",
       "      <th>16</th>\n",
       "      <td>P31S15D</td>\n",
       "      <td>P.31 Non-profit institutions serving household...</td>\n",
       "    </tr>\n",
       "    <tr>\n",
       "      <th>17</th>\n",
       "      <td>P3S13D</td>\n",
       "      <td>P.3 Government consumption expenditure</td>\n",
       "    </tr>\n",
       "    <tr>\n",
       "      <th>18</th>\n",
       "      <td>P5GD</td>\n",
       "      <td>P.5g Gross capital formation</td>\n",
       "    </tr>\n",
       "    <tr>\n",
       "      <th>19</th>\n",
       "      <td>P51GD</td>\n",
       "      <td>P.51g Gross fixed capital formation</td>\n",
       "    </tr>\n",
       "    <tr>\n",
       "      <th>20</th>\n",
       "      <td>P51GD_N111</td>\n",
       "      <td>N.111 Dwellings</td>\n",
       "    </tr>\n",
       "    <tr>\n",
       "      <th>21</th>\n",
       "      <td>P51GD_N112</td>\n",
       "      <td>N.112 Other buildings and structures</td>\n",
       "    </tr>\n",
       "    <tr>\n",
       "      <th>22</th>\n",
       "      <td>P51GD_N11N</td>\n",
       "      <td>N.113-N.115 Machinery, transport equipment etc.</td>\n",
       "    </tr>\n",
       "    <tr>\n",
       "      <th>23</th>\n",
       "      <td>P51GD_N117</td>\n",
       "      <td>N.117 Intellectual property products</td>\n",
       "    </tr>\n",
       "    <tr>\n",
       "      <th>24</th>\n",
       "      <td>P52_53D</td>\n",
       "      <td>P.52+P.53 Changes in inventories etc.</td>\n",
       "    </tr>\n",
       "    <tr>\n",
       "      <th>25</th>\n",
       "      <td>P52D</td>\n",
       "      <td>P.52 Changes in inventories</td>\n",
       "    </tr>\n",
       "    <tr>\n",
       "      <th>26</th>\n",
       "      <td>P53D</td>\n",
       "      <td>P.53 Acquisitions less disposals of valuables</td>\n",
       "    </tr>\n",
       "    <tr>\n",
       "      <th>27</th>\n",
       "      <td>TFUPRXP6</td>\n",
       "      <td>Final domestic demand</td>\n",
       "    </tr>\n",
       "    <tr>\n",
       "      <th>28</th>\n",
       "      <td>TFUPR</td>\n",
       "      <td>Final demand</td>\n",
       "    </tr>\n",
       "    <tr>\n",
       "      <th>29</th>\n",
       "      <td>EMPH_DC</td>\n",
       "      <td>Total actual hours worked (million hours)</td>\n",
       "    </tr>\n",
       "    <tr>\n",
       "      <th>30</th>\n",
       "      <td>EMPM_DC</td>\n",
       "      <td>Total employment (1,000 persons)</td>\n",
       "    </tr>\n",
       "  </tbody>\n",
       "</table>\n",
       "</div>"
      ],
      "text/plain": [
       "             id                                               text\n",
       "0         B1GQK                       B.1*g Gross domestic product\n",
       "1           P7K                  P.7 Imports of goods and services\n",
       "2          P71K                               P.71 Import of goods\n",
       "3          P72K                            P.72 Import of services\n",
       "4         TFSPR                                             Supply\n",
       "5           P6D                  P.6 Exports of goods and services\n",
       "6          P61D                               P.61 Export of goods\n",
       "7          P62D                            P.62 Export of services\n",
       "8       P31S1MD                           P.31 Private consumption\n",
       "9       P31S14D             P.31 Household consumption expenditure\n",
       "10       P311AD                               Purchase of vehicles\n",
       "11     P311B_3D                                        Other goods\n",
       "12  P314A33S34D                             Services incl. tourism\n",
       "13        P314D                                           Services\n",
       "14         P33D  Final consumption expenditure of resident hous...\n",
       "15         P34D  Final consumption expenditure of non-resident ...\n",
       "16      P31S15D  P.31 Non-profit institutions serving household...\n",
       "17       P3S13D             P.3 Government consumption expenditure\n",
       "18         P5GD                       P.5g Gross capital formation\n",
       "19        P51GD                P.51g Gross fixed capital formation\n",
       "20   P51GD_N111                                    N.111 Dwellings\n",
       "21   P51GD_N112               N.112 Other buildings and structures\n",
       "22   P51GD_N11N    N.113-N.115 Machinery, transport equipment etc.\n",
       "23   P51GD_N117               N.117 Intellectual property products\n",
       "24      P52_53D              P.52+P.53 Changes in inventories etc.\n",
       "25         P52D                        P.52 Changes in inventories\n",
       "26         P53D      P.53 Acquisitions less disposals of valuables\n",
       "27     TFUPRXP6                              Final domestic demand\n",
       "28        TFUPR                                       Final demand\n",
       "29      EMPH_DC          Total actual hours worked (million hours)\n",
       "30      EMPM_DC                   Total employment (1,000 persons)"
      ]
     },
     "metadata": {},
     "output_type": "display_data"
    },
    {
     "name": "stdout",
     "output_type": "stream",
     "text": [
      "PRISENHED:\n"
     ]
    },
    {
     "data": {
      "text/html": [
       "<div>\n",
       "<style scoped>\n",
       "    .dataframe tbody tr th:only-of-type {\n",
       "        vertical-align: middle;\n",
       "    }\n",
       "\n",
       "    .dataframe tbody tr th {\n",
       "        vertical-align: top;\n",
       "    }\n",
       "\n",
       "    .dataframe thead th {\n",
       "        text-align: right;\n",
       "    }\n",
       "</style>\n",
       "<table border=\"1\" class=\"dataframe\">\n",
       "  <thead>\n",
       "    <tr style=\"text-align: right;\">\n",
       "      <th></th>\n",
       "      <th>id</th>\n",
       "      <th>text</th>\n",
       "    </tr>\n",
       "  </thead>\n",
       "  <tbody>\n",
       "    <tr>\n",
       "      <th>0</th>\n",
       "      <td>V_M</td>\n",
       "      <td>Current prices, (bill. DKK.)</td>\n",
       "    </tr>\n",
       "    <tr>\n",
       "      <th>1</th>\n",
       "      <td>LAN_M</td>\n",
       "      <td>2020-prices, chained values, (bill. DKK.)</td>\n",
       "    </tr>\n",
       "    <tr>\n",
       "      <th>2</th>\n",
       "      <td>L_V</td>\n",
       "      <td>Period-to-period real growth (per cent)</td>\n",
       "    </tr>\n",
       "    <tr>\n",
       "      <th>3</th>\n",
       "      <td>V_C</td>\n",
       "      <td>Pr. capita. Current prices, (1000 DKK.)</td>\n",
       "    </tr>\n",
       "    <tr>\n",
       "      <th>4</th>\n",
       "      <td>L_VB</td>\n",
       "      <td>Contribution to GDP growth, (percentage point)</td>\n",
       "    </tr>\n",
       "    <tr>\n",
       "      <th>5</th>\n",
       "      <td>LAN_C</td>\n",
       "      <td>Pr. capita, 2020-prices, chained values, (1000...</td>\n",
       "    </tr>\n",
       "  </tbody>\n",
       "</table>\n",
       "</div>"
      ],
      "text/plain": [
       "      id                                               text\n",
       "0    V_M                       Current prices, (bill. DKK.)\n",
       "1  LAN_M          2020-prices, chained values, (bill. DKK.)\n",
       "2    L_V           Period-to-period real growth (per cent) \n",
       "3    V_C            Pr. capita. Current prices, (1000 DKK.)\n",
       "4   L_VB     Contribution to GDP growth, (percentage point)\n",
       "5  LAN_C  Pr. capita, 2020-prices, chained values, (1000..."
      ]
     },
     "metadata": {},
     "output_type": "display_data"
    },
    {
     "name": "stdout",
     "output_type": "stream",
     "text": [
      "Tid:\n"
     ]
    },
    {
     "data": {
      "text/html": [
       "<div>\n",
       "<style scoped>\n",
       "    .dataframe tbody tr th:only-of-type {\n",
       "        vertical-align: middle;\n",
       "    }\n",
       "\n",
       "    .dataframe tbody tr th {\n",
       "        vertical-align: top;\n",
       "    }\n",
       "\n",
       "    .dataframe thead th {\n",
       "        text-align: right;\n",
       "    }\n",
       "</style>\n",
       "<table border=\"1\" class=\"dataframe\">\n",
       "  <thead>\n",
       "    <tr style=\"text-align: right;\">\n",
       "      <th></th>\n",
       "      <th>id</th>\n",
       "      <th>text</th>\n",
       "    </tr>\n",
       "  </thead>\n",
       "  <tbody>\n",
       "    <tr>\n",
       "      <th>0</th>\n",
       "      <td>1966</td>\n",
       "      <td>1966</td>\n",
       "    </tr>\n",
       "    <tr>\n",
       "      <th>1</th>\n",
       "      <td>1967</td>\n",
       "      <td>1967</td>\n",
       "    </tr>\n",
       "    <tr>\n",
       "      <th>2</th>\n",
       "      <td>1968</td>\n",
       "      <td>1968</td>\n",
       "    </tr>\n",
       "    <tr>\n",
       "      <th>3</th>\n",
       "      <td>1969</td>\n",
       "      <td>1969</td>\n",
       "    </tr>\n",
       "    <tr>\n",
       "      <th>4</th>\n",
       "      <td>1970</td>\n",
       "      <td>1970</td>\n",
       "    </tr>\n",
       "    <tr>\n",
       "      <th>5</th>\n",
       "      <td>1971</td>\n",
       "      <td>1971</td>\n",
       "    </tr>\n",
       "    <tr>\n",
       "      <th>6</th>\n",
       "      <td>1972</td>\n",
       "      <td>1972</td>\n",
       "    </tr>\n",
       "    <tr>\n",
       "      <th>7</th>\n",
       "      <td>1973</td>\n",
       "      <td>1973</td>\n",
       "    </tr>\n",
       "    <tr>\n",
       "      <th>8</th>\n",
       "      <td>1974</td>\n",
       "      <td>1974</td>\n",
       "    </tr>\n",
       "    <tr>\n",
       "      <th>9</th>\n",
       "      <td>1975</td>\n",
       "      <td>1975</td>\n",
       "    </tr>\n",
       "    <tr>\n",
       "      <th>10</th>\n",
       "      <td>1976</td>\n",
       "      <td>1976</td>\n",
       "    </tr>\n",
       "    <tr>\n",
       "      <th>11</th>\n",
       "      <td>1977</td>\n",
       "      <td>1977</td>\n",
       "    </tr>\n",
       "    <tr>\n",
       "      <th>12</th>\n",
       "      <td>1978</td>\n",
       "      <td>1978</td>\n",
       "    </tr>\n",
       "    <tr>\n",
       "      <th>13</th>\n",
       "      <td>1979</td>\n",
       "      <td>1979</td>\n",
       "    </tr>\n",
       "    <tr>\n",
       "      <th>14</th>\n",
       "      <td>1980</td>\n",
       "      <td>1980</td>\n",
       "    </tr>\n",
       "    <tr>\n",
       "      <th>15</th>\n",
       "      <td>1981</td>\n",
       "      <td>1981</td>\n",
       "    </tr>\n",
       "    <tr>\n",
       "      <th>16</th>\n",
       "      <td>1982</td>\n",
       "      <td>1982</td>\n",
       "    </tr>\n",
       "    <tr>\n",
       "      <th>17</th>\n",
       "      <td>1983</td>\n",
       "      <td>1983</td>\n",
       "    </tr>\n",
       "    <tr>\n",
       "      <th>18</th>\n",
       "      <td>1984</td>\n",
       "      <td>1984</td>\n",
       "    </tr>\n",
       "    <tr>\n",
       "      <th>19</th>\n",
       "      <td>1985</td>\n",
       "      <td>1985</td>\n",
       "    </tr>\n",
       "    <tr>\n",
       "      <th>20</th>\n",
       "      <td>1986</td>\n",
       "      <td>1986</td>\n",
       "    </tr>\n",
       "    <tr>\n",
       "      <th>21</th>\n",
       "      <td>1987</td>\n",
       "      <td>1987</td>\n",
       "    </tr>\n",
       "    <tr>\n",
       "      <th>22</th>\n",
       "      <td>1988</td>\n",
       "      <td>1988</td>\n",
       "    </tr>\n",
       "    <tr>\n",
       "      <th>23</th>\n",
       "      <td>1989</td>\n",
       "      <td>1989</td>\n",
       "    </tr>\n",
       "    <tr>\n",
       "      <th>24</th>\n",
       "      <td>1990</td>\n",
       "      <td>1990</td>\n",
       "    </tr>\n",
       "    <tr>\n",
       "      <th>25</th>\n",
       "      <td>1991</td>\n",
       "      <td>1991</td>\n",
       "    </tr>\n",
       "    <tr>\n",
       "      <th>26</th>\n",
       "      <td>1992</td>\n",
       "      <td>1992</td>\n",
       "    </tr>\n",
       "    <tr>\n",
       "      <th>27</th>\n",
       "      <td>1993</td>\n",
       "      <td>1993</td>\n",
       "    </tr>\n",
       "    <tr>\n",
       "      <th>28</th>\n",
       "      <td>1994</td>\n",
       "      <td>1994</td>\n",
       "    </tr>\n",
       "    <tr>\n",
       "      <th>29</th>\n",
       "      <td>1995</td>\n",
       "      <td>1995</td>\n",
       "    </tr>\n",
       "    <tr>\n",
       "      <th>30</th>\n",
       "      <td>1996</td>\n",
       "      <td>1996</td>\n",
       "    </tr>\n",
       "    <tr>\n",
       "      <th>31</th>\n",
       "      <td>1997</td>\n",
       "      <td>1997</td>\n",
       "    </tr>\n",
       "    <tr>\n",
       "      <th>32</th>\n",
       "      <td>1998</td>\n",
       "      <td>1998</td>\n",
       "    </tr>\n",
       "    <tr>\n",
       "      <th>33</th>\n",
       "      <td>1999</td>\n",
       "      <td>1999</td>\n",
       "    </tr>\n",
       "    <tr>\n",
       "      <th>34</th>\n",
       "      <td>2000</td>\n",
       "      <td>2000</td>\n",
       "    </tr>\n",
       "    <tr>\n",
       "      <th>35</th>\n",
       "      <td>2001</td>\n",
       "      <td>2001</td>\n",
       "    </tr>\n",
       "    <tr>\n",
       "      <th>36</th>\n",
       "      <td>2002</td>\n",
       "      <td>2002</td>\n",
       "    </tr>\n",
       "    <tr>\n",
       "      <th>37</th>\n",
       "      <td>2003</td>\n",
       "      <td>2003</td>\n",
       "    </tr>\n",
       "    <tr>\n",
       "      <th>38</th>\n",
       "      <td>2004</td>\n",
       "      <td>2004</td>\n",
       "    </tr>\n",
       "    <tr>\n",
       "      <th>39</th>\n",
       "      <td>2005</td>\n",
       "      <td>2005</td>\n",
       "    </tr>\n",
       "    <tr>\n",
       "      <th>40</th>\n",
       "      <td>2006</td>\n",
       "      <td>2006</td>\n",
       "    </tr>\n",
       "    <tr>\n",
       "      <th>41</th>\n",
       "      <td>2007</td>\n",
       "      <td>2007</td>\n",
       "    </tr>\n",
       "    <tr>\n",
       "      <th>42</th>\n",
       "      <td>2008</td>\n",
       "      <td>2008</td>\n",
       "    </tr>\n",
       "    <tr>\n",
       "      <th>43</th>\n",
       "      <td>2009</td>\n",
       "      <td>2009</td>\n",
       "    </tr>\n",
       "    <tr>\n",
       "      <th>44</th>\n",
       "      <td>2010</td>\n",
       "      <td>2010</td>\n",
       "    </tr>\n",
       "    <tr>\n",
       "      <th>45</th>\n",
       "      <td>2011</td>\n",
       "      <td>2011</td>\n",
       "    </tr>\n",
       "    <tr>\n",
       "      <th>46</th>\n",
       "      <td>2012</td>\n",
       "      <td>2012</td>\n",
       "    </tr>\n",
       "    <tr>\n",
       "      <th>47</th>\n",
       "      <td>2013</td>\n",
       "      <td>2013</td>\n",
       "    </tr>\n",
       "    <tr>\n",
       "      <th>48</th>\n",
       "      <td>2014</td>\n",
       "      <td>2014</td>\n",
       "    </tr>\n",
       "    <tr>\n",
       "      <th>49</th>\n",
       "      <td>2015</td>\n",
       "      <td>2015</td>\n",
       "    </tr>\n",
       "    <tr>\n",
       "      <th>50</th>\n",
       "      <td>2016</td>\n",
       "      <td>2016</td>\n",
       "    </tr>\n",
       "    <tr>\n",
       "      <th>51</th>\n",
       "      <td>2017</td>\n",
       "      <td>2017</td>\n",
       "    </tr>\n",
       "    <tr>\n",
       "      <th>52</th>\n",
       "      <td>2018</td>\n",
       "      <td>2018</td>\n",
       "    </tr>\n",
       "    <tr>\n",
       "      <th>53</th>\n",
       "      <td>2019</td>\n",
       "      <td>2019</td>\n",
       "    </tr>\n",
       "    <tr>\n",
       "      <th>54</th>\n",
       "      <td>2020</td>\n",
       "      <td>2020</td>\n",
       "    </tr>\n",
       "    <tr>\n",
       "      <th>55</th>\n",
       "      <td>2021</td>\n",
       "      <td>2021</td>\n",
       "    </tr>\n",
       "    <tr>\n",
       "      <th>56</th>\n",
       "      <td>2022</td>\n",
       "      <td>2022</td>\n",
       "    </tr>\n",
       "    <tr>\n",
       "      <th>57</th>\n",
       "      <td>2023</td>\n",
       "      <td>2023</td>\n",
       "    </tr>\n",
       "  </tbody>\n",
       "</table>\n",
       "</div>"
      ],
      "text/plain": [
       "      id  text\n",
       "0   1966  1966\n",
       "1   1967  1967\n",
       "2   1968  1968\n",
       "3   1969  1969\n",
       "4   1970  1970\n",
       "5   1971  1971\n",
       "6   1972  1972\n",
       "7   1973  1973\n",
       "8   1974  1974\n",
       "9   1975  1975\n",
       "10  1976  1976\n",
       "11  1977  1977\n",
       "12  1978  1978\n",
       "13  1979  1979\n",
       "14  1980  1980\n",
       "15  1981  1981\n",
       "16  1982  1982\n",
       "17  1983  1983\n",
       "18  1984  1984\n",
       "19  1985  1985\n",
       "20  1986  1986\n",
       "21  1987  1987\n",
       "22  1988  1988\n",
       "23  1989  1989\n",
       "24  1990  1990\n",
       "25  1991  1991\n",
       "26  1992  1992\n",
       "27  1993  1993\n",
       "28  1994  1994\n",
       "29  1995  1995\n",
       "30  1996  1996\n",
       "31  1997  1997\n",
       "32  1998  1998\n",
       "33  1999  1999\n",
       "34  2000  2000\n",
       "35  2001  2001\n",
       "36  2002  2002\n",
       "37  2003  2003\n",
       "38  2004  2004\n",
       "39  2005  2005\n",
       "40  2006  2006\n",
       "41  2007  2007\n",
       "42  2008  2008\n",
       "43  2009  2009\n",
       "44  2010  2010\n",
       "45  2011  2011\n",
       "46  2012  2012\n",
       "47  2013  2013\n",
       "48  2014  2014\n",
       "49  2015  2015\n",
       "50  2016  2016\n",
       "51  2017  2017\n",
       "52  2018  2018\n",
       "53  2019  2019\n",
       "54  2020  2020\n",
       "55  2021  2021\n",
       "56  2022  2022\n",
       "57  2023  2023"
      ]
     },
     "metadata": {},
     "output_type": "display_data"
    }
   ],
   "source": [
    "tabsum_gdp= gdp.tablesummary(language='en')\n",
    "display(tabsum_gdp)\n",
    "for var in tabsum_gdp['variable name']:\n",
    "    print(var+':')\n",
    "    display(gdp.variable_levels(var, language='en'))\n"
   ]
  },
  {
   "cell_type": "code",
   "execution_count": 6,
   "metadata": {},
   "outputs": [
    {
     "name": "stdout",
     "output_type": "stream",
     "text": [
      "Table PRIS112: Consumer price index by main figures and time\n",
      "Last update: 2024-01-10T08:00:00\n"
     ]
    },
    {
     "data": {
      "text/html": [
       "<div>\n",
       "<style scoped>\n",
       "    .dataframe tbody tr th:only-of-type {\n",
       "        vertical-align: middle;\n",
       "    }\n",
       "\n",
       "    .dataframe tbody tr th {\n",
       "        vertical-align: top;\n",
       "    }\n",
       "\n",
       "    .dataframe thead th {\n",
       "        text-align: right;\n",
       "    }\n",
       "</style>\n",
       "<table border=\"1\" class=\"dataframe\">\n",
       "  <thead>\n",
       "    <tr style=\"text-align: right;\">\n",
       "      <th></th>\n",
       "      <th>variable name</th>\n",
       "      <th># values</th>\n",
       "      <th>First value</th>\n",
       "      <th>First value label</th>\n",
       "      <th>Last value</th>\n",
       "      <th>Last value label</th>\n",
       "      <th>Time variable</th>\n",
       "    </tr>\n",
       "  </thead>\n",
       "  <tbody>\n",
       "    <tr>\n",
       "      <th>0</th>\n",
       "      <td>HOVED</td>\n",
       "      <td>2</td>\n",
       "      <td>1005</td>\n",
       "      <td>Average, yearly</td>\n",
       "      <td>1010</td>\n",
       "      <td>Annual increase</td>\n",
       "      <td>False</td>\n",
       "    </tr>\n",
       "    <tr>\n",
       "      <th>1</th>\n",
       "      <td>Tid</td>\n",
       "      <td>44</td>\n",
       "      <td>1980</td>\n",
       "      <td>1980</td>\n",
       "      <td>2023</td>\n",
       "      <td>2023</td>\n",
       "      <td>True</td>\n",
       "    </tr>\n",
       "  </tbody>\n",
       "</table>\n",
       "</div>"
      ],
      "text/plain": [
       "  variable name  # values First value First value label Last value  \\\n",
       "0         HOVED         2        1005   Average, yearly       1010   \n",
       "1           Tid        44        1980              1980       2023   \n",
       "\n",
       "  Last value label  Time variable  \n",
       "0  Annual increase          False  \n",
       "1             2023           True  "
      ]
     },
     "metadata": {},
     "output_type": "display_data"
    },
    {
     "name": "stdout",
     "output_type": "stream",
     "text": [
      "HOVED:\n"
     ]
    },
    {
     "data": {
      "text/html": [
       "<div>\n",
       "<style scoped>\n",
       "    .dataframe tbody tr th:only-of-type {\n",
       "        vertical-align: middle;\n",
       "    }\n",
       "\n",
       "    .dataframe tbody tr th {\n",
       "        vertical-align: top;\n",
       "    }\n",
       "\n",
       "    .dataframe thead th {\n",
       "        text-align: right;\n",
       "    }\n",
       "</style>\n",
       "<table border=\"1\" class=\"dataframe\">\n",
       "  <thead>\n",
       "    <tr style=\"text-align: right;\">\n",
       "      <th></th>\n",
       "      <th>id</th>\n",
       "      <th>text</th>\n",
       "    </tr>\n",
       "  </thead>\n",
       "  <tbody>\n",
       "    <tr>\n",
       "      <th>0</th>\n",
       "      <td>1005</td>\n",
       "      <td>Average, yearly</td>\n",
       "    </tr>\n",
       "    <tr>\n",
       "      <th>1</th>\n",
       "      <td>1010</td>\n",
       "      <td>Annual increase</td>\n",
       "    </tr>\n",
       "  </tbody>\n",
       "</table>\n",
       "</div>"
      ],
      "text/plain": [
       "     id             text\n",
       "0  1005  Average, yearly\n",
       "1  1010  Annual increase"
      ]
     },
     "metadata": {},
     "output_type": "display_data"
    },
    {
     "name": "stdout",
     "output_type": "stream",
     "text": [
      "Tid:\n"
     ]
    },
    {
     "data": {
      "text/html": [
       "<div>\n",
       "<style scoped>\n",
       "    .dataframe tbody tr th:only-of-type {\n",
       "        vertical-align: middle;\n",
       "    }\n",
       "\n",
       "    .dataframe tbody tr th {\n",
       "        vertical-align: top;\n",
       "    }\n",
       "\n",
       "    .dataframe thead th {\n",
       "        text-align: right;\n",
       "    }\n",
       "</style>\n",
       "<table border=\"1\" class=\"dataframe\">\n",
       "  <thead>\n",
       "    <tr style=\"text-align: right;\">\n",
       "      <th></th>\n",
       "      <th>id</th>\n",
       "      <th>text</th>\n",
       "    </tr>\n",
       "  </thead>\n",
       "  <tbody>\n",
       "    <tr>\n",
       "      <th>0</th>\n",
       "      <td>1980</td>\n",
       "      <td>1980</td>\n",
       "    </tr>\n",
       "    <tr>\n",
       "      <th>1</th>\n",
       "      <td>1981</td>\n",
       "      <td>1981</td>\n",
       "    </tr>\n",
       "    <tr>\n",
       "      <th>2</th>\n",
       "      <td>1982</td>\n",
       "      <td>1982</td>\n",
       "    </tr>\n",
       "    <tr>\n",
       "      <th>3</th>\n",
       "      <td>1983</td>\n",
       "      <td>1983</td>\n",
       "    </tr>\n",
       "    <tr>\n",
       "      <th>4</th>\n",
       "      <td>1984</td>\n",
       "      <td>1984</td>\n",
       "    </tr>\n",
       "    <tr>\n",
       "      <th>5</th>\n",
       "      <td>1985</td>\n",
       "      <td>1985</td>\n",
       "    </tr>\n",
       "    <tr>\n",
       "      <th>6</th>\n",
       "      <td>1986</td>\n",
       "      <td>1986</td>\n",
       "    </tr>\n",
       "    <tr>\n",
       "      <th>7</th>\n",
       "      <td>1987</td>\n",
       "      <td>1987</td>\n",
       "    </tr>\n",
       "    <tr>\n",
       "      <th>8</th>\n",
       "      <td>1988</td>\n",
       "      <td>1988</td>\n",
       "    </tr>\n",
       "    <tr>\n",
       "      <th>9</th>\n",
       "      <td>1989</td>\n",
       "      <td>1989</td>\n",
       "    </tr>\n",
       "    <tr>\n",
       "      <th>10</th>\n",
       "      <td>1990</td>\n",
       "      <td>1990</td>\n",
       "    </tr>\n",
       "    <tr>\n",
       "      <th>11</th>\n",
       "      <td>1991</td>\n",
       "      <td>1991</td>\n",
       "    </tr>\n",
       "    <tr>\n",
       "      <th>12</th>\n",
       "      <td>1992</td>\n",
       "      <td>1992</td>\n",
       "    </tr>\n",
       "    <tr>\n",
       "      <th>13</th>\n",
       "      <td>1993</td>\n",
       "      <td>1993</td>\n",
       "    </tr>\n",
       "    <tr>\n",
       "      <th>14</th>\n",
       "      <td>1994</td>\n",
       "      <td>1994</td>\n",
       "    </tr>\n",
       "    <tr>\n",
       "      <th>15</th>\n",
       "      <td>1995</td>\n",
       "      <td>1995</td>\n",
       "    </tr>\n",
       "    <tr>\n",
       "      <th>16</th>\n",
       "      <td>1996</td>\n",
       "      <td>1996</td>\n",
       "    </tr>\n",
       "    <tr>\n",
       "      <th>17</th>\n",
       "      <td>1997</td>\n",
       "      <td>1997</td>\n",
       "    </tr>\n",
       "    <tr>\n",
       "      <th>18</th>\n",
       "      <td>1998</td>\n",
       "      <td>1998</td>\n",
       "    </tr>\n",
       "    <tr>\n",
       "      <th>19</th>\n",
       "      <td>1999</td>\n",
       "      <td>1999</td>\n",
       "    </tr>\n",
       "    <tr>\n",
       "      <th>20</th>\n",
       "      <td>2000</td>\n",
       "      <td>2000</td>\n",
       "    </tr>\n",
       "    <tr>\n",
       "      <th>21</th>\n",
       "      <td>2001</td>\n",
       "      <td>2001</td>\n",
       "    </tr>\n",
       "    <tr>\n",
       "      <th>22</th>\n",
       "      <td>2002</td>\n",
       "      <td>2002</td>\n",
       "    </tr>\n",
       "    <tr>\n",
       "      <th>23</th>\n",
       "      <td>2003</td>\n",
       "      <td>2003</td>\n",
       "    </tr>\n",
       "    <tr>\n",
       "      <th>24</th>\n",
       "      <td>2004</td>\n",
       "      <td>2004</td>\n",
       "    </tr>\n",
       "    <tr>\n",
       "      <th>25</th>\n",
       "      <td>2005</td>\n",
       "      <td>2005</td>\n",
       "    </tr>\n",
       "    <tr>\n",
       "      <th>26</th>\n",
       "      <td>2006</td>\n",
       "      <td>2006</td>\n",
       "    </tr>\n",
       "    <tr>\n",
       "      <th>27</th>\n",
       "      <td>2007</td>\n",
       "      <td>2007</td>\n",
       "    </tr>\n",
       "    <tr>\n",
       "      <th>28</th>\n",
       "      <td>2008</td>\n",
       "      <td>2008</td>\n",
       "    </tr>\n",
       "    <tr>\n",
       "      <th>29</th>\n",
       "      <td>2009</td>\n",
       "      <td>2009</td>\n",
       "    </tr>\n",
       "    <tr>\n",
       "      <th>30</th>\n",
       "      <td>2010</td>\n",
       "      <td>2010</td>\n",
       "    </tr>\n",
       "    <tr>\n",
       "      <th>31</th>\n",
       "      <td>2011</td>\n",
       "      <td>2011</td>\n",
       "    </tr>\n",
       "    <tr>\n",
       "      <th>32</th>\n",
       "      <td>2012</td>\n",
       "      <td>2012</td>\n",
       "    </tr>\n",
       "    <tr>\n",
       "      <th>33</th>\n",
       "      <td>2013</td>\n",
       "      <td>2013</td>\n",
       "    </tr>\n",
       "    <tr>\n",
       "      <th>34</th>\n",
       "      <td>2014</td>\n",
       "      <td>2014</td>\n",
       "    </tr>\n",
       "    <tr>\n",
       "      <th>35</th>\n",
       "      <td>2015</td>\n",
       "      <td>2015</td>\n",
       "    </tr>\n",
       "    <tr>\n",
       "      <th>36</th>\n",
       "      <td>2016</td>\n",
       "      <td>2016</td>\n",
       "    </tr>\n",
       "    <tr>\n",
       "      <th>37</th>\n",
       "      <td>2017</td>\n",
       "      <td>2017</td>\n",
       "    </tr>\n",
       "    <tr>\n",
       "      <th>38</th>\n",
       "      <td>2018</td>\n",
       "      <td>2018</td>\n",
       "    </tr>\n",
       "    <tr>\n",
       "      <th>39</th>\n",
       "      <td>2019</td>\n",
       "      <td>2019</td>\n",
       "    </tr>\n",
       "    <tr>\n",
       "      <th>40</th>\n",
       "      <td>2020</td>\n",
       "      <td>2020</td>\n",
       "    </tr>\n",
       "    <tr>\n",
       "      <th>41</th>\n",
       "      <td>2021</td>\n",
       "      <td>2021</td>\n",
       "    </tr>\n",
       "    <tr>\n",
       "      <th>42</th>\n",
       "      <td>2022</td>\n",
       "      <td>2022</td>\n",
       "    </tr>\n",
       "    <tr>\n",
       "      <th>43</th>\n",
       "      <td>2023</td>\n",
       "      <td>2023</td>\n",
       "    </tr>\n",
       "  </tbody>\n",
       "</table>\n",
       "</div>"
      ],
      "text/plain": [
       "      id  text\n",
       "0   1980  1980\n",
       "1   1981  1981\n",
       "2   1982  1982\n",
       "3   1983  1983\n",
       "4   1984  1984\n",
       "5   1985  1985\n",
       "6   1986  1986\n",
       "7   1987  1987\n",
       "8   1988  1988\n",
       "9   1989  1989\n",
       "10  1990  1990\n",
       "11  1991  1991\n",
       "12  1992  1992\n",
       "13  1993  1993\n",
       "14  1994  1994\n",
       "15  1995  1995\n",
       "16  1996  1996\n",
       "17  1997  1997\n",
       "18  1998  1998\n",
       "19  1999  1999\n",
       "20  2000  2000\n",
       "21  2001  2001\n",
       "22  2002  2002\n",
       "23  2003  2003\n",
       "24  2004  2004\n",
       "25  2005  2005\n",
       "26  2006  2006\n",
       "27  2007  2007\n",
       "28  2008  2008\n",
       "29  2009  2009\n",
       "30  2010  2010\n",
       "31  2011  2011\n",
       "32  2012  2012\n",
       "33  2013  2013\n",
       "34  2014  2014\n",
       "35  2015  2015\n",
       "36  2016  2016\n",
       "37  2017  2017\n",
       "38  2018  2018\n",
       "39  2019  2019\n",
       "40  2020  2020\n",
       "41  2021  2021\n",
       "42  2022  2022\n",
       "43  2023  2023"
      ]
     },
     "metadata": {},
     "output_type": "display_data"
    }
   ],
   "source": [
    "tabsum_fpi= fpi.tablesummary(language='en')\n",
    "display(tabsum_fpi)\n",
    "for var in tabsum_fpi['variable name']:\n",
    "    print(var+':')\n",
    "    display(fpi.variable_levels(var, language='en'))\n"
   ]
  },
  {
   "cell_type": "markdown",
   "metadata": {},
   "source": [
    "Now we have a quick overview of the avaible datapoints"
   ]
  },
  {
   "cell_type": "code",
   "execution_count": 7,
   "metadata": {},
   "outputs": [
    {
     "data": {
      "text/plain": [
       "{'table': 'fert1',\n",
       " 'format': 'BULK',\n",
       " 'lang': 'en',\n",
       " 'variables': [{'code': 'HERKOMST', 'values': ['*']},\n",
       "  {'code': 'Tid', 'values': ['*']}]}"
      ]
     },
     "execution_count": 7,
     "metadata": {},
     "output_type": "execute_result"
    }
   ],
   "source": [
    "params = fert.define_base_params(language='en')\n",
    "params"
   ]
  },
  {
   "cell_type": "code",
   "execution_count": 8,
   "metadata": {},
   "outputs": [],
   "source": [
    "params ={'table': 'fert1',\n",
    " 'format': 'BULK',\n",
    " 'lang': 'en',\n",
    " 'variables': [{'code': 'HERKOMST', 'values': ['AK']},\n",
    "  {'code': 'Tid', 'values': ['>2008<=2023']}]}"
   ]
  },
  {
   "cell_type": "code",
   "execution_count": 9,
   "metadata": {},
   "outputs": [
    {
     "data": {
      "text/html": [
       "<div>\n",
       "<style scoped>\n",
       "    .dataframe tbody tr th:only-of-type {\n",
       "        vertical-align: middle;\n",
       "    }\n",
       "\n",
       "    .dataframe tbody tr th {\n",
       "        vertical-align: top;\n",
       "    }\n",
       "\n",
       "    .dataframe thead th {\n",
       "        text-align: right;\n",
       "    }\n",
       "</style>\n",
       "<table border=\"1\" class=\"dataframe\">\n",
       "  <thead>\n",
       "    <tr style=\"text-align: right;\">\n",
       "      <th></th>\n",
       "      <th>HERKOMST</th>\n",
       "      <th>TID</th>\n",
       "      <th>INDHOLD</th>\n",
       "    </tr>\n",
       "  </thead>\n",
       "  <tbody>\n",
       "    <tr>\n",
       "      <th>0</th>\n",
       "      <td>All women</td>\n",
       "      <td>2009</td>\n",
       "      <td>1839.6</td>\n",
       "    </tr>\n",
       "    <tr>\n",
       "      <th>1</th>\n",
       "      <td>All women</td>\n",
       "      <td>2010</td>\n",
       "      <td>1871.2</td>\n",
       "    </tr>\n",
       "    <tr>\n",
       "      <th>2</th>\n",
       "      <td>All women</td>\n",
       "      <td>2011</td>\n",
       "      <td>1752.4</td>\n",
       "    </tr>\n",
       "    <tr>\n",
       "      <th>3</th>\n",
       "      <td>All women</td>\n",
       "      <td>2012</td>\n",
       "      <td>1729.2</td>\n",
       "    </tr>\n",
       "    <tr>\n",
       "      <th>4</th>\n",
       "      <td>All women</td>\n",
       "      <td>2013</td>\n",
       "      <td>1668.7</td>\n",
       "    </tr>\n",
       "    <tr>\n",
       "      <th>5</th>\n",
       "      <td>All women</td>\n",
       "      <td>2014</td>\n",
       "      <td>1691.2</td>\n",
       "    </tr>\n",
       "    <tr>\n",
       "      <th>6</th>\n",
       "      <td>All women</td>\n",
       "      <td>2015</td>\n",
       "      <td>1713.6</td>\n",
       "    </tr>\n",
       "    <tr>\n",
       "      <th>7</th>\n",
       "      <td>All women</td>\n",
       "      <td>2016</td>\n",
       "      <td>1785.4</td>\n",
       "    </tr>\n",
       "    <tr>\n",
       "      <th>8</th>\n",
       "      <td>All women</td>\n",
       "      <td>2017</td>\n",
       "      <td>1751.9</td>\n",
       "    </tr>\n",
       "    <tr>\n",
       "      <th>9</th>\n",
       "      <td>All women</td>\n",
       "      <td>2018</td>\n",
       "      <td>1729.7</td>\n",
       "    </tr>\n",
       "    <tr>\n",
       "      <th>10</th>\n",
       "      <td>All women</td>\n",
       "      <td>2019</td>\n",
       "      <td>1699.4</td>\n",
       "    </tr>\n",
       "    <tr>\n",
       "      <th>11</th>\n",
       "      <td>All women</td>\n",
       "      <td>2020</td>\n",
       "      <td>1674.7</td>\n",
       "    </tr>\n",
       "    <tr>\n",
       "      <th>12</th>\n",
       "      <td>All women</td>\n",
       "      <td>2021</td>\n",
       "      <td>1724.1</td>\n",
       "    </tr>\n",
       "    <tr>\n",
       "      <th>13</th>\n",
       "      <td>All women</td>\n",
       "      <td>2022</td>\n",
       "      <td>1552.9</td>\n",
       "    </tr>\n",
       "    <tr>\n",
       "      <th>14</th>\n",
       "      <td>All women</td>\n",
       "      <td>2023</td>\n",
       "      <td>1495.9</td>\n",
       "    </tr>\n",
       "  </tbody>\n",
       "</table>\n",
       "</div>"
      ],
      "text/plain": [
       "     HERKOMST   TID INDHOLD\n",
       "0   All women  2009  1839.6\n",
       "1   All women  2010  1871.2\n",
       "2   All women  2011  1752.4\n",
       "3   All women  2012  1729.2\n",
       "4   All women  2013  1668.7\n",
       "5   All women  2014  1691.2\n",
       "6   All women  2015  1713.6\n",
       "7   All women  2016  1785.4\n",
       "8   All women  2017  1751.9\n",
       "9   All women  2018  1729.7\n",
       "10  All women  2019  1699.4\n",
       "11  All women  2020  1674.7\n",
       "12  All women  2021  1724.1\n",
       "13  All women  2022  1552.9\n",
       "14  All women  2023  1495.9"
      ]
     },
     "execution_count": 9,
     "metadata": {},
     "output_type": "execute_result"
    }
   ],
   "source": [
    "fert_api = fert.get_data(params=params)\n",
    "fert_api.head(15)"
   ]
  },
  {
   "cell_type": "code",
   "execution_count": 10,
   "metadata": {},
   "outputs": [
    {
     "data": {
      "text/plain": [
       "{'table': 'nan1',\n",
       " 'format': 'BULK',\n",
       " 'lang': 'en',\n",
       " 'variables': [{'code': 'TRANSAKT', 'values': ['*']},\n",
       "  {'code': 'PRISENHED', 'values': ['*']},\n",
       "  {'code': 'Tid', 'values': ['*']}]}"
      ]
     },
     "execution_count": 10,
     "metadata": {},
     "output_type": "execute_result"
    }
   ],
   "source": [
    "params = gdp.define_base_params(language='en')\n",
    "params"
   ]
  },
  {
   "cell_type": "code",
   "execution_count": 11,
   "metadata": {},
   "outputs": [],
   "source": [
    "params ={'table': 'nan1',\n",
    " 'format': 'BULK',\n",
    " 'lang': 'en',\n",
    " 'variables': [{'code': 'TRANSAKT', 'values': ['B1GQK']},\n",
    "  {'code': 'PRISENHED', 'values': ['V_M']},\n",
    "  {'code': 'Tid', 'values': ['>2008<=2023']}]}"
   ]
  },
  {
   "cell_type": "code",
   "execution_count": 12,
   "metadata": {},
   "outputs": [
    {
     "data": {
      "text/html": [
       "<div>\n",
       "<style scoped>\n",
       "    .dataframe tbody tr th:only-of-type {\n",
       "        vertical-align: middle;\n",
       "    }\n",
       "\n",
       "    .dataframe tbody tr th {\n",
       "        vertical-align: top;\n",
       "    }\n",
       "\n",
       "    .dataframe thead th {\n",
       "        text-align: right;\n",
       "    }\n",
       "</style>\n",
       "<table border=\"1\" class=\"dataframe\">\n",
       "  <thead>\n",
       "    <tr style=\"text-align: right;\">\n",
       "      <th></th>\n",
       "      <th>TRANSAKT</th>\n",
       "      <th>PRISENHED</th>\n",
       "      <th>TID</th>\n",
       "      <th>INDHOLD</th>\n",
       "    </tr>\n",
       "  </thead>\n",
       "  <tbody>\n",
       "    <tr>\n",
       "      <th>0</th>\n",
       "      <td>B.1*g Gross domestic product</td>\n",
       "      <td>Current prices, (bill. DKK.)</td>\n",
       "      <td>2009</td>\n",
       "      <td>1729.5</td>\n",
       "    </tr>\n",
       "    <tr>\n",
       "      <th>1</th>\n",
       "      <td>B.1*g Gross domestic product</td>\n",
       "      <td>Current prices, (bill. DKK.)</td>\n",
       "      <td>2010</td>\n",
       "      <td>1812.9</td>\n",
       "    </tr>\n",
       "    <tr>\n",
       "      <th>2</th>\n",
       "      <td>B.1*g Gross domestic product</td>\n",
       "      <td>Current prices, (bill. DKK.)</td>\n",
       "      <td>2011</td>\n",
       "      <td>1848.5</td>\n",
       "    </tr>\n",
       "    <tr>\n",
       "      <th>3</th>\n",
       "      <td>B.1*g Gross domestic product</td>\n",
       "      <td>Current prices, (bill. DKK.)</td>\n",
       "      <td>2012</td>\n",
       "      <td>1892.9</td>\n",
       "    </tr>\n",
       "    <tr>\n",
       "      <th>4</th>\n",
       "      <td>B.1*g Gross domestic product</td>\n",
       "      <td>Current prices, (bill. DKK.)</td>\n",
       "      <td>2013</td>\n",
       "      <td>1935.6</td>\n",
       "    </tr>\n",
       "    <tr>\n",
       "      <th>5</th>\n",
       "      <td>B.1*g Gross domestic product</td>\n",
       "      <td>Current prices, (bill. DKK.)</td>\n",
       "      <td>2014</td>\n",
       "      <td>1980.3</td>\n",
       "    </tr>\n",
       "    <tr>\n",
       "      <th>6</th>\n",
       "      <td>B.1*g Gross domestic product</td>\n",
       "      <td>Current prices, (bill. DKK.)</td>\n",
       "      <td>2015</td>\n",
       "      <td>2030.2</td>\n",
       "    </tr>\n",
       "    <tr>\n",
       "      <th>7</th>\n",
       "      <td>B.1*g Gross domestic product</td>\n",
       "      <td>Current prices, (bill. DKK.)</td>\n",
       "      <td>2016</td>\n",
       "      <td>2101.5</td>\n",
       "    </tr>\n",
       "    <tr>\n",
       "      <th>8</th>\n",
       "      <td>B.1*g Gross domestic product</td>\n",
       "      <td>Current prices, (bill. DKK.)</td>\n",
       "      <td>2017</td>\n",
       "      <td>2189.6</td>\n",
       "    </tr>\n",
       "    <tr>\n",
       "      <th>9</th>\n",
       "      <td>B.1*g Gross domestic product</td>\n",
       "      <td>Current prices, (bill. DKK.)</td>\n",
       "      <td>2018</td>\n",
       "      <td>2243.5</td>\n",
       "    </tr>\n",
       "    <tr>\n",
       "      <th>10</th>\n",
       "      <td>B.1*g Gross domestic product</td>\n",
       "      <td>Current prices, (bill. DKK.)</td>\n",
       "      <td>2019</td>\n",
       "      <td>2303.6</td>\n",
       "    </tr>\n",
       "    <tr>\n",
       "      <th>11</th>\n",
       "      <td>B.1*g Gross domestic product</td>\n",
       "      <td>Current prices, (bill. DKK.)</td>\n",
       "      <td>2020</td>\n",
       "      <td>2326.6</td>\n",
       "    </tr>\n",
       "    <tr>\n",
       "      <th>12</th>\n",
       "      <td>B.1*g Gross domestic product</td>\n",
       "      <td>Current prices, (bill. DKK.)</td>\n",
       "      <td>2021</td>\n",
       "      <td>2567.5</td>\n",
       "    </tr>\n",
       "    <tr>\n",
       "      <th>13</th>\n",
       "      <td>B.1*g Gross domestic product</td>\n",
       "      <td>Current prices, (bill. DKK.)</td>\n",
       "      <td>2022</td>\n",
       "      <td>2844.2</td>\n",
       "    </tr>\n",
       "    <tr>\n",
       "      <th>14</th>\n",
       "      <td>B.1*g Gross domestic product</td>\n",
       "      <td>Current prices, (bill. DKK.)</td>\n",
       "      <td>2023</td>\n",
       "      <td>2804.7</td>\n",
       "    </tr>\n",
       "  </tbody>\n",
       "</table>\n",
       "</div>"
      ],
      "text/plain": [
       "                        TRANSAKT                     PRISENHED   TID INDHOLD\n",
       "0   B.1*g Gross domestic product  Current prices, (bill. DKK.)  2009  1729.5\n",
       "1   B.1*g Gross domestic product  Current prices, (bill. DKK.)  2010  1812.9\n",
       "2   B.1*g Gross domestic product  Current prices, (bill. DKK.)  2011  1848.5\n",
       "3   B.1*g Gross domestic product  Current prices, (bill. DKK.)  2012  1892.9\n",
       "4   B.1*g Gross domestic product  Current prices, (bill. DKK.)  2013  1935.6\n",
       "5   B.1*g Gross domestic product  Current prices, (bill. DKK.)  2014  1980.3\n",
       "6   B.1*g Gross domestic product  Current prices, (bill. DKK.)  2015  2030.2\n",
       "7   B.1*g Gross domestic product  Current prices, (bill. DKK.)  2016  2101.5\n",
       "8   B.1*g Gross domestic product  Current prices, (bill. DKK.)  2017  2189.6\n",
       "9   B.1*g Gross domestic product  Current prices, (bill. DKK.)  2018  2243.5\n",
       "10  B.1*g Gross domestic product  Current prices, (bill. DKK.)  2019  2303.6\n",
       "11  B.1*g Gross domestic product  Current prices, (bill. DKK.)  2020  2326.6\n",
       "12  B.1*g Gross domestic product  Current prices, (bill. DKK.)  2021  2567.5\n",
       "13  B.1*g Gross domestic product  Current prices, (bill. DKK.)  2022  2844.2\n",
       "14  B.1*g Gross domestic product  Current prices, (bill. DKK.)  2023  2804.7"
      ]
     },
     "execution_count": 12,
     "metadata": {},
     "output_type": "execute_result"
    }
   ],
   "source": [
    "gdp_api = gdp.get_data(params=params)\n",
    "gdp_api.head(15)"
   ]
  },
  {
   "cell_type": "code",
   "execution_count": 13,
   "metadata": {},
   "outputs": [
    {
     "data": {
      "text/plain": [
       "{'table': 'pris112',\n",
       " 'format': 'BULK',\n",
       " 'lang': 'en',\n",
       " 'variables': [{'code': 'HOVED', 'values': ['*']},\n",
       "  {'code': 'Tid', 'values': ['*']}]}"
      ]
     },
     "execution_count": 13,
     "metadata": {},
     "output_type": "execute_result"
    }
   ],
   "source": [
    "params = fpi.define_base_params(language='en')\n",
    "params"
   ]
  },
  {
   "cell_type": "code",
   "execution_count": 14,
   "metadata": {},
   "outputs": [],
   "source": [
    "params = {'table': 'pris112',\n",
    " 'format': 'BULK',\n",
    " 'lang': 'en',\n",
    " 'variables': [{'code': 'HOVED', 'values': ['1005']},\n",
    "  {'code': 'Tid', 'values': ['>2008<=2023']}]}"
   ]
  },
  {
   "cell_type": "code",
   "execution_count": 15,
   "metadata": {},
   "outputs": [
    {
     "data": {
      "text/html": [
       "<div>\n",
       "<style scoped>\n",
       "    .dataframe tbody tr th:only-of-type {\n",
       "        vertical-align: middle;\n",
       "    }\n",
       "\n",
       "    .dataframe tbody tr th {\n",
       "        vertical-align: top;\n",
       "    }\n",
       "\n",
       "    .dataframe thead th {\n",
       "        text-align: right;\n",
       "    }\n",
       "</style>\n",
       "<table border=\"1\" class=\"dataframe\">\n",
       "  <thead>\n",
       "    <tr style=\"text-align: right;\">\n",
       "      <th></th>\n",
       "      <th>HOVED</th>\n",
       "      <th>TID</th>\n",
       "      <th>INDHOLD</th>\n",
       "    </tr>\n",
       "  </thead>\n",
       "  <tbody>\n",
       "    <tr>\n",
       "      <th>0</th>\n",
       "      <td>Average, yearly</td>\n",
       "      <td>2009</td>\n",
       "      <td>91.2</td>\n",
       "    </tr>\n",
       "    <tr>\n",
       "      <th>1</th>\n",
       "      <td>Average, yearly</td>\n",
       "      <td>2010</td>\n",
       "      <td>93.3</td>\n",
       "    </tr>\n",
       "    <tr>\n",
       "      <th>2</th>\n",
       "      <td>Average, yearly</td>\n",
       "      <td>2011</td>\n",
       "      <td>95.9</td>\n",
       "    </tr>\n",
       "    <tr>\n",
       "      <th>3</th>\n",
       "      <td>Average, yearly</td>\n",
       "      <td>2012</td>\n",
       "      <td>98.2</td>\n",
       "    </tr>\n",
       "    <tr>\n",
       "      <th>4</th>\n",
       "      <td>Average, yearly</td>\n",
       "      <td>2013</td>\n",
       "      <td>99.0</td>\n",
       "    </tr>\n",
       "    <tr>\n",
       "      <th>5</th>\n",
       "      <td>Average, yearly</td>\n",
       "      <td>2014</td>\n",
       "      <td>99.6</td>\n",
       "    </tr>\n",
       "    <tr>\n",
       "      <th>6</th>\n",
       "      <td>Average, yearly</td>\n",
       "      <td>2015</td>\n",
       "      <td>100.0</td>\n",
       "    </tr>\n",
       "    <tr>\n",
       "      <th>7</th>\n",
       "      <td>Average, yearly</td>\n",
       "      <td>2016</td>\n",
       "      <td>100.3</td>\n",
       "    </tr>\n",
       "    <tr>\n",
       "      <th>8</th>\n",
       "      <td>Average, yearly</td>\n",
       "      <td>2017</td>\n",
       "      <td>101.4</td>\n",
       "    </tr>\n",
       "    <tr>\n",
       "      <th>9</th>\n",
       "      <td>Average, yearly</td>\n",
       "      <td>2018</td>\n",
       "      <td>102.2</td>\n",
       "    </tr>\n",
       "    <tr>\n",
       "      <th>10</th>\n",
       "      <td>Average, yearly</td>\n",
       "      <td>2019</td>\n",
       "      <td>103.0</td>\n",
       "    </tr>\n",
       "    <tr>\n",
       "      <th>11</th>\n",
       "      <td>Average, yearly</td>\n",
       "      <td>2020</td>\n",
       "      <td>103.4</td>\n",
       "    </tr>\n",
       "    <tr>\n",
       "      <th>12</th>\n",
       "      <td>Average, yearly</td>\n",
       "      <td>2021</td>\n",
       "      <td>105.4</td>\n",
       "    </tr>\n",
       "    <tr>\n",
       "      <th>13</th>\n",
       "      <td>Average, yearly</td>\n",
       "      <td>2022</td>\n",
       "      <td>113.5</td>\n",
       "    </tr>\n",
       "    <tr>\n",
       "      <th>14</th>\n",
       "      <td>Average, yearly</td>\n",
       "      <td>2023</td>\n",
       "      <td>117.2</td>\n",
       "    </tr>\n",
       "  </tbody>\n",
       "</table>\n",
       "</div>"
      ],
      "text/plain": [
       "              HOVED   TID INDHOLD\n",
       "0   Average, yearly  2009    91.2\n",
       "1   Average, yearly  2010    93.3\n",
       "2   Average, yearly  2011    95.9\n",
       "3   Average, yearly  2012    98.2\n",
       "4   Average, yearly  2013    99.0\n",
       "5   Average, yearly  2014    99.6\n",
       "6   Average, yearly  2015   100.0\n",
       "7   Average, yearly  2016   100.3\n",
       "8   Average, yearly  2017   101.4\n",
       "9   Average, yearly  2018   102.2\n",
       "10  Average, yearly  2019   103.0\n",
       "11  Average, yearly  2020   103.4\n",
       "12  Average, yearly  2021   105.4\n",
       "13  Average, yearly  2022   113.5\n",
       "14  Average, yearly  2023   117.2"
      ]
     },
     "execution_count": 15,
     "metadata": {},
     "output_type": "execute_result"
    }
   ],
   "source": [
    "fpi_api = fpi.get_data(params=params)\n",
    "fpi_api.head(15)"
   ]
  },
  {
   "cell_type": "markdown",
   "metadata": {},
   "source": [
    "We have now found the desired data where we want to merge it into one dataset."
   ]
  },
  {
   "cell_type": "markdown",
   "metadata": {},
   "source": [
    "The excel datasheet is extracted:"
   ]
  },
  {
   "cell_type": "code",
   "execution_count": 16,
   "metadata": {},
   "outputs": [
    {
     "data": {
      "text/html": [
       "<div>\n",
       "<style scoped>\n",
       "    .dataframe tbody tr th:only-of-type {\n",
       "        vertical-align: middle;\n",
       "    }\n",
       "\n",
       "    .dataframe tbody tr th {\n",
       "        vertical-align: top;\n",
       "    }\n",
       "\n",
       "    .dataframe thead th {\n",
       "        text-align: right;\n",
       "    }\n",
       "</style>\n",
       "<table border=\"1\" class=\"dataframe\">\n",
       "  <thead>\n",
       "    <tr style=\"text-align: right;\">\n",
       "      <th></th>\n",
       "      <th>Fertilitetskvotienter efter alder og tid</th>\n",
       "      <th>Unnamed: 1</th>\n",
       "      <th>Unnamed: 2</th>\n",
       "      <th>Unnamed: 3</th>\n",
       "      <th>Unnamed: 4</th>\n",
       "      <th>Unnamed: 5</th>\n",
       "      <th>Unnamed: 6</th>\n",
       "      <th>Unnamed: 7</th>\n",
       "      <th>Unnamed: 8</th>\n",
       "      <th>Unnamed: 9</th>\n",
       "      <th>...</th>\n",
       "      <th>Unnamed: 42</th>\n",
       "      <th>Unnamed: 43</th>\n",
       "      <th>Unnamed: 44</th>\n",
       "      <th>Unnamed: 45</th>\n",
       "      <th>Unnamed: 46</th>\n",
       "      <th>Unnamed: 47</th>\n",
       "      <th>Unnamed: 48</th>\n",
       "      <th>Unnamed: 49</th>\n",
       "      <th>Unnamed: 50</th>\n",
       "      <th>Unnamed: 51</th>\n",
       "    </tr>\n",
       "  </thead>\n",
       "  <tbody>\n",
       "    <tr>\n",
       "      <th>0</th>\n",
       "      <td>Enhed: Pr. 1.000 kvinder</td>\n",
       "      <td>NaN</td>\n",
       "      <td>NaN</td>\n",
       "      <td>NaN</td>\n",
       "      <td>NaN</td>\n",
       "      <td>NaN</td>\n",
       "      <td>NaN</td>\n",
       "      <td>NaN</td>\n",
       "      <td>NaN</td>\n",
       "      <td>NaN</td>\n",
       "      <td>...</td>\n",
       "      <td>NaN</td>\n",
       "      <td>NaN</td>\n",
       "      <td>NaN</td>\n",
       "      <td>NaN</td>\n",
       "      <td>NaN</td>\n",
       "      <td>NaN</td>\n",
       "      <td>NaN</td>\n",
       "      <td>NaN</td>\n",
       "      <td>NaN</td>\n",
       "      <td>NaN</td>\n",
       "    </tr>\n",
       "    <tr>\n",
       "      <th>1</th>\n",
       "      <td>NaN</td>\n",
       "      <td>1973.00</td>\n",
       "      <td>1974.00</td>\n",
       "      <td>1975.00</td>\n",
       "      <td>1976.00</td>\n",
       "      <td>1977.00</td>\n",
       "      <td>1978.00</td>\n",
       "      <td>1979.00</td>\n",
       "      <td>1980.00</td>\n",
       "      <td>1981.00</td>\n",
       "      <td>...</td>\n",
       "      <td>2014.00</td>\n",
       "      <td>2015.00</td>\n",
       "      <td>2016.00</td>\n",
       "      <td>2017.00</td>\n",
       "      <td>2018.00</td>\n",
       "      <td>2019.00</td>\n",
       "      <td>2020.00</td>\n",
       "      <td>2021.00</td>\n",
       "      <td>2022.00</td>\n",
       "      <td>2023.00</td>\n",
       "    </tr>\n",
       "    <tr>\n",
       "      <th>2</th>\n",
       "      <td>15-19</td>\n",
       "      <td>19.30</td>\n",
       "      <td>18.88</td>\n",
       "      <td>19.70</td>\n",
       "      <td>16.80</td>\n",
       "      <td>15.98</td>\n",
       "      <td>14.48</td>\n",
       "      <td>12.94</td>\n",
       "      <td>11.98</td>\n",
       "      <td>9.94</td>\n",
       "      <td>...</td>\n",
       "      <td>2.40</td>\n",
       "      <td>2.28</td>\n",
       "      <td>2.52</td>\n",
       "      <td>1.84</td>\n",
       "      <td>1.60</td>\n",
       "      <td>1.30</td>\n",
       "      <td>1.12</td>\n",
       "      <td>0.90</td>\n",
       "      <td>0.72</td>\n",
       "      <td>0.78</td>\n",
       "    </tr>\n",
       "    <tr>\n",
       "      <th>3</th>\n",
       "      <td>20-24</td>\n",
       "      <td>121.72</td>\n",
       "      <td>123.82</td>\n",
       "      <td>127.66</td>\n",
       "      <td>112.58</td>\n",
       "      <td>107.36</td>\n",
       "      <td>105.08</td>\n",
       "      <td>99.28</td>\n",
       "      <td>93.54</td>\n",
       "      <td>84.36</td>\n",
       "      <td>...</td>\n",
       "      <td>29.08</td>\n",
       "      <td>29.02</td>\n",
       "      <td>29.80</td>\n",
       "      <td>28.90</td>\n",
       "      <td>26.08</td>\n",
       "      <td>23.56</td>\n",
       "      <td>20.48</td>\n",
       "      <td>18.98</td>\n",
       "      <td>17.08</td>\n",
       "      <td>15.40</td>\n",
       "    </tr>\n",
       "    <tr>\n",
       "      <th>4</th>\n",
       "      <td>25-29</td>\n",
       "      <td>142.26</td>\n",
       "      <td>139.74</td>\n",
       "      <td>142.84</td>\n",
       "      <td>131.64</td>\n",
       "      <td>125.76</td>\n",
       "      <td>130.00</td>\n",
       "      <td>125.04</td>\n",
       "      <td>121.82</td>\n",
       "      <td>114.60</td>\n",
       "      <td>...</td>\n",
       "      <td>102.14</td>\n",
       "      <td>102.66</td>\n",
       "      <td>107.44</td>\n",
       "      <td>104.20</td>\n",
       "      <td>101.36</td>\n",
       "      <td>99.56</td>\n",
       "      <td>97.12</td>\n",
       "      <td>97.68</td>\n",
       "      <td>86.82</td>\n",
       "      <td>81.52</td>\n",
       "    </tr>\n",
       "    <tr>\n",
       "      <th>5</th>\n",
       "      <td>30-34</td>\n",
       "      <td>70.84</td>\n",
       "      <td>68.94</td>\n",
       "      <td>68.38</td>\n",
       "      <td>63.36</td>\n",
       "      <td>60.54</td>\n",
       "      <td>61.94</td>\n",
       "      <td>61.14</td>\n",
       "      <td>60.64</td>\n",
       "      <td>58.40</td>\n",
       "      <td>...</td>\n",
       "      <td>126.40</td>\n",
       "      <td>130.00</td>\n",
       "      <td>133.20</td>\n",
       "      <td>131.94</td>\n",
       "      <td>131.90</td>\n",
       "      <td>130.76</td>\n",
       "      <td>130.62</td>\n",
       "      <td>135.60</td>\n",
       "      <td>123.10</td>\n",
       "      <td>120.40</td>\n",
       "    </tr>\n",
       "    <tr>\n",
       "      <th>6</th>\n",
       "      <td>35-39</td>\n",
       "      <td>23.98</td>\n",
       "      <td>23.08</td>\n",
       "      <td>20.92</td>\n",
       "      <td>20.84</td>\n",
       "      <td>18.70</td>\n",
       "      <td>18.84</td>\n",
       "      <td>18.50</td>\n",
       "      <td>17.94</td>\n",
       "      <td>17.12</td>\n",
       "      <td>...</td>\n",
       "      <td>63.70</td>\n",
       "      <td>64.06</td>\n",
       "      <td>68.78</td>\n",
       "      <td>67.16</td>\n",
       "      <td>67.96</td>\n",
       "      <td>67.94</td>\n",
       "      <td>68.54</td>\n",
       "      <td>73.30</td>\n",
       "      <td>65.44</td>\n",
       "      <td>63.66</td>\n",
       "    </tr>\n",
       "    <tr>\n",
       "      <th>7</th>\n",
       "      <td>40-44</td>\n",
       "      <td>4.94</td>\n",
       "      <td>4.66</td>\n",
       "      <td>4.08</td>\n",
       "      <td>4.04</td>\n",
       "      <td>3.42</td>\n",
       "      <td>3.20</td>\n",
       "      <td>3.28</td>\n",
       "      <td>3.22</td>\n",
       "      <td>2.82</td>\n",
       "      <td>...</td>\n",
       "      <td>13.86</td>\n",
       "      <td>13.90</td>\n",
       "      <td>14.54</td>\n",
       "      <td>15.44</td>\n",
       "      <td>16.04</td>\n",
       "      <td>15.68</td>\n",
       "      <td>15.96</td>\n",
       "      <td>17.08</td>\n",
       "      <td>16.00</td>\n",
       "      <td>15.98</td>\n",
       "    </tr>\n",
       "    <tr>\n",
       "      <th>8</th>\n",
       "      <td>45-49</td>\n",
       "      <td>0.32</td>\n",
       "      <td>0.24</td>\n",
       "      <td>0.18</td>\n",
       "      <td>0.18</td>\n",
       "      <td>0.16</td>\n",
       "      <td>0.14</td>\n",
       "      <td>0.14</td>\n",
       "      <td>0.16</td>\n",
       "      <td>0.20</td>\n",
       "      <td>...</td>\n",
       "      <td>0.72</td>\n",
       "      <td>0.74</td>\n",
       "      <td>0.86</td>\n",
       "      <td>0.94</td>\n",
       "      <td>0.96</td>\n",
       "      <td>1.14</td>\n",
       "      <td>1.12</td>\n",
       "      <td>1.28</td>\n",
       "      <td>1.38</td>\n",
       "      <td>1.42</td>\n",
       "    </tr>\n",
       "  </tbody>\n",
       "</table>\n",
       "<p>9 rows × 52 columns</p>\n",
       "</div>"
      ],
      "text/plain": [
       "  Fertilitetskvotienter efter alder og tid  Unnamed: 1  Unnamed: 2  \\\n",
       "0                 Enhed: Pr. 1.000 kvinder         NaN         NaN   \n",
       "1                                      NaN     1973.00     1974.00   \n",
       "2                                    15-19       19.30       18.88   \n",
       "3                                    20-24      121.72      123.82   \n",
       "4                                    25-29      142.26      139.74   \n",
       "5                                    30-34       70.84       68.94   \n",
       "6                                    35-39       23.98       23.08   \n",
       "7                                    40-44        4.94        4.66   \n",
       "8                                    45-49        0.32        0.24   \n",
       "\n",
       "   Unnamed: 3  Unnamed: 4  Unnamed: 5  Unnamed: 6  Unnamed: 7  Unnamed: 8  \\\n",
       "0         NaN         NaN         NaN         NaN         NaN         NaN   \n",
       "1     1975.00     1976.00     1977.00     1978.00     1979.00     1980.00   \n",
       "2       19.70       16.80       15.98       14.48       12.94       11.98   \n",
       "3      127.66      112.58      107.36      105.08       99.28       93.54   \n",
       "4      142.84      131.64      125.76      130.00      125.04      121.82   \n",
       "5       68.38       63.36       60.54       61.94       61.14       60.64   \n",
       "6       20.92       20.84       18.70       18.84       18.50       17.94   \n",
       "7        4.08        4.04        3.42        3.20        3.28        3.22   \n",
       "8        0.18        0.18        0.16        0.14        0.14        0.16   \n",
       "\n",
       "   Unnamed: 9  ...  Unnamed: 42  Unnamed: 43  Unnamed: 44  Unnamed: 45  \\\n",
       "0         NaN  ...          NaN          NaN          NaN          NaN   \n",
       "1     1981.00  ...      2014.00      2015.00      2016.00      2017.00   \n",
       "2        9.94  ...         2.40         2.28         2.52         1.84   \n",
       "3       84.36  ...        29.08        29.02        29.80        28.90   \n",
       "4      114.60  ...       102.14       102.66       107.44       104.20   \n",
       "5       58.40  ...       126.40       130.00       133.20       131.94   \n",
       "6       17.12  ...        63.70        64.06        68.78        67.16   \n",
       "7        2.82  ...        13.86        13.90        14.54        15.44   \n",
       "8        0.20  ...         0.72         0.74         0.86         0.94   \n",
       "\n",
       "   Unnamed: 46  Unnamed: 47  Unnamed: 48  Unnamed: 49  Unnamed: 50  \\\n",
       "0          NaN          NaN          NaN          NaN          NaN   \n",
       "1      2018.00      2019.00      2020.00      2021.00      2022.00   \n",
       "2         1.60         1.30         1.12         0.90         0.72   \n",
       "3        26.08        23.56        20.48        18.98        17.08   \n",
       "4       101.36        99.56        97.12        97.68        86.82   \n",
       "5       131.90       130.76       130.62       135.60       123.10   \n",
       "6        67.96        67.94        68.54        73.30        65.44   \n",
       "7        16.04        15.68        15.96        17.08        16.00   \n",
       "8         0.96         1.14         1.12         1.28         1.38   \n",
       "\n",
       "   Unnamed: 51  \n",
       "0          NaN  \n",
       "1      2023.00  \n",
       "2         0.78  \n",
       "3        15.40  \n",
       "4        81.52  \n",
       "5       120.40  \n",
       "6        63.66  \n",
       "7        15.98  \n",
       "8         1.42  \n",
       "\n",
       "[9 rows x 52 columns]"
      ]
     },
     "execution_count": 16,
     "metadata": {},
     "output_type": "execute_result"
    }
   ],
   "source": [
    "filename = 'data/BOG1.xlsx' # open the file and have a look at it\n",
    "pd.read_excel(filename).head(10)"
   ]
  },
  {
   "cell_type": "code",
   "execution_count": 17,
   "metadata": {},
   "outputs": [],
   "source": [
    "fertAlt = pd.read_excel(filename, skiprows=2)\n",
    "fertAlt.drop(columns=[str(i) for i in range(1973, 2010)], inplace=True)\n",
    "fertAlt.rename(columns = {'Unnamed: 0':'Age group'}, inplace=True)"
   ]
  },
  {
   "cell_type": "code",
   "execution_count": 27,
   "metadata": {},
   "outputs": [
    {
     "data": {
      "text/plain": [
       "{'2010': 'fert2010',\n",
       " '2011': 'fert2011',\n",
       " '2012': 'fert2012',\n",
       " '2013': 'fert2013',\n",
       " '2014': 'fert2014',\n",
       " '2015': 'fert2015',\n",
       " '2016': 'fert2016',\n",
       " '2017': 'fert2017',\n",
       " '2018': 'fert2018',\n",
       " '2019': 'fert2019',\n",
       " '2020': 'fert2020',\n",
       " '2021': 'fert2021',\n",
       " '2022': 'fert2022',\n",
       " '2023': 'fert2023'}"
      ]
     },
     "execution_count": 27,
     "metadata": {},
     "output_type": "execute_result"
    }
   ],
   "source": [
    "col_dict = {}\n",
    "for i in range(2010, 2023+1): # range goes from 2010 to 2023\n",
    "    col_dict[str(i)] = f'fertAlt{i}'\n",
    "\n",
    "col_dict = {str(i) : f'ferAlt{i}' for i in range(2010,2023+1)}\n",
    "col_dict"
   ]
  },
  {
   "cell_type": "code",
   "execution_count": 29,
   "metadata": {},
   "outputs": [
    {
     "data": {
      "text/html": [
       "<div>\n",
       "<style scoped>\n",
       "    .dataframe tbody tr th:only-of-type {\n",
       "        vertical-align: middle;\n",
       "    }\n",
       "\n",
       "    .dataframe tbody tr th {\n",
       "        vertical-align: top;\n",
       "    }\n",
       "\n",
       "    .dataframe thead th {\n",
       "        text-align: right;\n",
       "    }\n",
       "</style>\n",
       "<table border=\"1\" class=\"dataframe\">\n",
       "  <thead>\n",
       "    <tr style=\"text-align: right;\">\n",
       "      <th></th>\n",
       "      <th>Age group</th>\n",
       "      <th>fertAlt2010</th>\n",
       "      <th>fertAlt2011</th>\n",
       "      <th>fertAlt2012</th>\n",
       "      <th>fertAlt2013</th>\n",
       "      <th>fertAlt2014</th>\n",
       "      <th>fertAlt2015</th>\n",
       "      <th>fertAlt2016</th>\n",
       "      <th>fertAlt2017</th>\n",
       "      <th>fertAlt2018</th>\n",
       "      <th>fertAlt2019</th>\n",
       "      <th>fertAlt2020</th>\n",
       "      <th>fertAlt2021</th>\n",
       "      <th>fertAlt2022</th>\n",
       "      <th>fertAlt2023</th>\n",
       "    </tr>\n",
       "  </thead>\n",
       "  <tbody>\n",
       "    <tr>\n",
       "      <th>0</th>\n",
       "      <td>15-19</td>\n",
       "      <td>3.58</td>\n",
       "      <td>3.20</td>\n",
       "      <td>3.04</td>\n",
       "      <td>2.90</td>\n",
       "      <td>2.40</td>\n",
       "      <td>2.28</td>\n",
       "      <td>2.52</td>\n",
       "      <td>1.84</td>\n",
       "      <td>1.60</td>\n",
       "      <td>1.30</td>\n",
       "      <td>1.12</td>\n",
       "      <td>0.90</td>\n",
       "      <td>0.72</td>\n",
       "      <td>0.78</td>\n",
       "    </tr>\n",
       "    <tr>\n",
       "      <th>1</th>\n",
       "      <td>20-24</td>\n",
       "      <td>37.38</td>\n",
       "      <td>33.60</td>\n",
       "      <td>32.34</td>\n",
       "      <td>29.84</td>\n",
       "      <td>29.08</td>\n",
       "      <td>29.02</td>\n",
       "      <td>29.80</td>\n",
       "      <td>28.90</td>\n",
       "      <td>26.08</td>\n",
       "      <td>23.56</td>\n",
       "      <td>20.48</td>\n",
       "      <td>18.98</td>\n",
       "      <td>17.08</td>\n",
       "      <td>15.40</td>\n",
       "    </tr>\n",
       "    <tr>\n",
       "      <th>2</th>\n",
       "      <td>25-29</td>\n",
       "      <td>114.44</td>\n",
       "      <td>106.34</td>\n",
       "      <td>105.08</td>\n",
       "      <td>99.34</td>\n",
       "      <td>102.14</td>\n",
       "      <td>102.66</td>\n",
       "      <td>107.44</td>\n",
       "      <td>104.20</td>\n",
       "      <td>101.36</td>\n",
       "      <td>99.56</td>\n",
       "      <td>97.12</td>\n",
       "      <td>97.68</td>\n",
       "      <td>86.82</td>\n",
       "      <td>81.52</td>\n",
       "    </tr>\n",
       "    <tr>\n",
       "      <th>3</th>\n",
       "      <td>30-34</td>\n",
       "      <td>139.64</td>\n",
       "      <td>131.22</td>\n",
       "      <td>129.14</td>\n",
       "      <td>126.94</td>\n",
       "      <td>126.40</td>\n",
       "      <td>130.00</td>\n",
       "      <td>133.20</td>\n",
       "      <td>131.94</td>\n",
       "      <td>131.90</td>\n",
       "      <td>130.76</td>\n",
       "      <td>130.62</td>\n",
       "      <td>135.60</td>\n",
       "      <td>123.10</td>\n",
       "      <td>120.40</td>\n",
       "    </tr>\n",
       "    <tr>\n",
       "      <th>4</th>\n",
       "      <td>35-39</td>\n",
       "      <td>65.76</td>\n",
       "      <td>62.72</td>\n",
       "      <td>62.64</td>\n",
       "      <td>60.88</td>\n",
       "      <td>63.70</td>\n",
       "      <td>64.06</td>\n",
       "      <td>68.78</td>\n",
       "      <td>67.16</td>\n",
       "      <td>67.96</td>\n",
       "      <td>67.94</td>\n",
       "      <td>68.54</td>\n",
       "      <td>73.30</td>\n",
       "      <td>65.44</td>\n",
       "      <td>63.66</td>\n",
       "    </tr>\n",
       "    <tr>\n",
       "      <th>5</th>\n",
       "      <td>40-44</td>\n",
       "      <td>12.78</td>\n",
       "      <td>12.76</td>\n",
       "      <td>12.84</td>\n",
       "      <td>13.12</td>\n",
       "      <td>13.86</td>\n",
       "      <td>13.90</td>\n",
       "      <td>14.54</td>\n",
       "      <td>15.44</td>\n",
       "      <td>16.04</td>\n",
       "      <td>15.68</td>\n",
       "      <td>15.96</td>\n",
       "      <td>17.08</td>\n",
       "      <td>16.00</td>\n",
       "      <td>15.98</td>\n",
       "    </tr>\n",
       "    <tr>\n",
       "      <th>6</th>\n",
       "      <td>45-49</td>\n",
       "      <td>0.64</td>\n",
       "      <td>0.64</td>\n",
       "      <td>0.76</td>\n",
       "      <td>0.74</td>\n",
       "      <td>0.72</td>\n",
       "      <td>0.74</td>\n",
       "      <td>0.86</td>\n",
       "      <td>0.94</td>\n",
       "      <td>0.96</td>\n",
       "      <td>1.14</td>\n",
       "      <td>1.12</td>\n",
       "      <td>1.28</td>\n",
       "      <td>1.38</td>\n",
       "      <td>1.42</td>\n",
       "    </tr>\n",
       "  </tbody>\n",
       "</table>\n",
       "</div>"
      ],
      "text/plain": [
       "  Age group  fertAlt2010  fertAlt2011  fertAlt2012  fertAlt2013  fertAlt2014  \\\n",
       "0     15-19         3.58         3.20         3.04         2.90         2.40   \n",
       "1     20-24        37.38        33.60        32.34        29.84        29.08   \n",
       "2     25-29       114.44       106.34       105.08        99.34       102.14   \n",
       "3     30-34       139.64       131.22       129.14       126.94       126.40   \n",
       "4     35-39        65.76        62.72        62.64        60.88        63.70   \n",
       "5     40-44        12.78        12.76        12.84        13.12        13.86   \n",
       "6     45-49         0.64         0.64         0.76         0.74         0.72   \n",
       "\n",
       "   fertAlt2015  fertAlt2016  fertAlt2017  fertAlt2018  fertAlt2019  \\\n",
       "0         2.28         2.52         1.84         1.60         1.30   \n",
       "1        29.02        29.80        28.90        26.08        23.56   \n",
       "2       102.66       107.44       104.20       101.36        99.56   \n",
       "3       130.00       133.20       131.94       131.90       130.76   \n",
       "4        64.06        68.78        67.16        67.96        67.94   \n",
       "5        13.90        14.54        15.44        16.04        15.68   \n",
       "6         0.74         0.86         0.94         0.96         1.14   \n",
       "\n",
       "   fertAlt2020  fertAlt2021  fertAlt2022  fertAlt2023  \n",
       "0         1.12         0.90         0.72         0.78  \n",
       "1        20.48        18.98        17.08        15.40  \n",
       "2        97.12        97.68        86.82        81.52  \n",
       "3       130.62       135.60       123.10       120.40  \n",
       "4        68.54        73.30        65.44        63.66  \n",
       "5        15.96        17.08        16.00        15.98  \n",
       "6         1.12         1.28         1.38         1.42  "
      ]
     },
     "execution_count": 29,
     "metadata": {},
     "output_type": "execute_result"
    }
   ],
   "source": [
    "fertAlt.rename(columns = col_dict, inplace=True)\n",
    "fertAlt.head(7)"
   ]
  },
  {
   "cell_type": "markdown",
   "metadata": {},
   "source": [
    "## Merging\n",
    "\n",
    "We want to merge our three data sets into one to draw a graph."
   ]
  },
  {
   "cell_type": "code",
   "execution_count": 20,
   "metadata": {},
   "outputs": [],
   "source": [
    "# Merge fpi_api and fert_api on 'TID'\n",
    "merged_first = pd.merge(fpi_api, fert_api, on='TID', how='inner')\n"
   ]
  },
  {
   "cell_type": "code",
   "execution_count": 21,
   "metadata": {},
   "outputs": [],
   "source": [
    "# Now merge the result with gdp_api on 'TID'\n",
    "final_merged = pd.merge(merged_first, gdp_api, on='TID', how='inner')\n"
   ]
  },
  {
   "cell_type": "code",
   "execution_count": 22,
   "metadata": {},
   "outputs": [
    {
     "name": "stdout",
     "output_type": "stream",
     "text": [
      "     TID FertilityRate ConsumerPriceIndex GrossDomesticProduct\n",
      "0   2009          91.2             1839.6               1729.5\n",
      "1   2010          93.3             1871.2               1812.9\n",
      "2   2011          95.9             1752.4               1848.5\n",
      "3   2012          98.2             1729.2               1892.9\n",
      "4   2013          99.0             1668.7               1935.6\n",
      "5   2014          99.6             1691.2               1980.3\n",
      "6   2015         100.0             1713.6               2030.2\n",
      "7   2016         100.3             1785.4               2101.5\n",
      "8   2017         101.4             1751.9               2189.6\n",
      "9   2018         102.2             1729.7               2243.5\n",
      "10  2019         103.0             1699.4               2303.6\n",
      "11  2020         103.4             1674.7               2326.6\n",
      "12  2021         105.4             1724.1               2567.5\n",
      "13  2022         113.5             1552.9               2844.2\n",
      "14  2023         117.2             1495.9               2804.7\n"
     ]
    }
   ],
   "source": [
    "merged_first.rename(columns={\n",
    "    'INDHOLD_x': 'FertilityRate',\n",
    "    'INDHOLD_y': 'ConsumerPriceIndex'\n",
    "}, inplace=True)\n",
    "\n",
    "# Assuming gdp_api has been loaded and contains a column that should be renamed to 'GrossDomesticProduct'\n",
    "gdp_api.rename(columns={\n",
    "    'INDHOLD': 'GrossDomesticProduct'\n",
    "}, inplace=True)\n",
    "\n",
    "# Merge the result with gdp_api on 'TID'\n",
    "final_merged = pd.merge(merged_first, gdp_api, on='TID', how='inner')\n",
    "\n",
    "# Select only the desired columns\n",
    "final_selected = final_merged[['TID', 'FertilityRate', 'ConsumerPriceIndex', 'GrossDomesticProduct']]\n",
    "\n",
    "print(final_selected)\n",
    "\n"
   ]
  },
  {
   "cell_type": "code",
   "execution_count": 23,
   "metadata": {},
   "outputs": [
    {
     "name": "stderr",
     "output_type": "stream",
     "text": [
      "/var/folders/s4/t_g3d19d071dl_561zffrd9c0000gn/T/ipykernel_41592/2465816959.py:7: SettingWithCopyWarning: \n",
      "A value is trying to be set on a copy of a slice from a DataFrame.\n",
      "Try using .loc[row_indexer,col_indexer] = value instead\n",
      "\n",
      "See the caveats in the documentation: https://pandas.pydata.org/pandas-docs/stable/user_guide/indexing.html#returning-a-view-versus-a-copy\n",
      "  final_selected.loc[:, 'FertilityRate_Pct_Change'] = final_selected['FertilityRate'].pct_change() * 100\n",
      "/var/folders/s4/t_g3d19d071dl_561zffrd9c0000gn/T/ipykernel_41592/2465816959.py:8: SettingWithCopyWarning: \n",
      "A value is trying to be set on a copy of a slice from a DataFrame.\n",
      "Try using .loc[row_indexer,col_indexer] = value instead\n",
      "\n",
      "See the caveats in the documentation: https://pandas.pydata.org/pandas-docs/stable/user_guide/indexing.html#returning-a-view-versus-a-copy\n",
      "  final_selected.loc[:, 'ConsumerPriceIndex_Pct_Change'] = final_selected['ConsumerPriceIndex'].pct_change() * 100\n",
      "/var/folders/s4/t_g3d19d071dl_561zffrd9c0000gn/T/ipykernel_41592/2465816959.py:9: SettingWithCopyWarning: \n",
      "A value is trying to be set on a copy of a slice from a DataFrame.\n",
      "Try using .loc[row_indexer,col_indexer] = value instead\n",
      "\n",
      "See the caveats in the documentation: https://pandas.pydata.org/pandas-docs/stable/user_guide/indexing.html#returning-a-view-versus-a-copy\n",
      "  final_selected.loc[:, 'GrossDomesticProduct_Pct_Change'] = final_selected['GrossDomesticProduct'].pct_change() * 100\n"
     ]
    }
   ],
   "source": [
    "# Convert columns to numeric, handling non-convertible values\n",
    "final_selected.loc[:, 'FertilityRate'] = pd.to_numeric(final_selected['FertilityRate'], errors='coerce')\n",
    "final_selected.loc[:, 'ConsumerPriceIndex'] = pd.to_numeric(final_selected['ConsumerPriceIndex'], errors='coerce')\n",
    "final_selected.loc[:, 'GrossDomesticProduct'] = pd.to_numeric(final_selected['GrossDomesticProduct'], errors='coerce')\n",
    "\n",
    "# Calculate year-over-year percentage changes\n",
    "final_selected.loc[:, 'FertilityRate_Pct_Change'] = final_selected['FertilityRate'].pct_change() * 100\n",
    "final_selected.loc[:, 'ConsumerPriceIndex_Pct_Change'] = final_selected['ConsumerPriceIndex'].pct_change() * 100\n",
    "final_selected.loc[:, 'GrossDomesticProduct_Pct_Change'] = final_selected['GrossDomesticProduct'].pct_change() * 100\n"
   ]
  },
  {
   "cell_type": "markdown",
   "metadata": {},
   "source": [
    "## Drawing the Graphs"
   ]
  },
  {
   "cell_type": "markdown",
   "metadata": {},
   "source": [
    "We draw histograms "
   ]
  },
  {
   "cell_type": "code",
   "execution_count": 34,
   "metadata": {},
   "outputs": [
    {
     "data": {
      "image/png": "[encoded data removed]",
      "text/plain": [
       "<Figure size 1200x800 with 4 Axes>"
      ]
     },
     "metadata": {},
     "output_type": "display_data"
    }
   ],
   "source": [
    "fig, axes = plt.subplots(2, 2, figsize=(12, 8))\n",
    "\n",
    "fertAlt[['Age group', 'fertAlt2010']].plot(x='Age group', y='fertAlt2010', kind='bar', ax=axes[0, 0])\n",
    "axes[0, 0].set_xlabel('Age group')\n",
    "axes[0, 0].set_ylabel('Fertility rate')\n",
    "axes[0, 0].set_title('Fertility Rate by Age Group (2010)')\n",
    "\n",
    "fertAlt[['Age group', 'fertAlt2015']].plot(x='Age group', y='fertAlt2015', kind='bar', ax=axes[0, 1])\n",
    "axes[0, 1].set_xlabel('Age group')\n",
    "axes[0, 1].set_ylabel('Fertility rate')\n",
    "axes[0, 1].set_title('Fertility Rate by Age Group (2015)')\n",
    "\n",
    "fertAlt[['Age group', 'fertAlt2020']].plot(x='Age group', y='fertAlt2020', kind='bar', ax=axes[1, 0])\n",
    "axes[1, 0].set_xlabel('Age group')\n",
    "axes[1, 0].set_ylabel('Fertility rate')\n",
    "axes[1, 0].set_title('Fertility Rate by Age Group (2020)')\n",
    "\n",
    "fertAlt[['Age group', 'fertAlt2023']].plot(x='Age group', y='fertAlt2023', kind='bar', ax=axes[1, 1])\n",
    "axes[1, 1].set_xlabel('Age group')\n",
    "axes[1, 1].set_ylabel('Fertility rate')\n",
    "axes[1, 1].set_title('Fertility Rate by Age Group (2023)')\n",
    "\n",
    "plt.tight_layout()\n",
    "plt.show()"
   ]
  },
  {
   "cell_type": "markdown",
   "metadata": {},
   "source": [
    "We print the actual values in a table and more importantly draw the graph"
   ]
  },
  {
   "cell_type": "code",
   "execution_count": 24,
   "metadata": {},
   "outputs": [
    {
     "name": "stdout",
     "output_type": "stream",
     "text": [
      "Year-Over-Year Percentage Changes (Preview):\n",
      " TID  FertilityRate_Pct_Change  ConsumerPriceIndex_Pct_Change  GrossDomesticProduct_Pct_Change\n",
      "2010                  2.302632                       1.717765                         4.822203\n",
      "2011                  2.786710                      -6.348867                         1.963705\n",
      "2012                  2.398332                      -1.323899                         2.401948\n",
      "2013                  0.814664                      -3.498728                         2.255798\n",
      "2014                  0.606061                       1.348355                         2.309361\n",
      "2015                  0.401606                       1.324503                         2.519820\n",
      "2016                  0.300000                       4.190009                         3.511969\n",
      "2017                  1.096710                      -1.876330                         4.192244\n",
      "2018                  0.788955                      -1.267196                         2.461637\n",
      "2019                  0.782779                      -1.751749                         2.678850\n",
      "2020                  0.388350                      -1.453454                         0.998437\n",
      "2021                  1.934236                       2.949782                        10.354165\n",
      "2022                  7.685009                      -9.929818                        10.777020\n",
      "2023                  3.259912                      -3.670552                        -1.388791\n"
     ]
    }
   ],
   "source": [
    "pct_change_df = final_selected[['TID', 'FertilityRate_Pct_Change', 'ConsumerPriceIndex_Pct_Change', 'GrossDomesticProduct_Pct_Change']]\n",
    "pct_change_df = pct_change_df.iloc[1:].reset_index(drop=True)\n",
    "\n",
    "\n",
    "print(\"Year-Over-Year Percentage Changes (Preview):\")\n",
    "print(pct_change_df.head(14).to_string(index=False))"
   ]
  },
  {
   "cell_type": "code",
   "execution_count": 25,
   "metadata": {},
   "outputs": [
    {
     "data": {
      "application/vnd.plotly.v1+json": {
       "config": {
        "plotlyServerURL": "https://plot.ly"
       },
       "data": [
        {
         "hovertemplate": "Metrics=FertilityRate_Pct_Change<br>Year=%{x}<br>Percentage Change (%)=%{y}<extra></extra>",
         "legendgroup": "FertilityRate_Pct_Change",
         "line": {
          "color": "#636efa",
          "dash": "solid"
         },
         "marker": {
          "symbol": "circle"
         },
         "mode": "lines",
         "name": "FertilityRate_Pct_Change",
         "orientation": "v",
         "showlegend": true,
         "type": "scatter",
         "x": [
          2009,
          2010,
          2011,
          2012,
          2013,
          2014,
          2015,
          2016,
          2017,
          2018,
          2019,
          2020,
          2021,
          2022,
          2023
         ],
         "xaxis": "x",
         "y": [
          null,
          2.3026315789473673,
          2.786709539121124,
          2.3983315954118734,
          0.8146639511201537,
          0.60606060606061,
          0.40160642570281624,
          0.29999999999998916,
          1.0967098703888345,
          0.7889546351084853,
          0.7827788649706457,
          0.3883495145631022,
          1.934235976789167,
          7.685009487666039,
          3.2599118942731264
         ],
         "yaxis": "y"
        },
        {
         "hovertemplate": "Metrics=ConsumerPriceIndex_Pct_Change<br>Year=%{x}<br>Percentage Change (%)=%{y}<extra></extra>",
         "legendgroup": "ConsumerPriceIndex_Pct_Change",
         "line": {
          "color": "#EF553B",
          "dash": "solid"
         },
         "marker": {
          "symbol": "circle"
         },
         "mode": "lines",
         "name": "ConsumerPriceIndex_Pct_Change",
         "orientation": "v",
         "showlegend": true,
         "type": "scatter",
         "x": [
          2009,
          2010,
          2011,
          2012,
          2013,
          2014,
          2015,
          2016,
          2017,
          2018,
          2019,
          2020,
          2021,
          2022,
          2023
         ],
         "xaxis": "x",
         "y": [
          null,
          1.717764731463367,
          -6.348867037195383,
          -1.3238986532755126,
          -3.498727735368956,
          1.3483550068915884,
          1.3245033112582627,
          4.190009337068168,
          -1.876330234121204,
          -1.2671956161881437,
          -1.7517488581834995,
          -1.4534541602918671,
          2.949782050516503,
          -9.929818456006023,
          -3.670551870693539
         ],
         "yaxis": "y"
        },
        {
         "hovertemplate": "Metrics=GrossDomesticProduct_Pct_Change<br>Year=%{x}<br>Percentage Change (%)=%{y}<extra></extra>",
         "legendgroup": "GrossDomesticProduct_Pct_Change",
         "line": {
          "color": "#00cc96",
          "dash": "solid"
         },
         "marker": {
          "symbol": "circle"
         },
         "mode": "lines",
         "name": "GrossDomesticProduct_Pct_Change",
         "orientation": "v",
         "showlegend": true,
         "type": "scatter",
         "x": [
          2009,
          2010,
          2011,
          2012,
          2013,
          2014,
          2015,
          2016,
          2017,
          2018,
          2019,
          2020,
          2021,
          2022,
          2023
         ],
         "xaxis": "x",
         "y": [
          null,
          4.822202948829157,
          1.9637045617518778,
          2.401947525020298,
          2.2557979819324725,
          2.309361438313706,
          2.5198202292582073,
          3.5119692641119027,
          4.192243635498438,
          2.461636828644509,
          2.6788500111432967,
          0.9984372286855336,
          10.354164875784422,
          10.777020447906516,
          -1.3887912242458333
         ],
         "yaxis": "y"
        }
       ],
       "layout": {
        "legend": {
         "title": {
          "text": "Metric"
         },
         "tracegroupgap": 0
        },
        "template": {
         "data": {
          "bar": [
           {
            "error_x": {
             "color": "#2a3f5f"
            },
            "error_y": {
             "color": "#2a3f5f"
            },
            "marker": {
             "line": {
              "color": "#E5ECF6",
              "width": 0.5
             },
             "pattern": {
              "fillmode": "overlay",
              "size": 10,
              "solidity": 0.2
             }
            },
            "type": "bar"
           }
          ],
          "barpolar": [
           {
            "marker": {
             "line": {
              "color": "#E5ECF6",
              "width": 0.5
             },
             "pattern": {
              "fillmode": "overlay",
              "size": 10,
              "solidity": 0.2
             }
            },
            "type": "barpolar"
           }
          ],
          "carpet": [
           {
            "aaxis": {
             "endlinecolor": "#2a3f5f",
             "gridcolor": "white",
             "linecolor": "white",
             "minorgridcolor": "white",
             "startlinecolor": "#2a3f5f"
            },
            "baxis": {
             "endlinecolor": "#2a3f5f",
             "gridcolor": "white",
             "linecolor": "white",
             "minorgridcolor": "white",
             "startlinecolor": "#2a3f5f"
            },
            "type": "carpet"
           }
          ],
          "choropleth": [
           {
            "colorbar": {
             "outlinewidth": 0,
             "ticks": ""
            },
            "type": "choropleth"
           }
          ],
          "contour": [
           {
            "colorbar": {
             "outlinewidth": 0,
             "ticks": ""
            },
            "colorscale": [
             [
              0,
              "#0d0887"
             ],
             [
              0.1111111111111111,
              "#46039f"
             ],
             [
              0.2222222222222222,
              "#7201a8"
             ],
             [
              0.3333333333333333,
              "#9c179e"
             ],
             [
              0.4444444444444444,
              "#bd3786"
             ],
             [
              0.5555555555555556,
              "#d8576b"
             ],
             [
              0.6666666666666666,
              "#ed7953"
             ],
             [
              0.7777777777777778,
              "#fb9f3a"
             ],
             [
              0.8888888888888888,
              "#fdca26"
             ],
             [
              1,
              "#f0f921"
             ]
            ],
            "type": "contour"
           }
          ],
          "contourcarpet": [
           {
            "colorbar": {
             "outlinewidth": 0,
             "ticks": ""
            },
            "type": "contourcarpet"
           }
          ],
          "heatmap": [
           {
            "colorbar": {
             "outlinewidth": 0,
             "ticks": ""
            },
            "colorscale": [
             [
              0,
              "#0d0887"
             ],
             [
              0.1111111111111111,
              "#46039f"
             ],
             [
              0.2222222222222222,
              "#7201a8"
             ],
             [
              0.3333333333333333,
              "#9c179e"
             ],
             [
              0.4444444444444444,
              "#bd3786"
             ],
             [
              0.5555555555555556,
              "#d8576b"
             ],
             [
              0.6666666666666666,
              "#ed7953"
             ],
             [
              0.7777777777777778,
              "#fb9f3a"
             ],
             [
              0.8888888888888888,
              "#fdca26"
             ],
             [
              1,
              "#f0f921"
             ]
            ],
            "type": "heatmap"
           }
          ],
          "heatmapgl": [
           {
            "colorbar": {
             "outlinewidth": 0,
             "ticks": ""
            },
            "colorscale": [
             [
              0,
              "#0d0887"
             ],
             [
              0.1111111111111111,
              "#46039f"
             ],
             [
              0.2222222222222222,
              "#7201a8"
             ],
             [
              0.3333333333333333,
              "#9c179e"
             ],
             [
              0.4444444444444444,
              "#bd3786"
             ],
             [
              0.5555555555555556,
              "#d8576b"
             ],
             [
              0.6666666666666666,
              "#ed7953"
             ],
             [
              0.7777777777777778,
              "#fb9f3a"
             ],
             [
              0.8888888888888888,
              "#fdca26"
             ],
             [
              1,
              "#f0f921"
             ]
            ],
            "type": "heatmapgl"
           }
          ],
          "histogram": [
           {
            "marker": {
             "pattern": {
              "fillmode": "overlay",
              "size": 10,
              "solidity": 0.2
             }
            },
            "type": "histogram"
           }
          ],
          "histogram2d": [
           {
            "colorbar": {
             "outlinewidth": 0,
             "ticks": ""
            },
            "colorscale": [
             [
              0,
              "#0d0887"
             ],
             [
              0.1111111111111111,
              "#46039f"
             ],
             [
              0.2222222222222222,
              "#7201a8"
             ],
             [
              0.3333333333333333,
              "#9c179e"
             ],
             [
              0.4444444444444444,
              "#bd3786"
             ],
             [
              0.5555555555555556,
              "#d8576b"
             ],
             [
              0.6666666666666666,
              "#ed7953"
             ],
             [
              0.7777777777777778,
              "#fb9f3a"
             ],
             [
              0.8888888888888888,
              "#fdca26"
             ],
             [
              1,
              "#f0f921"
             ]
            ],
            "type": "histogram2d"
           }
          ],
          "histogram2dcontour": [
           {
            "colorbar": {
             "outlinewidth": 0,
             "ticks": ""
            },
            "colorscale": [
             [
              0,
              "#0d0887"
             ],
             [
              0.1111111111111111,
              "#46039f"
             ],
             [
              0.2222222222222222,
              "#7201a8"
             ],
             [
              0.3333333333333333,
              "#9c179e"
             ],
             [
              0.4444444444444444,
              "#bd3786"
             ],
             [
              0.5555555555555556,
              "#d8576b"
             ],
             [
              0.6666666666666666,
              "#ed7953"
             ],
             [
              0.7777777777777778,
              "#fb9f3a"
             ],
             [
              0.8888888888888888,
              "#fdca26"
             ],
             [
              1,
              "#f0f921"
             ]
            ],
            "type": "histogram2dcontour"
           }
          ],
          "mesh3d": [
           {
            "colorbar": {
             "outlinewidth": 0,
             "ticks": ""
            },
            "type": "mesh3d"
           }
          ],
          "parcoords": [
           {
            "line": {
             "colorbar": {
              "outlinewidth": 0,
              "ticks": ""
             }
            },
            "type": "parcoords"
           }
          ],
          "pie": [
           {
            "automargin": true,
            "type": "pie"
           }
          ],
          "scatter": [
           {
            "fillpattern": {
             "fillmode": "overlay",
             "size": 10,
             "solidity": 0.2
            },
            "type": "scatter"
           }
          ],
          "scatter3d": [
           {
            "line": {
             "colorbar": {
              "outlinewidth": 0,
              "ticks": ""
             }
            },
            "marker": {
             "colorbar": {
              "outlinewidth": 0,
              "ticks": ""
             }
            },
            "type": "scatter3d"
           }
          ],
          "scattercarpet": [
           {
            "marker": {
             "colorbar": {
              "outlinewidth": 0,
              "ticks": ""
             }
            },
            "type": "scattercarpet"
           }
          ],
          "scattergeo": [
           {
            "marker": {
             "colorbar": {
              "outlinewidth": 0,
              "ticks": ""
             }
            },
            "type": "scattergeo"
           }
          ],
          "scattergl": [
           {
            "marker": {
             "colorbar": {
              "outlinewidth": 0,
              "ticks": ""
             }
            },
            "type": "scattergl"
           }
          ],
          "scattermapbox": [
           {
            "marker": {
             "colorbar": {
              "outlinewidth": 0,
              "ticks": ""
             }
            },
            "type": "scattermapbox"
           }
          ],
          "scatterpolar": [
           {
            "marker": {
             "colorbar": {
              "outlinewidth": 0,
              "ticks": ""
             }
            },
            "type": "scatterpolar"
           }
          ],
          "scatterpolargl": [
           {
            "marker": {
             "colorbar": {
              "outlinewidth": 0,
              "ticks": ""
             }
            },
            "type": "scatterpolargl"
           }
          ],
          "scatterternary": [
           {
            "marker": {
             "colorbar": {
              "outlinewidth": 0,
              "ticks": ""
             }
            },
            "type": "scatterternary"
           }
          ],
          "surface": [
           {
            "colorbar": {
             "outlinewidth": 0,
             "ticks": ""
            },
            "colorscale": [
             [
              0,
              "#0d0887"
             ],
             [
              0.1111111111111111,
              "#46039f"
             ],
             [
              0.2222222222222222,
              "#7201a8"
             ],
             [
              0.3333333333333333,
              "#9c179e"
             ],
             [
              0.4444444444444444,
              "#bd3786"
             ],
             [
              0.5555555555555556,
              "#d8576b"
             ],
             [
              0.6666666666666666,
              "#ed7953"
             ],
             [
              0.7777777777777778,
              "#fb9f3a"
             ],
             [
              0.8888888888888888,
              "#fdca26"
             ],
             [
              1,
              "#f0f921"
             ]
            ],
            "type": "surface"
           }
          ],
          "table": [
           {
            "cells": {
             "fill": {
              "color": "#EBF0F8"
             },
             "line": {
              "color": "white"
             }
            },
            "header": {
             "fill": {
              "color": "#C8D4E3"
             },
             "line": {
              "color": "white"
             }
            },
            "type": "table"
           }
          ]
         },
         "layout": {
          "annotationdefaults": {
           "arrowcolor": "#2a3f5f",
           "arrowhead": 0,
           "arrowwidth": 1
          },
          "autotypenumbers": "strict",
          "coloraxis": {
           "colorbar": {
            "outlinewidth": 0,
            "ticks": ""
           }
          },
          "colorscale": {
           "diverging": [
            [
             0,
             "#8e0152"
            ],
            [
             0.1,
             "#c51b7d"
            ],
            [
             0.2,
             "#de77ae"
            ],
            [
             0.3,
             "#f1b6da"
            ],
            [
             0.4,
             "#fde0ef"
            ],
            [
             0.5,
             "#f7f7f7"
            ],
            [
             0.6,
             "#e6f5d0"
            ],
            [
             0.7,
             "#b8e186"
            ],
            [
             0.8,
             "#7fbc41"
            ],
            [
             0.9,
             "#4d9221"
            ],
            [
             1,
             "#276419"
            ]
           ],
           "sequential": [
            [
             0,
             "#0d0887"
            ],
            [
             0.1111111111111111,
             "#46039f"
            ],
            [
             0.2222222222222222,
             "#7201a8"
            ],
            [
             0.3333333333333333,
             "#9c179e"
            ],
            [
             0.4444444444444444,
             "#bd3786"
            ],
            [
             0.5555555555555556,
             "#d8576b"
            ],
            [
             0.6666666666666666,
             "#ed7953"
            ],
            [
             0.7777777777777778,
             "#fb9f3a"
            ],
            [
             0.8888888888888888,
             "#fdca26"
            ],
            [
             1,
             "#f0f921"
            ]
           ],
           "sequentialminus": [
            [
             0,
             "#0d0887"
            ],
            [
             0.1111111111111111,
             "#46039f"
            ],
            [
             0.2222222222222222,
             "#7201a8"
            ],
            [
             0.3333333333333333,
             "#9c179e"
            ],
            [
             0.4444444444444444,
             "#bd3786"
            ],
            [
             0.5555555555555556,
             "#d8576b"
            ],
            [
             0.6666666666666666,
             "#ed7953"
            ],
            [
             0.7777777777777778,
             "#fb9f3a"
            ],
            [
             0.8888888888888888,
             "#fdca26"
            ],
            [
             1,
             "#f0f921"
            ]
           ]
          },
          "colorway": [
           "#636efa",
           "#EF553B",
           "#00cc96",
           "#ab63fa",
           "#FFA15A",
           "#19d3f3",
           "#FF6692",
           "#B6E880",
           "#FF97FF",
           "#FECB52"
          ],
          "font": {
           "color": "#2a3f5f"
          },
          "geo": {
           "bgcolor": "white",
           "lakecolor": "white",
           "landcolor": "#E5ECF6",
           "showlakes": true,
           "showland": true,
           "subunitcolor": "white"
          },
          "hoverlabel": {
           "align": "left"
          },
          "hovermode": "closest",
          "mapbox": {
           "style": "light"
          },
          "paper_bgcolor": "white",
          "plot_bgcolor": "#E5ECF6",
          "polar": {
           "angularaxis": {
            "gridcolor": "white",
            "linecolor": "white",
            "ticks": ""
           },
           "bgcolor": "#E5ECF6",
           "radialaxis": {
            "gridcolor": "white",
            "linecolor": "white",
            "ticks": ""
           }
          },
          "scene": {
           "xaxis": {
            "backgroundcolor": "#E5ECF6",
            "gridcolor": "white",
            "gridwidth": 2,
            "linecolor": "white",
            "showbackground": true,
            "ticks": "",
            "zerolinecolor": "white"
           },
           "yaxis": {
            "backgroundcolor": "#E5ECF6",
            "gridcolor": "white",
            "gridwidth": 2,
            "linecolor": "white",
            "showbackground": true,
            "ticks": "",
            "zerolinecolor": "white"
           },
           "zaxis": {
            "backgroundcolor": "#E5ECF6",
            "gridcolor": "white",
            "gridwidth": 2,
            "linecolor": "white",
            "showbackground": true,
            "ticks": "",
            "zerolinecolor": "white"
           }
          },
          "shapedefaults": {
           "line": {
            "color": "#2a3f5f"
           }
          },
          "ternary": {
           "aaxis": {
            "gridcolor": "white",
            "linecolor": "white",
            "ticks": ""
           },
           "baxis": {
            "gridcolor": "white",
            "linecolor": "white",
            "ticks": ""
           },
           "bgcolor": "#E5ECF6",
           "caxis": {
            "gridcolor": "white",
            "linecolor": "white",
            "ticks": ""
           }
          },
          "title": {
           "x": 0.05
          },
          "xaxis": {
           "automargin": true,
           "gridcolor": "white",
           "linecolor": "white",
           "ticks": "",
           "title": {
            "standoff": 15
           },
           "zerolinecolor": "white",
           "zerolinewidth": 2
          },
          "yaxis": {
           "automargin": true,
           "gridcolor": "white",
           "linecolor": "white",
           "ticks": "",
           "title": {
            "standoff": 15
           },
           "zerolinecolor": "white",
           "zerolinewidth": 2
          }
         }
        },
        "title": {
         "text": "Year-over-Year Percentage Change"
        },
        "xaxis": {
         "anchor": "y",
         "domain": [
          0,
          1
         ],
         "title": {
          "text": "Year"
         }
        },
        "yaxis": {
         "anchor": "x",
         "domain": [
          0,
          1
         ],
         "title": {
          "text": "Percentage Change"
         }
        }
       }
      }
     },
     "metadata": {},
     "output_type": "display_data"
    }
   ],
   "source": [
    "# Create an interactive line plot with Plotly\n",
    "fig = px.line(final_selected, x='TID', y=[\n",
    "    'FertilityRate_Pct_Change', 'ConsumerPriceIndex_Pct_Change', 'GrossDomesticProduct_Pct_Change'],\n",
    "    labels={\n",
    "        'value': 'Percentage Change (%)',\n",
    "        'variable': 'Metrics',\n",
    "        'TID': 'Year'\n",
    "    },\n",
    "    title='Year-over-Year Percentage Change'\n",
    ")\n",
    "\n",
    "# Update layout for clearer display\n",
    "fig.update_layout(\n",
    "    xaxis_title='Year',\n",
    "    yaxis_title='Percentage Change',\n",
    "    legend_title='Metric'\n",
    ")\n",
    "\n",
    "# Show the plot\n",
    "fig.show()\n",
    "\n",
    "\n"
   ]
  },
  {
   "cell_type": "markdown",
   "metadata": {},
   "source": [
    "If our interactive graph cant load, we have also created a simple sketch using matplot package, by removing the \"#\" but we advise to use the interactive figure, as you can isolate each metric "
   ]
  },
  {
   "cell_type": "code",
   "execution_count": 26,
   "metadata": {},
   "outputs": [],
   "source": [
    "#plt.figure(figsize=(10, 6))\n",
    "#plt.plot(final_selected['TID'], final_selected['FertilityRate_Pct_Change'], label='Fertility Rate % Change', marker='o')\n",
    "#plt.plot(final_selected['TID'], final_selected['ConsumerPriceIndex_Pct_Change'], label='Consumer Price Index % Change', marker='x')\n",
    "#plt.plot(final_selected['TID'], final_selected['GrossDomesticProduct_Pct_Change'], label='Gross Domestic Product % Change', marker='^')\n",
    "#plt.xlabel('Year')\n",
    "#plt.ylabel('Percentage Change (%)')\n",
    "#plt.title('Year-over-Year Percentage Change')\n",
    "#plt.legend()\n",
    "#plt.grid(True)\n",
    "\n",
    "#plt.show()"
   ]
  },
  {
   "cell_type": "markdown",
   "metadata": {},
   "source": [
    "## Analysis:\n",
    "\n",
    "For this Dataproject we have conducted a simple analysis of three variables from Statiskbanken, we have utilised a common tool from the descriptive economcis course where we look at the yearly percentage change in a variable, thus being able to compare the data to see how the varaibles changes within the analytic period.\n",
    "\n",
    "### What does the graph show?\n",
    "\n",
    "The Gross Domestic Product reflects the economic output and growth over time.\n",
    "- The Gross Domestic Product starts with an increase on 5 pct. after adjusting to a 2 pct. increase each year with the exception of 2016-2017 followed by a sharp decling in 2020 where it only increases with 0,5 pct. following by a boom in 2021-2022 where it increases with 9-11 pct. \n",
    "- Overall this draws a picture of a stable economy recovering from the financial crisis with a boom in 2021-2022.\n",
    "\n",
    "The Consumer Price Index tracks changes in the cost of living and inflationary pressures.\n",
    "- The Consumer Price Index change is more volatile. It experiences a significant drop around 2011, a rise peaking in 2012, and then falls again sharply by 2023. The most notable point is the extreme dip in 2022, indicating a period of deflation or significant price decreases, followed by a recovery in 2023.\n",
    "- Overall we can see that the covid crisis had a massive effect on the consumer prices during the crisis, while the financial crisis had effects after the crisis.\n",
    "\n",
    "The Fertility Rate provides insights into demographic trends and societal responses.\n",
    "- Fertility seems stable compared to the others, with fluctuations remaining within a narrower range. We observe around the years 2014-2015, after which it stabilizes and shows an upward trend starting around 2020, peaking in 2022.\n",
    "- The stabilazation can be seen as a indicator stable policy changes and economic confidence, which can be interpreted as a society which trusts the government during crises while due to “post-crisis fiscal stimuli packages” or other growth-driving factors.\n",
    "\n",
    "## Conclusion:\n",
    "The data project of the  GDP, CPI, and Fertility Rate in Denmark reveals  relationships and dynamic interactions within the economy where the key take aways are\n",
    "\n",
    "- __Economic adaptation__ The danish GDP show effective ecnomic adaptation in recovery phases following economic downturns, which can be interpretated as robust economic management by the policy makers.\n",
    "\n",
    "- __Price stability__ The fluctutations of the Consumer Price Index shows how policy changes and externals shocks in the economy affects the sensitvity of the consumer prices\n",
    "\n",
    "The result we wanted to find was that the relationship between CPI and Fertility would affect the cost of living. Where an increase in  Consumer Price Index, would indicate inflation, which raises the cost of living.  We know that If wages do not keep up with inflation, families may feel financially pressured and may decide to have fewer children. This didn’t happen due to the overall stable nature of the Danish Economy.\n"
   ]
  }
 ],
 "metadata": {
  "kernelspec": {
   "display_name": "base",
   "language": "python",
   "name": "python3"
  },
  "language_info": {
   "codemirror_mode": {
    "name": "ipython",
    "version": 3
   },
   "file_extension": ".py",
   "mimetype": "text/x-python",
   "name": "python",
   "nbconvert_exporter": "python",
   "pygments_lexer": "ipython3",
   "version": "3.11.7"
  },
  "toc-autonumbering": true,
  "vscode": {
   "interpreter": {
    "hash": "47ef90cdf3004d3f859f1fb202523c65c07ba7c22eefd261b181f4744e2d0403"
   }
  }
 },
 "nbformat": 4,
 "nbformat_minor": 4
}
